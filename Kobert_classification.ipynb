{
  "cells": [
    {
      "cell_type": "markdown",
      "metadata": {
        "id": "hchjd4p6_D7-"
      },
      "source": [
        "# **미니프로젝트 1대1 문의 내용 유형 분류기**\n",
        "# Text classification\n",
        "\n",
        "### 문제 정의\n",
        "> 1:1 문의 내용 분류 문제<br>\n",
        "> 1. 문의 내용 분석\n",
        "> 2. 문의 내용 분류 모델 성능 평가\n",
        "### 학습 데이터\n",
        "> * 1:1 문의 내용 데이터 : train.csv\n",
        "\n",
        "### 변수 소개\n",
        "> * text : 문의 내용\n",
        "> * label : 문의 유형"
      ]
    },
    {
      "cell_type": "markdown",
      "metadata": {
        "id": "FlRWJB2w6Ip6"
      },
      "source": [
        "## 1. 개발 환경 설정"
      ]
    },
    {
      "cell_type": "markdown",
      "metadata": {
        "id": "NT9Gg7Rl_D8A"
      },
      "source": [
        "### 라이브러리 import"
      ]
    },
    {
      "cell_type": "code",
      "execution_count": 44,
      "metadata": {
        "id": "JqrjuqNv_D8B"
      },
      "outputs": [],
      "source": [
        "import numpy as np\n",
        "import matplotlib.pyplot as plt\n",
        "import seaborn as sns\n",
        "from IPython.display import display\n",
        "import pandas as pd\n",
        "import matplotlib.font_manager as fm\n",
        "from tqdm import tqdm\n",
        "import os"
      ]
    },
    {
      "cell_type": "markdown",
      "metadata": {
        "id": "VpwI7G4t_D8D"
      },
      "source": [
        "## 2. Using pre-trained model"
      ]
    },
    {
      "cell_type": "markdown",
      "metadata": {
        "id": "Z8-tuu1tlbqJ"
      },
      "source": [
        "### 2-1 KoBert 구현\n",
        "### MultiClassification\n",
        "\n",
        "[참고 blog : https://velog.io/@seolini43/KOBERT로-다중-분류-모델-만들기-파이썬Colab]"
      ]
    },
    {
      "cell_type": "markdown",
      "metadata": {
        "id": "mxKVWaGflsK5"
      },
      "source": [
        "* Transformer 안에 sentencepicece 모듈이 버전업 하면서 문제가 발생\n",
        "* HuggingFace API 버전으로 수정"
      ]
    },
    {
      "cell_type": "code",
      "execution_count": 2,
      "metadata": {},
      "outputs": [],
      "source": [
        "import warnings\n",
        "warnings.filterwarnings('ignore')"
      ]
    },
    {
      "cell_type": "code",
      "execution_count": 3,
      "metadata": {
        "id": "5VdIt1rVeHfo"
      },
      "outputs": [],
      "source": [
        "#kobert\n",
        "from transformers import BertModel, DistilBertModel\n",
        "\n",
        "bert_model = BertModel.from_pretrained('monologg/kobert') # hugging face ver. kobert parameter download"
      ]
    },
    {
      "cell_type": "code",
      "execution_count": 4,
      "metadata": {},
      "outputs": [
        {
          "name": "stderr",
          "output_type": "stream",
          "text": [
            "The tokenizer class you load from this checkpoint is not the same type as the class this function is called from. It may result in unexpected tokenization. \n",
            "The tokenizer class you load from this checkpoint is 'BertTokenizer'. \n",
            "The class this function is called from is 'KoBertTokenizer'.\n"
          ]
        },
        {
          "name": "stdout",
          "output_type": "stream",
          "text": [
            "['[CLS]', '▁한국', '어', '▁모델', '을', '▁공유', '합니다', '.', '[SEP]']\n",
            "--------------------------------------------------\n",
            "[2, 4958, 6855, 2046, 7088, 1050, 7843, 54, 3]\n"
          ]
        }
      ],
      "source": [
        "from tokenization_kobert import KoBertTokenizer\n",
        "\n",
        "tokenizer = KoBertTokenizer.from_pretrained('monologg/kobert') # monologg/distilkobert도 동일\n",
        "\n",
        "print(tokenizer.tokenize(\"[CLS] 한국어 모델을 공유합니다. [SEP]\"))\n",
        "print('-'*50)\n",
        "print(tokenizer.convert_tokens_to_ids(['[CLS]', '▁한국', '어', '▁모델', '을', '▁공유', '합니다', '.', '[SEP]']))"
      ]
    },
    {
      "cell_type": "code",
      "execution_count": 5,
      "metadata": {},
      "outputs": [],
      "source": [
        "# pip install kobert-transformers\n",
        "\n",
        "## install library"
      ]
    },
    {
      "cell_type": "code",
      "execution_count": 6,
      "metadata": {
        "id": "6Du_li0JeMH0"
      },
      "outputs": [
        {
          "name": "stdout",
          "output_type": "stream",
          "text": [
            "cuda:0\n"
          ]
        }
      ],
      "source": [
        "#GPU 사용\n",
        "import torch\n",
        "\n",
        "device = torch.device(\"cuda:0\")\n",
        "print(device)"
      ]
    },
    {
      "cell_type": "code",
      "execution_count": 60,
      "metadata": {
        "colab": {
          "base_uri": "https://localhost:8080/"
        },
        "id": "D_PkKW6CeQQ9",
        "outputId": "bb33cef4-f7b1-4b77-d2b5-f798789d8232"
      },
      "outputs": [],
      "source": [
        "import torch\n",
        "from torch import nn\n",
        "import torch.nn.functional as F\n",
        "import torch.optim as optim\n",
        "from torch.utils.data import Dataset, DataLoader\n",
        "import numpy as np\n",
        "import tqdm\n",
        "import pickle\n",
        "\n",
        "from kobert_transformers import get_kobert_model, get_distilkobert_model\n",
        "from transformers import AdamW\n",
        "from transformers.optimization import get_cosine_schedule_with_warmup\n",
        "\n",
        "#BERT 모델, Vocabulary 불러오기\n",
        "bertmodel = get_kobert_model()"
      ]
    },
    {
      "cell_type": "code",
      "execution_count": 8,
      "metadata": {
        "id": "wiKZmlBAektQ"
      },
      "outputs": [],
      "source": [
        "# label_dict = {\n",
        "#     '코드1': 0,\n",
        "#     '코드2': 0,\n",
        "#     '웹': 1,\n",
        "#     '이론': 2,\n",
        "#     '시스템 운영': 3,\n",
        "#     '원격': 4\n",
        "# }\n",
        "\n",
        "# df_test['label'] = df_test['label'].map(label_dict)"
      ]
    },
    {
      "cell_type": "code",
      "execution_count": 9,
      "metadata": {
        "colab": {
          "base_uri": "https://localhost:8080/",
          "height": 458
        },
        "id": "SUh8Y70leRrW",
        "outputId": "cb5de5d2-31e0-4979-c1d4-3784f3adff4a"
      },
      "outputs": [
        {
          "data": {
            "text/html": [
              "<div>\n",
              "<style scoped>\n",
              "    .dataframe tbody tr th:only-of-type {\n",
              "        vertical-align: middle;\n",
              "    }\n",
              "\n",
              "    .dataframe tbody tr th {\n",
              "        vertical-align: top;\n",
              "    }\n",
              "\n",
              "    .dataframe thead th {\n",
              "        text-align: right;\n",
              "    }\n",
              "</style>\n",
              "<table border=\"1\" class=\"dataframe\">\n",
              "  <thead>\n",
              "    <tr style=\"text-align: right;\">\n",
              "      <th></th>\n",
              "      <th>text</th>\n",
              "      <th>label</th>\n",
              "      <th>spaced_sent</th>\n",
              "      <th>remove_special_sent</th>\n",
              "      <th>en_stop_nouns</th>\n",
              "      <th>en_stop_pos</th>\n",
              "      <th>en_code_nouns</th>\n",
              "      <th>en_code_pos</th>\n",
              "      <th>en_stop_morphs</th>\n",
              "    </tr>\n",
              "  </thead>\n",
              "  <tbody>\n",
              "    <tr>\n",
              "      <th>3859</th>\n",
              "      <td>stop_words = set(stopwords.words('english')) ...</td>\n",
              "      <td>2</td>\n",
              "      <td>stop_words = set(stopw ords.words('english')) ...</td>\n",
              "      <td>stop_words = setstopw ordswordsenglish 이 부분이 어...</td>\n",
              "      <td>stop words setstopw 부분 의 미 알 수</td>\n",
              "      <td>[('stop', 'NN'), ('words', 'NNS'), ('setstopw'...</td>\n",
              "      <td>부분 의 미 알 수</td>\n",
              "      <td>[('이', 'IC'), ('부분', 'NNG'), ('이', 'JKS'), ('어...</td>\n",
              "      <td>['stop', 'words', 'setstopw', 'ordswordsenglis...</td>\n",
              "    </tr>\n",
              "    <tr>\n",
              "      <th>3860</th>\n",
              "      <td>Tokenizer로 전처리를 한 이유가 무엇인가요? 실습 중 Tokenizer를 사...</td>\n",
              "      <td>2</td>\n",
              "      <td>Tokenizer로 전처리를 한 이유가 무엇인가요? 실습 중 Tokeniz er를 ...</td>\n",
              "      <td>Tokenizer로 전처리를 한 이유가 무엇인가요? 실습 중 Tokeniz er를 ...</td>\n",
              "      <td>tokenizer tokeniz er tokeniz er train inputs t...</td>\n",
              "      <td>[('tokenizer', 'NN'), ('tokeniz', 'NN'), ('er'...</td>\n",
              "      <td>tokenizer train train 전 처리 이유 무엇 실습 중 면수 이유 위 ...</td>\n",
              "      <td>[('tokenizer', 'NN'), ('train', 'NN'), ('train...</td>\n",
              "      <td>['tokenizer', '처리', '이유', '무엇', 'ㄴ가', '실습', 't...</td>\n",
              "    </tr>\n",
              "    <tr>\n",
              "      <th>3861</th>\n",
              "      <td>stanford.edu에서 data_set을 가져올 때 저장 경로는 어떻게 되는지...</td>\n",
              "      <td>2</td>\n",
              "      <td>stanford. edu에서 data _set을 가져올 때 저장 경로는 어떻게 되는...</td>\n",
              "      <td>stanford edu에서 data _set을 가져올 때 저장 경로는 어떻게 되는지...</td>\n",
              "      <td>stanford edu data set file 때 저장 경로 실습 때 로컬 어디</td>\n",
              "      <td>[('stanford', 'NN'), ('edu', 'NN'), ('data', '...</td>\n",
              "      <td>set 때 저장 경로 실습 때 로컬 어디</td>\n",
              "      <td>[('set', 'NN'), ('에서', 'JKB'), ('을', 'JKO'), (...</td>\n",
              "      <td>['stanford', 'edu', '에서', 'data', 'set', '가져오'...</td>\n",
              "    </tr>\n",
              "    <tr>\n",
              "      <th>3862</th>\n",
              "      <td>거리에 대해서 얘기해 주시는데 이 거리가 언어지능과 어떤 부분에서 관련되는지 궁금합...</td>\n",
              "      <td>2</td>\n",
              "      <td>거리에 대해서 얘기해 주시는 데 이 거리가 언어지능과 어떤 부분에서 관련되는지 궁금...</td>\n",
              "      <td>거리에 대해서 얘기해 주시는 데 이 거리가 언어지능과 어떤 부분에서 관련되는지 궁금...</td>\n",
              "      <td>거리 데 거리 언어 지능 부분 언어 벡터 벡터 거리 유사 차이 거 리 거</td>\n",
              "      <td>[('거리', 'NNG'), ('에', 'JKB'), ('대하', 'VV'), ('...</td>\n",
              "      <td>거리 데 거리 언어 지능 부분 언어 벡터 벡터 거리 유사 차이 거 리 거</td>\n",
              "      <td>[('거리', 'NNG'), ('에', 'JKB'), ('대하', 'VV'), ('...</td>\n",
              "      <td>['거리', '대하', '아서', '얘기하', '거리', '언어', '지능', '어...</td>\n",
              "    </tr>\n",
              "    <tr>\n",
              "      <th>3863</th>\n",
              "      <td>cosine similarity에 대한 질문입니다. 강의 자료에서는 cosine m...</td>\n",
              "      <td>2</td>\n",
              "      <td>cos ine similarity에 대한 질문입니다. 강의 자료에서는 cos ine...</td>\n",
              "      <td>cos ine similarity에 대한 질문입니다 강의 자료에서는 cos ine ...</td>\n",
              "      <td>cos ine similarity cos ine measure f rom sklea...</td>\n",
              "      <td>[('cos', 'NN'), ('ine', 'NN'), ('similarity', ...</td>\n",
              "      <td>import 질문 강의 자료 값 이상 이하 값 수록 것 실습 코드 값 유사 것 제 ...</td>\n",
              "      <td>[('import', 'NN'), ('에', 'IC'), ('대하', 'VV'), ...</td>\n",
              "      <td>['cos', 'ine', 'similarity', '대하', '질문', 'ㅂ니다'...</td>\n",
              "    </tr>\n",
              "  </tbody>\n",
              "</table>\n",
              "</div>"
            ],
            "text/plain": [
              "                                                   text  label   \n",
              "3859   stop_words = set(stopwords.words('english')) ...      2  \\\n",
              "3860  Tokenizer로 전처리를 한 이유가 무엇인가요? 실습 중 Tokenizer를 사...      2   \n",
              "3861   stanford.edu에서 data_set을 가져올 때 저장 경로는 어떻게 되는지...      2   \n",
              "3862  거리에 대해서 얘기해 주시는데 이 거리가 언어지능과 어떤 부분에서 관련되는지 궁금합...      2   \n",
              "3863  cosine similarity에 대한 질문입니다. 강의 자료에서는 cosine m...      2   \n",
              "\n",
              "                                            spaced_sent   \n",
              "3859  stop_words = set(stopw ords.words('english')) ...  \\\n",
              "3860  Tokenizer로 전처리를 한 이유가 무엇인가요? 실습 중 Tokeniz er를 ...   \n",
              "3861  stanford. edu에서 data _set을 가져올 때 저장 경로는 어떻게 되는...   \n",
              "3862  거리에 대해서 얘기해 주시는 데 이 거리가 언어지능과 어떤 부분에서 관련되는지 궁금...   \n",
              "3863  cos ine similarity에 대한 질문입니다. 강의 자료에서는 cos ine...   \n",
              "\n",
              "                                    remove_special_sent   \n",
              "3859  stop_words = setstopw ordswordsenglish 이 부분이 어...  \\\n",
              "3860  Tokenizer로 전처리를 한 이유가 무엇인가요? 실습 중 Tokeniz er를 ...   \n",
              "3861  stanford edu에서 data _set을 가져올 때 저장 경로는 어떻게 되는지...   \n",
              "3862  거리에 대해서 얘기해 주시는 데 이 거리가 언어지능과 어떤 부분에서 관련되는지 궁금...   \n",
              "3863  cos ine similarity에 대한 질문입니다 강의 자료에서는 cos ine ...   \n",
              "\n",
              "                                          en_stop_nouns   \n",
              "3859                     stop words setstopw 부분 의 미 알 수  \\\n",
              "3860  tokenizer tokeniz er tokeniz er train inputs t...   \n",
              "3861      stanford edu data set file 때 저장 경로 실습 때 로컬 어디   \n",
              "3862           거리 데 거리 언어 지능 부분 언어 벡터 벡터 거리 유사 차이 거 리 거   \n",
              "3863  cos ine similarity cos ine measure f rom sklea...   \n",
              "\n",
              "                                            en_stop_pos   \n",
              "3859  [('stop', 'NN'), ('words', 'NNS'), ('setstopw'...  \\\n",
              "3860  [('tokenizer', 'NN'), ('tokeniz', 'NN'), ('er'...   \n",
              "3861  [('stanford', 'NN'), ('edu', 'NN'), ('data', '...   \n",
              "3862  [('거리', 'NNG'), ('에', 'JKB'), ('대하', 'VV'), ('...   \n",
              "3863  [('cos', 'NN'), ('ine', 'NN'), ('similarity', ...   \n",
              "\n",
              "                                          en_code_nouns   \n",
              "3859                                         부분 의 미 알 수  \\\n",
              "3860  tokenizer train train 전 처리 이유 무엇 실습 중 면수 이유 위 ...   \n",
              "3861                             set 때 저장 경로 실습 때 로컬 어디   \n",
              "3862           거리 데 거리 언어 지능 부분 언어 벡터 벡터 거리 유사 차이 거 리 거   \n",
              "3863  import 질문 강의 자료 값 이상 이하 값 수록 것 실습 코드 값 유사 것 제 ...   \n",
              "\n",
              "                                            en_code_pos   \n",
              "3859  [('이', 'IC'), ('부분', 'NNG'), ('이', 'JKS'), ('어...  \\\n",
              "3860  [('tokenizer', 'NN'), ('train', 'NN'), ('train...   \n",
              "3861  [('set', 'NN'), ('에서', 'JKB'), ('을', 'JKO'), (...   \n",
              "3862  [('거리', 'NNG'), ('에', 'JKB'), ('대하', 'VV'), ('...   \n",
              "3863  [('import', 'NN'), ('에', 'IC'), ('대하', 'VV'), ...   \n",
              "\n",
              "                                         en_stop_morphs  \n",
              "3859  ['stop', 'words', 'setstopw', 'ordswordsenglis...  \n",
              "3860  ['tokenizer', '처리', '이유', '무엇', 'ㄴ가', '실습', 't...  \n",
              "3861  ['stanford', 'edu', '에서', 'data', 'set', '가져오'...  \n",
              "3862  ['거리', '대하', '아서', '얘기하', '거리', '언어', '지능', '어...  \n",
              "3863  ['cos', 'ine', 'similarity', '대하', '질문', 'ㅂ니다'...  "
            ]
          },
          "execution_count": 9,
          "metadata": {},
          "output_type": "execute_result"
        }
      ],
      "source": [
        "import pandas as pd\n",
        "\n",
        "df_test=pd.read_csv(\"data/data_add_qna_pos_nouns.csv\", index_col = 0)\n",
        "df_test.tail()"
      ]
    },
    {
      "cell_type": "code",
      "execution_count": 10,
      "metadata": {
        "colab": {
          "base_uri": "https://localhost:8080/",
          "height": 206
        },
        "id": "fkxtnqTOvQx0",
        "outputId": "81b7f2ff-c59c-4142-aca3-af19a24777e1"
      },
      "outputs": [
        {
          "data": {
            "text/html": [
              "<div>\n",
              "<style scoped>\n",
              "    .dataframe tbody tr th:only-of-type {\n",
              "        vertical-align: middle;\n",
              "    }\n",
              "\n",
              "    .dataframe tbody tr th {\n",
              "        vertical-align: top;\n",
              "    }\n",
              "\n",
              "    .dataframe thead th {\n",
              "        text-align: right;\n",
              "    }\n",
              "</style>\n",
              "<table border=\"1\" class=\"dataframe\">\n",
              "  <thead>\n",
              "    <tr style=\"text-align: right;\">\n",
              "      <th></th>\n",
              "      <th>text</th>\n",
              "    </tr>\n",
              "    <tr>\n",
              "      <th>id</th>\n",
              "      <th></th>\n",
              "    </tr>\n",
              "  </thead>\n",
              "  <tbody>\n",
              "    <tr>\n",
              "      <th>0</th>\n",
              "      <td>팀즈는 노트북으로 접속하고 강의는 데스크톱 이용하려고 하는데 문제는 없을까요?  이...</td>\n",
              "    </tr>\n",
              "    <tr>\n",
              "      <th>1</th>\n",
              "      <td>셀프테스트에서 받은 점수가 해당 교육을 이수하고, 취업 연계등을 하는데 있어서 영향...</td>\n",
              "    </tr>\n",
              "    <tr>\n",
              "      <th>2</th>\n",
              "      <td>a= int(input('정수 A의 값을 입력하시오.:'))\\nb= int(inpu...</td>\n",
              "    </tr>\n",
              "    <tr>\n",
              "      <th>3</th>\n",
              "      <td>def max4(a,b,c,d):\\n    maximum = a\\n    if b&amp;...</td>\n",
              "    </tr>\n",
              "    <tr>\n",
              "      <th>4</th>\n",
              "      <td>i**=2 가  i **=2 와 왜 같은지가 이해가 잘 안됩니다!!</td>\n",
              "    </tr>\n",
              "  </tbody>\n",
              "</table>\n",
              "</div>"
            ],
            "text/plain": [
              "                                                 text\n",
              "id                                                   \n",
              "0   팀즈는 노트북으로 접속하고 강의는 데스크톱 이용하려고 하는데 문제는 없을까요?  이...\n",
              "1   셀프테스트에서 받은 점수가 해당 교육을 이수하고, 취업 연계등을 하는데 있어서 영향...\n",
              "2   a= int(input('정수 A의 값을 입력하시오.:'))\\nb= int(inpu...\n",
              "3   def max4(a,b,c,d):\\n    maximum = a\\n    if b&...\n",
              "4               i**=2 가  i **=2 와 왜 같은지가 이해가 잘 안됩니다!!"
            ]
          },
          "execution_count": 10,
          "metadata": {},
          "output_type": "execute_result"
        }
      ],
      "source": [
        "test = pd.read_csv(\"data/test.csv\", index_col = 0)\n",
        "\n",
        "test.head()"
      ]
    },
    {
      "cell_type": "code",
      "execution_count": 11,
      "metadata": {},
      "outputs": [],
      "source": [
        "data_list = []\n",
        "for q, label in zip(df_test['remove_special_sent'], df_test['label'])  :\n",
        "    data = []\n",
        "    data.append(q)\n",
        "    data.append(str(label))\n",
        "\n",
        "    data_list.append(data)"
      ]
    },
    {
      "cell_type": "code",
      "execution_count": 12,
      "metadata": {},
      "outputs": [
        {
          "name": "stdout",
          "output_type": "stream",
          "text": [
            "['self convs1 = nn ModuleListn nConv 2d1 Co K 100 for K in Ks 1 여기서 커널사이즈 K 100 은 한 단어의 최대 길이가 100이 넘지 않는다는 가정으로 그냥 100으로 선언한 것인지 궁금합니다', '0']\n",
            "['x값이 너무 많아서 겹쳐서 검은색으로 보이는데요 아마 온도값이 01 단위로 써 있어서 그렇지 않을까 추측합니다 혹시 온도 단위를 05나 1 단위로 보고 싶으면 어떤 코드를 추가해야 할까요? bins를 넣으면 x값 단위는 그대로이고 막대 그래프 개수만 줄어서 효과가 없는 것 같습니다', '0']\n",
            "['수업 끝난 후 과 제 제출을 위해 접속을 했는데 계속 접속이 안 됩니다', '3']\n",
            "['cos ine similarity에 대한 질문입니다 강의 자료에서는 cos ine measure 값이 0 이상 2 이하의 값이 나오며 작을 수록 유사한 것이라고 이해했습니다 실습 코드에서 사용한 f rom sklearnmet ricspairwise import cosine_simil arity는 값이 클수록 유사 한 것 같아 제가 제대로 이해한 것이 맞나요? 코 드에서 사용 한 cos ine_simil arity와 cos ine measure는 다른 것인가요?', '2']\n"
          ]
        }
      ],
      "source": [
        "print(data_list[0])\n",
        "print(data_list[1000])\n",
        "print(data_list[2000])\n",
        "print(data_list[-1])"
      ]
    },
    {
      "cell_type": "code",
      "execution_count": 32,
      "metadata": {},
      "outputs": [],
      "source": [
        "texts = [item[0] for item in data_list]\n",
        "labels = [item[1] for item in data_list]"
      ]
    },
    {
      "cell_type": "code",
      "execution_count": 33,
      "metadata": {},
      "outputs": [],
      "source": [
        "#train & test 데이터로 나누기\n",
        "from sklearn.model_selection import train_test_split\n",
        "                                                         \n",
        "train_texts, test_texts, train_labels, test_labels = train_test_split(texts, labels, test_size=0.2, random_state=42)"
      ]
    },
    {
      "cell_type": "code",
      "execution_count": 34,
      "metadata": {},
      "outputs": [
        {
          "name": "stdout",
          "output_type": "stream",
          "text": [
            "3091\n",
            "773\n"
          ]
        }
      ],
      "source": [
        "print(len(train_texts))\n",
        "print(len(test_texts))"
      ]
    },
    {
      "cell_type": "code",
      "execution_count": 59,
      "metadata": {},
      "outputs": [],
      "source": [
        "# Setting parameters\n",
        "max_len = 128\n",
        "batch_size = 16\n",
        "warmup_ratio = 0.1\n",
        "num_epochs = 10\n",
        "max_grad_norm = 1\n",
        "log_interval = 200\n",
        "learning_rate = 2e-5"
      ]
    },
    {
      "cell_type": "code",
      "execution_count": 80,
      "metadata": {},
      "outputs": [],
      "source": [
        "import torch\n",
        "from torch.utils.data import Dataset\n",
        "\n",
        "def bert_tokenizer(sent, MAX_LEN, tokenizer):\n",
        "    \n",
        "    encoded_dict=tokenizer.encode_plus(\n",
        "    text = sent, \n",
        "    add_special_tokens=True, \n",
        "    max_length=MAX_LEN, \n",
        "    pad_to_max_length=True, \n",
        "    return_attention_mask=True,\n",
        "    truncation = True)\n",
        "    \n",
        "    input_id=encoded_dict['input_ids']\n",
        "    attention_mask=encoded_dict['attention_mask']\n",
        "    #token_type_id = encoded_dict['token_type_ids']\n",
        "    token_type_id = 0\n",
        "    \n",
        "    return input_id, attention_mask, token_type_id\n",
        "\n",
        "def preprocessing_train():\n",
        "    \n",
        "    pt = 'monologg/kobert'\n",
        "    \n",
        "    tokenizer = KoBertTokenizer.from_pretrained(pt,  cache_dir='bert_ckpt', do_lower_case=False)\n",
        "    print('load kobert')\n",
        "    \n",
        "    MAX_LEN = 128\n",
        "    data = pd.read_csv('./data/data_add_qna_pos_nouns.csv')\n",
        "    valid = int(len(data) * 0.8)\n",
        "\n",
        "    train=data.loc[:valid,['text','label']]\n",
        "    valid=data.loc[valid:,['text','label']]\n",
        "\n",
        "    input_ids =[]\n",
        "    attention_masks =[]\n",
        "    token_type_ids =[]\n",
        "    train_data_labels = []\n",
        "\n",
        "    for train_sent, train_label in tqdm.tqdm(zip(train['text'], train['label'])):\n",
        "        try:\n",
        "            input_id, attention_mask,_ = bert_tokenizer(train_sent, MAX_LEN=MAX_LEN, tokenizer=tokenizer)\n",
        "\n",
        "            input_ids.append(input_id)\n",
        "            attention_masks.append(attention_mask)\n",
        "            token_type_ids.append(0)\n",
        "            #########################################\n",
        "            train_data_labels.append(train_label)\n",
        "\n",
        "        except Exception as e:\n",
        "            print(e)\n",
        "            pass\n",
        "\n",
        "    train_input_ids=np.array(input_ids, dtype=int)\n",
        "    train_attention_masks=np.array(attention_masks, dtype=int)\n",
        "    train_token_type_ids=np.array(token_type_ids, dtype=int)\n",
        "    ###########################################################\n",
        "    train_inputs=(train_input_ids, train_attention_masks, train_token_type_ids)\n",
        "    train_labels=np.asarray(train_data_labels, dtype=np.int32)\n",
        "\n",
        "    # save\n",
        "    train_data = {}\n",
        "\n",
        "    train_data['input_ids'] = train_input_ids\n",
        "    train_data['attention_mask'] = train_attention_masks\n",
        "    train_data['token_type_ids'] = train_token_type_ids\n",
        "    train_data['targets'] = np.asarray(train_data_labels, dtype=np.int32)\n",
        "    \n",
        "    os.makedirs(f'./data/{pt}/', exist_ok=True)\n",
        "    with open(f'./data/{pt}/train_data_{MAX_LEN}.pickle', 'wb') as f:\n",
        "        pickle.dump(train_data, f, pickle.HIGHEST_PROTOCOL)\n",
        "\n",
        "    # valid\n",
        "\n",
        "    input_ids =[]\n",
        "    attention_masks =[]\n",
        "    token_type_ids =[]\n",
        "    valid_data_labels = []\n",
        "\n",
        "    for valid_sent, valid_label in tqdm.tqdm(zip(valid['text'], valid['label'])):\n",
        "        try:\n",
        "            input_id, attention_mask,_ = bert_tokenizer(valid_sent, MAX_LEN=MAX_LEN, tokenizer=tokenizer)\n",
        "\n",
        "            input_ids.append(input_id)\n",
        "            attention_masks.append(attention_mask)\n",
        "            token_type_ids.append(0)\n",
        "            #########################################\n",
        "            train_data_labels.append(train_label)\n",
        "\n",
        "        except Exception as e:\n",
        "            print(e)\n",
        "            pass\n",
        "\n",
        "    valid_input_ids=np.array(input_ids, dtype=int)\n",
        "    valid_attention_masks=np.array(attention_masks, dtype=int)\n",
        "    valid_token_type_ids=np.array(token_type_ids, dtype=int)\n",
        "    ###########################################################\n",
        "    valid_inputs=(valid_input_ids, valid_attention_masks, valid_token_type_ids)\n",
        "    valid_labels=np.asarray(valid_data_labels, dtype=np.int32)\n",
        "\n",
        "    # save\n",
        "    valid_data = {}\n",
        "\n",
        "    valid_data['input_ids'] = valid_input_ids\n",
        "    valid_data['attention_mask'] = valid_attention_masks\n",
        "    valid_data['token_type_ids'] = valid_token_type_ids\n",
        "    valid_data['targets'] = np.asarray(valid_data_labels, dtype=np.int32)\n",
        "    \n",
        "    os.makedirs(f'./data/{pt}/', exist_ok=True)\n",
        "    with open(f'./data/{pt}/valid_data_{MAX_LEN}.pickle', 'wb') as f:\n",
        "        pickle.dump(valid_data, f, pickle.HIGHEST_PROTOCOL)\n",
        "\n",
        "def preprocessing_test():\n",
        "    \n",
        "    pt = 'monologg/kobert'\n",
        "    if 'kobert' in pt:\n",
        "        tokenizer = KoBertTokenizer.from_pretrained(pt,  cache_dir='bert_ckpt', do_lower_case=False)\n",
        "        print('load kobert')\n",
        "\n",
        "    MAX_LEN = 128\n",
        "    \n",
        "    test = pd.read_csv('./data/test.csv')\n",
        "    test=test[['text']]\n",
        "    \n",
        "    input_ids =[]\n",
        "    attention_masks =[]\n",
        "    token_type_ids =[]\n",
        "\n",
        "    for test_sent in tqdm.tqdm(test['text']):\n",
        "        try:\n",
        "            input_id, attention_mask,_ = bert_tokenizer(test_sent, MAX_LEN=MAX_LEN, tokenizer=tokenizer)\n",
        "\n",
        "            input_ids.append(input_id)\n",
        "            attention_masks.append(attention_mask)\n",
        "            token_type_ids.append(0)\n",
        "            #########################################\n",
        "\n",
        "        except Exception as e:\n",
        "            print(e)\n",
        "            pass\n",
        "\n",
        "    test_input_ids=np.array(input_ids, dtype=int)\n",
        "    test_attention_masks=np.array(attention_masks, dtype=int)\n",
        "    test_token_type_ids=np.array(token_type_ids, dtype=int)\n",
        "    ###########################################################\n",
        "    test_inputs=(test_input_ids, test_attention_masks, test_token_type_ids)\n",
        "\n",
        "\n",
        "    # save\n",
        "    test_data = {}\n",
        "\n",
        "    test_data['input_ids'] = test_input_ids\n",
        "    test_data['attention_mask'] = test_attention_masks\n",
        "    test_data['token_type_ids'] = test_token_type_ids\n",
        "    \n",
        "    os.makedirs(f'./data/{pt}/', exist_ok=True)\n",
        "    with open(f'./data/{pt}/test_data_{MAX_LEN}.pickle', 'wb') as f:\n",
        "        pickle.dump(test_data, f, pickle.HIGHEST_PROTOCOL)\n"
      ]
    },
    {
      "cell_type": "code",
      "execution_count": 81,
      "metadata": {},
      "outputs": [
        {
          "name": "stderr",
          "output_type": "stream",
          "text": [
            "The tokenizer class you load from this checkpoint is not the same type as the class this function is called from. It may result in unexpected tokenization. \n",
            "The tokenizer class you load from this checkpoint is 'BertTokenizer'. \n",
            "The class this function is called from is 'KoBertTokenizer'.\n"
          ]
        },
        {
          "name": "stdout",
          "output_type": "stream",
          "text": [
            "load kobert\n"
          ]
        },
        {
          "name": "stderr",
          "output_type": "stream",
          "text": [
            "3092it [00:00, 4304.67it/s]\n",
            "773it [00:00, 4523.26it/s]\n",
            "The tokenizer class you load from this checkpoint is not the same type as the class this function is called from. It may result in unexpected tokenization. \n",
            "The tokenizer class you load from this checkpoint is 'BertTokenizer'. \n",
            "The class this function is called from is 'KoBertTokenizer'.\n"
          ]
        },
        {
          "name": "stdout",
          "output_type": "stream",
          "text": [
            "load kobert\n"
          ]
        },
        {
          "name": "stderr",
          "output_type": "stream",
          "text": [
            "100%|██████████| 929/929 [00:00<00:00, 4506.70it/s]"
          ]
        },
        {
          "name": "stdout",
          "output_type": "stream",
          "text": [
            "모델 전처리 완료\n"
          ]
        },
        {
          "name": "stderr",
          "output_type": "stream",
          "text": [
            "\n"
          ]
        }
      ],
      "source": [
        "preprocessing_train()\n",
        "preprocessing_test()\n",
        "        \n",
        "print('모델 전처리 완료')"
      ]
    },
    {
      "cell_type": "code",
      "execution_count": 82,
      "metadata": {},
      "outputs": [],
      "source": [
        "class KobertDataSet(Dataset):\n",
        "    \n",
        "    def __init__(self, data, test=False):\n",
        "        \n",
        "        self.data = data\n",
        "        self.test = test\n",
        "        \n",
        "    def __len__(self):\n",
        "        \n",
        "        return self.data['input_ids'].shape[0]\n",
        "    \n",
        "    def __getitem__(self,idx):\n",
        "        \n",
        "        ids = torch.tensor(self.data['input_ids'][idx], dtype=torch.long)\n",
        "        mask = torch.tensor(self.data['attention_mask'][idx], dtype=torch.long)\n",
        "        token_type_ids = torch.tensor(self.data['token_type_ids'][idx], dtype=torch.long)\n",
        "         \n",
        "            \n",
        "        if self.test:\n",
        "            return {\n",
        "                'ids': ids,\n",
        "                'mask': mask,\n",
        "                'token_type_ids': token_type_ids\n",
        "            }\n",
        "        \n",
        "        else:\n",
        "            target = torch.tensor(self.data['targets'][idx],dtype=torch.long)\n",
        "\n",
        "            return {\n",
        "                    'ids': ids,\n",
        "                    'mask': mask,\n",
        "                    'token_type_ids': token_type_ids,\n",
        "                    'targets': target\n",
        "                }"
      ]
    },
    {
      "cell_type": "code",
      "execution_count": 83,
      "metadata": {
        "id": "_13QTaXUfYVX"
      },
      "outputs": [],
      "source": [
        "class BERTClassifier(nn.Module):\n",
        "    def __init__(self,\n",
        "                 bert,\n",
        "                 hidden_size = 768,\n",
        "                 num_classes=5,   ##클래스 수 조정##\n",
        "                 dr_rate=None,\n",
        "                 params=None):\n",
        "        super(BERTClassifier, self).__init__()\n",
        "        self.bert = bert\n",
        "        self.dr_rate = dr_rate\n",
        "\n",
        "        self.classifier = nn.Linear(hidden_size , num_classes)\n",
        "        if dr_rate:\n",
        "            self.dropout = nn.Dropout(p=dr_rate)\n",
        "\n",
        "    def gen_attention_mask(self, token_ids, valid_length):\n",
        "        attention_mask = torch.zeros_like(token_ids)\n",
        "        for i, v in enumerate(valid_length):\n",
        "            attention_mask[i][:v] = 1\n",
        "        return attention_mask.float()\n",
        "\n",
        "    def forward(self, token_ids, valid_length, segment_ids):\n",
        "        attention_mask = self.gen_attention_mask(token_ids, valid_length)\n",
        "\n",
        "        _, pooler = self.bert(input_ids = token_ids, token_type_ids = segment_ids.long(), attention_mask = attention_mask.float().to(token_ids.device))\n",
        "        if self.dr_rate:\n",
        "            out = self.dropout(pooler)\n",
        "        return self.classifier(out)"
      ]
    },
    {
      "cell_type": "code",
      "execution_count": 84,
      "metadata": {},
      "outputs": [],
      "source": [
        "with open(f'./data/monologg/kobert/train_data_128.pickle', 'rb') as f:\n",
        "    train_data = pickle.load(f)\n",
        "with open(f'./data/monologg/kobert/valid_data_128.pickle', 'rb') as f:\n",
        "    valid_data = pickle.load(f)\n",
        "\n",
        "train_dataset = KobertDataSet(data = train_data)\n",
        "valid_dataset = KobertDataSet(data = valid_data)\n",
        "\n",
        "trainloader = DataLoader(dataset=train_dataset, batch_size=batch_size,\n",
        "                                 num_workers=8, shuffle=True, pin_memory=True)\n",
        "validloader = DataLoader(dataset=valid_dataset, batch_size=batch_size, \n",
        "                                 num_workers=8, shuffle=False, pin_memory=True)"
      ]
    },
    {
      "cell_type": "code",
      "execution_count": 85,
      "metadata": {
        "colab": {
          "base_uri": "https://localhost:8080/"
        },
        "id": "MQ4bxP1jfhFB",
        "outputId": "fc732741-6156-4145-e43d-2b1204aed84e"
      },
      "outputs": [
        {
          "data": {
            "text/plain": [
              "<torch.utils.data.dataloader.DataLoader at 0x192daeb6d60>"
            ]
          },
          "execution_count": 85,
          "metadata": {},
          "output_type": "execute_result"
        }
      ],
      "source": [
        "#BERT 모델 불러오기\n",
        "model = BERTClassifier(bertmodel,  dr_rate=0.5).to(device)\n",
        "\n",
        "#optimizer와 schedule 설정\n",
        "no_decay = ['bias', 'LayerNorm.weight']\n",
        "optimizer_grouped_parameters = [\n",
        "    {'params': [p for n, p in model.named_parameters() if not any(nd in n for nd in no_decay)], 'weight_decay': 0.01},\n",
        "    {'params': [p for n, p in model.named_parameters() if any(nd in n for nd in no_decay)], 'weight_decay': 0.0}\n",
        "]\n",
        "\n",
        "optimizer = AdamW(optimizer_grouped_parameters, lr=learning_rate)\n",
        "loss_fn = nn.CrossEntropyLoss()\n",
        "\n",
        "t_total = len(trainloader) * num_epochs\n",
        "warmup_step = int(t_total * warmup_ratio)\n",
        "\n",
        "scheduler = get_cosine_schedule_with_warmup(optimizer, num_warmup_steps=warmup_step, num_training_steps=t_total)\n",
        "\n",
        "#정확도 측정을 위한 함수 정의\n",
        "def calc_accuracy(X,Y):\n",
        "    max_vals, max_indices = torch.max(X, 1)\n",
        "    train_acc = (max_indices == Y).sum().data.cpu().numpy()/max_indices.size()[0]\n",
        "    return train_acc\n",
        "\n",
        "trainloader"
      ]
    },
    {
      "cell_type": "code",
      "execution_count": 86,
      "metadata": {
        "colab": {
          "base_uri": "https://localhost:8080/",
          "height": 1000,
          "referenced_widgets": [
            "94333c0f0f874d278e58f4350eabf5aa",
            "8659f182f1a743fabd5ac58c22f9f75b",
            "141a4d4182af486f98da309dc7322d5f",
            "e43ca7b60c5e4ed692ed3ac885ff8f05",
            "0604244d9fa149c0a9386297194c72b4",
            "8c5d1e9f857a44bfa66555e323b1adad",
            "2348ab5c635e44728f6d44b65bc56684",
            "50e32e277b9a4782a2dd411fa38b87cb",
            "84668293d8c3478f94334c34b32165d0",
            "87f8fa1298ea43999c59ded9157a38a0",
            "e2ec205dc0c349b4a472efcf3b1d1f86",
            "0739ff613b7b44bcb58f94bb98e402cd",
            "1294eea1b04b411b845ba1ad05ee2e04",
            "73f04e7b51c749719a399392c7c5955d",
            "eed1026602c54560b7f014ba423e02d2",
            "9cb514b09f7340be83be40a24e1ffe26",
            "710d758d33a14aba81c942cbfd226d80",
            "5293cbc1a6e54601b1e013588805fbf8",
            "5b9d2c539c95472187834004c3493c71",
            "af3b59c47ab345108b8618a3d003985b",
            "ac3b266065c1407c842b0028cf8b4707",
            "6dc4cdc0cb2c49668de60382f77ca1b6",
            "8b128918d8aa49128abaf14f7bc2625b",
            "c69022cfa20844b4be36255cd54186b1",
            "d2b5da6d93cb458286b7ce8c2f65a516",
            "edcfd019d5aa4267affe2aa399f753ee",
            "53c6c54fd9c844e18c09d96f625750b6",
            "39656ced733141f8a72a0b21c87f0faa",
            "e43031c83809436698acd722961a8a45",
            "5cdd1a22de384ccb8cc007ca080de7f0",
            "bf7fb62b43864e6cbe5e34ff71fb2711",
            "d0550d77d4624b909d2241fe1d4df600",
            "0ef34383a16d4a038c51c87f7519527d",
            "3e4f30604ac04cbeb97f131802cc1f58",
            "c288695e6fc14487a96d0669351ba0ec",
            "d9b23ebc30fb492299995e8328a6e722",
            "62718002675d4b1db659e94a37ffd043",
            "a9c57f8332c14f538b3ee5c34c8d8de3",
            "18b47556f2b1449fa41336b372e62951",
            "03d8fb85187b4b69982051484bc4ac19",
            "f63899c700ed430480ddf0029c09afa2",
            "69263f0e96aa41d6ab54e0bf7857e117",
            "4837e9378dee424d9dc4f3fbeb06564b",
            "76edf330ed614c6a808d6e9c6348e174",
            "d1025bcc86834f7b936e11d9504d38c9",
            "4f6926fcef4b435698466698cae03983",
            "db551a64d4834827bedbb8e17c40e450",
            "5d3c6b5042b44444a42fbdcede81c5d9",
            "f388e280095c42b385478738cfd1b4c0",
            "047379f46c774837b82f83091869c476",
            "652e684df93248768f25f1d5aa47d931",
            "fcbc527240d34c24934b63fec4b5944d",
            "f67fd1c8f6c94190af6c359da1070347",
            "c6a5e750f2824b2da972a9fa9b6bda46",
            "f2665855a74b4430bf176500533cbf63",
            "20c6632931c34808b53ac0c6378c5c11",
            "be907996eb7445e28599a63c0e91909e",
            "89ebf6e11ca0400c9bf296f662c2e2af",
            "680ce1736e634517a0555203cc206a0a",
            "69176ea61bfc44178fbc2dce2fe0b6b0",
            "93236b1ad4ee45cfaee3a896e7818220",
            "3553d3f58fdc4c86961e98d1806166fd",
            "6773dbbc41f14dd79af33425df057fc9",
            "4b4fdaa168a449ee8b62cb86c5a99ec4",
            "2e497d44d8c34138941a15049caace2d",
            "e24283e754ef47c5ba27f132fa8be4fa",
            "3dc983650a564225912acf43c3b0d7b1",
            "3fe3daec9a8f43d08743fb9e9fea04f5",
            "6076069b88e849efb0ef4b2b30337a3c",
            "e51edf7b68fe443b8e43fb99efabff78",
            "83574078ee1147ff9fb9301579b6274f",
            "545aea00e6e94828922caab1d8cefcff",
            "b503f0bf65f5452e8678252d53aa50de",
            "37686b40e44c41ca9968da3df6ae4b89",
            "083ceed8e82445c59c6aa987e20f6056",
            "a95bcbc585cf4b29967f115ab4654853",
            "ad4860ff269844b0bc5ccdc201d5be8f",
            "b459f12926034452956e33329544b2f4",
            "37e0eb2f106b4d0bb9e30d7303b12f41",
            "3139c307ba5e4a338a17f34811a32f5d",
            "75bc38d7d4ce4fd0ac09225250d62bf4",
            "8366da938a7e45a5a3d3cc8b165ce69e",
            "450c20c122184113ac67fff2e3b695a8",
            "f8a512be918f441da317bf3a0ed5360d",
            "60368b0f17714e96a6e86fb4ce423b0e",
            "636a1c92559b444f9275fe0811b2470e",
            "0d0a786c78874d1487207c8653545745",
            "da748c4d4bfa4eb19a73423c10ce6c93",
            "45b42ef819c84c6dbde56e610b32b1c1",
            "b7cce5909e114d9f9cba2151d6179c4e",
            "46cb82ffca4840d1a37d1ef588ce2c55",
            "d3f79db71ef440739f76a1a0e4effef5",
            "73214aca6e234cd3948fe33a7ba2a0bb",
            "387ee2b314d8471182e03a4054d093dd",
            "87a0cd9b84594bf4b88a7eccb8394dac",
            "c124664859fa40ab93e802e7adc75039",
            "bc5c76bd8ed04297b3a70496a8cde6c5",
            "d34dbd196a3e477d9de7c715589ff59a",
            "0e2d2029ebad49df81983e5187be1bca",
            "798f7788d2f04f46b79d49f53b38cdfa",
            "fe4890fcacdb49e2807b7e95195a741e",
            "18ac8beb68f9495196c78406f96b4da7",
            "a7d0ba96c74c44bf8abe6d7570595ea1",
            "7415a80be4bd4e57a87b3b53cd33114f",
            "e4a63456dfd645d799d0908cc5a1baab",
            "ad05971ead2e44e7863c7db2571a83c2",
            "47ccae49260f45749a3d3312abe83e6d",
            "def027db2206442bb988d5821b3597a3",
            "d8421ce969e046dbbdc679cf293ff7dc",
            "96e4e5d0d95f4465accba39608fdb176",
            "3de00ded3f5a4443a1c8bde21a8e40b6",
            "3238b43c839b490bb44f2fbbd6838aab",
            "8162620c609c4676b65160d8473dae3c",
            "330f265b155744dc8edeaefd644ac057",
            "a7d11158f01d4c4e99d390d537755cac",
            "92a0b465213048adb92f017f5e253a8d",
            "ccc730bc182e4fff8cabaad12e202e7e",
            "e33b9555aea94e60816e78c329f02411",
            "ea442b5d21424f69bcba4b32509ebe63",
            "18c59aa2624d407180194a668cf3c00e",
            "e8d9cd6b3bfa433e99f4cd94bf33db52",
            "132378c182b74590836947f4da6af59e",
            "f52fab14e2464cc6beb7e3a34cde94d7",
            "7b1121a6cd1c43ba9d79e668410e6556",
            "4ec2875ff3884104973dfa4245cb320b",
            "5422ef592999426e82ed64a2ec15eff9",
            "8e5d98e7aa0246cc89954ba01f92316c",
            "3c3b42e4cfb746f1b38303bb06d9ef9a",
            "9cad87fd041b4b84a72e6d6a7770f53b",
            "9a54b764824c4fe6946eae514c78d7ba",
            "860f4892516048eba3a56567a471dff7",
            "de3b37c95f1b4b3bbcb03751806de0b1",
            "9c28b8e510bc4e6fb156836871bd4a63",
            "66de89ff76a947d39d63b654a18bf02e",
            "e84dfb1cdde84c49aafece3a2bd3dc0e",
            "40ecf08a350a49999dc777e757475958",
            "9eaa85549db04e51a0aca6e570a1d425",
            "db524e6d71974beb9b6e371b59b54da3",
            "9eb90160959f4144ba9abf388878166c",
            "45f62558ddcc4689843dea4284842143",
            "31b910847764476ba4a6d2e1489f89ce",
            "3e37a88a2a7248b48f7eaba0599b76df",
            "ea88dc62e468492bb3058bb9c8e104c4",
            "b1848414f839421cb2d2555567acdf46",
            "a2e24f0f109a4ceab331f9a9f05d8dce",
            "a2c9112cf6ee439a97fe95a51ded8f15",
            "64ed83d887f544b6b64c1a16a391274d",
            "8c9af6bbd0f74886b75c606d9496e311",
            "b71be879498b471e9b77059ebfb5e3a3",
            "fda78f8b5ac84b0b8eccc6375bec0d35",
            "b49b228183c24f239d3ed6d370e70790",
            "0f2b2c012f8c4a05a1bb9da1f59bae40",
            "933dc881009f4f02b32a39512cedcc9d",
            "2dc4b78e1e2b4f29af635446233f212c",
            "d77b8b1b449f4e04af3d65567c5b4db4",
            "3e75f3a8b6a142ac84a9c16490f55df8",
            "b18dec078cbf487a958c31479a06b619",
            "668ae7842e374b52b881ef7339e2d65c",
            "1d1fc98378014ddc91bfb5f913b68b2f",
            "dbcb3f8a3da74660b5440fc83d943556",
            "e863e8481626423287cfd726e6455e49",
            "526b5f8a18dd4059a72b86b26c0014c2",
            "63825c37382241e58f96f69877538190",
            "becca1ddc51744e7abd1e6b5e72c0040",
            "d6deededc1bc413ab64cacd758136abe",
            "a480b3f05ac24ab1ad7e81fde89b0dc5",
            "75c8fc4bd26344548ef3896e69bfddde",
            "d3d60d4f5b9042bd8e4e82653b3d0902",
            "89fc330a6a6747e88ae46d06b7c543bf",
            "120a4d06e7e24a66b2387220ac64318f",
            "66b55d70e58947dcbdbcfb680c8e6d9b",
            "f5940474d8ba40ed933b6527a3e76b18",
            "300e904ebab246f1a1ba0732d8a52bf0",
            "360bccf94ca54d4380c0825d7e90fc78",
            "04b66a4bdac543a68d745d190ffc1134",
            "0e3816503558436089e9abe1bf91745c",
            "23ea3218444447259ef15de4d469afc4",
            "007aea4f10ce446297a083b9fb668a27",
            "8ffdacd7a0504101b878e9356e060c84",
            "97b2761221ac4235bd89c1dccdf6ae61",
            "d786e4e6df8e4631be76bcf3bfd6a127",
            "f16934ec9dd943629632eab5e98a2fb7",
            "54b3e537115746e186f9bd38047a93d9",
            "20cacc9945714517a59b383fdf55119d",
            "a14025fb303042ea8c105be815e8c87d",
            "3d4cb68e68664c8a8db44afc2b787cc6",
            "e9d019f8297c489b8699b16859ec21b1",
            "9d155d9c5aef4e3cb546bb044af4ff1c",
            "2ecf857bef024e9c8789101ff2600801",
            "348abf79b85547969740eb47f3b9a593",
            "a061d156b69042ed8494531b7a00f6d6",
            "62bea4e66b9f4790b679762ff2edd089",
            "409f2ca068ad4d2a8c513865e09a0d0d",
            "ac85df5f28094b0884eabe6e2dad8b2c",
            "002f5c6738254f089657ff4b4a6faf48",
            "aa94dd476c5d41a8b1e4e3291a2d13a1",
            "a4a2d311ffd84284b8b4b1b883846025",
            "024f39f732424a79b9dd7d26600ffeb6",
            "2fa80d569ab94f42835b0f1cf881169f",
            "dbf6e0ebfd35440da359ae813543aee6",
            "bba3dc832979430bac13f186f043f11c",
            "42a91aa402f8416690546b5cf6394c1b",
            "be4df389510b42f089ab9f37a716bcb8",
            "445ca539f4634d01900b9ec14dd87338",
            "14b570547d274aab87a03ce126a9cc87",
            "1431a07331bb4b07a12e822d833fcbbe",
            "751d3f78518e4f98b16a20cb14408cf8",
            "7519f74b19df40eab5cf59a856527ecb",
            "9a64f60bd862482b87868bc502d902c7",
            "d6a96d7d7ca5444ba3029c52c7ea6c2d",
            "86aad8667ddd4395894f97ddc770fb5f",
            "e4a658db5e5e42c59e2be4565efe210b",
            "a53b2cd4d82243558cfe95b5af01aafc",
            "9b2e35e1e126418da70eb6eb1de3039d",
            "7ba8876d2d9f4e579b495935bcc08e62",
            "e21e7b8bebec463e93990f665b39232a",
            "c2613e706707436eaf83c9a551201421",
            "65eeca7014fd433899133379d5ec5de3",
            "87b6224affe04726b809305a71408b6a",
            "b6843d66c1bb4b5681e2461e02676ccd"
          ]
        },
        "id": "n3gnUNJQfjEo",
        "outputId": "d350c881-a967-41e0-f47e-de82542dbabb"
      },
      "outputs": [
        {
          "name": "stderr",
          "output_type": "stream",
          "text": [
            "  0%|          | 0/194 [00:00<?, ?it/s]"
          ]
        }
      ],
      "source": [
        "for e in range(num_epochs):\n",
        "    train_acc = 0.0\n",
        "    test_acc = 0.0\n",
        "\n",
        "    model.train()\n",
        "    \n",
        "    for batch_id, (token_ids, valid_length, segment_ids, label) in enumerate(tqdm.tqdm(trainloader)):\n",
        "        optimizer.zero_grad()\n",
        "        token_ids = token_ids.long().to(device)\n",
        "        segment_ids = segment_ids.long().to(device)\n",
        "        valid_length= valid_length\n",
        "        label = label.long().to(device)\n",
        "        out = model(token_ids, valid_length, segment_ids)\n",
        "        loss = loss_fn(out, label)\n",
        "        loss.backward()\n",
        "        torch.nn.utils.clip_grad_norm_(model.parameters(), max_grad_norm)\n",
        "        optimizer.step()\n",
        "        scheduler.step()  # Update learning rate schedule\n",
        "        train_acc += calc_accuracy(out, label)\n",
        "        if batch_id % log_interval == 0:\n",
        "            print(\"epoch {} batch id {} loss {} train acc {}\".format(e+1, batch_id+1, loss.data.cpu().numpy(), train_acc / (batch_id+1)))\n",
        "    print(\"epoch {} train acc {}\".format(e+1, train_acc / (batch_id+1)))\n",
        "\n",
        "    model.eval()\n",
        "    for batch_id, (token_ids, valid_length, segment_ids, label) in enumerate(tqdm.tqdm(validloader)):\n",
        "        token_ids = token_ids.long().to(device)\n",
        "        segment_ids = segment_ids.long().to(device)\n",
        "        valid_length= valid_length\n",
        "        label = label.long().to(device)\n",
        "        out = model(token_ids, valid_length, segment_ids)\n",
        "        test_acc += calc_accuracy(out, label)\n",
        "    print(\"epoch {} test acc {}\".format(e+1, test_acc / (batch_id+1)))"
      ]
    }
  ],
  "metadata": {
    "accelerator": "GPU",
    "colab": {
      "machine_shape": "hm",
      "provenance": []
    },
    "gpuClass": "standard",
    "kernelspec": {
      "display_name": "Python 3",
      "language": "python",
      "name": "python3"
    },
    "language_info": {
      "codemirror_mode": {
        "name": "ipython",
        "version": 3
      },
      "file_extension": ".py",
      "mimetype": "text/x-python",
      "name": "python",
      "nbconvert_exporter": "python",
      "pygments_lexer": "ipython3",
      "version": "3.9.16"
    },
    "widgets": {
      "application/vnd.jupyter.widget-state+json": {
        "002f5c6738254f089657ff4b4a6faf48": {
          "model_module": "@jupyter-widgets/base",
          "model_module_version": "1.2.0",
          "model_name": "LayoutModel",
          "state": {
            "_model_module": "@jupyter-widgets/base",
            "_model_module_version": "1.2.0",
            "_model_name": "LayoutModel",
            "_view_count": null,
            "_view_module": "@jupyter-widgets/base",
            "_view_module_version": "1.2.0",
            "_view_name": "LayoutView",
            "align_content": null,
            "align_items": null,
            "align_self": null,
            "border": null,
            "bottom": null,
            "display": null,
            "flex": null,
            "flex_flow": null,
            "grid_area": null,
            "grid_auto_columns": null,
            "grid_auto_flow": null,
            "grid_auto_rows": null,
            "grid_column": null,
            "grid_gap": null,
            "grid_row": null,
            "grid_template_areas": null,
            "grid_template_columns": null,
            "grid_template_rows": null,
            "height": null,
            "justify_content": null,
            "justify_items": null,
            "left": null,
            "margin": null,
            "max_height": null,
            "max_width": null,
            "min_height": null,
            "min_width": null,
            "object_fit": null,
            "object_position": null,
            "order": null,
            "overflow": null,
            "overflow_x": null,
            "overflow_y": null,
            "padding": null,
            "right": null,
            "top": null,
            "visibility": null,
            "width": null
          }
        },
        "007aea4f10ce446297a083b9fb668a27": {
          "model_module": "@jupyter-widgets/controls",
          "model_module_version": "1.5.0",
          "model_name": "HTMLModel",
          "state": {
            "_dom_classes": [],
            "_model_module": "@jupyter-widgets/controls",
            "_model_module_version": "1.5.0",
            "_model_name": "HTMLModel",
            "_view_count": null,
            "_view_module": "@jupyter-widgets/controls",
            "_view_module_version": "1.5.0",
            "_view_name": "HTMLView",
            "description": "",
            "description_tooltip": null,
            "layout": "IPY_MODEL_f16934ec9dd943629632eab5e98a2fb7",
            "placeholder": "​",
            "style": "IPY_MODEL_54b3e537115746e186f9bd38047a93d9",
            "value": "100%"
          }
        },
        "024f39f732424a79b9dd7d26600ffeb6": {
          "model_module": "@jupyter-widgets/controls",
          "model_module_version": "1.5.0",
          "model_name": "DescriptionStyleModel",
          "state": {
            "_model_module": "@jupyter-widgets/controls",
            "_model_module_version": "1.5.0",
            "_model_name": "DescriptionStyleModel",
            "_view_count": null,
            "_view_module": "@jupyter-widgets/base",
            "_view_module_version": "1.2.0",
            "_view_name": "StyleView",
            "description_width": ""
          }
        },
        "03d8fb85187b4b69982051484bc4ac19": {
          "model_module": "@jupyter-widgets/controls",
          "model_module_version": "1.5.0",
          "model_name": "DescriptionStyleModel",
          "state": {
            "_model_module": "@jupyter-widgets/controls",
            "_model_module_version": "1.5.0",
            "_model_name": "DescriptionStyleModel",
            "_view_count": null,
            "_view_module": "@jupyter-widgets/base",
            "_view_module_version": "1.2.0",
            "_view_name": "StyleView",
            "description_width": ""
          }
        },
        "047379f46c774837b82f83091869c476": {
          "model_module": "@jupyter-widgets/base",
          "model_module_version": "1.2.0",
          "model_name": "LayoutModel",
          "state": {
            "_model_module": "@jupyter-widgets/base",
            "_model_module_version": "1.2.0",
            "_model_name": "LayoutModel",
            "_view_count": null,
            "_view_module": "@jupyter-widgets/base",
            "_view_module_version": "1.2.0",
            "_view_name": "LayoutView",
            "align_content": null,
            "align_items": null,
            "align_self": null,
            "border": null,
            "bottom": null,
            "display": null,
            "flex": null,
            "flex_flow": null,
            "grid_area": null,
            "grid_auto_columns": null,
            "grid_auto_flow": null,
            "grid_auto_rows": null,
            "grid_column": null,
            "grid_gap": null,
            "grid_row": null,
            "grid_template_areas": null,
            "grid_template_columns": null,
            "grid_template_rows": null,
            "height": null,
            "justify_content": null,
            "justify_items": null,
            "left": null,
            "margin": null,
            "max_height": null,
            "max_width": null,
            "min_height": null,
            "min_width": null,
            "object_fit": null,
            "object_position": null,
            "order": null,
            "overflow": null,
            "overflow_x": null,
            "overflow_y": null,
            "padding": null,
            "right": null,
            "top": null,
            "visibility": null,
            "width": null
          }
        },
        "04b66a4bdac543a68d745d190ffc1134": {
          "model_module": "@jupyter-widgets/base",
          "model_module_version": "1.2.0",
          "model_name": "LayoutModel",
          "state": {
            "_model_module": "@jupyter-widgets/base",
            "_model_module_version": "1.2.0",
            "_model_name": "LayoutModel",
            "_view_count": null,
            "_view_module": "@jupyter-widgets/base",
            "_view_module_version": "1.2.0",
            "_view_name": "LayoutView",
            "align_content": null,
            "align_items": null,
            "align_self": null,
            "border": null,
            "bottom": null,
            "display": null,
            "flex": null,
            "flex_flow": null,
            "grid_area": null,
            "grid_auto_columns": null,
            "grid_auto_flow": null,
            "grid_auto_rows": null,
            "grid_column": null,
            "grid_gap": null,
            "grid_row": null,
            "grid_template_areas": null,
            "grid_template_columns": null,
            "grid_template_rows": null,
            "height": null,
            "justify_content": null,
            "justify_items": null,
            "left": null,
            "margin": null,
            "max_height": null,
            "max_width": null,
            "min_height": null,
            "min_width": null,
            "object_fit": null,
            "object_position": null,
            "order": null,
            "overflow": null,
            "overflow_x": null,
            "overflow_y": null,
            "padding": null,
            "right": null,
            "top": null,
            "visibility": null,
            "width": null
          }
        },
        "0537c0257dc941b88e757e5732c8afd8": {
          "model_module": "@jupyter-widgets/controls",
          "model_module_version": "1.5.0",
          "model_name": "HBoxModel",
          "state": {
            "_dom_classes": [],
            "_model_module": "@jupyter-widgets/controls",
            "_model_module_version": "1.5.0",
            "_model_name": "HBoxModel",
            "_view_count": null,
            "_view_module": "@jupyter-widgets/controls",
            "_view_module_version": "1.5.0",
            "_view_name": "HBoxView",
            "box_style": "",
            "children": [
              "IPY_MODEL_ee4f4d99bccf435db591b99f92eaabdd",
              "IPY_MODEL_30dc7c2f5db748e486c43a2fd8a22a5e",
              "IPY_MODEL_4b5c333aee5b4939b59e8362c06b71eb"
            ],
            "layout": "IPY_MODEL_c8ba241ea82a4efe9437721e760b8ca3"
          }
        },
        "0604244d9fa149c0a9386297194c72b4": {
          "model_module": "@jupyter-widgets/base",
          "model_module_version": "1.2.0",
          "model_name": "LayoutModel",
          "state": {
            "_model_module": "@jupyter-widgets/base",
            "_model_module_version": "1.2.0",
            "_model_name": "LayoutModel",
            "_view_count": null,
            "_view_module": "@jupyter-widgets/base",
            "_view_module_version": "1.2.0",
            "_view_name": "LayoutView",
            "align_content": null,
            "align_items": null,
            "align_self": null,
            "border": null,
            "bottom": null,
            "display": null,
            "flex": null,
            "flex_flow": null,
            "grid_area": null,
            "grid_auto_columns": null,
            "grid_auto_flow": null,
            "grid_auto_rows": null,
            "grid_column": null,
            "grid_gap": null,
            "grid_row": null,
            "grid_template_areas": null,
            "grid_template_columns": null,
            "grid_template_rows": null,
            "height": null,
            "justify_content": null,
            "justify_items": null,
            "left": null,
            "margin": null,
            "max_height": null,
            "max_width": null,
            "min_height": null,
            "min_width": null,
            "object_fit": null,
            "object_position": null,
            "order": null,
            "overflow": null,
            "overflow_x": null,
            "overflow_y": null,
            "padding": null,
            "right": null,
            "top": null,
            "visibility": null,
            "width": null
          }
        },
        "0739ff613b7b44bcb58f94bb98e402cd": {
          "model_module": "@jupyter-widgets/controls",
          "model_module_version": "1.5.0",
          "model_name": "HBoxModel",
          "state": {
            "_dom_classes": [],
            "_model_module": "@jupyter-widgets/controls",
            "_model_module_version": "1.5.0",
            "_model_name": "HBoxModel",
            "_view_count": null,
            "_view_module": "@jupyter-widgets/controls",
            "_view_module_version": "1.5.0",
            "_view_name": "HBoxView",
            "box_style": "",
            "children": [
              "IPY_MODEL_1294eea1b04b411b845ba1ad05ee2e04",
              "IPY_MODEL_73f04e7b51c749719a399392c7c5955d",
              "IPY_MODEL_eed1026602c54560b7f014ba423e02d2"
            ],
            "layout": "IPY_MODEL_9cb514b09f7340be83be40a24e1ffe26"
          }
        },
        "083ceed8e82445c59c6aa987e20f6056": {
          "model_module": "@jupyter-widgets/controls",
          "model_module_version": "1.5.0",
          "model_name": "ProgressStyleModel",
          "state": {
            "_model_module": "@jupyter-widgets/controls",
            "_model_module_version": "1.5.0",
            "_model_name": "ProgressStyleModel",
            "_view_count": null,
            "_view_module": "@jupyter-widgets/base",
            "_view_module_version": "1.2.0",
            "_view_name": "StyleView",
            "bar_color": null,
            "description_width": ""
          }
        },
        "089edb2ea6144bb8b82f1d0b9737ed57": {
          "model_module": "@jupyter-widgets/base",
          "model_module_version": "1.2.0",
          "model_name": "LayoutModel",
          "state": {
            "_model_module": "@jupyter-widgets/base",
            "_model_module_version": "1.2.0",
            "_model_name": "LayoutModel",
            "_view_count": null,
            "_view_module": "@jupyter-widgets/base",
            "_view_module_version": "1.2.0",
            "_view_name": "LayoutView",
            "align_content": null,
            "align_items": null,
            "align_self": null,
            "border": null,
            "bottom": null,
            "display": null,
            "flex": null,
            "flex_flow": null,
            "grid_area": null,
            "grid_auto_columns": null,
            "grid_auto_flow": null,
            "grid_auto_rows": null,
            "grid_column": null,
            "grid_gap": null,
            "grid_row": null,
            "grid_template_areas": null,
            "grid_template_columns": null,
            "grid_template_rows": null,
            "height": null,
            "justify_content": null,
            "justify_items": null,
            "left": null,
            "margin": null,
            "max_height": null,
            "max_width": null,
            "min_height": null,
            "min_width": null,
            "object_fit": null,
            "object_position": null,
            "order": null,
            "overflow": null,
            "overflow_x": null,
            "overflow_y": null,
            "padding": null,
            "right": null,
            "top": null,
            "visibility": null,
            "width": null
          }
        },
        "0902ab79a67848a1bed7ec29b2ce852b": {
          "model_module": "@jupyter-widgets/controls",
          "model_module_version": "1.5.0",
          "model_name": "ProgressStyleModel",
          "state": {
            "_model_module": "@jupyter-widgets/controls",
            "_model_module_version": "1.5.0",
            "_model_name": "ProgressStyleModel",
            "_view_count": null,
            "_view_module": "@jupyter-widgets/base",
            "_view_module_version": "1.2.0",
            "_view_name": "StyleView",
            "bar_color": null,
            "description_width": ""
          }
        },
        "0bfb4d88030f4f27995f307b710de3c5": {
          "model_module": "@jupyter-widgets/base",
          "model_module_version": "1.2.0",
          "model_name": "LayoutModel",
          "state": {
            "_model_module": "@jupyter-widgets/base",
            "_model_module_version": "1.2.0",
            "_model_name": "LayoutModel",
            "_view_count": null,
            "_view_module": "@jupyter-widgets/base",
            "_view_module_version": "1.2.0",
            "_view_name": "LayoutView",
            "align_content": null,
            "align_items": null,
            "align_self": null,
            "border": null,
            "bottom": null,
            "display": null,
            "flex": null,
            "flex_flow": null,
            "grid_area": null,
            "grid_auto_columns": null,
            "grid_auto_flow": null,
            "grid_auto_rows": null,
            "grid_column": null,
            "grid_gap": null,
            "grid_row": null,
            "grid_template_areas": null,
            "grid_template_columns": null,
            "grid_template_rows": null,
            "height": null,
            "justify_content": null,
            "justify_items": null,
            "left": null,
            "margin": null,
            "max_height": null,
            "max_width": null,
            "min_height": null,
            "min_width": null,
            "object_fit": null,
            "object_position": null,
            "order": null,
            "overflow": null,
            "overflow_x": null,
            "overflow_y": null,
            "padding": null,
            "right": null,
            "top": null,
            "visibility": null,
            "width": null
          }
        },
        "0d0a786c78874d1487207c8653545745": {
          "model_module": "@jupyter-widgets/base",
          "model_module_version": "1.2.0",
          "model_name": "LayoutModel",
          "state": {
            "_model_module": "@jupyter-widgets/base",
            "_model_module_version": "1.2.0",
            "_model_name": "LayoutModel",
            "_view_count": null,
            "_view_module": "@jupyter-widgets/base",
            "_view_module_version": "1.2.0",
            "_view_name": "LayoutView",
            "align_content": null,
            "align_items": null,
            "align_self": null,
            "border": null,
            "bottom": null,
            "display": null,
            "flex": null,
            "flex_flow": null,
            "grid_area": null,
            "grid_auto_columns": null,
            "grid_auto_flow": null,
            "grid_auto_rows": null,
            "grid_column": null,
            "grid_gap": null,
            "grid_row": null,
            "grid_template_areas": null,
            "grid_template_columns": null,
            "grid_template_rows": null,
            "height": null,
            "justify_content": null,
            "justify_items": null,
            "left": null,
            "margin": null,
            "max_height": null,
            "max_width": null,
            "min_height": null,
            "min_width": null,
            "object_fit": null,
            "object_position": null,
            "order": null,
            "overflow": null,
            "overflow_x": null,
            "overflow_y": null,
            "padding": null,
            "right": null,
            "top": null,
            "visibility": null,
            "width": null
          }
        },
        "0e2d2029ebad49df81983e5187be1bca": {
          "model_module": "@jupyter-widgets/controls",
          "model_module_version": "1.5.0",
          "model_name": "DescriptionStyleModel",
          "state": {
            "_model_module": "@jupyter-widgets/controls",
            "_model_module_version": "1.5.0",
            "_model_name": "DescriptionStyleModel",
            "_view_count": null,
            "_view_module": "@jupyter-widgets/base",
            "_view_module_version": "1.2.0",
            "_view_name": "StyleView",
            "description_width": ""
          }
        },
        "0e3816503558436089e9abe1bf91745c": {
          "model_module": "@jupyter-widgets/controls",
          "model_module_version": "1.5.0",
          "model_name": "DescriptionStyleModel",
          "state": {
            "_model_module": "@jupyter-widgets/controls",
            "_model_module_version": "1.5.0",
            "_model_name": "DescriptionStyleModel",
            "_view_count": null,
            "_view_module": "@jupyter-widgets/base",
            "_view_module_version": "1.2.0",
            "_view_name": "StyleView",
            "description_width": ""
          }
        },
        "0eafa8a6366e4b3b948308f39bf316af": {
          "model_module": "@jupyter-widgets/base",
          "model_module_version": "1.2.0",
          "model_name": "LayoutModel",
          "state": {
            "_model_module": "@jupyter-widgets/base",
            "_model_module_version": "1.2.0",
            "_model_name": "LayoutModel",
            "_view_count": null,
            "_view_module": "@jupyter-widgets/base",
            "_view_module_version": "1.2.0",
            "_view_name": "LayoutView",
            "align_content": null,
            "align_items": null,
            "align_self": null,
            "border": null,
            "bottom": null,
            "display": null,
            "flex": null,
            "flex_flow": null,
            "grid_area": null,
            "grid_auto_columns": null,
            "grid_auto_flow": null,
            "grid_auto_rows": null,
            "grid_column": null,
            "grid_gap": null,
            "grid_row": null,
            "grid_template_areas": null,
            "grid_template_columns": null,
            "grid_template_rows": null,
            "height": null,
            "justify_content": null,
            "justify_items": null,
            "left": null,
            "margin": null,
            "max_height": null,
            "max_width": null,
            "min_height": null,
            "min_width": null,
            "object_fit": null,
            "object_position": null,
            "order": null,
            "overflow": null,
            "overflow_x": null,
            "overflow_y": null,
            "padding": null,
            "right": null,
            "top": null,
            "visibility": null,
            "width": null
          }
        },
        "0ef34383a16d4a038c51c87f7519527d": {
          "model_module": "@jupyter-widgets/controls",
          "model_module_version": "1.5.0",
          "model_name": "DescriptionStyleModel",
          "state": {
            "_model_module": "@jupyter-widgets/controls",
            "_model_module_version": "1.5.0",
            "_model_name": "DescriptionStyleModel",
            "_view_count": null,
            "_view_module": "@jupyter-widgets/base",
            "_view_module_version": "1.2.0",
            "_view_name": "StyleView",
            "description_width": ""
          }
        },
        "0f2b2c012f8c4a05a1bb9da1f59bae40": {
          "model_module": "@jupyter-widgets/controls",
          "model_module_version": "1.5.0",
          "model_name": "ProgressStyleModel",
          "state": {
            "_model_module": "@jupyter-widgets/controls",
            "_model_module_version": "1.5.0",
            "_model_name": "ProgressStyleModel",
            "_view_count": null,
            "_view_module": "@jupyter-widgets/base",
            "_view_module_version": "1.2.0",
            "_view_name": "StyleView",
            "bar_color": null,
            "description_width": ""
          }
        },
        "11827c7f99e74c20a78118439c305ea1": {
          "model_module": "@jupyter-widgets/controls",
          "model_module_version": "1.5.0",
          "model_name": "DescriptionStyleModel",
          "state": {
            "_model_module": "@jupyter-widgets/controls",
            "_model_module_version": "1.5.0",
            "_model_name": "DescriptionStyleModel",
            "_view_count": null,
            "_view_module": "@jupyter-widgets/base",
            "_view_module_version": "1.2.0",
            "_view_name": "StyleView",
            "description_width": ""
          }
        },
        "1189270d810e4f779ce3a0d5b95268ae": {
          "model_module": "@jupyter-widgets/base",
          "model_module_version": "1.2.0",
          "model_name": "LayoutModel",
          "state": {
            "_model_module": "@jupyter-widgets/base",
            "_model_module_version": "1.2.0",
            "_model_name": "LayoutModel",
            "_view_count": null,
            "_view_module": "@jupyter-widgets/base",
            "_view_module_version": "1.2.0",
            "_view_name": "LayoutView",
            "align_content": null,
            "align_items": null,
            "align_self": null,
            "border": null,
            "bottom": null,
            "display": null,
            "flex": null,
            "flex_flow": null,
            "grid_area": null,
            "grid_auto_columns": null,
            "grid_auto_flow": null,
            "grid_auto_rows": null,
            "grid_column": null,
            "grid_gap": null,
            "grid_row": null,
            "grid_template_areas": null,
            "grid_template_columns": null,
            "grid_template_rows": null,
            "height": null,
            "justify_content": null,
            "justify_items": null,
            "left": null,
            "margin": null,
            "max_height": null,
            "max_width": null,
            "min_height": null,
            "min_width": null,
            "object_fit": null,
            "object_position": null,
            "order": null,
            "overflow": null,
            "overflow_x": null,
            "overflow_y": null,
            "padding": null,
            "right": null,
            "top": null,
            "visibility": null,
            "width": null
          }
        },
        "120a4d06e7e24a66b2387220ac64318f": {
          "model_module": "@jupyter-widgets/base",
          "model_module_version": "1.2.0",
          "model_name": "LayoutModel",
          "state": {
            "_model_module": "@jupyter-widgets/base",
            "_model_module_version": "1.2.0",
            "_model_name": "LayoutModel",
            "_view_count": null,
            "_view_module": "@jupyter-widgets/base",
            "_view_module_version": "1.2.0",
            "_view_name": "LayoutView",
            "align_content": null,
            "align_items": null,
            "align_self": null,
            "border": null,
            "bottom": null,
            "display": null,
            "flex": null,
            "flex_flow": null,
            "grid_area": null,
            "grid_auto_columns": null,
            "grid_auto_flow": null,
            "grid_auto_rows": null,
            "grid_column": null,
            "grid_gap": null,
            "grid_row": null,
            "grid_template_areas": null,
            "grid_template_columns": null,
            "grid_template_rows": null,
            "height": null,
            "justify_content": null,
            "justify_items": null,
            "left": null,
            "margin": null,
            "max_height": null,
            "max_width": null,
            "min_height": null,
            "min_width": null,
            "object_fit": null,
            "object_position": null,
            "order": null,
            "overflow": null,
            "overflow_x": null,
            "overflow_y": null,
            "padding": null,
            "right": null,
            "top": null,
            "visibility": null,
            "width": null
          }
        },
        "127d5132646c421ca6d9fe174cc798f2": {
          "model_module": "@jupyter-widgets/base",
          "model_module_version": "1.2.0",
          "model_name": "LayoutModel",
          "state": {
            "_model_module": "@jupyter-widgets/base",
            "_model_module_version": "1.2.0",
            "_model_name": "LayoutModel",
            "_view_count": null,
            "_view_module": "@jupyter-widgets/base",
            "_view_module_version": "1.2.0",
            "_view_name": "LayoutView",
            "align_content": null,
            "align_items": null,
            "align_self": null,
            "border": null,
            "bottom": null,
            "display": null,
            "flex": null,
            "flex_flow": null,
            "grid_area": null,
            "grid_auto_columns": null,
            "grid_auto_flow": null,
            "grid_auto_rows": null,
            "grid_column": null,
            "grid_gap": null,
            "grid_row": null,
            "grid_template_areas": null,
            "grid_template_columns": null,
            "grid_template_rows": null,
            "height": null,
            "justify_content": null,
            "justify_items": null,
            "left": null,
            "margin": null,
            "max_height": null,
            "max_width": null,
            "min_height": null,
            "min_width": null,
            "object_fit": null,
            "object_position": null,
            "order": null,
            "overflow": null,
            "overflow_x": null,
            "overflow_y": null,
            "padding": null,
            "right": null,
            "top": null,
            "visibility": null,
            "width": null
          }
        },
        "1294eea1b04b411b845ba1ad05ee2e04": {
          "model_module": "@jupyter-widgets/controls",
          "model_module_version": "1.5.0",
          "model_name": "HTMLModel",
          "state": {
            "_dom_classes": [],
            "_model_module": "@jupyter-widgets/controls",
            "_model_module_version": "1.5.0",
            "_model_name": "HTMLModel",
            "_view_count": null,
            "_view_module": "@jupyter-widgets/controls",
            "_view_module_version": "1.5.0",
            "_view_name": "HTMLView",
            "description": "",
            "description_tooltip": null,
            "layout": "IPY_MODEL_710d758d33a14aba81c942cbfd226d80",
            "placeholder": "​",
            "style": "IPY_MODEL_5293cbc1a6e54601b1e013588805fbf8",
            "value": "100%"
          }
        },
        "132378c182b74590836947f4da6af59e": {
          "model_module": "@jupyter-widgets/controls",
          "model_module_version": "1.5.0",
          "model_name": "HBoxModel",
          "state": {
            "_dom_classes": [],
            "_model_module": "@jupyter-widgets/controls",
            "_model_module_version": "1.5.0",
            "_model_name": "HBoxModel",
            "_view_count": null,
            "_view_module": "@jupyter-widgets/controls",
            "_view_module_version": "1.5.0",
            "_view_name": "HBoxView",
            "box_style": "",
            "children": [
              "IPY_MODEL_f52fab14e2464cc6beb7e3a34cde94d7",
              "IPY_MODEL_7b1121a6cd1c43ba9d79e668410e6556",
              "IPY_MODEL_4ec2875ff3884104973dfa4245cb320b"
            ],
            "layout": "IPY_MODEL_5422ef592999426e82ed64a2ec15eff9"
          }
        },
        "13f0ee857a644eb4b16b2a9430669c85": {
          "model_module": "@jupyter-widgets/base",
          "model_module_version": "1.2.0",
          "model_name": "LayoutModel",
          "state": {
            "_model_module": "@jupyter-widgets/base",
            "_model_module_version": "1.2.0",
            "_model_name": "LayoutModel",
            "_view_count": null,
            "_view_module": "@jupyter-widgets/base",
            "_view_module_version": "1.2.0",
            "_view_name": "LayoutView",
            "align_content": null,
            "align_items": null,
            "align_self": null,
            "border": null,
            "bottom": null,
            "display": null,
            "flex": null,
            "flex_flow": null,
            "grid_area": null,
            "grid_auto_columns": null,
            "grid_auto_flow": null,
            "grid_auto_rows": null,
            "grid_column": null,
            "grid_gap": null,
            "grid_row": null,
            "grid_template_areas": null,
            "grid_template_columns": null,
            "grid_template_rows": null,
            "height": null,
            "justify_content": null,
            "justify_items": null,
            "left": null,
            "margin": null,
            "max_height": null,
            "max_width": null,
            "min_height": null,
            "min_width": null,
            "object_fit": null,
            "object_position": null,
            "order": null,
            "overflow": null,
            "overflow_x": null,
            "overflow_y": null,
            "padding": null,
            "right": null,
            "top": null,
            "visibility": null,
            "width": null
          }
        },
        "141a4d4182af486f98da309dc7322d5f": {
          "model_module": "@jupyter-widgets/controls",
          "model_module_version": "1.5.0",
          "model_name": "FloatProgressModel",
          "state": {
            "_dom_classes": [],
            "_model_module": "@jupyter-widgets/controls",
            "_model_module_version": "1.5.0",
            "_model_name": "FloatProgressModel",
            "_view_count": null,
            "_view_module": "@jupyter-widgets/controls",
            "_view_module_version": "1.5.0",
            "_view_name": "ProgressView",
            "bar_style": "success",
            "description": "",
            "description_tooltip": null,
            "layout": "IPY_MODEL_50e32e277b9a4782a2dd411fa38b87cb",
            "max": 179,
            "min": 0,
            "orientation": "horizontal",
            "style": "IPY_MODEL_84668293d8c3478f94334c34b32165d0",
            "value": 179
          }
        },
        "1431a07331bb4b07a12e822d833fcbbe": {
          "model_module": "@jupyter-widgets/base",
          "model_module_version": "1.2.0",
          "model_name": "LayoutModel",
          "state": {
            "_model_module": "@jupyter-widgets/base",
            "_model_module_version": "1.2.0",
            "_model_name": "LayoutModel",
            "_view_count": null,
            "_view_module": "@jupyter-widgets/base",
            "_view_module_version": "1.2.0",
            "_view_name": "LayoutView",
            "align_content": null,
            "align_items": null,
            "align_self": null,
            "border": null,
            "bottom": null,
            "display": null,
            "flex": null,
            "flex_flow": null,
            "grid_area": null,
            "grid_auto_columns": null,
            "grid_auto_flow": null,
            "grid_auto_rows": null,
            "grid_column": null,
            "grid_gap": null,
            "grid_row": null,
            "grid_template_areas": null,
            "grid_template_columns": null,
            "grid_template_rows": null,
            "height": null,
            "justify_content": null,
            "justify_items": null,
            "left": null,
            "margin": null,
            "max_height": null,
            "max_width": null,
            "min_height": null,
            "min_width": null,
            "object_fit": null,
            "object_position": null,
            "order": null,
            "overflow": null,
            "overflow_x": null,
            "overflow_y": null,
            "padding": null,
            "right": null,
            "top": null,
            "visibility": null,
            "width": null
          }
        },
        "14655cff00414ceb8bfa5c8d75615f99": {
          "model_module": "@jupyter-widgets/controls",
          "model_module_version": "1.5.0",
          "model_name": "DescriptionStyleModel",
          "state": {
            "_model_module": "@jupyter-widgets/controls",
            "_model_module_version": "1.5.0",
            "_model_name": "DescriptionStyleModel",
            "_view_count": null,
            "_view_module": "@jupyter-widgets/base",
            "_view_module_version": "1.2.0",
            "_view_name": "StyleView",
            "description_width": ""
          }
        },
        "14b570547d274aab87a03ce126a9cc87": {
          "model_module": "@jupyter-widgets/controls",
          "model_module_version": "1.5.0",
          "model_name": "DescriptionStyleModel",
          "state": {
            "_model_module": "@jupyter-widgets/controls",
            "_model_module_version": "1.5.0",
            "_model_name": "DescriptionStyleModel",
            "_view_count": null,
            "_view_module": "@jupyter-widgets/base",
            "_view_module_version": "1.2.0",
            "_view_name": "StyleView",
            "description_width": ""
          }
        },
        "1546e288ee21490f913c2ec785c99df3": {
          "model_module": "@jupyter-widgets/controls",
          "model_module_version": "1.5.0",
          "model_name": "HTMLModel",
          "state": {
            "_dom_classes": [],
            "_model_module": "@jupyter-widgets/controls",
            "_model_module_version": "1.5.0",
            "_model_name": "HTMLModel",
            "_view_count": null,
            "_view_module": "@jupyter-widgets/controls",
            "_view_module_version": "1.5.0",
            "_view_name": "HTMLView",
            "description": "",
            "description_tooltip": null,
            "layout": "IPY_MODEL_da9a9bf99f8f4548a27fb88b78ffdde4",
            "placeholder": "​",
            "style": "IPY_MODEL_54d2768974e74c21af41f89812e43972",
            "value": " 452M/452M [00:27&lt;00:00, 17.5MB/s]"
          }
        },
        "1636c35757aa4ec2a8e07fa83016e031": {
          "model_module": "@jupyter-widgets/controls",
          "model_module_version": "1.5.0",
          "model_name": "FloatProgressModel",
          "state": {
            "_dom_classes": [],
            "_model_module": "@jupyter-widgets/controls",
            "_model_module_version": "1.5.0",
            "_model_name": "FloatProgressModel",
            "_view_count": null,
            "_view_module": "@jupyter-widgets/controls",
            "_view_module_version": "1.5.0",
            "_view_name": "ProgressView",
            "bar_style": "success",
            "description": "",
            "description_tooltip": null,
            "layout": "IPY_MODEL_1189270d810e4f779ce3a0d5b95268ae",
            "max": 1961828,
            "min": 0,
            "orientation": "horizontal",
            "style": "IPY_MODEL_b3393eb748544e079bebf78006d8f3b7",
            "value": 1961828
          }
        },
        "16499644b7ac4b0ebf25a519a9831ea3": {
          "model_module": "@jupyter-widgets/controls",
          "model_module_version": "1.5.0",
          "model_name": "HTMLModel",
          "state": {
            "_dom_classes": [],
            "_model_module": "@jupyter-widgets/controls",
            "_model_module_version": "1.5.0",
            "_model_name": "HTMLModel",
            "_view_count": null,
            "_view_module": "@jupyter-widgets/controls",
            "_view_module_version": "1.5.0",
            "_view_name": "HTMLView",
            "description": "",
            "description_tooltip": null,
            "layout": "IPY_MODEL_54f5607bb7f34c8293be873d32f3b887",
            "placeholder": "​",
            "style": "IPY_MODEL_f4cddc8b0551437a860b40be14f87adf",
            "value": " 0/186 [00:00&lt;?, ?it/s]"
          }
        },
        "18ac8beb68f9495196c78406f96b4da7": {
          "model_module": "@jupyter-widgets/controls",
          "model_module_version": "1.5.0",
          "model_name": "FloatProgressModel",
          "state": {
            "_dom_classes": [],
            "_model_module": "@jupyter-widgets/controls",
            "_model_module_version": "1.5.0",
            "_model_name": "FloatProgressModel",
            "_view_count": null,
            "_view_module": "@jupyter-widgets/controls",
            "_view_module_version": "1.5.0",
            "_view_name": "ProgressView",
            "bar_style": "success",
            "description": "",
            "description_tooltip": null,
            "layout": "IPY_MODEL_47ccae49260f45749a3d3312abe83e6d",
            "max": 77,
            "min": 0,
            "orientation": "horizontal",
            "style": "IPY_MODEL_def027db2206442bb988d5821b3597a3",
            "value": 77
          }
        },
        "18b47556f2b1449fa41336b372e62951": {
          "model_module": "@jupyter-widgets/base",
          "model_module_version": "1.2.0",
          "model_name": "LayoutModel",
          "state": {
            "_model_module": "@jupyter-widgets/base",
            "_model_module_version": "1.2.0",
            "_model_name": "LayoutModel",
            "_view_count": null,
            "_view_module": "@jupyter-widgets/base",
            "_view_module_version": "1.2.0",
            "_view_name": "LayoutView",
            "align_content": null,
            "align_items": null,
            "align_self": null,
            "border": null,
            "bottom": null,
            "display": null,
            "flex": null,
            "flex_flow": null,
            "grid_area": null,
            "grid_auto_columns": null,
            "grid_auto_flow": null,
            "grid_auto_rows": null,
            "grid_column": null,
            "grid_gap": null,
            "grid_row": null,
            "grid_template_areas": null,
            "grid_template_columns": null,
            "grid_template_rows": null,
            "height": null,
            "justify_content": null,
            "justify_items": null,
            "left": null,
            "margin": null,
            "max_height": null,
            "max_width": null,
            "min_height": null,
            "min_width": null,
            "object_fit": null,
            "object_position": null,
            "order": null,
            "overflow": null,
            "overflow_x": null,
            "overflow_y": null,
            "padding": null,
            "right": null,
            "top": null,
            "visibility": null,
            "width": null
          }
        },
        "18c59aa2624d407180194a668cf3c00e": {
          "model_module": "@jupyter-widgets/base",
          "model_module_version": "1.2.0",
          "model_name": "LayoutModel",
          "state": {
            "_model_module": "@jupyter-widgets/base",
            "_model_module_version": "1.2.0",
            "_model_name": "LayoutModel",
            "_view_count": null,
            "_view_module": "@jupyter-widgets/base",
            "_view_module_version": "1.2.0",
            "_view_name": "LayoutView",
            "align_content": null,
            "align_items": null,
            "align_self": null,
            "border": null,
            "bottom": null,
            "display": null,
            "flex": null,
            "flex_flow": null,
            "grid_area": null,
            "grid_auto_columns": null,
            "grid_auto_flow": null,
            "grid_auto_rows": null,
            "grid_column": null,
            "grid_gap": null,
            "grid_row": null,
            "grid_template_areas": null,
            "grid_template_columns": null,
            "grid_template_rows": null,
            "height": null,
            "justify_content": null,
            "justify_items": null,
            "left": null,
            "margin": null,
            "max_height": null,
            "max_width": null,
            "min_height": null,
            "min_width": null,
            "object_fit": null,
            "object_position": null,
            "order": null,
            "overflow": null,
            "overflow_x": null,
            "overflow_y": null,
            "padding": null,
            "right": null,
            "top": null,
            "visibility": null,
            "width": null
          }
        },
        "19e6e77bdb764005995524ce5bbf65a4": {
          "model_module": "@jupyter-widgets/base",
          "model_module_version": "1.2.0",
          "model_name": "LayoutModel",
          "state": {
            "_model_module": "@jupyter-widgets/base",
            "_model_module_version": "1.2.0",
            "_model_name": "LayoutModel",
            "_view_count": null,
            "_view_module": "@jupyter-widgets/base",
            "_view_module_version": "1.2.0",
            "_view_name": "LayoutView",
            "align_content": null,
            "align_items": null,
            "align_self": null,
            "border": null,
            "bottom": null,
            "display": null,
            "flex": null,
            "flex_flow": null,
            "grid_area": null,
            "grid_auto_columns": null,
            "grid_auto_flow": null,
            "grid_auto_rows": null,
            "grid_column": null,
            "grid_gap": null,
            "grid_row": null,
            "grid_template_areas": null,
            "grid_template_columns": null,
            "grid_template_rows": null,
            "height": null,
            "justify_content": null,
            "justify_items": null,
            "left": null,
            "margin": null,
            "max_height": null,
            "max_width": null,
            "min_height": null,
            "min_width": null,
            "object_fit": null,
            "object_position": null,
            "order": null,
            "overflow": null,
            "overflow_x": null,
            "overflow_y": null,
            "padding": null,
            "right": null,
            "top": null,
            "visibility": null,
            "width": null
          }
        },
        "1a86df6494784b39b044f2bef571b666": {
          "model_module": "@jupyter-widgets/base",
          "model_module_version": "1.2.0",
          "model_name": "LayoutModel",
          "state": {
            "_model_module": "@jupyter-widgets/base",
            "_model_module_version": "1.2.0",
            "_model_name": "LayoutModel",
            "_view_count": null,
            "_view_module": "@jupyter-widgets/base",
            "_view_module_version": "1.2.0",
            "_view_name": "LayoutView",
            "align_content": null,
            "align_items": null,
            "align_self": null,
            "border": null,
            "bottom": null,
            "display": null,
            "flex": null,
            "flex_flow": null,
            "grid_area": null,
            "grid_auto_columns": null,
            "grid_auto_flow": null,
            "grid_auto_rows": null,
            "grid_column": null,
            "grid_gap": null,
            "grid_row": null,
            "grid_template_areas": null,
            "grid_template_columns": null,
            "grid_template_rows": null,
            "height": null,
            "justify_content": null,
            "justify_items": null,
            "left": null,
            "margin": null,
            "max_height": null,
            "max_width": null,
            "min_height": null,
            "min_width": null,
            "object_fit": null,
            "object_position": null,
            "order": null,
            "overflow": null,
            "overflow_x": null,
            "overflow_y": null,
            "padding": null,
            "right": null,
            "top": null,
            "visibility": null,
            "width": null
          }
        },
        "1ab61661d6f04ca7a566151eb93a4e50": {
          "model_module": "@jupyter-widgets/base",
          "model_module_version": "1.2.0",
          "model_name": "LayoutModel",
          "state": {
            "_model_module": "@jupyter-widgets/base",
            "_model_module_version": "1.2.0",
            "_model_name": "LayoutModel",
            "_view_count": null,
            "_view_module": "@jupyter-widgets/base",
            "_view_module_version": "1.2.0",
            "_view_name": "LayoutView",
            "align_content": null,
            "align_items": null,
            "align_self": null,
            "border": null,
            "bottom": null,
            "display": null,
            "flex": null,
            "flex_flow": null,
            "grid_area": null,
            "grid_auto_columns": null,
            "grid_auto_flow": null,
            "grid_auto_rows": null,
            "grid_column": null,
            "grid_gap": null,
            "grid_row": null,
            "grid_template_areas": null,
            "grid_template_columns": null,
            "grid_template_rows": null,
            "height": null,
            "justify_content": null,
            "justify_items": null,
            "left": null,
            "margin": null,
            "max_height": null,
            "max_width": null,
            "min_height": null,
            "min_width": null,
            "object_fit": null,
            "object_position": null,
            "order": null,
            "overflow": null,
            "overflow_x": null,
            "overflow_y": null,
            "padding": null,
            "right": null,
            "top": null,
            "visibility": null,
            "width": null
          }
        },
        "1d1fc98378014ddc91bfb5f913b68b2f": {
          "model_module": "@jupyter-widgets/base",
          "model_module_version": "1.2.0",
          "model_name": "LayoutModel",
          "state": {
            "_model_module": "@jupyter-widgets/base",
            "_model_module_version": "1.2.0",
            "_model_name": "LayoutModel",
            "_view_count": null,
            "_view_module": "@jupyter-widgets/base",
            "_view_module_version": "1.2.0",
            "_view_name": "LayoutView",
            "align_content": null,
            "align_items": null,
            "align_self": null,
            "border": null,
            "bottom": null,
            "display": null,
            "flex": null,
            "flex_flow": null,
            "grid_area": null,
            "grid_auto_columns": null,
            "grid_auto_flow": null,
            "grid_auto_rows": null,
            "grid_column": null,
            "grid_gap": null,
            "grid_row": null,
            "grid_template_areas": null,
            "grid_template_columns": null,
            "grid_template_rows": null,
            "height": null,
            "justify_content": null,
            "justify_items": null,
            "left": null,
            "margin": null,
            "max_height": null,
            "max_width": null,
            "min_height": null,
            "min_width": null,
            "object_fit": null,
            "object_position": null,
            "order": null,
            "overflow": null,
            "overflow_x": null,
            "overflow_y": null,
            "padding": null,
            "right": null,
            "top": null,
            "visibility": null,
            "width": null
          }
        },
        "1e428e381cb441d9bd3cd20b0d1f68b6": {
          "model_module": "@jupyter-widgets/base",
          "model_module_version": "1.2.0",
          "model_name": "LayoutModel",
          "state": {
            "_model_module": "@jupyter-widgets/base",
            "_model_module_version": "1.2.0",
            "_model_name": "LayoutModel",
            "_view_count": null,
            "_view_module": "@jupyter-widgets/base",
            "_view_module_version": "1.2.0",
            "_view_name": "LayoutView",
            "align_content": null,
            "align_items": null,
            "align_self": null,
            "border": null,
            "bottom": null,
            "display": null,
            "flex": null,
            "flex_flow": null,
            "grid_area": null,
            "grid_auto_columns": null,
            "grid_auto_flow": null,
            "grid_auto_rows": null,
            "grid_column": null,
            "grid_gap": null,
            "grid_row": null,
            "grid_template_areas": null,
            "grid_template_columns": null,
            "grid_template_rows": null,
            "height": null,
            "justify_content": null,
            "justify_items": null,
            "left": null,
            "margin": null,
            "max_height": null,
            "max_width": null,
            "min_height": null,
            "min_width": null,
            "object_fit": null,
            "object_position": null,
            "order": null,
            "overflow": null,
            "overflow_x": null,
            "overflow_y": null,
            "padding": null,
            "right": null,
            "top": null,
            "visibility": null,
            "width": null
          }
        },
        "1f1e2649889349d5981fd4f9dbead129": {
          "model_module": "@jupyter-widgets/controls",
          "model_module_version": "1.5.0",
          "model_name": "HTMLModel",
          "state": {
            "_dom_classes": [],
            "_model_module": "@jupyter-widgets/controls",
            "_model_module_version": "1.5.0",
            "_model_name": "HTMLModel",
            "_view_count": null,
            "_view_module": "@jupyter-widgets/controls",
            "_view_module_version": "1.5.0",
            "_view_name": "HTMLView",
            "description": "",
            "description_tooltip": null,
            "layout": "IPY_MODEL_daa7e79aace648f09304882e34bd5044",
            "placeholder": "​",
            "style": "IPY_MODEL_94d8e9db6d8145fea83002449eb1e5f7",
            "value": "Downloading pytorch_model.bin: 100%"
          }
        },
        "20c6632931c34808b53ac0c6378c5c11": {
          "model_module": "@jupyter-widgets/controls",
          "model_module_version": "1.5.0",
          "model_name": "HBoxModel",
          "state": {
            "_dom_classes": [],
            "_model_module": "@jupyter-widgets/controls",
            "_model_module_version": "1.5.0",
            "_model_name": "HBoxModel",
            "_view_count": null,
            "_view_module": "@jupyter-widgets/controls",
            "_view_module_version": "1.5.0",
            "_view_name": "HBoxView",
            "box_style": "",
            "children": [
              "IPY_MODEL_be907996eb7445e28599a63c0e91909e",
              "IPY_MODEL_89ebf6e11ca0400c9bf296f662c2e2af",
              "IPY_MODEL_680ce1736e634517a0555203cc206a0a"
            ],
            "layout": "IPY_MODEL_69176ea61bfc44178fbc2dce2fe0b6b0"
          }
        },
        "20cacc9945714517a59b383fdf55119d": {
          "model_module": "@jupyter-widgets/base",
          "model_module_version": "1.2.0",
          "model_name": "LayoutModel",
          "state": {
            "_model_module": "@jupyter-widgets/base",
            "_model_module_version": "1.2.0",
            "_model_name": "LayoutModel",
            "_view_count": null,
            "_view_module": "@jupyter-widgets/base",
            "_view_module_version": "1.2.0",
            "_view_name": "LayoutView",
            "align_content": null,
            "align_items": null,
            "align_self": null,
            "border": null,
            "bottom": null,
            "display": null,
            "flex": null,
            "flex_flow": null,
            "grid_area": null,
            "grid_auto_columns": null,
            "grid_auto_flow": null,
            "grid_auto_rows": null,
            "grid_column": null,
            "grid_gap": null,
            "grid_row": null,
            "grid_template_areas": null,
            "grid_template_columns": null,
            "grid_template_rows": null,
            "height": null,
            "justify_content": null,
            "justify_items": null,
            "left": null,
            "margin": null,
            "max_height": null,
            "max_width": null,
            "min_height": null,
            "min_width": null,
            "object_fit": null,
            "object_position": null,
            "order": null,
            "overflow": null,
            "overflow_x": null,
            "overflow_y": null,
            "padding": null,
            "right": null,
            "top": null,
            "visibility": null,
            "width": null
          }
        },
        "2348ab5c635e44728f6d44b65bc56684": {
          "model_module": "@jupyter-widgets/controls",
          "model_module_version": "1.5.0",
          "model_name": "DescriptionStyleModel",
          "state": {
            "_model_module": "@jupyter-widgets/controls",
            "_model_module_version": "1.5.0",
            "_model_name": "DescriptionStyleModel",
            "_view_count": null,
            "_view_module": "@jupyter-widgets/base",
            "_view_module_version": "1.2.0",
            "_view_name": "StyleView",
            "description_width": ""
          }
        },
        "23ea3218444447259ef15de4d469afc4": {
          "model_module": "@jupyter-widgets/controls",
          "model_module_version": "1.5.0",
          "model_name": "HBoxModel",
          "state": {
            "_dom_classes": [],
            "_model_module": "@jupyter-widgets/controls",
            "_model_module_version": "1.5.0",
            "_model_name": "HBoxModel",
            "_view_count": null,
            "_view_module": "@jupyter-widgets/controls",
            "_view_module_version": "1.5.0",
            "_view_name": "HBoxView",
            "box_style": "",
            "children": [
              "IPY_MODEL_007aea4f10ce446297a083b9fb668a27",
              "IPY_MODEL_8ffdacd7a0504101b878e9356e060c84",
              "IPY_MODEL_97b2761221ac4235bd89c1dccdf6ae61"
            ],
            "layout": "IPY_MODEL_d786e4e6df8e4631be76bcf3bfd6a127"
          }
        },
        "2b3cdf612ae14a6299209e0899a6321b": {
          "model_module": "@jupyter-widgets/controls",
          "model_module_version": "1.5.0",
          "model_name": "HBoxModel",
          "state": {
            "_dom_classes": [],
            "_model_module": "@jupyter-widgets/controls",
            "_model_module_version": "1.5.0",
            "_model_name": "HBoxModel",
            "_view_count": null,
            "_view_module": "@jupyter-widgets/controls",
            "_view_module_version": "1.5.0",
            "_view_name": "HBoxView",
            "box_style": "",
            "children": [
              "IPY_MODEL_5b45d3e6c4134780809333147b6c6169",
              "IPY_MODEL_1636c35757aa4ec2a8e07fa83016e031",
              "IPY_MODEL_469998dfaf6f4a33b81030c3144defe8"
            ],
            "layout": "IPY_MODEL_127d5132646c421ca6d9fe174cc798f2"
          }
        },
        "2dc4b78e1e2b4f29af635446233f212c": {
          "model_module": "@jupyter-widgets/controls",
          "model_module_version": "1.5.0",
          "model_name": "DescriptionStyleModel",
          "state": {
            "_model_module": "@jupyter-widgets/controls",
            "_model_module_version": "1.5.0",
            "_model_name": "DescriptionStyleModel",
            "_view_count": null,
            "_view_module": "@jupyter-widgets/base",
            "_view_module_version": "1.2.0",
            "_view_name": "StyleView",
            "description_width": ""
          }
        },
        "2e0bfe69d3204a16a673dd907cfd0948": {
          "model_module": "@jupyter-widgets/base",
          "model_module_version": "1.2.0",
          "model_name": "LayoutModel",
          "state": {
            "_model_module": "@jupyter-widgets/base",
            "_model_module_version": "1.2.0",
            "_model_name": "LayoutModel",
            "_view_count": null,
            "_view_module": "@jupyter-widgets/base",
            "_view_module_version": "1.2.0",
            "_view_name": "LayoutView",
            "align_content": null,
            "align_items": null,
            "align_self": null,
            "border": null,
            "bottom": null,
            "display": null,
            "flex": null,
            "flex_flow": null,
            "grid_area": null,
            "grid_auto_columns": null,
            "grid_auto_flow": null,
            "grid_auto_rows": null,
            "grid_column": null,
            "grid_gap": null,
            "grid_row": null,
            "grid_template_areas": null,
            "grid_template_columns": null,
            "grid_template_rows": null,
            "height": null,
            "justify_content": null,
            "justify_items": null,
            "left": null,
            "margin": null,
            "max_height": null,
            "max_width": null,
            "min_height": null,
            "min_width": null,
            "object_fit": null,
            "object_position": null,
            "order": null,
            "overflow": null,
            "overflow_x": null,
            "overflow_y": null,
            "padding": null,
            "right": null,
            "top": null,
            "visibility": null,
            "width": null
          }
        },
        "2e497d44d8c34138941a15049caace2d": {
          "model_module": "@jupyter-widgets/base",
          "model_module_version": "1.2.0",
          "model_name": "LayoutModel",
          "state": {
            "_model_module": "@jupyter-widgets/base",
            "_model_module_version": "1.2.0",
            "_model_name": "LayoutModel",
            "_view_count": null,
            "_view_module": "@jupyter-widgets/base",
            "_view_module_version": "1.2.0",
            "_view_name": "LayoutView",
            "align_content": null,
            "align_items": null,
            "align_self": null,
            "border": null,
            "bottom": null,
            "display": null,
            "flex": null,
            "flex_flow": null,
            "grid_area": null,
            "grid_auto_columns": null,
            "grid_auto_flow": null,
            "grid_auto_rows": null,
            "grid_column": null,
            "grid_gap": null,
            "grid_row": null,
            "grid_template_areas": null,
            "grid_template_columns": null,
            "grid_template_rows": null,
            "height": null,
            "justify_content": null,
            "justify_items": null,
            "left": null,
            "margin": null,
            "max_height": null,
            "max_width": null,
            "min_height": null,
            "min_width": null,
            "object_fit": null,
            "object_position": null,
            "order": null,
            "overflow": null,
            "overflow_x": null,
            "overflow_y": null,
            "padding": null,
            "right": null,
            "top": null,
            "visibility": null,
            "width": null
          }
        },
        "2ecf857bef024e9c8789101ff2600801": {
          "model_module": "@jupyter-widgets/controls",
          "model_module_version": "1.5.0",
          "model_name": "HTMLModel",
          "state": {
            "_dom_classes": [],
            "_model_module": "@jupyter-widgets/controls",
            "_model_module_version": "1.5.0",
            "_model_name": "HTMLModel",
            "_view_count": null,
            "_view_module": "@jupyter-widgets/controls",
            "_view_module_version": "1.5.0",
            "_view_name": "HTMLView",
            "description": "",
            "description_tooltip": null,
            "layout": "IPY_MODEL_409f2ca068ad4d2a8c513865e09a0d0d",
            "placeholder": "​",
            "style": "IPY_MODEL_ac85df5f28094b0884eabe6e2dad8b2c",
            "value": "100%"
          }
        },
        "2fa80d569ab94f42835b0f1cf881169f": {
          "model_module": "@jupyter-widgets/controls",
          "model_module_version": "1.5.0",
          "model_name": "HBoxModel",
          "state": {
            "_dom_classes": [],
            "_model_module": "@jupyter-widgets/controls",
            "_model_module_version": "1.5.0",
            "_model_name": "HBoxModel",
            "_view_count": null,
            "_view_module": "@jupyter-widgets/controls",
            "_view_module_version": "1.5.0",
            "_view_name": "HBoxView",
            "box_style": "",
            "children": [
              "IPY_MODEL_dbf6e0ebfd35440da359ae813543aee6",
              "IPY_MODEL_bba3dc832979430bac13f186f043f11c",
              "IPY_MODEL_42a91aa402f8416690546b5cf6394c1b"
            ],
            "layout": "IPY_MODEL_be4df389510b42f089ab9f37a716bcb8"
          }
        },
        "300e904ebab246f1a1ba0732d8a52bf0": {
          "model_module": "@jupyter-widgets/base",
          "model_module_version": "1.2.0",
          "model_name": "LayoutModel",
          "state": {
            "_model_module": "@jupyter-widgets/base",
            "_model_module_version": "1.2.0",
            "_model_name": "LayoutModel",
            "_view_count": null,
            "_view_module": "@jupyter-widgets/base",
            "_view_module_version": "1.2.0",
            "_view_name": "LayoutView",
            "align_content": null,
            "align_items": null,
            "align_self": null,
            "border": null,
            "bottom": null,
            "display": null,
            "flex": null,
            "flex_flow": null,
            "grid_area": null,
            "grid_auto_columns": null,
            "grid_auto_flow": null,
            "grid_auto_rows": null,
            "grid_column": null,
            "grid_gap": null,
            "grid_row": null,
            "grid_template_areas": null,
            "grid_template_columns": null,
            "grid_template_rows": null,
            "height": null,
            "justify_content": null,
            "justify_items": null,
            "left": null,
            "margin": null,
            "max_height": null,
            "max_width": null,
            "min_height": null,
            "min_width": null,
            "object_fit": null,
            "object_position": null,
            "order": null,
            "overflow": null,
            "overflow_x": null,
            "overflow_y": null,
            "padding": null,
            "right": null,
            "top": null,
            "visibility": null,
            "width": null
          }
        },
        "30dc7c2f5db748e486c43a2fd8a22a5e": {
          "model_module": "@jupyter-widgets/controls",
          "model_module_version": "1.5.0",
          "model_name": "FloatProgressModel",
          "state": {
            "_dom_classes": [],
            "_model_module": "@jupyter-widgets/controls",
            "_model_module_version": "1.5.0",
            "_model_name": "FloatProgressModel",
            "_view_count": null,
            "_view_module": "@jupyter-widgets/controls",
            "_view_module_version": "1.5.0",
            "_view_name": "ProgressView",
            "bar_style": "success",
            "description": "",
            "description_tooltip": null,
            "layout": "IPY_MODEL_640feb21af634e36bf4f3e2bdc29771f",
            "max": 995526,
            "min": 0,
            "orientation": "horizontal",
            "style": "IPY_MODEL_9b8997b333394b24b6f42d042bebdb23",
            "value": 995526
          }
        },
        "3139c307ba5e4a338a17f34811a32f5d": {
          "model_module": "@jupyter-widgets/controls",
          "model_module_version": "1.5.0",
          "model_name": "FloatProgressModel",
          "state": {
            "_dom_classes": [],
            "_model_module": "@jupyter-widgets/controls",
            "_model_module_version": "1.5.0",
            "_model_name": "FloatProgressModel",
            "_view_count": null,
            "_view_module": "@jupyter-widgets/controls",
            "_view_module_version": "1.5.0",
            "_view_name": "ProgressView",
            "bar_style": "success",
            "description": "",
            "description_tooltip": null,
            "layout": "IPY_MODEL_60368b0f17714e96a6e86fb4ce423b0e",
            "max": 77,
            "min": 0,
            "orientation": "horizontal",
            "style": "IPY_MODEL_636a1c92559b444f9275fe0811b2470e",
            "value": 77
          }
        },
        "31b910847764476ba4a6d2e1489f89ce": {
          "model_module": "@jupyter-widgets/controls",
          "model_module_version": "1.5.0",
          "model_name": "ProgressStyleModel",
          "state": {
            "_model_module": "@jupyter-widgets/controls",
            "_model_module_version": "1.5.0",
            "_model_name": "ProgressStyleModel",
            "_view_count": null,
            "_view_module": "@jupyter-widgets/base",
            "_view_module_version": "1.2.0",
            "_view_name": "StyleView",
            "bar_color": null,
            "description_width": ""
          }
        },
        "3238b43c839b490bb44f2fbbd6838aab": {
          "model_module": "@jupyter-widgets/controls",
          "model_module_version": "1.5.0",
          "model_name": "HTMLModel",
          "state": {
            "_dom_classes": [],
            "_model_module": "@jupyter-widgets/controls",
            "_model_module_version": "1.5.0",
            "_model_name": "HTMLModel",
            "_view_count": null,
            "_view_module": "@jupyter-widgets/controls",
            "_view_module_version": "1.5.0",
            "_view_name": "HTMLView",
            "description": "",
            "description_tooltip": null,
            "layout": "IPY_MODEL_92a0b465213048adb92f017f5e253a8d",
            "placeholder": "​",
            "style": "IPY_MODEL_ccc730bc182e4fff8cabaad12e202e7e",
            "value": "100%"
          }
        },
        "330f265b155744dc8edeaefd644ac057": {
          "model_module": "@jupyter-widgets/controls",
          "model_module_version": "1.5.0",
          "model_name": "HTMLModel",
          "state": {
            "_dom_classes": [],
            "_model_module": "@jupyter-widgets/controls",
            "_model_module_version": "1.5.0",
            "_model_name": "HTMLModel",
            "_view_count": null,
            "_view_module": "@jupyter-widgets/controls",
            "_view_module_version": "1.5.0",
            "_view_name": "HTMLView",
            "description": "",
            "description_tooltip": null,
            "layout": "IPY_MODEL_18c59aa2624d407180194a668cf3c00e",
            "placeholder": "​",
            "style": "IPY_MODEL_e8d9cd6b3bfa433e99f4cd94bf33db52",
            "value": " 179/179 [01:08&lt;00:00,  3.26it/s]"
          }
        },
        "338630463d4647babc158ca9dc358122": {
          "model_module": "@jupyter-widgets/controls",
          "model_module_version": "1.5.0",
          "model_name": "DescriptionStyleModel",
          "state": {
            "_model_module": "@jupyter-widgets/controls",
            "_model_module_version": "1.5.0",
            "_model_name": "DescriptionStyleModel",
            "_view_count": null,
            "_view_module": "@jupyter-widgets/base",
            "_view_module_version": "1.2.0",
            "_view_name": "StyleView",
            "description_width": ""
          }
        },
        "348abf79b85547969740eb47f3b9a593": {
          "model_module": "@jupyter-widgets/controls",
          "model_module_version": "1.5.0",
          "model_name": "FloatProgressModel",
          "state": {
            "_dom_classes": [],
            "_model_module": "@jupyter-widgets/controls",
            "_model_module_version": "1.5.0",
            "_model_name": "FloatProgressModel",
            "_view_count": null,
            "_view_module": "@jupyter-widgets/controls",
            "_view_module_version": "1.5.0",
            "_view_name": "ProgressView",
            "bar_style": "success",
            "description": "",
            "description_tooltip": null,
            "layout": "IPY_MODEL_002f5c6738254f089657ff4b4a6faf48",
            "max": 77,
            "min": 0,
            "orientation": "horizontal",
            "style": "IPY_MODEL_aa94dd476c5d41a8b1e4e3291a2d13a1",
            "value": 77
          }
        },
        "3553d3f58fdc4c86961e98d1806166fd": {
          "model_module": "@jupyter-widgets/controls",
          "model_module_version": "1.5.0",
          "model_name": "DescriptionStyleModel",
          "state": {
            "_model_module": "@jupyter-widgets/controls",
            "_model_module_version": "1.5.0",
            "_model_name": "DescriptionStyleModel",
            "_view_count": null,
            "_view_module": "@jupyter-widgets/base",
            "_view_module_version": "1.2.0",
            "_view_name": "StyleView",
            "description_width": ""
          }
        },
        "360bccf94ca54d4380c0825d7e90fc78": {
          "model_module": "@jupyter-widgets/controls",
          "model_module_version": "1.5.0",
          "model_name": "ProgressStyleModel",
          "state": {
            "_model_module": "@jupyter-widgets/controls",
            "_model_module_version": "1.5.0",
            "_model_name": "ProgressStyleModel",
            "_view_count": null,
            "_view_module": "@jupyter-widgets/base",
            "_view_module_version": "1.2.0",
            "_view_name": "StyleView",
            "bar_color": null,
            "description_width": ""
          }
        },
        "3654e8ee5ecf4053bd5c478f19e6b4fb": {
          "model_module": "@jupyter-widgets/controls",
          "model_module_version": "1.5.0",
          "model_name": "HTMLModel",
          "state": {
            "_dom_classes": [],
            "_model_module": "@jupyter-widgets/controls",
            "_model_module_version": "1.5.0",
            "_model_name": "HTMLModel",
            "_view_count": null,
            "_view_module": "@jupyter-widgets/controls",
            "_view_module_version": "1.5.0",
            "_view_name": "HTMLView",
            "description": "",
            "description_tooltip": null,
            "layout": "IPY_MODEL_8f000b83793c4b78a964f155f69816ab",
            "placeholder": "​",
            "style": "IPY_MODEL_d427732673a94fda8546833149660fbb",
            "value": "Downloading: 100%"
          }
        },
        "37686b40e44c41ca9968da3df6ae4b89": {
          "model_module": "@jupyter-widgets/base",
          "model_module_version": "1.2.0",
          "model_name": "LayoutModel",
          "state": {
            "_model_module": "@jupyter-widgets/base",
            "_model_module_version": "1.2.0",
            "_model_name": "LayoutModel",
            "_view_count": null,
            "_view_module": "@jupyter-widgets/base",
            "_view_module_version": "1.2.0",
            "_view_name": "LayoutView",
            "align_content": null,
            "align_items": null,
            "align_self": null,
            "border": null,
            "bottom": null,
            "display": null,
            "flex": null,
            "flex_flow": null,
            "grid_area": null,
            "grid_auto_columns": null,
            "grid_auto_flow": null,
            "grid_auto_rows": null,
            "grid_column": null,
            "grid_gap": null,
            "grid_row": null,
            "grid_template_areas": null,
            "grid_template_columns": null,
            "grid_template_rows": null,
            "height": null,
            "justify_content": null,
            "justify_items": null,
            "left": null,
            "margin": null,
            "max_height": null,
            "max_width": null,
            "min_height": null,
            "min_width": null,
            "object_fit": null,
            "object_position": null,
            "order": null,
            "overflow": null,
            "overflow_x": null,
            "overflow_y": null,
            "padding": null,
            "right": null,
            "top": null,
            "visibility": null,
            "width": null
          }
        },
        "37e0eb2f106b4d0bb9e30d7303b12f41": {
          "model_module": "@jupyter-widgets/controls",
          "model_module_version": "1.5.0",
          "model_name": "HTMLModel",
          "state": {
            "_dom_classes": [],
            "_model_module": "@jupyter-widgets/controls",
            "_model_module_version": "1.5.0",
            "_model_name": "HTMLModel",
            "_view_count": null,
            "_view_module": "@jupyter-widgets/controls",
            "_view_module_version": "1.5.0",
            "_view_name": "HTMLView",
            "description": "",
            "description_tooltip": null,
            "layout": "IPY_MODEL_450c20c122184113ac67fff2e3b695a8",
            "placeholder": "​",
            "style": "IPY_MODEL_f8a512be918f441da317bf3a0ed5360d",
            "value": "100%"
          }
        },
        "387ee2b314d8471182e03a4054d093dd": {
          "model_module": "@jupyter-widgets/base",
          "model_module_version": "1.2.0",
          "model_name": "LayoutModel",
          "state": {
            "_model_module": "@jupyter-widgets/base",
            "_model_module_version": "1.2.0",
            "_model_name": "LayoutModel",
            "_view_count": null,
            "_view_module": "@jupyter-widgets/base",
            "_view_module_version": "1.2.0",
            "_view_name": "LayoutView",
            "align_content": null,
            "align_items": null,
            "align_self": null,
            "border": null,
            "bottom": null,
            "display": null,
            "flex": null,
            "flex_flow": null,
            "grid_area": null,
            "grid_auto_columns": null,
            "grid_auto_flow": null,
            "grid_auto_rows": null,
            "grid_column": null,
            "grid_gap": null,
            "grid_row": null,
            "grid_template_areas": null,
            "grid_template_columns": null,
            "grid_template_rows": null,
            "height": null,
            "justify_content": null,
            "justify_items": null,
            "left": null,
            "margin": null,
            "max_height": null,
            "max_width": null,
            "min_height": null,
            "min_width": null,
            "object_fit": null,
            "object_position": null,
            "order": null,
            "overflow": null,
            "overflow_x": null,
            "overflow_y": null,
            "padding": null,
            "right": null,
            "top": null,
            "visibility": null,
            "width": null
          }
        },
        "38837ca7bde043e3a7a497d31357c0ca": {
          "model_module": "@jupyter-widgets/controls",
          "model_module_version": "1.5.0",
          "model_name": "ProgressStyleModel",
          "state": {
            "_model_module": "@jupyter-widgets/controls",
            "_model_module_version": "1.5.0",
            "_model_name": "ProgressStyleModel",
            "_view_count": null,
            "_view_module": "@jupyter-widgets/base",
            "_view_module_version": "1.2.0",
            "_view_name": "StyleView",
            "bar_color": null,
            "description_width": ""
          }
        },
        "39656ced733141f8a72a0b21c87f0faa": {
          "model_module": "@jupyter-widgets/base",
          "model_module_version": "1.2.0",
          "model_name": "LayoutModel",
          "state": {
            "_model_module": "@jupyter-widgets/base",
            "_model_module_version": "1.2.0",
            "_model_name": "LayoutModel",
            "_view_count": null,
            "_view_module": "@jupyter-widgets/base",
            "_view_module_version": "1.2.0",
            "_view_name": "LayoutView",
            "align_content": null,
            "align_items": null,
            "align_self": null,
            "border": null,
            "bottom": null,
            "display": null,
            "flex": null,
            "flex_flow": null,
            "grid_area": null,
            "grid_auto_columns": null,
            "grid_auto_flow": null,
            "grid_auto_rows": null,
            "grid_column": null,
            "grid_gap": null,
            "grid_row": null,
            "grid_template_areas": null,
            "grid_template_columns": null,
            "grid_template_rows": null,
            "height": null,
            "justify_content": null,
            "justify_items": null,
            "left": null,
            "margin": null,
            "max_height": null,
            "max_width": null,
            "min_height": null,
            "min_width": null,
            "object_fit": null,
            "object_position": null,
            "order": null,
            "overflow": null,
            "overflow_x": null,
            "overflow_y": null,
            "padding": null,
            "right": null,
            "top": null,
            "visibility": null,
            "width": null
          }
        },
        "39a957c1c107447eab28ae1a824c7ea1": {
          "model_module": "@jupyter-widgets/controls",
          "model_module_version": "1.5.0",
          "model_name": "HTMLModel",
          "state": {
            "_dom_classes": [],
            "_model_module": "@jupyter-widgets/controls",
            "_model_module_version": "1.5.0",
            "_model_name": "HTMLModel",
            "_view_count": null,
            "_view_module": "@jupyter-widgets/controls",
            "_view_module_version": "1.5.0",
            "_view_name": "HTMLView",
            "description": "",
            "description_tooltip": null,
            "layout": "IPY_MODEL_a2c4f3b7acd2422ba3f8e0231cbf4dc4",
            "placeholder": "​",
            "style": "IPY_MODEL_14655cff00414ceb8bfa5c8d75615f99",
            "value": " 29.0/29.0 [00:00&lt;00:00, 2.17kB/s]"
          }
        },
        "3c3b42e4cfb746f1b38303bb06d9ef9a": {
          "model_module": "@jupyter-widgets/controls",
          "model_module_version": "1.5.0",
          "model_name": "DescriptionStyleModel",
          "state": {
            "_model_module": "@jupyter-widgets/controls",
            "_model_module_version": "1.5.0",
            "_model_name": "DescriptionStyleModel",
            "_view_count": null,
            "_view_module": "@jupyter-widgets/base",
            "_view_module_version": "1.2.0",
            "_view_name": "StyleView",
            "description_width": ""
          }
        },
        "3d4cb68e68664c8a8db44afc2b787cc6": {
          "model_module": "@jupyter-widgets/base",
          "model_module_version": "1.2.0",
          "model_name": "LayoutModel",
          "state": {
            "_model_module": "@jupyter-widgets/base",
            "_model_module_version": "1.2.0",
            "_model_name": "LayoutModel",
            "_view_count": null,
            "_view_module": "@jupyter-widgets/base",
            "_view_module_version": "1.2.0",
            "_view_name": "LayoutView",
            "align_content": null,
            "align_items": null,
            "align_self": null,
            "border": null,
            "bottom": null,
            "display": null,
            "flex": null,
            "flex_flow": null,
            "grid_area": null,
            "grid_auto_columns": null,
            "grid_auto_flow": null,
            "grid_auto_rows": null,
            "grid_column": null,
            "grid_gap": null,
            "grid_row": null,
            "grid_template_areas": null,
            "grid_template_columns": null,
            "grid_template_rows": null,
            "height": null,
            "justify_content": null,
            "justify_items": null,
            "left": null,
            "margin": null,
            "max_height": null,
            "max_width": null,
            "min_height": null,
            "min_width": null,
            "object_fit": null,
            "object_position": null,
            "order": null,
            "overflow": null,
            "overflow_x": null,
            "overflow_y": null,
            "padding": null,
            "right": null,
            "top": null,
            "visibility": null,
            "width": null
          }
        },
        "3dc983650a564225912acf43c3b0d7b1": {
          "model_module": "@jupyter-widgets/controls",
          "model_module_version": "1.5.0",
          "model_name": "HBoxModel",
          "state": {
            "_dom_classes": [],
            "_model_module": "@jupyter-widgets/controls",
            "_model_module_version": "1.5.0",
            "_model_name": "HBoxModel",
            "_view_count": null,
            "_view_module": "@jupyter-widgets/controls",
            "_view_module_version": "1.5.0",
            "_view_name": "HBoxView",
            "box_style": "",
            "children": [
              "IPY_MODEL_3fe3daec9a8f43d08743fb9e9fea04f5",
              "IPY_MODEL_6076069b88e849efb0ef4b2b30337a3c",
              "IPY_MODEL_e51edf7b68fe443b8e43fb99efabff78"
            ],
            "layout": "IPY_MODEL_83574078ee1147ff9fb9301579b6274f"
          }
        },
        "3de00ded3f5a4443a1c8bde21a8e40b6": {
          "model_module": "@jupyter-widgets/controls",
          "model_module_version": "1.5.0",
          "model_name": "HBoxModel",
          "state": {
            "_dom_classes": [],
            "_model_module": "@jupyter-widgets/controls",
            "_model_module_version": "1.5.0",
            "_model_name": "HBoxModel",
            "_view_count": null,
            "_view_module": "@jupyter-widgets/controls",
            "_view_module_version": "1.5.0",
            "_view_name": "HBoxView",
            "box_style": "",
            "children": [
              "IPY_MODEL_3238b43c839b490bb44f2fbbd6838aab",
              "IPY_MODEL_8162620c609c4676b65160d8473dae3c",
              "IPY_MODEL_330f265b155744dc8edeaefd644ac057"
            ],
            "layout": "IPY_MODEL_a7d11158f01d4c4e99d390d537755cac"
          }
        },
        "3e37a88a2a7248b48f7eaba0599b76df": {
          "model_module": "@jupyter-widgets/base",
          "model_module_version": "1.2.0",
          "model_name": "LayoutModel",
          "state": {
            "_model_module": "@jupyter-widgets/base",
            "_model_module_version": "1.2.0",
            "_model_name": "LayoutModel",
            "_view_count": null,
            "_view_module": "@jupyter-widgets/base",
            "_view_module_version": "1.2.0",
            "_view_name": "LayoutView",
            "align_content": null,
            "align_items": null,
            "align_self": null,
            "border": null,
            "bottom": null,
            "display": null,
            "flex": null,
            "flex_flow": null,
            "grid_area": null,
            "grid_auto_columns": null,
            "grid_auto_flow": null,
            "grid_auto_rows": null,
            "grid_column": null,
            "grid_gap": null,
            "grid_row": null,
            "grid_template_areas": null,
            "grid_template_columns": null,
            "grid_template_rows": null,
            "height": null,
            "justify_content": null,
            "justify_items": null,
            "left": null,
            "margin": null,
            "max_height": null,
            "max_width": null,
            "min_height": null,
            "min_width": null,
            "object_fit": null,
            "object_position": null,
            "order": null,
            "overflow": null,
            "overflow_x": null,
            "overflow_y": null,
            "padding": null,
            "right": null,
            "top": null,
            "visibility": null,
            "width": null
          }
        },
        "3e4f30604ac04cbeb97f131802cc1f58": {
          "model_module": "@jupyter-widgets/controls",
          "model_module_version": "1.5.0",
          "model_name": "HBoxModel",
          "state": {
            "_dom_classes": [],
            "_model_module": "@jupyter-widgets/controls",
            "_model_module_version": "1.5.0",
            "_model_name": "HBoxModel",
            "_view_count": null,
            "_view_module": "@jupyter-widgets/controls",
            "_view_module_version": "1.5.0",
            "_view_name": "HBoxView",
            "box_style": "",
            "children": [
              "IPY_MODEL_c288695e6fc14487a96d0669351ba0ec",
              "IPY_MODEL_d9b23ebc30fb492299995e8328a6e722",
              "IPY_MODEL_62718002675d4b1db659e94a37ffd043"
            ],
            "layout": "IPY_MODEL_a9c57f8332c14f538b3ee5c34c8d8de3"
          }
        },
        "3e75f3a8b6a142ac84a9c16490f55df8": {
          "model_module": "@jupyter-widgets/controls",
          "model_module_version": "1.5.0",
          "model_name": "HTMLModel",
          "state": {
            "_dom_classes": [],
            "_model_module": "@jupyter-widgets/controls",
            "_model_module_version": "1.5.0",
            "_model_name": "HTMLModel",
            "_view_count": null,
            "_view_module": "@jupyter-widgets/controls",
            "_view_module_version": "1.5.0",
            "_view_name": "HTMLView",
            "description": "",
            "description_tooltip": null,
            "layout": "IPY_MODEL_dbcb3f8a3da74660b5440fc83d943556",
            "placeholder": "​",
            "style": "IPY_MODEL_e863e8481626423287cfd726e6455e49",
            "value": "100%"
          }
        },
        "3fe3daec9a8f43d08743fb9e9fea04f5": {
          "model_module": "@jupyter-widgets/controls",
          "model_module_version": "1.5.0",
          "model_name": "HTMLModel",
          "state": {
            "_dom_classes": [],
            "_model_module": "@jupyter-widgets/controls",
            "_model_module_version": "1.5.0",
            "_model_name": "HTMLModel",
            "_view_count": null,
            "_view_module": "@jupyter-widgets/controls",
            "_view_module_version": "1.5.0",
            "_view_name": "HTMLView",
            "description": "",
            "description_tooltip": null,
            "layout": "IPY_MODEL_545aea00e6e94828922caab1d8cefcff",
            "placeholder": "​",
            "style": "IPY_MODEL_b503f0bf65f5452e8678252d53aa50de",
            "value": "100%"
          }
        },
        "40633a37b6d242dcb06a9acf7f1b5082": {
          "model_module": "@jupyter-widgets/base",
          "model_module_version": "1.2.0",
          "model_name": "LayoutModel",
          "state": {
            "_model_module": "@jupyter-widgets/base",
            "_model_module_version": "1.2.0",
            "_model_name": "LayoutModel",
            "_view_count": null,
            "_view_module": "@jupyter-widgets/base",
            "_view_module_version": "1.2.0",
            "_view_name": "LayoutView",
            "align_content": null,
            "align_items": null,
            "align_self": null,
            "border": null,
            "bottom": null,
            "display": null,
            "flex": null,
            "flex_flow": null,
            "grid_area": null,
            "grid_auto_columns": null,
            "grid_auto_flow": null,
            "grid_auto_rows": null,
            "grid_column": null,
            "grid_gap": null,
            "grid_row": null,
            "grid_template_areas": null,
            "grid_template_columns": null,
            "grid_template_rows": null,
            "height": null,
            "justify_content": null,
            "justify_items": null,
            "left": null,
            "margin": null,
            "max_height": null,
            "max_width": null,
            "min_height": null,
            "min_width": null,
            "object_fit": null,
            "object_position": null,
            "order": null,
            "overflow": null,
            "overflow_x": null,
            "overflow_y": null,
            "padding": null,
            "right": null,
            "top": null,
            "visibility": null,
            "width": null
          }
        },
        "409f2ca068ad4d2a8c513865e09a0d0d": {
          "model_module": "@jupyter-widgets/base",
          "model_module_version": "1.2.0",
          "model_name": "LayoutModel",
          "state": {
            "_model_module": "@jupyter-widgets/base",
            "_model_module_version": "1.2.0",
            "_model_name": "LayoutModel",
            "_view_count": null,
            "_view_module": "@jupyter-widgets/base",
            "_view_module_version": "1.2.0",
            "_view_name": "LayoutView",
            "align_content": null,
            "align_items": null,
            "align_self": null,
            "border": null,
            "bottom": null,
            "display": null,
            "flex": null,
            "flex_flow": null,
            "grid_area": null,
            "grid_auto_columns": null,
            "grid_auto_flow": null,
            "grid_auto_rows": null,
            "grid_column": null,
            "grid_gap": null,
            "grid_row": null,
            "grid_template_areas": null,
            "grid_template_columns": null,
            "grid_template_rows": null,
            "height": null,
            "justify_content": null,
            "justify_items": null,
            "left": null,
            "margin": null,
            "max_height": null,
            "max_width": null,
            "min_height": null,
            "min_width": null,
            "object_fit": null,
            "object_position": null,
            "order": null,
            "overflow": null,
            "overflow_x": null,
            "overflow_y": null,
            "padding": null,
            "right": null,
            "top": null,
            "visibility": null,
            "width": null
          }
        },
        "40df0dff5ba54849b219804413990889": {
          "model_module": "@jupyter-widgets/base",
          "model_module_version": "1.2.0",
          "model_name": "LayoutModel",
          "state": {
            "_model_module": "@jupyter-widgets/base",
            "_model_module_version": "1.2.0",
            "_model_name": "LayoutModel",
            "_view_count": null,
            "_view_module": "@jupyter-widgets/base",
            "_view_module_version": "1.2.0",
            "_view_name": "LayoutView",
            "align_content": null,
            "align_items": null,
            "align_self": null,
            "border": null,
            "bottom": null,
            "display": null,
            "flex": null,
            "flex_flow": null,
            "grid_area": null,
            "grid_auto_columns": null,
            "grid_auto_flow": null,
            "grid_auto_rows": null,
            "grid_column": null,
            "grid_gap": null,
            "grid_row": null,
            "grid_template_areas": null,
            "grid_template_columns": null,
            "grid_template_rows": null,
            "height": null,
            "justify_content": null,
            "justify_items": null,
            "left": null,
            "margin": null,
            "max_height": null,
            "max_width": null,
            "min_height": null,
            "min_width": null,
            "object_fit": null,
            "object_position": null,
            "order": null,
            "overflow": null,
            "overflow_x": null,
            "overflow_y": null,
            "padding": null,
            "right": null,
            "top": null,
            "visibility": null,
            "width": null
          }
        },
        "40ecf08a350a49999dc777e757475958": {
          "model_module": "@jupyter-widgets/controls",
          "model_module_version": "1.5.0",
          "model_name": "HTMLModel",
          "state": {
            "_dom_classes": [],
            "_model_module": "@jupyter-widgets/controls",
            "_model_module_version": "1.5.0",
            "_model_name": "HTMLModel",
            "_view_count": null,
            "_view_module": "@jupyter-widgets/controls",
            "_view_module_version": "1.5.0",
            "_view_name": "HTMLView",
            "description": "",
            "description_tooltip": null,
            "layout": "IPY_MODEL_3e37a88a2a7248b48f7eaba0599b76df",
            "placeholder": "​",
            "style": "IPY_MODEL_ea88dc62e468492bb3058bb9c8e104c4",
            "value": " 179/179 [01:08&lt;00:00,  3.29it/s]"
          }
        },
        "42a91aa402f8416690546b5cf6394c1b": {
          "model_module": "@jupyter-widgets/controls",
          "model_module_version": "1.5.0",
          "model_name": "HTMLModel",
          "state": {
            "_dom_classes": [],
            "_model_module": "@jupyter-widgets/controls",
            "_model_module_version": "1.5.0",
            "_model_name": "HTMLModel",
            "_view_count": null,
            "_view_module": "@jupyter-widgets/controls",
            "_view_module_version": "1.5.0",
            "_view_name": "HTMLView",
            "description": "",
            "description_tooltip": null,
            "layout": "IPY_MODEL_7519f74b19df40eab5cf59a856527ecb",
            "placeholder": "​",
            "style": "IPY_MODEL_9a64f60bd862482b87868bc502d902c7",
            "value": " 179/179 [01:08&lt;00:00,  3.27it/s]"
          }
        },
        "445ca539f4634d01900b9ec14dd87338": {
          "model_module": "@jupyter-widgets/base",
          "model_module_version": "1.2.0",
          "model_name": "LayoutModel",
          "state": {
            "_model_module": "@jupyter-widgets/base",
            "_model_module_version": "1.2.0",
            "_model_name": "LayoutModel",
            "_view_count": null,
            "_view_module": "@jupyter-widgets/base",
            "_view_module_version": "1.2.0",
            "_view_name": "LayoutView",
            "align_content": null,
            "align_items": null,
            "align_self": null,
            "border": null,
            "bottom": null,
            "display": null,
            "flex": null,
            "flex_flow": null,
            "grid_area": null,
            "grid_auto_columns": null,
            "grid_auto_flow": null,
            "grid_auto_rows": null,
            "grid_column": null,
            "grid_gap": null,
            "grid_row": null,
            "grid_template_areas": null,
            "grid_template_columns": null,
            "grid_template_rows": null,
            "height": null,
            "justify_content": null,
            "justify_items": null,
            "left": null,
            "margin": null,
            "max_height": null,
            "max_width": null,
            "min_height": null,
            "min_width": null,
            "object_fit": null,
            "object_position": null,
            "order": null,
            "overflow": null,
            "overflow_x": null,
            "overflow_y": null,
            "padding": null,
            "right": null,
            "top": null,
            "visibility": null,
            "width": null
          }
        },
        "450c20c122184113ac67fff2e3b695a8": {
          "model_module": "@jupyter-widgets/base",
          "model_module_version": "1.2.0",
          "model_name": "LayoutModel",
          "state": {
            "_model_module": "@jupyter-widgets/base",
            "_model_module_version": "1.2.0",
            "_model_name": "LayoutModel",
            "_view_count": null,
            "_view_module": "@jupyter-widgets/base",
            "_view_module_version": "1.2.0",
            "_view_name": "LayoutView",
            "align_content": null,
            "align_items": null,
            "align_self": null,
            "border": null,
            "bottom": null,
            "display": null,
            "flex": null,
            "flex_flow": null,
            "grid_area": null,
            "grid_auto_columns": null,
            "grid_auto_flow": null,
            "grid_auto_rows": null,
            "grid_column": null,
            "grid_gap": null,
            "grid_row": null,
            "grid_template_areas": null,
            "grid_template_columns": null,
            "grid_template_rows": null,
            "height": null,
            "justify_content": null,
            "justify_items": null,
            "left": null,
            "margin": null,
            "max_height": null,
            "max_width": null,
            "min_height": null,
            "min_width": null,
            "object_fit": null,
            "object_position": null,
            "order": null,
            "overflow": null,
            "overflow_x": null,
            "overflow_y": null,
            "padding": null,
            "right": null,
            "top": null,
            "visibility": null,
            "width": null
          }
        },
        "454e22f76005441eb75badb8fecf239f": {
          "model_module": "@jupyter-widgets/controls",
          "model_module_version": "1.5.0",
          "model_name": "HBoxModel",
          "state": {
            "_dom_classes": [],
            "_model_module": "@jupyter-widgets/controls",
            "_model_module_version": "1.5.0",
            "_model_name": "HBoxModel",
            "_view_count": null,
            "_view_module": "@jupyter-widgets/controls",
            "_view_module_version": "1.5.0",
            "_view_name": "HBoxView",
            "box_style": "",
            "children": [
              "IPY_MODEL_a0f4c6c863694cd19169be78298c659f",
              "IPY_MODEL_88a601feeebc45339122ed1f6b807bc8",
              "IPY_MODEL_39a957c1c107447eab28ae1a824c7ea1"
            ],
            "layout": "IPY_MODEL_afc0c41df93044d496de8c658ff77d07"
          }
        },
        "45b42ef819c84c6dbde56e610b32b1c1": {
          "model_module": "@jupyter-widgets/controls",
          "model_module_version": "1.5.0",
          "model_name": "HBoxModel",
          "state": {
            "_dom_classes": [],
            "_model_module": "@jupyter-widgets/controls",
            "_model_module_version": "1.5.0",
            "_model_name": "HBoxModel",
            "_view_count": null,
            "_view_module": "@jupyter-widgets/controls",
            "_view_module_version": "1.5.0",
            "_view_name": "HBoxView",
            "box_style": "",
            "children": [
              "IPY_MODEL_b7cce5909e114d9f9cba2151d6179c4e",
              "IPY_MODEL_46cb82ffca4840d1a37d1ef588ce2c55",
              "IPY_MODEL_d3f79db71ef440739f76a1a0e4effef5"
            ],
            "layout": "IPY_MODEL_73214aca6e234cd3948fe33a7ba2a0bb"
          }
        },
        "45f62558ddcc4689843dea4284842143": {
          "model_module": "@jupyter-widgets/base",
          "model_module_version": "1.2.0",
          "model_name": "LayoutModel",
          "state": {
            "_model_module": "@jupyter-widgets/base",
            "_model_module_version": "1.2.0",
            "_model_name": "LayoutModel",
            "_view_count": null,
            "_view_module": "@jupyter-widgets/base",
            "_view_module_version": "1.2.0",
            "_view_name": "LayoutView",
            "align_content": null,
            "align_items": null,
            "align_self": null,
            "border": null,
            "bottom": null,
            "display": null,
            "flex": null,
            "flex_flow": null,
            "grid_area": null,
            "grid_auto_columns": null,
            "grid_auto_flow": null,
            "grid_auto_rows": null,
            "grid_column": null,
            "grid_gap": null,
            "grid_row": null,
            "grid_template_areas": null,
            "grid_template_columns": null,
            "grid_template_rows": null,
            "height": null,
            "justify_content": null,
            "justify_items": null,
            "left": null,
            "margin": null,
            "max_height": null,
            "max_width": null,
            "min_height": null,
            "min_width": null,
            "object_fit": null,
            "object_position": null,
            "order": null,
            "overflow": null,
            "overflow_x": null,
            "overflow_y": null,
            "padding": null,
            "right": null,
            "top": null,
            "visibility": null,
            "width": null
          }
        },
        "469998dfaf6f4a33b81030c3144defe8": {
          "model_module": "@jupyter-widgets/controls",
          "model_module_version": "1.5.0",
          "model_name": "HTMLModel",
          "state": {
            "_dom_classes": [],
            "_model_module": "@jupyter-widgets/controls",
            "_model_module_version": "1.5.0",
            "_model_name": "HTMLModel",
            "_view_count": null,
            "_view_module": "@jupyter-widgets/controls",
            "_view_module_version": "1.5.0",
            "_view_name": "HTMLView",
            "description": "",
            "description_tooltip": null,
            "layout": "IPY_MODEL_96b9553bae6b429a95643b0ecaccf31b",
            "placeholder": "​",
            "style": "IPY_MODEL_b190f73f86ad42d49ee524c775139664",
            "value": " 1.96M/1.96M [00:00&lt;00:00, 42.1MB/s]"
          }
        },
        "46cb82ffca4840d1a37d1ef588ce2c55": {
          "model_module": "@jupyter-widgets/controls",
          "model_module_version": "1.5.0",
          "model_name": "FloatProgressModel",
          "state": {
            "_dom_classes": [],
            "_model_module": "@jupyter-widgets/controls",
            "_model_module_version": "1.5.0",
            "_model_name": "FloatProgressModel",
            "_view_count": null,
            "_view_module": "@jupyter-widgets/controls",
            "_view_module_version": "1.5.0",
            "_view_name": "ProgressView",
            "bar_style": "success",
            "description": "",
            "description_tooltip": null,
            "layout": "IPY_MODEL_c124664859fa40ab93e802e7adc75039",
            "max": 179,
            "min": 0,
            "orientation": "horizontal",
            "style": "IPY_MODEL_bc5c76bd8ed04297b3a70496a8cde6c5",
            "value": 179
          }
        },
        "47ccae49260f45749a3d3312abe83e6d": {
          "model_module": "@jupyter-widgets/base",
          "model_module_version": "1.2.0",
          "model_name": "LayoutModel",
          "state": {
            "_model_module": "@jupyter-widgets/base",
            "_model_module_version": "1.2.0",
            "_model_name": "LayoutModel",
            "_view_count": null,
            "_view_module": "@jupyter-widgets/base",
            "_view_module_version": "1.2.0",
            "_view_name": "LayoutView",
            "align_content": null,
            "align_items": null,
            "align_self": null,
            "border": null,
            "bottom": null,
            "display": null,
            "flex": null,
            "flex_flow": null,
            "grid_area": null,
            "grid_auto_columns": null,
            "grid_auto_flow": null,
            "grid_auto_rows": null,
            "grid_column": null,
            "grid_gap": null,
            "grid_row": null,
            "grid_template_areas": null,
            "grid_template_columns": null,
            "grid_template_rows": null,
            "height": null,
            "justify_content": null,
            "justify_items": null,
            "left": null,
            "margin": null,
            "max_height": null,
            "max_width": null,
            "min_height": null,
            "min_width": null,
            "object_fit": null,
            "object_position": null,
            "order": null,
            "overflow": null,
            "overflow_x": null,
            "overflow_y": null,
            "padding": null,
            "right": null,
            "top": null,
            "visibility": null,
            "width": null
          }
        },
        "481b65dc8b1d4753ab3f1c6be79ebec6": {
          "model_module": "@jupyter-widgets/base",
          "model_module_version": "1.2.0",
          "model_name": "LayoutModel",
          "state": {
            "_model_module": "@jupyter-widgets/base",
            "_model_module_version": "1.2.0",
            "_model_name": "LayoutModel",
            "_view_count": null,
            "_view_module": "@jupyter-widgets/base",
            "_view_module_version": "1.2.0",
            "_view_name": "LayoutView",
            "align_content": null,
            "align_items": null,
            "align_self": null,
            "border": null,
            "bottom": null,
            "display": null,
            "flex": null,
            "flex_flow": null,
            "grid_area": null,
            "grid_auto_columns": null,
            "grid_auto_flow": null,
            "grid_auto_rows": null,
            "grid_column": null,
            "grid_gap": null,
            "grid_row": null,
            "grid_template_areas": null,
            "grid_template_columns": null,
            "grid_template_rows": null,
            "height": null,
            "justify_content": null,
            "justify_items": null,
            "left": null,
            "margin": null,
            "max_height": null,
            "max_width": null,
            "min_height": null,
            "min_width": null,
            "object_fit": null,
            "object_position": null,
            "order": null,
            "overflow": null,
            "overflow_x": null,
            "overflow_y": null,
            "padding": null,
            "right": null,
            "top": null,
            "visibility": null,
            "width": null
          }
        },
        "4837e9378dee424d9dc4f3fbeb06564b": {
          "model_module": "@jupyter-widgets/base",
          "model_module_version": "1.2.0",
          "model_name": "LayoutModel",
          "state": {
            "_model_module": "@jupyter-widgets/base",
            "_model_module_version": "1.2.0",
            "_model_name": "LayoutModel",
            "_view_count": null,
            "_view_module": "@jupyter-widgets/base",
            "_view_module_version": "1.2.0",
            "_view_name": "LayoutView",
            "align_content": null,
            "align_items": null,
            "align_self": null,
            "border": null,
            "bottom": null,
            "display": null,
            "flex": null,
            "flex_flow": null,
            "grid_area": null,
            "grid_auto_columns": null,
            "grid_auto_flow": null,
            "grid_auto_rows": null,
            "grid_column": null,
            "grid_gap": null,
            "grid_row": null,
            "grid_template_areas": null,
            "grid_template_columns": null,
            "grid_template_rows": null,
            "height": null,
            "justify_content": null,
            "justify_items": null,
            "left": null,
            "margin": null,
            "max_height": null,
            "max_width": null,
            "min_height": null,
            "min_width": null,
            "object_fit": null,
            "object_position": null,
            "order": null,
            "overflow": null,
            "overflow_x": null,
            "overflow_y": null,
            "padding": null,
            "right": null,
            "top": null,
            "visibility": null,
            "width": null
          }
        },
        "4b4fdaa168a449ee8b62cb86c5a99ec4": {
          "model_module": "@jupyter-widgets/controls",
          "model_module_version": "1.5.0",
          "model_name": "ProgressStyleModel",
          "state": {
            "_model_module": "@jupyter-widgets/controls",
            "_model_module_version": "1.5.0",
            "_model_name": "ProgressStyleModel",
            "_view_count": null,
            "_view_module": "@jupyter-widgets/base",
            "_view_module_version": "1.2.0",
            "_view_name": "StyleView",
            "bar_color": null,
            "description_width": ""
          }
        },
        "4b5c333aee5b4939b59e8362c06b71eb": {
          "model_module": "@jupyter-widgets/controls",
          "model_module_version": "1.5.0",
          "model_name": "HTMLModel",
          "state": {
            "_dom_classes": [],
            "_model_module": "@jupyter-widgets/controls",
            "_model_module_version": "1.5.0",
            "_model_name": "HTMLModel",
            "_view_count": null,
            "_view_module": "@jupyter-widgets/controls",
            "_view_module_version": "1.5.0",
            "_view_name": "HTMLView",
            "description": "",
            "description_tooltip": null,
            "layout": "IPY_MODEL_de2c1d41fd4741679347888e362ee9c7",
            "placeholder": "​",
            "style": "IPY_MODEL_f170323ae12c4c70968abb16a870adc7",
            "value": " 996k/996k [00:00&lt;00:00, 964kB/s]"
          }
        },
        "4ec2875ff3884104973dfa4245cb320b": {
          "model_module": "@jupyter-widgets/controls",
          "model_module_version": "1.5.0",
          "model_name": "HTMLModel",
          "state": {
            "_dom_classes": [],
            "_model_module": "@jupyter-widgets/controls",
            "_model_module_version": "1.5.0",
            "_model_name": "HTMLModel",
            "_view_count": null,
            "_view_module": "@jupyter-widgets/controls",
            "_view_module_version": "1.5.0",
            "_view_name": "HTMLView",
            "description": "",
            "description_tooltip": null,
            "layout": "IPY_MODEL_860f4892516048eba3a56567a471dff7",
            "placeholder": "​",
            "style": "IPY_MODEL_de3b37c95f1b4b3bbcb03751806de0b1",
            "value": " 77/77 [00:09&lt;00:00,  7.73it/s]"
          }
        },
        "4f6926fcef4b435698466698cae03983": {
          "model_module": "@jupyter-widgets/controls",
          "model_module_version": "1.5.0",
          "model_name": "HTMLModel",
          "state": {
            "_dom_classes": [],
            "_model_module": "@jupyter-widgets/controls",
            "_model_module_version": "1.5.0",
            "_model_name": "HTMLModel",
            "_view_count": null,
            "_view_module": "@jupyter-widgets/controls",
            "_view_module_version": "1.5.0",
            "_view_name": "HTMLView",
            "description": "",
            "description_tooltip": null,
            "layout": "IPY_MODEL_047379f46c774837b82f83091869c476",
            "placeholder": "​",
            "style": "IPY_MODEL_652e684df93248768f25f1d5aa47d931",
            "value": "100%"
          }
        },
        "50e32e277b9a4782a2dd411fa38b87cb": {
          "model_module": "@jupyter-widgets/base",
          "model_module_version": "1.2.0",
          "model_name": "LayoutModel",
          "state": {
            "_model_module": "@jupyter-widgets/base",
            "_model_module_version": "1.2.0",
            "_model_name": "LayoutModel",
            "_view_count": null,
            "_view_module": "@jupyter-widgets/base",
            "_view_module_version": "1.2.0",
            "_view_name": "LayoutView",
            "align_content": null,
            "align_items": null,
            "align_self": null,
            "border": null,
            "bottom": null,
            "display": null,
            "flex": null,
            "flex_flow": null,
            "grid_area": null,
            "grid_auto_columns": null,
            "grid_auto_flow": null,
            "grid_auto_rows": null,
            "grid_column": null,
            "grid_gap": null,
            "grid_row": null,
            "grid_template_areas": null,
            "grid_template_columns": null,
            "grid_template_rows": null,
            "height": null,
            "justify_content": null,
            "justify_items": null,
            "left": null,
            "margin": null,
            "max_height": null,
            "max_width": null,
            "min_height": null,
            "min_width": null,
            "object_fit": null,
            "object_position": null,
            "order": null,
            "overflow": null,
            "overflow_x": null,
            "overflow_y": null,
            "padding": null,
            "right": null,
            "top": null,
            "visibility": null,
            "width": null
          }
        },
        "526b5f8a18dd4059a72b86b26c0014c2": {
          "model_module": "@jupyter-widgets/base",
          "model_module_version": "1.2.0",
          "model_name": "LayoutModel",
          "state": {
            "_model_module": "@jupyter-widgets/base",
            "_model_module_version": "1.2.0",
            "_model_name": "LayoutModel",
            "_view_count": null,
            "_view_module": "@jupyter-widgets/base",
            "_view_module_version": "1.2.0",
            "_view_name": "LayoutView",
            "align_content": null,
            "align_items": null,
            "align_self": null,
            "border": null,
            "bottom": null,
            "display": null,
            "flex": null,
            "flex_flow": null,
            "grid_area": null,
            "grid_auto_columns": null,
            "grid_auto_flow": null,
            "grid_auto_rows": null,
            "grid_column": null,
            "grid_gap": null,
            "grid_row": null,
            "grid_template_areas": null,
            "grid_template_columns": null,
            "grid_template_rows": null,
            "height": null,
            "justify_content": null,
            "justify_items": null,
            "left": null,
            "margin": null,
            "max_height": null,
            "max_width": null,
            "min_height": null,
            "min_width": null,
            "object_fit": null,
            "object_position": null,
            "order": null,
            "overflow": null,
            "overflow_x": null,
            "overflow_y": null,
            "padding": null,
            "right": null,
            "top": null,
            "visibility": null,
            "width": null
          }
        },
        "5293cbc1a6e54601b1e013588805fbf8": {
          "model_module": "@jupyter-widgets/controls",
          "model_module_version": "1.5.0",
          "model_name": "DescriptionStyleModel",
          "state": {
            "_model_module": "@jupyter-widgets/controls",
            "_model_module_version": "1.5.0",
            "_model_name": "DescriptionStyleModel",
            "_view_count": null,
            "_view_module": "@jupyter-widgets/base",
            "_view_module_version": "1.2.0",
            "_view_name": "StyleView",
            "description_width": ""
          }
        },
        "53c6c54fd9c844e18c09d96f625750b6": {
          "model_module": "@jupyter-widgets/base",
          "model_module_version": "1.2.0",
          "model_name": "LayoutModel",
          "state": {
            "_model_module": "@jupyter-widgets/base",
            "_model_module_version": "1.2.0",
            "_model_name": "LayoutModel",
            "_view_count": null,
            "_view_module": "@jupyter-widgets/base",
            "_view_module_version": "1.2.0",
            "_view_name": "LayoutView",
            "align_content": null,
            "align_items": null,
            "align_self": null,
            "border": null,
            "bottom": null,
            "display": null,
            "flex": null,
            "flex_flow": null,
            "grid_area": null,
            "grid_auto_columns": null,
            "grid_auto_flow": null,
            "grid_auto_rows": null,
            "grid_column": null,
            "grid_gap": null,
            "grid_row": null,
            "grid_template_areas": null,
            "grid_template_columns": null,
            "grid_template_rows": null,
            "height": null,
            "justify_content": null,
            "justify_items": null,
            "left": null,
            "margin": null,
            "max_height": null,
            "max_width": null,
            "min_height": null,
            "min_width": null,
            "object_fit": null,
            "object_position": null,
            "order": null,
            "overflow": null,
            "overflow_x": null,
            "overflow_y": null,
            "padding": null,
            "right": null,
            "top": null,
            "visibility": null,
            "width": null
          }
        },
        "5422ef592999426e82ed64a2ec15eff9": {
          "model_module": "@jupyter-widgets/base",
          "model_module_version": "1.2.0",
          "model_name": "LayoutModel",
          "state": {
            "_model_module": "@jupyter-widgets/base",
            "_model_module_version": "1.2.0",
            "_model_name": "LayoutModel",
            "_view_count": null,
            "_view_module": "@jupyter-widgets/base",
            "_view_module_version": "1.2.0",
            "_view_name": "LayoutView",
            "align_content": null,
            "align_items": null,
            "align_self": null,
            "border": null,
            "bottom": null,
            "display": null,
            "flex": null,
            "flex_flow": null,
            "grid_area": null,
            "grid_auto_columns": null,
            "grid_auto_flow": null,
            "grid_auto_rows": null,
            "grid_column": null,
            "grid_gap": null,
            "grid_row": null,
            "grid_template_areas": null,
            "grid_template_columns": null,
            "grid_template_rows": null,
            "height": null,
            "justify_content": null,
            "justify_items": null,
            "left": null,
            "margin": null,
            "max_height": null,
            "max_width": null,
            "min_height": null,
            "min_width": null,
            "object_fit": null,
            "object_position": null,
            "order": null,
            "overflow": null,
            "overflow_x": null,
            "overflow_y": null,
            "padding": null,
            "right": null,
            "top": null,
            "visibility": null,
            "width": null
          }
        },
        "545aea00e6e94828922caab1d8cefcff": {
          "model_module": "@jupyter-widgets/base",
          "model_module_version": "1.2.0",
          "model_name": "LayoutModel",
          "state": {
            "_model_module": "@jupyter-widgets/base",
            "_model_module_version": "1.2.0",
            "_model_name": "LayoutModel",
            "_view_count": null,
            "_view_module": "@jupyter-widgets/base",
            "_view_module_version": "1.2.0",
            "_view_name": "LayoutView",
            "align_content": null,
            "align_items": null,
            "align_self": null,
            "border": null,
            "bottom": null,
            "display": null,
            "flex": null,
            "flex_flow": null,
            "grid_area": null,
            "grid_auto_columns": null,
            "grid_auto_flow": null,
            "grid_auto_rows": null,
            "grid_column": null,
            "grid_gap": null,
            "grid_row": null,
            "grid_template_areas": null,
            "grid_template_columns": null,
            "grid_template_rows": null,
            "height": null,
            "justify_content": null,
            "justify_items": null,
            "left": null,
            "margin": null,
            "max_height": null,
            "max_width": null,
            "min_height": null,
            "min_width": null,
            "object_fit": null,
            "object_position": null,
            "order": null,
            "overflow": null,
            "overflow_x": null,
            "overflow_y": null,
            "padding": null,
            "right": null,
            "top": null,
            "visibility": null,
            "width": null
          }
        },
        "54b3e537115746e186f9bd38047a93d9": {
          "model_module": "@jupyter-widgets/controls",
          "model_module_version": "1.5.0",
          "model_name": "DescriptionStyleModel",
          "state": {
            "_model_module": "@jupyter-widgets/controls",
            "_model_module_version": "1.5.0",
            "_model_name": "DescriptionStyleModel",
            "_view_count": null,
            "_view_module": "@jupyter-widgets/base",
            "_view_module_version": "1.2.0",
            "_view_name": "StyleView",
            "description_width": ""
          }
        },
        "54b65790c48e4e33b901877073f42cfa": {
          "model_module": "@jupyter-widgets/base",
          "model_module_version": "1.2.0",
          "model_name": "LayoutModel",
          "state": {
            "_model_module": "@jupyter-widgets/base",
            "_model_module_version": "1.2.0",
            "_model_name": "LayoutModel",
            "_view_count": null,
            "_view_module": "@jupyter-widgets/base",
            "_view_module_version": "1.2.0",
            "_view_name": "LayoutView",
            "align_content": null,
            "align_items": null,
            "align_self": null,
            "border": null,
            "bottom": null,
            "display": null,
            "flex": null,
            "flex_flow": null,
            "grid_area": null,
            "grid_auto_columns": null,
            "grid_auto_flow": null,
            "grid_auto_rows": null,
            "grid_column": null,
            "grid_gap": null,
            "grid_row": null,
            "grid_template_areas": null,
            "grid_template_columns": null,
            "grid_template_rows": null,
            "height": null,
            "justify_content": null,
            "justify_items": null,
            "left": null,
            "margin": null,
            "max_height": null,
            "max_width": null,
            "min_height": null,
            "min_width": null,
            "object_fit": null,
            "object_position": null,
            "order": null,
            "overflow": null,
            "overflow_x": null,
            "overflow_y": null,
            "padding": null,
            "right": null,
            "top": null,
            "visibility": null,
            "width": null
          }
        },
        "54d2768974e74c21af41f89812e43972": {
          "model_module": "@jupyter-widgets/controls",
          "model_module_version": "1.5.0",
          "model_name": "DescriptionStyleModel",
          "state": {
            "_model_module": "@jupyter-widgets/controls",
            "_model_module_version": "1.5.0",
            "_model_name": "DescriptionStyleModel",
            "_view_count": null,
            "_view_module": "@jupyter-widgets/base",
            "_view_module_version": "1.2.0",
            "_view_name": "StyleView",
            "description_width": ""
          }
        },
        "54f5607bb7f34c8293be873d32f3b887": {
          "model_module": "@jupyter-widgets/base",
          "model_module_version": "1.2.0",
          "model_name": "LayoutModel",
          "state": {
            "_model_module": "@jupyter-widgets/base",
            "_model_module_version": "1.2.0",
            "_model_name": "LayoutModel",
            "_view_count": null,
            "_view_module": "@jupyter-widgets/base",
            "_view_module_version": "1.2.0",
            "_view_name": "LayoutView",
            "align_content": null,
            "align_items": null,
            "align_self": null,
            "border": null,
            "bottom": null,
            "display": null,
            "flex": null,
            "flex_flow": null,
            "grid_area": null,
            "grid_auto_columns": null,
            "grid_auto_flow": null,
            "grid_auto_rows": null,
            "grid_column": null,
            "grid_gap": null,
            "grid_row": null,
            "grid_template_areas": null,
            "grid_template_columns": null,
            "grid_template_rows": null,
            "height": null,
            "justify_content": null,
            "justify_items": null,
            "left": null,
            "margin": null,
            "max_height": null,
            "max_width": null,
            "min_height": null,
            "min_width": null,
            "object_fit": null,
            "object_position": null,
            "order": null,
            "overflow": null,
            "overflow_x": null,
            "overflow_y": null,
            "padding": null,
            "right": null,
            "top": null,
            "visibility": null,
            "width": null
          }
        },
        "5addd726da7a4763a331d7a6d0361ad2": {
          "model_module": "@jupyter-widgets/controls",
          "model_module_version": "1.5.0",
          "model_name": "DescriptionStyleModel",
          "state": {
            "_model_module": "@jupyter-widgets/controls",
            "_model_module_version": "1.5.0",
            "_model_name": "DescriptionStyleModel",
            "_view_count": null,
            "_view_module": "@jupyter-widgets/base",
            "_view_module_version": "1.2.0",
            "_view_name": "StyleView",
            "description_width": ""
          }
        },
        "5b45d3e6c4134780809333147b6c6169": {
          "model_module": "@jupyter-widgets/controls",
          "model_module_version": "1.5.0",
          "model_name": "HTMLModel",
          "state": {
            "_dom_classes": [],
            "_model_module": "@jupyter-widgets/controls",
            "_model_module_version": "1.5.0",
            "_model_name": "HTMLModel",
            "_view_count": null,
            "_view_module": "@jupyter-widgets/controls",
            "_view_module_version": "1.5.0",
            "_view_name": "HTMLView",
            "description": "",
            "description_tooltip": null,
            "layout": "IPY_MODEL_1ab61661d6f04ca7a566151eb93a4e50",
            "placeholder": "​",
            "style": "IPY_MODEL_8d5396d48131439c9051b3df9083ecfe",
            "value": "Downloading: 100%"
          }
        },
        "5b9d2c539c95472187834004c3493c71": {
          "model_module": "@jupyter-widgets/base",
          "model_module_version": "1.2.0",
          "model_name": "LayoutModel",
          "state": {
            "_model_module": "@jupyter-widgets/base",
            "_model_module_version": "1.2.0",
            "_model_name": "LayoutModel",
            "_view_count": null,
            "_view_module": "@jupyter-widgets/base",
            "_view_module_version": "1.2.0",
            "_view_name": "LayoutView",
            "align_content": null,
            "align_items": null,
            "align_self": null,
            "border": null,
            "bottom": null,
            "display": null,
            "flex": null,
            "flex_flow": null,
            "grid_area": null,
            "grid_auto_columns": null,
            "grid_auto_flow": null,
            "grid_auto_rows": null,
            "grid_column": null,
            "grid_gap": null,
            "grid_row": null,
            "grid_template_areas": null,
            "grid_template_columns": null,
            "grid_template_rows": null,
            "height": null,
            "justify_content": null,
            "justify_items": null,
            "left": null,
            "margin": null,
            "max_height": null,
            "max_width": null,
            "min_height": null,
            "min_width": null,
            "object_fit": null,
            "object_position": null,
            "order": null,
            "overflow": null,
            "overflow_x": null,
            "overflow_y": null,
            "padding": null,
            "right": null,
            "top": null,
            "visibility": null,
            "width": null
          }
        },
        "5cdd1a22de384ccb8cc007ca080de7f0": {
          "model_module": "@jupyter-widgets/base",
          "model_module_version": "1.2.0",
          "model_name": "LayoutModel",
          "state": {
            "_model_module": "@jupyter-widgets/base",
            "_model_module_version": "1.2.0",
            "_model_name": "LayoutModel",
            "_view_count": null,
            "_view_module": "@jupyter-widgets/base",
            "_view_module_version": "1.2.0",
            "_view_name": "LayoutView",
            "align_content": null,
            "align_items": null,
            "align_self": null,
            "border": null,
            "bottom": null,
            "display": null,
            "flex": null,
            "flex_flow": null,
            "grid_area": null,
            "grid_auto_columns": null,
            "grid_auto_flow": null,
            "grid_auto_rows": null,
            "grid_column": null,
            "grid_gap": null,
            "grid_row": null,
            "grid_template_areas": null,
            "grid_template_columns": null,
            "grid_template_rows": null,
            "height": null,
            "justify_content": null,
            "justify_items": null,
            "left": null,
            "margin": null,
            "max_height": null,
            "max_width": null,
            "min_height": null,
            "min_width": null,
            "object_fit": null,
            "object_position": null,
            "order": null,
            "overflow": null,
            "overflow_x": null,
            "overflow_y": null,
            "padding": null,
            "right": null,
            "top": null,
            "visibility": null,
            "width": null
          }
        },
        "5d3c6b5042b44444a42fbdcede81c5d9": {
          "model_module": "@jupyter-widgets/controls",
          "model_module_version": "1.5.0",
          "model_name": "HTMLModel",
          "state": {
            "_dom_classes": [],
            "_model_module": "@jupyter-widgets/controls",
            "_model_module_version": "1.5.0",
            "_model_name": "HTMLModel",
            "_view_count": null,
            "_view_module": "@jupyter-widgets/controls",
            "_view_module_version": "1.5.0",
            "_view_name": "HTMLView",
            "description": "",
            "description_tooltip": null,
            "layout": "IPY_MODEL_c6a5e750f2824b2da972a9fa9b6bda46",
            "placeholder": "​",
            "style": "IPY_MODEL_f2665855a74b4430bf176500533cbf63",
            "value": " 179/179 [01:08&lt;00:00,  3.28it/s]"
          }
        },
        "5f1ab529fdb14ae8bf559c432d469f6f": {
          "model_module": "@jupyter-widgets/controls",
          "model_module_version": "1.5.0",
          "model_name": "DescriptionStyleModel",
          "state": {
            "_model_module": "@jupyter-widgets/controls",
            "_model_module_version": "1.5.0",
            "_model_name": "DescriptionStyleModel",
            "_view_count": null,
            "_view_module": "@jupyter-widgets/base",
            "_view_module_version": "1.2.0",
            "_view_name": "StyleView",
            "description_width": ""
          }
        },
        "60368b0f17714e96a6e86fb4ce423b0e": {
          "model_module": "@jupyter-widgets/base",
          "model_module_version": "1.2.0",
          "model_name": "LayoutModel",
          "state": {
            "_model_module": "@jupyter-widgets/base",
            "_model_module_version": "1.2.0",
            "_model_name": "LayoutModel",
            "_view_count": null,
            "_view_module": "@jupyter-widgets/base",
            "_view_module_version": "1.2.0",
            "_view_name": "LayoutView",
            "align_content": null,
            "align_items": null,
            "align_self": null,
            "border": null,
            "bottom": null,
            "display": null,
            "flex": null,
            "flex_flow": null,
            "grid_area": null,
            "grid_auto_columns": null,
            "grid_auto_flow": null,
            "grid_auto_rows": null,
            "grid_column": null,
            "grid_gap": null,
            "grid_row": null,
            "grid_template_areas": null,
            "grid_template_columns": null,
            "grid_template_rows": null,
            "height": null,
            "justify_content": null,
            "justify_items": null,
            "left": null,
            "margin": null,
            "max_height": null,
            "max_width": null,
            "min_height": null,
            "min_width": null,
            "object_fit": null,
            "object_position": null,
            "order": null,
            "overflow": null,
            "overflow_x": null,
            "overflow_y": null,
            "padding": null,
            "right": null,
            "top": null,
            "visibility": null,
            "width": null
          }
        },
        "6076069b88e849efb0ef4b2b30337a3c": {
          "model_module": "@jupyter-widgets/controls",
          "model_module_version": "1.5.0",
          "model_name": "FloatProgressModel",
          "state": {
            "_dom_classes": [],
            "_model_module": "@jupyter-widgets/controls",
            "_model_module_version": "1.5.0",
            "_model_name": "FloatProgressModel",
            "_view_count": null,
            "_view_module": "@jupyter-widgets/controls",
            "_view_module_version": "1.5.0",
            "_view_name": "ProgressView",
            "bar_style": "success",
            "description": "",
            "description_tooltip": null,
            "layout": "IPY_MODEL_37686b40e44c41ca9968da3df6ae4b89",
            "max": 179,
            "min": 0,
            "orientation": "horizontal",
            "style": "IPY_MODEL_083ceed8e82445c59c6aa987e20f6056",
            "value": 179
          }
        },
        "62718002675d4b1db659e94a37ffd043": {
          "model_module": "@jupyter-widgets/controls",
          "model_module_version": "1.5.0",
          "model_name": "HTMLModel",
          "state": {
            "_dom_classes": [],
            "_model_module": "@jupyter-widgets/controls",
            "_model_module_version": "1.5.0",
            "_model_name": "HTMLModel",
            "_view_count": null,
            "_view_module": "@jupyter-widgets/controls",
            "_view_module_version": "1.5.0",
            "_view_name": "HTMLView",
            "description": "",
            "description_tooltip": null,
            "layout": "IPY_MODEL_4837e9378dee424d9dc4f3fbeb06564b",
            "placeholder": "​",
            "style": "IPY_MODEL_76edf330ed614c6a808d6e9c6348e174",
            "value": " 77/77 [00:09&lt;00:00,  7.88it/s]"
          }
        },
        "62bea4e66b9f4790b679762ff2edd089": {
          "model_module": "@jupyter-widgets/base",
          "model_module_version": "1.2.0",
          "model_name": "LayoutModel",
          "state": {
            "_model_module": "@jupyter-widgets/base",
            "_model_module_version": "1.2.0",
            "_model_name": "LayoutModel",
            "_view_count": null,
            "_view_module": "@jupyter-widgets/base",
            "_view_module_version": "1.2.0",
            "_view_name": "LayoutView",
            "align_content": null,
            "align_items": null,
            "align_self": null,
            "border": null,
            "bottom": null,
            "display": null,
            "flex": null,
            "flex_flow": null,
            "grid_area": null,
            "grid_auto_columns": null,
            "grid_auto_flow": null,
            "grid_auto_rows": null,
            "grid_column": null,
            "grid_gap": null,
            "grid_row": null,
            "grid_template_areas": null,
            "grid_template_columns": null,
            "grid_template_rows": null,
            "height": null,
            "justify_content": null,
            "justify_items": null,
            "left": null,
            "margin": null,
            "max_height": null,
            "max_width": null,
            "min_height": null,
            "min_width": null,
            "object_fit": null,
            "object_position": null,
            "order": null,
            "overflow": null,
            "overflow_x": null,
            "overflow_y": null,
            "padding": null,
            "right": null,
            "top": null,
            "visibility": null,
            "width": null
          }
        },
        "636a1c92559b444f9275fe0811b2470e": {
          "model_module": "@jupyter-widgets/controls",
          "model_module_version": "1.5.0",
          "model_name": "ProgressStyleModel",
          "state": {
            "_model_module": "@jupyter-widgets/controls",
            "_model_module_version": "1.5.0",
            "_model_name": "ProgressStyleModel",
            "_view_count": null,
            "_view_module": "@jupyter-widgets/base",
            "_view_module_version": "1.2.0",
            "_view_name": "StyleView",
            "bar_color": null,
            "description_width": ""
          }
        },
        "63825c37382241e58f96f69877538190": {
          "model_module": "@jupyter-widgets/controls",
          "model_module_version": "1.5.0",
          "model_name": "ProgressStyleModel",
          "state": {
            "_model_module": "@jupyter-widgets/controls",
            "_model_module_version": "1.5.0",
            "_model_name": "ProgressStyleModel",
            "_view_count": null,
            "_view_module": "@jupyter-widgets/base",
            "_view_module_version": "1.2.0",
            "_view_name": "StyleView",
            "bar_color": null,
            "description_width": ""
          }
        },
        "640feb21af634e36bf4f3e2bdc29771f": {
          "model_module": "@jupyter-widgets/base",
          "model_module_version": "1.2.0",
          "model_name": "LayoutModel",
          "state": {
            "_model_module": "@jupyter-widgets/base",
            "_model_module_version": "1.2.0",
            "_model_name": "LayoutModel",
            "_view_count": null,
            "_view_module": "@jupyter-widgets/base",
            "_view_module_version": "1.2.0",
            "_view_name": "LayoutView",
            "align_content": null,
            "align_items": null,
            "align_self": null,
            "border": null,
            "bottom": null,
            "display": null,
            "flex": null,
            "flex_flow": null,
            "grid_area": null,
            "grid_auto_columns": null,
            "grid_auto_flow": null,
            "grid_auto_rows": null,
            "grid_column": null,
            "grid_gap": null,
            "grid_row": null,
            "grid_template_areas": null,
            "grid_template_columns": null,
            "grid_template_rows": null,
            "height": null,
            "justify_content": null,
            "justify_items": null,
            "left": null,
            "margin": null,
            "max_height": null,
            "max_width": null,
            "min_height": null,
            "min_width": null,
            "object_fit": null,
            "object_position": null,
            "order": null,
            "overflow": null,
            "overflow_x": null,
            "overflow_y": null,
            "padding": null,
            "right": null,
            "top": null,
            "visibility": null,
            "width": null
          }
        },
        "64ed83d887f544b6b64c1a16a391274d": {
          "model_module": "@jupyter-widgets/controls",
          "model_module_version": "1.5.0",
          "model_name": "HTMLModel",
          "state": {
            "_dom_classes": [],
            "_model_module": "@jupyter-widgets/controls",
            "_model_module_version": "1.5.0",
            "_model_name": "HTMLModel",
            "_view_count": null,
            "_view_module": "@jupyter-widgets/controls",
            "_view_module_version": "1.5.0",
            "_view_name": "HTMLView",
            "description": "",
            "description_tooltip": null,
            "layout": "IPY_MODEL_933dc881009f4f02b32a39512cedcc9d",
            "placeholder": "​",
            "style": "IPY_MODEL_2dc4b78e1e2b4f29af635446233f212c",
            "value": " 77/77 [00:09&lt;00:00,  7.75it/s]"
          }
        },
        "652e684df93248768f25f1d5aa47d931": {
          "model_module": "@jupyter-widgets/controls",
          "model_module_version": "1.5.0",
          "model_name": "DescriptionStyleModel",
          "state": {
            "_model_module": "@jupyter-widgets/controls",
            "_model_module_version": "1.5.0",
            "_model_name": "DescriptionStyleModel",
            "_view_count": null,
            "_view_module": "@jupyter-widgets/base",
            "_view_module_version": "1.2.0",
            "_view_name": "StyleView",
            "description_width": ""
          }
        },
        "65eeca7014fd433899133379d5ec5de3": {
          "model_module": "@jupyter-widgets/controls",
          "model_module_version": "1.5.0",
          "model_name": "ProgressStyleModel",
          "state": {
            "_model_module": "@jupyter-widgets/controls",
            "_model_module_version": "1.5.0",
            "_model_name": "ProgressStyleModel",
            "_view_count": null,
            "_view_module": "@jupyter-widgets/base",
            "_view_module_version": "1.2.0",
            "_view_name": "StyleView",
            "bar_color": null,
            "description_width": ""
          }
        },
        "668ae7842e374b52b881ef7339e2d65c": {
          "model_module": "@jupyter-widgets/controls",
          "model_module_version": "1.5.0",
          "model_name": "HTMLModel",
          "state": {
            "_dom_classes": [],
            "_model_module": "@jupyter-widgets/controls",
            "_model_module_version": "1.5.0",
            "_model_name": "HTMLModel",
            "_view_count": null,
            "_view_module": "@jupyter-widgets/controls",
            "_view_module_version": "1.5.0",
            "_view_name": "HTMLView",
            "description": "",
            "description_tooltip": null,
            "layout": "IPY_MODEL_becca1ddc51744e7abd1e6b5e72c0040",
            "placeholder": "​",
            "style": "IPY_MODEL_d6deededc1bc413ab64cacd758136abe",
            "value": " 179/179 [01:08&lt;00:00,  3.29it/s]"
          }
        },
        "66b55d70e58947dcbdbcfb680c8e6d9b": {
          "model_module": "@jupyter-widgets/base",
          "model_module_version": "1.2.0",
          "model_name": "LayoutModel",
          "state": {
            "_model_module": "@jupyter-widgets/base",
            "_model_module_version": "1.2.0",
            "_model_name": "LayoutModel",
            "_view_count": null,
            "_view_module": "@jupyter-widgets/base",
            "_view_module_version": "1.2.0",
            "_view_name": "LayoutView",
            "align_content": null,
            "align_items": null,
            "align_self": null,
            "border": null,
            "bottom": null,
            "display": null,
            "flex": null,
            "flex_flow": null,
            "grid_area": null,
            "grid_auto_columns": null,
            "grid_auto_flow": null,
            "grid_auto_rows": null,
            "grid_column": null,
            "grid_gap": null,
            "grid_row": null,
            "grid_template_areas": null,
            "grid_template_columns": null,
            "grid_template_rows": null,
            "height": null,
            "justify_content": null,
            "justify_items": null,
            "left": null,
            "margin": null,
            "max_height": null,
            "max_width": null,
            "min_height": null,
            "min_width": null,
            "object_fit": null,
            "object_position": null,
            "order": null,
            "overflow": null,
            "overflow_x": null,
            "overflow_y": null,
            "padding": null,
            "right": null,
            "top": null,
            "visibility": null,
            "width": null
          }
        },
        "66de89ff76a947d39d63b654a18bf02e": {
          "model_module": "@jupyter-widgets/controls",
          "model_module_version": "1.5.0",
          "model_name": "HTMLModel",
          "state": {
            "_dom_classes": [],
            "_model_module": "@jupyter-widgets/controls",
            "_model_module_version": "1.5.0",
            "_model_name": "HTMLModel",
            "_view_count": null,
            "_view_module": "@jupyter-widgets/controls",
            "_view_module_version": "1.5.0",
            "_view_name": "HTMLView",
            "description": "",
            "description_tooltip": null,
            "layout": "IPY_MODEL_db524e6d71974beb9b6e371b59b54da3",
            "placeholder": "​",
            "style": "IPY_MODEL_9eb90160959f4144ba9abf388878166c",
            "value": "100%"
          }
        },
        "6773dbbc41f14dd79af33425df057fc9": {
          "model_module": "@jupyter-widgets/base",
          "model_module_version": "1.2.0",
          "model_name": "LayoutModel",
          "state": {
            "_model_module": "@jupyter-widgets/base",
            "_model_module_version": "1.2.0",
            "_model_name": "LayoutModel",
            "_view_count": null,
            "_view_module": "@jupyter-widgets/base",
            "_view_module_version": "1.2.0",
            "_view_name": "LayoutView",
            "align_content": null,
            "align_items": null,
            "align_self": null,
            "border": null,
            "bottom": null,
            "display": null,
            "flex": null,
            "flex_flow": null,
            "grid_area": null,
            "grid_auto_columns": null,
            "grid_auto_flow": null,
            "grid_auto_rows": null,
            "grid_column": null,
            "grid_gap": null,
            "grid_row": null,
            "grid_template_areas": null,
            "grid_template_columns": null,
            "grid_template_rows": null,
            "height": null,
            "justify_content": null,
            "justify_items": null,
            "left": null,
            "margin": null,
            "max_height": null,
            "max_width": null,
            "min_height": null,
            "min_width": null,
            "object_fit": null,
            "object_position": null,
            "order": null,
            "overflow": null,
            "overflow_x": null,
            "overflow_y": null,
            "padding": null,
            "right": null,
            "top": null,
            "visibility": null,
            "width": null
          }
        },
        "680ce1736e634517a0555203cc206a0a": {
          "model_module": "@jupyter-widgets/controls",
          "model_module_version": "1.5.0",
          "model_name": "HTMLModel",
          "state": {
            "_dom_classes": [],
            "_model_module": "@jupyter-widgets/controls",
            "_model_module_version": "1.5.0",
            "_model_name": "HTMLModel",
            "_view_count": null,
            "_view_module": "@jupyter-widgets/controls",
            "_view_module_version": "1.5.0",
            "_view_name": "HTMLView",
            "description": "",
            "description_tooltip": null,
            "layout": "IPY_MODEL_2e497d44d8c34138941a15049caace2d",
            "placeholder": "​",
            "style": "IPY_MODEL_e24283e754ef47c5ba27f132fa8be4fa",
            "value": " 77/77 [00:09&lt;00:00,  7.85it/s]"
          }
        },
        "68ca120085354fc691c2e630d0238141": {
          "model_module": "@jupyter-widgets/controls",
          "model_module_version": "1.5.0",
          "model_name": "FloatProgressModel",
          "state": {
            "_dom_classes": [],
            "_model_module": "@jupyter-widgets/controls",
            "_model_module_version": "1.5.0",
            "_model_name": "FloatProgressModel",
            "_view_count": null,
            "_view_module": "@jupyter-widgets/controls",
            "_view_module_version": "1.5.0",
            "_view_name": "ProgressView",
            "bar_style": "success",
            "description": "",
            "description_tooltip": null,
            "layout": "IPY_MODEL_f12ec2ae6e15454ba79732e661735cf7",
            "max": 467,
            "min": 0,
            "orientation": "horizontal",
            "style": "IPY_MODEL_0902ab79a67848a1bed7ec29b2ce852b",
            "value": 467
          }
        },
        "69176ea61bfc44178fbc2dce2fe0b6b0": {
          "model_module": "@jupyter-widgets/base",
          "model_module_version": "1.2.0",
          "model_name": "LayoutModel",
          "state": {
            "_model_module": "@jupyter-widgets/base",
            "_model_module_version": "1.2.0",
            "_model_name": "LayoutModel",
            "_view_count": null,
            "_view_module": "@jupyter-widgets/base",
            "_view_module_version": "1.2.0",
            "_view_name": "LayoutView",
            "align_content": null,
            "align_items": null,
            "align_self": null,
            "border": null,
            "bottom": null,
            "display": null,
            "flex": null,
            "flex_flow": null,
            "grid_area": null,
            "grid_auto_columns": null,
            "grid_auto_flow": null,
            "grid_auto_rows": null,
            "grid_column": null,
            "grid_gap": null,
            "grid_row": null,
            "grid_template_areas": null,
            "grid_template_columns": null,
            "grid_template_rows": null,
            "height": null,
            "justify_content": null,
            "justify_items": null,
            "left": null,
            "margin": null,
            "max_height": null,
            "max_width": null,
            "min_height": null,
            "min_width": null,
            "object_fit": null,
            "object_position": null,
            "order": null,
            "overflow": null,
            "overflow_x": null,
            "overflow_y": null,
            "padding": null,
            "right": null,
            "top": null,
            "visibility": null,
            "width": null
          }
        },
        "69263f0e96aa41d6ab54e0bf7857e117": {
          "model_module": "@jupyter-widgets/controls",
          "model_module_version": "1.5.0",
          "model_name": "ProgressStyleModel",
          "state": {
            "_model_module": "@jupyter-widgets/controls",
            "_model_module_version": "1.5.0",
            "_model_name": "ProgressStyleModel",
            "_view_count": null,
            "_view_module": "@jupyter-widgets/base",
            "_view_module_version": "1.2.0",
            "_view_name": "StyleView",
            "bar_color": null,
            "description_width": ""
          }
        },
        "6a0ca31dfb0f4ed78bf5e80d8b36b071": {
          "model_module": "catboost-widget",
          "model_module_version": "^1.0.0",
          "model_name": "CatboostWidgetModel",
          "state": {
            "_dom_classes": [],
            "_model_module": "catboost-widget",
            "_model_module_version": "^1.0.0",
            "_model_name": "CatboostWidgetModel",
            "_view_count": null,
            "_view_module": "catboost-widget",
            "_view_module_version": "^1.0.0",
            "_view_name": "CatboostWidgetView",
            "data": {
              "catboost_info": {
                "content": {
                  "data": {
                    "iterations": [
                      {
                        "iteration": 0,
                        "learn": [
                          1.560222688,
                          0.4431946007
                        ],
                        "passed_time": 0.2410990512,
                        "remaining_time": 240.8579522,
                        "test": [
                          1.562983551,
                          0.4312668464
                        ]
                      },
                      {
                        "iteration": 1,
                        "learn": [
                          1.516545571,
                          0.4559430071
                        ],
                        "passed_time": 0.3561875063,
                        "remaining_time": 177.7375656,
                        "test": [
                          1.521076725,
                          0.4514824798
                        ]
                      },
                      {
                        "iteration": 2,
                        "learn": [
                          1.483635251,
                          0.4533183352
                        ],
                        "passed_time": 0.4819398006,
                        "remaining_time": 160.1646604,
                        "test": [
                          1.491826511,
                          0.4447439353
                        ]
                      },
                      {
                        "iteration": 3,
                        "learn": [
                          1.45828686,
                          0.4484439445
                        ],
                        "passed_time": 0.6157715784,
                        "remaining_time": 153.327123,
                        "test": [
                          1.46707153,
                          0.4420485175
                        ]
                      },
                      {
                        "iteration": 4,
                        "learn": [
                          1.433995508,
                          0.4566929134
                        ],
                        "passed_time": 0.7537939774,
                        "remaining_time": 150.0050015,
                        "test": [
                          1.445237955,
                          0.4501347709
                        ]
                      },
                      {
                        "iteration": 5,
                        "learn": [
                          1.41518943,
                          0.4570678665
                        ],
                        "passed_time": 0.868946177,
                        "remaining_time": 143.9554167,
                        "test": [
                          1.426068314,
                          0.4501347709
                        ]
                      },
                      {
                        "iteration": 6,
                        "learn": [
                          1.398645835,
                          0.4570678665
                        ],
                        "passed_time": 0.9801100403,
                        "remaining_time": 139.03561,
                        "test": [
                          1.410820808,
                          0.4514824798
                        ]
                      },
                      {
                        "iteration": 7,
                        "learn": [
                          1.381545798,
                          0.4593175853
                        ],
                        "passed_time": 1.084220468,
                        "remaining_time": 134.443338,
                        "test": [
                          1.395204738,
                          0.4528301887
                        ]
                      },
                      {
                        "iteration": 8,
                        "learn": [
                          1.36692027,
                          0.4623172103
                        ],
                        "passed_time": 1.19116451,
                        "remaining_time": 131.1604477,
                        "test": [
                          1.381553874,
                          0.4568733154
                        ]
                      },
                      {
                        "iteration": 9,
                        "learn": [
                          1.352436139,
                          0.4660667417
                        ],
                        "passed_time": 1.311946806,
                        "remaining_time": 129.8827338,
                        "test": [
                          1.369326909,
                          0.4582210243
                        ]
                      },
                      {
                        "iteration": 10,
                        "learn": [
                          1.342716257,
                          0.4660667417
                        ],
                        "passed_time": 1.416606922,
                        "remaining_time": 127.3658406,
                        "test": [
                          1.360894939,
                          0.4582210243
                        ]
                      },
                      {
                        "iteration": 11,
                        "learn": [
                          1.335650742,
                          0.4653168354
                        ],
                        "passed_time": 1.523865954,
                        "remaining_time": 125.4649635,
                        "test": [
                          1.354210892,
                          0.4582210243
                        ]
                      },
                      {
                        "iteration": 12,
                        "learn": [
                          1.327523638,
                          0.4668166479
                        ],
                        "passed_time": 1.655803261,
                        "remaining_time": 125.7136783,
                        "test": [
                          1.347713057,
                          0.4568733154
                        ]
                      },
                      {
                        "iteration": 13,
                        "learn": [
                          1.316907882,
                          0.4675665542
                        ],
                        "passed_time": 1.782895109,
                        "remaining_time": 125.5667555,
                        "test": [
                          1.338576238,
                          0.4568733154
                        ]
                      },
                      {
                        "iteration": 14,
                        "learn": [
                          1.308718937,
                          0.4675665542
                        ],
                        "passed_time": 1.952236176,
                        "remaining_time": 128.1968423,
                        "test": [
                          1.331316192,
                          0.4582210243
                        ]
                      },
                      {
                        "iteration": 15,
                        "learn": [
                          1.303417033,
                          0.4686914136
                        ],
                        "passed_time": 2.099298111,
                        "remaining_time": 129.1068338,
                        "test": [
                          1.326340794,
                          0.4582210243
                        ]
                      },
                      {
                        "iteration": 16,
                        "learn": [
                          1.294843595,
                          0.4694413198
                        ],
                        "passed_time": 2.212851162,
                        "remaining_time": 127.9548642,
                        "test": [
                          1.319462319,
                          0.4582210243
                        ]
                      },
                      {
                        "iteration": 17,
                        "learn": [
                          1.291215683,
                          0.4694413198
                        ],
                        "passed_time": 2.328371733,
                        "remaining_time": 127.0256134,
                        "test": [
                          1.316785507,
                          0.4582210243
                        ]
                      },
                      {
                        "iteration": 18,
                        "learn": [
                          1.287345552,
                          0.4694413198
                        ],
                        "passed_time": 2.467296451,
                        "remaining_time": 127.3904115,
                        "test": [
                          1.314161348,
                          0.4582210243
                        ]
                      },
                      {
                        "iteration": 19,
                        "learn": [
                          1.282595414,
                          0.4686914136
                        ],
                        "passed_time": 2.605055173,
                        "remaining_time": 127.6477035,
                        "test": [
                          1.309349397,
                          0.4595687332
                        ]
                      },
                      {
                        "iteration": 20,
                        "learn": [
                          1.279140027,
                          0.469816273
                        ],
                        "passed_time": 2.731219707,
                        "remaining_time": 127.3268616,
                        "test": [
                          1.305460161,
                          0.460916442
                        ]
                      },
                      {
                        "iteration": 21,
                        "learn": [
                          1.274577087,
                          0.4705661792
                        ],
                        "passed_time": 2.855500674,
                        "remaining_time": 126.9399845,
                        "test": [
                          1.302152214,
                          0.460916442
                        ]
                      },
                      {
                        "iteration": 22,
                        "learn": [
                          1.271691263,
                          0.4758155231
                        ],
                        "passed_time": 2.978836244,
                        "remaining_time": 126.5357831,
                        "test": [
                          1.29915268,
                          0.4676549865
                        ]
                      },
                      {
                        "iteration": 23,
                        "learn": [
                          1.270149304,
                          0.4750656168
                        ],
                        "passed_time": 3.090721599,
                        "remaining_time": 125.689345,
                        "test": [
                          1.298512336,
                          0.4676549865
                        ]
                      },
                      {
                        "iteration": 24,
                        "learn": [
                          1.266851851,
                          0.4754405699
                        ],
                        "passed_time": 3.225137675,
                        "remaining_time": 125.7803693,
                        "test": [
                          1.295565535,
                          0.4690026954
                        ]
                      },
                      {
                        "iteration": 25,
                        "learn": [
                          1.26224893,
                          0.4754405699
                        ],
                        "passed_time": 3.357885915,
                        "remaining_time": 125.7915724,
                        "test": [
                          1.292976415,
                          0.4690026954
                        ]
                      },
                      {
                        "iteration": 26,
                        "learn": [
                          1.258462181,
                          0.4769403825
                        ],
                        "passed_time": 3.467506248,
                        "remaining_time": 124.9586511,
                        "test": [
                          1.289705971,
                          0.4716981132
                        ]
                      },
                      {
                        "iteration": 27,
                        "learn": [
                          1.252818258,
                          0.4769403825
                        ],
                        "passed_time": 3.580821515,
                        "remaining_time": 124.3056612,
                        "test": [
                          1.284856119,
                          0.4730458221
                        ]
                      },
                      {
                        "iteration": 28,
                        "learn": [
                          1.250406754,
                          0.4776902887
                        ],
                        "passed_time": 3.699650182,
                        "remaining_time": 123.874494,
                        "test": [
                          1.28233512,
                          0.4730458221
                        ]
                      },
                      {
                        "iteration": 29,
                        "learn": [
                          1.248902162,
                          0.4780652418
                        ],
                        "passed_time": 3.818824089,
                        "remaining_time": 123.4753122,
                        "test": [
                          1.281062209,
                          0.4716981132
                        ]
                      },
                      {
                        "iteration": 30,
                        "learn": [
                          1.24379819,
                          0.48143982
                        ],
                        "passed_time": 3.931359965,
                        "remaining_time": 122.8867034,
                        "test": [
                          1.277456987,
                          0.4716981132
                        ]
                      },
                      {
                        "iteration": 31,
                        "learn": [
                          1.242543241,
                          0.4803149606
                        ],
                        "passed_time": 4.057958992,
                        "remaining_time": 122.7532595,
                        "test": [
                          1.276318863,
                          0.4730458221
                        ]
                      },
                      {
                        "iteration": 32,
                        "learn": [
                          1.240521548,
                          0.4806899138
                        ],
                        "passed_time": 4.218311613,
                        "remaining_time": 123.609313,
                        "test": [
                          1.2748117,
                          0.4730458221
                        ]
                      },
                      {
                        "iteration": 33,
                        "learn": [
                          1.237696897,
                          0.4810648669
                        ],
                        "passed_time": 4.359180929,
                        "remaining_time": 123.8520229,
                        "test": [
                          1.272775934,
                          0.4730458221
                        ]
                      },
                      {
                        "iteration": 34,
                        "learn": [
                          1.236344103,
                          0.48143982
                        ],
                        "passed_time": 4.472188195,
                        "remaining_time": 123.3046174,
                        "test": [
                          1.271635797,
                          0.4730458221
                        ]
                      },
                      {
                        "iteration": 35,
                        "learn": [
                          1.234627864,
                          0.4818147732
                        ],
                        "passed_time": 4.617208667,
                        "remaining_time": 123.6385876,
                        "test": [
                          1.27073008,
                          0.4730458221
                        ]
                      },
                      {
                        "iteration": 36,
                        "learn": [
                          1.231433253,
                          0.4821897263
                        ],
                        "passed_time": 4.730888107,
                        "remaining_time": 123.1309526,
                        "test": [
                          1.266593079,
                          0.4730458221
                        ]
                      },
                      {
                        "iteration": 37,
                        "learn": [
                          1.229485244,
                          0.4818147732
                        ],
                        "passed_time": 4.855942022,
                        "remaining_time": 122.9320059,
                        "test": [
                          1.265613407,
                          0.474393531
                        ]
                      },
                      {
                        "iteration": 38,
                        "learn": [
                          1.227557785,
                          0.4825646794
                        ],
                        "passed_time": 4.993869578,
                        "remaining_time": 123.0540683,
                        "test": [
                          1.264291481,
                          0.4730458221
                        ]
                      },
                      {
                        "iteration": 39,
                        "learn": [
                          1.226182751,
                          0.4829396325
                        ],
                        "passed_time": 5.120741781,
                        "remaining_time": 122.8978027,
                        "test": [
                          1.263439989,
                          0.4730458221
                        ]
                      },
                      {
                        "iteration": 40,
                        "learn": [
                          1.224521704,
                          0.4833145857
                        ],
                        "passed_time": 5.232885969,
                        "remaining_time": 122.3984791,
                        "test": [
                          1.263175186,
                          0.4730458221
                        ]
                      },
                      {
                        "iteration": 41,
                        "learn": [
                          1.222251784,
                          0.4840644919
                        ],
                        "passed_time": 5.371116294,
                        "remaining_time": 122.512605,
                        "test": [
                          1.262431541,
                          0.4730458221
                        ]
                      },
                      {
                        "iteration": 42,
                        "learn": [
                          1.219217324,
                          0.4859392576
                        ],
                        "passed_time": 5.492509487,
                        "remaining_time": 122.2402693,
                        "test": [
                          1.260863197,
                          0.4730458221
                        ]
                      },
                      {
                        "iteration": 43,
                        "learn": [
                          1.216682136,
                          0.4874390701
                        ],
                        "passed_time": 5.622284321,
                        "remaining_time": 122.1569048,
                        "test": [
                          1.258979475,
                          0.474393531
                        ]
                      },
                      {
                        "iteration": 44,
                        "learn": [
                          1.213362339,
                          0.487064117
                        ],
                        "passed_time": 5.754398832,
                        "remaining_time": 122.1211308,
                        "test": [
                          1.257129798,
                          0.474393531
                        ]
                      },
                      {
                        "iteration": 45,
                        "learn": [
                          1.21134998,
                          0.4878140232
                        ],
                        "passed_time": 5.890355907,
                        "remaining_time": 122.1608595,
                        "test": [
                          1.255438229,
                          0.4757412399
                        ]
                      },
                      {
                        "iteration": 46,
                        "learn": [
                          1.209389677,
                          0.4885639295
                        ],
                        "passed_time": 5.973084817,
                        "remaining_time": 121.1138262,
                        "test": [
                          1.254201989,
                          0.4770889488
                        ]
                      },
                      {
                        "iteration": 47,
                        "learn": [
                          1.207767628,
                          0.4893138358
                        ],
                        "passed_time": 6.058661389,
                        "remaining_time": 120.1634509,
                        "test": [
                          1.252907093,
                          0.4770889488
                        ]
                      },
                      {
                        "iteration": 48,
                        "learn": [
                          1.205663112,
                          0.4923134608
                        ],
                        "passed_time": 6.139927999,
                        "remaining_time": 119.164725,
                        "test": [
                          1.250548648,
                          0.4797843666
                        ]
                      },
                      {
                        "iteration": 49,
                        "learn": [
                          1.204638453,
                          0.4930633671
                        ],
                        "passed_time": 6.238166532,
                        "remaining_time": 118.5251641,
                        "test": [
                          1.249870019,
                          0.4797843666
                        ]
                      },
                      {
                        "iteration": 50,
                        "learn": [
                          1.203248348,
                          0.4930633671
                        ],
                        "passed_time": 6.347757882,
                        "remaining_time": 118.1180829,
                        "test": [
                          1.24920504,
                          0.4797843666
                        ]
                      },
                      {
                        "iteration": 51,
                        "learn": [
                          1.200853836,
                          0.4938132733
                        ],
                        "passed_time": 6.447023035,
                        "remaining_time": 117.5341892,
                        "test": [
                          1.247463459,
                          0.4784366577
                        ]
                      },
                      {
                        "iteration": 52,
                        "learn": [
                          1.199439668,
                          0.4938132733
                        ],
                        "passed_time": 6.550057661,
                        "remaining_time": 117.0359359,
                        "test": [
                          1.246083745,
                          0.4797843666
                        ]
                      },
                      {
                        "iteration": 53,
                        "learn": [
                          1.19770826,
                          0.4949381327
                        ],
                        "passed_time": 6.664738533,
                        "remaining_time": 116.7563454,
                        "test": [
                          1.24459708,
                          0.4851752022
                        ]
                      },
                      {
                        "iteration": 54,
                        "learn": [
                          1.196363302,
                          0.4949381327
                        ],
                        "passed_time": 6.765314376,
                        "remaining_time": 116.2404015,
                        "test": [
                          1.243670627,
                          0.4878706199
                        ]
                      },
                      {
                        "iteration": 55,
                        "learn": [
                          1.195230358,
                          0.4953130859
                        ],
                        "passed_time": 6.867247881,
                        "remaining_time": 115.7621786,
                        "test": [
                          1.242909584,
                          0.4892183288
                        ]
                      },
                      {
                        "iteration": 56,
                        "learn": [
                          1.194434102,
                          0.4953130859
                        ],
                        "passed_time": 6.964609398,
                        "remaining_time": 115.2215204,
                        "test": [
                          1.242453599,
                          0.4878706199
                        ]
                      },
                      {
                        "iteration": 57,
                        "learn": [
                          1.193026146,
                          0.4960629921
                        ],
                        "passed_time": 7.06899589,
                        "remaining_time": 114.8102436,
                        "test": [
                          1.241339222,
                          0.4878706199
                        ]
                      },
                      {
                        "iteration": 58,
                        "learn": [
                          1.190931988,
                          0.4975628046
                        ],
                        "passed_time": 7.169848324,
                        "remaining_time": 114.3530046,
                        "test": [
                          1.239572631,
                          0.4892183288
                        ]
                      },
                      {
                        "iteration": 59,
                        "learn": [
                          1.18943024,
                          0.4979377578
                        ],
                        "passed_time": 7.277170038,
                        "remaining_time": 114.0089973,
                        "test": [
                          1.238714366,
                          0.4892183288
                        ]
                      },
                      {
                        "iteration": 60,
                        "learn": [
                          1.188399418,
                          0.4990626172
                        ],
                        "passed_time": 7.378432632,
                        "remaining_time": 113.5794794,
                        "test": [
                          1.238075654,
                          0.4892183288
                        ]
                      },
                      {
                        "iteration": 61,
                        "learn": [
                          1.187487511,
                          0.4998125234
                        ],
                        "passed_time": 7.474370616,
                        "remaining_time": 113.0799942,
                        "test": [
                          1.237458986,
                          0.4892183288
                        ]
                      },
                      {
                        "iteration": 62,
                        "learn": [
                          1.185621049,
                          0.5001874766
                        ],
                        "passed_time": 7.578487068,
                        "remaining_time": 112.7149584,
                        "test": [
                          1.235977992,
                          0.4878706199
                        ]
                      },
                      {
                        "iteration": 63,
                        "learn": [
                          1.183899778,
                          0.5001874766
                        ],
                        "passed_time": 7.698289741,
                        "remaining_time": 112.5874875,
                        "test": [
                          1.234849466,
                          0.4878706199
                        ]
                      },
                      {
                        "iteration": 64,
                        "learn": [
                          1.181704003,
                          0.5016872891
                        ],
                        "passed_time": 7.801729857,
                        "remaining_time": 112.2248833,
                        "test": [
                          1.233986586,
                          0.4878706199
                        ]
                      },
                      {
                        "iteration": 65,
                        "learn": [
                          1.17966568,
                          0.5020622422
                        ],
                        "passed_time": 7.902758622,
                        "remaining_time": 111.8360084,
                        "test": [
                          1.232520249,
                          0.4892183288
                        ]
                      },
                      {
                        "iteration": 66,
                        "learn": [
                          1.17699654,
                          0.5028121485
                        ],
                        "passed_time": 8.001712803,
                        "remaining_time": 111.4268365,
                        "test": [
                          1.230035754,
                          0.4892183288
                        ]
                      },
                      {
                        "iteration": 67,
                        "learn": [
                          1.175669119,
                          0.5035620547
                        ],
                        "passed_time": 8.101805507,
                        "remaining_time": 111.0423931,
                        "test": [
                          1.229104293,
                          0.4892183288
                        ]
                      },
                      {
                        "iteration": 68,
                        "learn": [
                          1.173386303,
                          0.504311961
                        ],
                        "passed_time": 8.203449593,
                        "remaining_time": 110.6871242,
                        "test": [
                          1.227984654,
                          0.4878706199
                        ]
                      },
                      {
                        "iteration": 69,
                        "learn": [
                          1.170793106,
                          0.5058117735
                        ],
                        "passed_time": 8.30906856,
                        "remaining_time": 110.3919109,
                        "test": [
                          1.226641709,
                          0.4905660377
                        ]
                      },
                      {
                        "iteration": 70,
                        "learn": [
                          1.168533522,
                          0.5073115861
                        ],
                        "passed_time": 8.40710975,
                        "remaining_time": 110.0028867,
                        "test": [
                          1.225362481,
                          0.4905660377
                        ]
                      },
                      {
                        "iteration": 71,
                        "learn": [
                          1.165751157,
                          0.5106861642
                        ],
                        "passed_time": 8.504634668,
                        "remaining_time": 109.6152913,
                        "test": [
                          1.223993001,
                          0.4905660377
                        ]
                      },
                      {
                        "iteration": 72,
                        "learn": [
                          1.163098514,
                          0.5118110236
                        ],
                        "passed_time": 8.607478722,
                        "remaining_time": 109.3031887,
                        "test": [
                          1.222226248,
                          0.4905660377
                        ]
                      },
                      {
                        "iteration": 73,
                        "learn": [
                          1.161163506,
                          0.5140607424
                        ],
                        "passed_time": 8.719944071,
                        "remaining_time": 109.117138,
                        "test": [
                          1.221037005,
                          0.4919137466
                        ]
                      },
                      {
                        "iteration": 74,
                        "learn": [
                          1.159604403,
                          0.5140607424
                        ],
                        "passed_time": 8.826006051,
                        "remaining_time": 108.8540746,
                        "test": [
                          1.220462798,
                          0.4919137466
                        ]
                      },
                      {
                        "iteration": 75,
                        "learn": [
                          1.158060676,
                          0.5136857893
                        ],
                        "passed_time": 8.928810684,
                        "remaining_time": 108.5555404,
                        "test": [
                          1.220112814,
                          0.4919137466
                        ]
                      },
                      {
                        "iteration": 76,
                        "learn": [
                          1.156510323,
                          0.5148106487
                        ],
                        "passed_time": 9.025412094,
                        "remaining_time": 108.187732,
                        "test": [
                          1.218879899,
                          0.4919137466
                        ]
                      },
                      {
                        "iteration": 77,
                        "learn": [
                          1.155097612,
                          0.5159355081
                        ],
                        "passed_time": 9.130509537,
                        "remaining_time": 107.927305,
                        "test": [
                          1.218048002,
                          0.4932614555
                        ]
                      },
                      {
                        "iteration": 78,
                        "learn": [
                          1.15386199,
                          0.5170603675
                        ],
                        "passed_time": 9.232424833,
                        "remaining_time": 107.6337123,
                        "test": [
                          1.217185214,
                          0.4946091644
                        ]
                      },
                      {
                        "iteration": 79,
                        "learn": [
                          1.151386044,
                          0.5170603675
                        ],
                        "passed_time": 9.347867474,
                        "remaining_time": 107.500476,
                        "test": [
                          1.215167825,
                          0.4959568733
                        ]
                      },
                      {
                        "iteration": 80,
                        "learn": [
                          1.149704125,
                          0.5174353206
                        ],
                        "passed_time": 9.449868066,
                        "remaining_time": 107.2151698,
                        "test": [
                          1.213924679,
                          0.4959568733
                        ]
                      },
                      {
                        "iteration": 81,
                        "learn": [
                          1.148490274,
                          0.5178102737
                        ],
                        "passed_time": 9.545945056,
                        "remaining_time": 106.868019,
                        "test": [
                          1.213739842,
                          0.4959568733
                        ]
                      },
                      {
                        "iteration": 82,
                        "learn": [
                          1.147440714,
                          0.51856018
                        ],
                        "passed_time": 9.65318987,
                        "remaining_time": 106.6503025,
                        "test": [
                          1.213137957,
                          0.4959568733
                        ]
                      },
                      {
                        "iteration": 83,
                        "learn": [
                          1.14602339,
                          0.5189351331
                        ],
                        "passed_time": 9.754478025,
                        "remaining_time": 106.3702604,
                        "test": [
                          1.212889978,
                          0.4959568733
                        ]
                      },
                      {
                        "iteration": 84,
                        "learn": [
                          1.144316732,
                          0.5196850394
                        ],
                        "passed_time": 9.834893869,
                        "remaining_time": 105.8697399,
                        "test": [
                          1.211360108,
                          0.4959568733
                        ]
                      },
                      {
                        "iteration": 85,
                        "learn": [
                          1.142820858,
                          0.521559805
                        ],
                        "passed_time": 9.91611636,
                        "remaining_time": 105.3875622,
                        "test": [
                          1.210031413,
                          0.4959568733
                        ]
                      },
                      {
                        "iteration": 86,
                        "learn": [
                          1.141114678,
                          0.5208098988
                        ],
                        "passed_time": 9.994820928,
                        "remaining_time": 104.8881782,
                        "test": [
                          1.20921762,
                          0.4959568733
                        ]
                      },
                      {
                        "iteration": 87,
                        "learn": [
                          1.139865836,
                          0.521559805
                        ],
                        "passed_time": 10.0767353,
                        "remaining_time": 104.4316203,
                        "test": [
                          1.208093061,
                          0.4959568733
                        ]
                      },
                      {
                        "iteration": 88,
                        "learn": [
                          1.138257653,
                          0.5230596175
                        ],
                        "passed_time": 10.15658067,
                        "remaining_time": 103.9623032,
                        "test": [
                          1.207221067,
                          0.4959568733
                        ]
                      },
                      {
                        "iteration": 89,
                        "learn": [
                          1.136888773,
                          0.5234345707
                        ],
                        "passed_time": 10.23837804,
                        "remaining_time": 103.5213779,
                        "test": [
                          1.206276128,
                          0.4959568733
                        ]
                      },
                      {
                        "iteration": 90,
                        "learn": [
                          1.135090334,
                          0.5230596175
                        ],
                        "passed_time": 10.31991194,
                        "remaining_time": 103.0857138,
                        "test": [
                          1.204910112,
                          0.4959568733
                        ]
                      },
                      {
                        "iteration": 91,
                        "learn": [
                          1.133780854,
                          0.5249343832
                        ],
                        "passed_time": 10.40063634,
                        "remaining_time": 102.6497587,
                        "test": [
                          1.204311955,
                          0.4973045822
                        ]
                      },
                      {
                        "iteration": 92,
                        "learn": [
                          1.131598444,
                          0.5268091489
                        ],
                        "passed_time": 10.48147695,
                        "remaining_time": 102.2225763,
                        "test": [
                          1.20334607,
                          0.4986522911
                        ]
                      },
                      {
                        "iteration": 93,
                        "learn": [
                          1.129570614,
                          0.5283089614
                        ],
                        "passed_time": 10.56349571,
                        "remaining_time": 101.8141182,
                        "test": [
                          1.202522991,
                          0.4986522911
                        ]
                      },
                      {
                        "iteration": 94,
                        "learn": [
                          1.128254047,
                          0.530183727
                        ],
                        "passed_time": 10.64628829,
                        "remaining_time": 101.4199042,
                        "test": [
                          1.201285914,
                          0.5040431267
                        ]
                      },
                      {
                        "iteration": 95,
                        "learn": [
                          1.126650299,
                          0.5305586802
                        ],
                        "passed_time": 10.7358915,
                        "remaining_time": 101.0963117,
                        "test": [
                          1.201129532,
                          0.5067385445
                        ]
                      },
                      {
                        "iteration": 96,
                        "learn": [
                          1.125801702,
                          0.5313085864
                        ],
                        "passed_time": 10.81892516,
                        "remaining_time": 100.7163857,
                        "test": [
                          1.201070116,
                          0.5067385445
                        ]
                      },
                      {
                        "iteration": 97,
                        "learn": [
                          1.124536439,
                          0.5320584927
                        ],
                        "passed_time": 10.90009511,
                        "remaining_time": 100.3253652,
                        "test": [
                          1.200487396,
                          0.5094339623
                        ]
                      },
                      {
                        "iteration": 98,
                        "learn": [
                          1.123208062,
                          0.5324334458
                        ],
                        "passed_time": 10.98087425,
                        "remaining_time": 99.93704745,
                        "test": [
                          1.199666559,
                          0.5107816712
                        ]
                      },
                      {
                        "iteration": 99,
                        "learn": [
                          1.122396129,
                          0.532808399
                        ],
                        "passed_time": 11.06358882,
                        "remaining_time": 99.57229934,
                        "test": [
                          1.199365948,
                          0.5094339623
                        ]
                      },
                      {
                        "iteration": 100,
                        "learn": [
                          1.120709618,
                          0.5331833521
                        ],
                        "passed_time": 11.14333025,
                        "remaining_time": 99.1866722,
                        "test": [
                          1.198188879,
                          0.5094339623
                        ]
                      },
                      {
                        "iteration": 101,
                        "learn": [
                          1.119400988,
                          0.5339332583
                        ],
                        "passed_time": 11.22466849,
                        "remaining_time": 98.82110104,
                        "test": [
                          1.196807611,
                          0.5080862534
                        ]
                      },
                      {
                        "iteration": 102,
                        "learn": [
                          1.117992092,
                          0.5346831646
                        ],
                        "passed_time": 11.30410564,
                        "remaining_time": 98.44449283,
                        "test": [
                          1.196312116,
                          0.5080862534
                        ]
                      },
                      {
                        "iteration": 103,
                        "learn": [
                          1.116854722,
                          0.5346831646
                        ],
                        "passed_time": 11.38296925,
                        "remaining_time": 98.06865811,
                        "test": [
                          1.195234606,
                          0.5080862534
                        ]
                      },
                      {
                        "iteration": 104,
                        "learn": [
                          1.115633469,
                          0.5350581177
                        ],
                        "passed_time": 11.46489574,
                        "remaining_time": 97.7245875,
                        "test": [
                          1.194716945,
                          0.5080862534
                        ]
                      },
                      {
                        "iteration": 105,
                        "learn": [
                          1.113987806,
                          0.5361829771
                        ],
                        "passed_time": 11.54504022,
                        "remaining_time": 97.37043359,
                        "test": [
                          1.193273643,
                          0.5094339623
                        ]
                      },
                      {
                        "iteration": 106,
                        "learn": [
                          1.112726323,
                          0.5365579303
                        ],
                        "passed_time": 11.62711732,
                        "remaining_time": 97.03753057,
                        "test": [
                          1.191625812,
                          0.5094339623
                        ]
                      },
                      {
                        "iteration": 107,
                        "learn": [
                          1.11177155,
                          0.5369328834
                        ],
                        "passed_time": 11.71114432,
                        "remaining_time": 96.72537716,
                        "test": [
                          1.190786272,
                          0.5094339623
                        ]
                      },
                      {
                        "iteration": 108,
                        "learn": [
                          1.110251532,
                          0.5365579303
                        ],
                        "passed_time": 11.79476603,
                        "remaining_time": 96.41409664,
                        "test": [
                          1.189979754,
                          0.5094339623
                        ]
                      },
                      {
                        "iteration": 109,
                        "learn": [
                          1.108870353,
                          0.5365579303
                        ],
                        "passed_time": 11.87632091,
                        "remaining_time": 96.09023283,
                        "test": [
                          1.189334875,
                          0.5094339623
                        ]
                      },
                      {
                        "iteration": 110,
                        "learn": [
                          1.107683778,
                          0.5373078365
                        ],
                        "passed_time": 11.95563526,
                        "remaining_time": 95.75279051,
                        "test": [
                          1.189003674,
                          0.5080862534
                        ]
                      },
                      {
                        "iteration": 111,
                        "learn": [
                          1.106521914,
                          0.5380577428
                        ],
                        "passed_time": 12.03568732,
                        "remaining_time": 95.42580658,
                        "test": [
                          1.188846848,
                          0.5080862534
                        ]
                      },
                      {
                        "iteration": 112,
                        "learn": [
                          1.105356483,
                          0.5380577428
                        ],
                        "passed_time": 12.11841135,
                        "remaining_time": 95.12416693,
                        "test": [
                          1.188289419,
                          0.5080862534
                        ]
                      },
                      {
                        "iteration": 113,
                        "learn": [
                          1.104112164,
                          0.5380577428
                        ],
                        "passed_time": 12.1994747,
                        "remaining_time": 94.81346126,
                        "test": [
                          1.187468495,
                          0.5080862534
                        ]
                      },
                      {
                        "iteration": 114,
                        "learn": [
                          1.102582977,
                          0.5384326959
                        ],
                        "passed_time": 12.28089107,
                        "remaining_time": 94.50946604,
                        "test": [
                          1.187043668,
                          0.5094339623
                        ]
                      },
                      {
                        "iteration": 115,
                        "learn": [
                          1.101670303,
                          0.5380577428
                        ],
                        "passed_time": 12.36808657,
                        "remaining_time": 94.25334937,
                        "test": [
                          1.1859317,
                          0.5107816712
                        ]
                      },
                      {
                        "iteration": 116,
                        "learn": [
                          1.100994117,
                          0.5384326959
                        ],
                        "passed_time": 12.4490719,
                        "remaining_time": 93.95325206,
                        "test": [
                          1.185454383,
                          0.5107816712
                        ]
                      },
                      {
                        "iteration": 117,
                        "learn": [
                          1.09970149,
                          0.5391826022
                        ],
                        "passed_time": 12.53591703,
                        "remaining_time": 93.70066797,
                        "test": [
                          1.184731446,
                          0.5107816712
                        ]
                      },
                      {
                        "iteration": 118,
                        "learn": [
                          1.097799329,
                          0.5403074616
                        ],
                        "passed_time": 12.61847833,
                        "remaining_time": 93.41915467,
                        "test": [
                          1.183423881,
                          0.5107816712
                        ]
                      },
                      {
                        "iteration": 119,
                        "learn": [
                          1.09629793,
                          0.541432321
                        ],
                        "passed_time": 12.70382846,
                        "remaining_time": 93.1614087,
                        "test": [
                          1.182153756,
                          0.5094339623
                        ]
                      },
                      {
                        "iteration": 120,
                        "learn": [
                          1.094621874,
                          0.5425571804
                        ],
                        "passed_time": 12.7886291,
                        "remaining_time": 92.90252048,
                        "test": [
                          1.181811321,
                          0.5107816712
                        ]
                      },
                      {
                        "iteration": 121,
                        "learn": [
                          1.093594319,
                          0.5436820397
                        ],
                        "passed_time": 12.87129683,
                        "remaining_time": 92.63113622,
                        "test": [
                          1.181911502,
                          0.5121293801
                        ]
                      },
                      {
                        "iteration": 122,
                        "learn": [
                          1.092508036,
                          0.5436820397
                        ],
                        "passed_time": 12.95136058,
                        "remaining_time": 92.3442539,
                        "test": [
                          1.181407616,
                          0.5121293801
                        ]
                      },
                      {
                        "iteration": 123,
                        "learn": [
                          1.09093974,
                          0.544431946
                        ],
                        "passed_time": 13.03805685,
                        "remaining_time": 92.10756292,
                        "test": [
                          1.180145741,
                          0.5121293801
                        ]
                      },
                      {
                        "iteration": 124,
                        "learn": [
                          1.090255552,
                          0.5440569929
                        ],
                        "passed_time": 13.12342771,
                        "remaining_time": 91.86399396,
                        "test": [
                          1.179925249,
                          0.5121293801
                        ]
                      },
                      {
                        "iteration": 125,
                        "learn": [
                          1.089151739,
                          0.5455568054
                        ],
                        "passed_time": 13.2030944,
                        "remaining_time": 91.58336906,
                        "test": [
                          1.17946208,
                          0.5121293801
                        ]
                      },
                      {
                        "iteration": 126,
                        "learn": [
                          1.088090604,
                          0.5470566179
                        ],
                        "passed_time": 13.28155172,
                        "remaining_time": 91.29759565,
                        "test": [
                          1.17914169,
                          0.5134770889
                        ]
                      },
                      {
                        "iteration": 127,
                        "learn": [
                          1.086955078,
                          0.5478065242
                        ],
                        "passed_time": 13.36169502,
                        "remaining_time": 91.02654734,
                        "test": [
                          1.178508323,
                          0.5148247978
                        ]
                      },
                      {
                        "iteration": 128,
                        "learn": [
                          1.086164118,
                          0.5493063367
                        ],
                        "passed_time": 13.44404837,
                        "remaining_time": 90.77338086,
                        "test": [
                          1.178336739,
                          0.5161725067
                        ]
                      },
                      {
                        "iteration": 129,
                        "learn": [
                          1.084322713,
                          0.5504311961
                        ],
                        "passed_time": 13.53606194,
                        "remaining_time": 90.58749147,
                        "test": [
                          1.176581274,
                          0.5148247978
                        ]
                      },
                      {
                        "iteration": 130,
                        "learn": [
                          1.083201776,
                          0.5523059618
                        ],
                        "passed_time": 13.6171421,
                        "remaining_time": 90.33050752,
                        "test": [
                          1.175932566,
                          0.5134770889
                        ]
                      },
                      {
                        "iteration": 131,
                        "learn": [
                          1.081806388,
                          0.5541807274
                        ],
                        "passed_time": 13.70331311,
                        "remaining_time": 90.10966501,
                        "test": [
                          1.174668467,
                          0.5161725067
                        ]
                      },
                      {
                        "iteration": 132,
                        "learn": [
                          1.080532026,
                          0.5556805399
                        ],
                        "passed_time": 13.78717458,
                        "remaining_time": 89.8757922,
                        "test": [
                          1.174260523,
                          0.5161725067
                        ]
                      },
                      {
                        "iteration": 133,
                        "learn": [
                          1.079692898,
                          0.5564304462
                        ],
                        "passed_time": 13.86777632,
                        "remaining_time": 89.62309175,
                        "test": [
                          1.174053159,
                          0.5161725067
                        ]
                      },
                      {
                        "iteration": 134,
                        "learn": [
                          1.078533638,
                          0.5568053993
                        ],
                        "passed_time": 13.94671324,
                        "remaining_time": 89.36227373,
                        "test": [
                          1.173631595,
                          0.5161725067
                        ]
                      },
                      {
                        "iteration": 135,
                        "learn": [
                          1.078091642,
                          0.5571803525
                        ],
                        "passed_time": 14.02628927,
                        "remaining_time": 89.10819063,
                        "test": [
                          1.173528723,
                          0.5148247978
                        ]
                      },
                      {
                        "iteration": 136,
                        "learn": [
                          1.076872862,
                          0.5575553056
                        ],
                        "passed_time": 14.1070831,
                        "remaining_time": 88.86432641,
                        "test": [
                          1.172782971,
                          0.5148247978
                        ]
                      },
                      {
                        "iteration": 137,
                        "learn": [
                          1.075841569,
                          0.5568053993
                        ],
                        "passed_time": 14.18772937,
                        "remaining_time": 88.62190376,
                        "test": [
                          1.172182179,
                          0.5148247978
                        ]
                      },
                      {
                        "iteration": 138,
                        "learn": [
                          1.075003539,
                          0.5571803525
                        ],
                        "passed_time": 14.26820276,
                        "remaining_time": 88.38073796,
                        "test": [
                          1.172038694,
                          0.5161725067
                        ]
                      },
                      {
                        "iteration": 139,
                        "learn": [
                          1.072867561,
                          0.5579302587
                        ],
                        "passed_time": 14.35089526,
                        "remaining_time": 88.15549948,
                        "test": [
                          1.171182025,
                          0.5161725067
                        ]
                      },
                      {
                        "iteration": 140,
                        "learn": [
                          1.071529736,
                          0.558680165
                        ],
                        "passed_time": 14.43061703,
                        "remaining_time": 87.91418461,
                        "test": [
                          1.170316507,
                          0.5161725067
                        ]
                      },
                      {
                        "iteration": 141,
                        "learn": [
                          1.070934823,
                          0.5598050244
                        ],
                        "passed_time": 14.509906,
                        "remaining_time": 87.67253061,
                        "test": [
                          1.169885795,
                          0.5175202156
                        ]
                      },
                      {
                        "iteration": 142,
                        "learn": [
                          1.069672988,
                          0.5609298838
                        ],
                        "passed_time": 14.59362855,
                        "remaining_time": 87.45971797,
                        "test": [
                          1.169207813,
                          0.5175202156
                        ]
                      },
                      {
                        "iteration": 143,
                        "learn": [
                          1.068258833,
                          0.56167979
                        ],
                        "passed_time": 14.67849682,
                        "remaining_time": 87.25550886,
                        "test": [
                          1.168029558,
                          0.5175202156
                        ]
                      },
                      {
                        "iteration": 144,
                        "learn": [
                          1.067230092,
                          0.5635545557
                        ],
                        "passed_time": 14.76013679,
                        "remaining_time": 87.03391003,
                        "test": [
                          1.167884387,
                          0.5161725067
                        ]
                      },
                      {
                        "iteration": 145,
                        "learn": [
                          1.06633019,
                          0.5639295088
                        ],
                        "passed_time": 14.84827783,
                        "remaining_time": 86.85225525,
                        "test": [
                          1.167895416,
                          0.5161725067
                        ]
                      },
                      {
                        "iteration": 146,
                        "learn": [
                          1.065648374,
                          0.5639295088
                        ],
                        "passed_time": 14.92651201,
                        "remaining_time": 86.61438603,
                        "test": [
                          1.167688255,
                          0.5161725067
                        ]
                      },
                      {
                        "iteration": 147,
                        "learn": [
                          1.06404843,
                          0.5643044619
                        ],
                        "passed_time": 15.00652392,
                        "remaining_time": 86.38890796,
                        "test": [
                          1.16756973,
                          0.5134770889
                        ]
                      },
                      {
                        "iteration": 148,
                        "learn": [
                          1.063047012,
                          0.5646794151
                        ],
                        "passed_time": 15.08509516,
                        "remaining_time": 86.15715421,
                        "test": [
                          1.167022014,
                          0.5134770889
                        ]
                      },
                      {
                        "iteration": 149,
                        "learn": [
                          1.062300193,
                          0.5658042745
                        ],
                        "passed_time": 15.16775406,
                        "remaining_time": 85.95060632,
                        "test": [
                          1.16680481,
                          0.5121293801
                        ]
                      },
                      {
                        "iteration": 150,
                        "learn": [
                          1.06139666,
                          0.5669291339
                        ],
                        "passed_time": 15.24809758,
                        "remaining_time": 85.73268109,
                        "test": [
                          1.166099813,
                          0.5121293801
                        ]
                      },
                      {
                        "iteration": 151,
                        "learn": [
                          1.060791752,
                          0.5665541807
                        ],
                        "passed_time": 15.32735221,
                        "remaining_time": 85.51049125,
                        "test": [
                          1.166013556,
                          0.5121293801
                        ]
                      },
                      {
                        "iteration": 152,
                        "learn": [
                          1.059507475,
                          0.5676790401
                        ],
                        "passed_time": 15.40632309,
                        "remaining_time": 85.28859907,
                        "test": [
                          1.165697564,
                          0.5134770889
                        ]
                      },
                      {
                        "iteration": 153,
                        "learn": [
                          1.058355843,
                          0.5684289464
                        ],
                        "passed_time": 15.48545768,
                        "remaining_time": 85.06946231,
                        "test": [
                          1.164928658,
                          0.5134770889
                        ]
                      },
                      {
                        "iteration": 154,
                        "learn": [
                          1.057522714,
                          0.5684289464
                        ],
                        "passed_time": 15.5645923,
                        "remaining_time": 84.85213222,
                        "test": [
                          1.164286088,
                          0.5134770889
                        ]
                      },
                      {
                        "iteration": 155,
                        "learn": [
                          1.056442073,
                          0.5684289464
                        ],
                        "passed_time": 15.64458578,
                        "remaining_time": 84.64122048,
                        "test": [
                          1.163653058,
                          0.5134770889
                        ]
                      },
                      {
                        "iteration": 156,
                        "learn": [
                          1.055454032,
                          0.5699287589
                        ],
                        "passed_time": 15.72896716,
                        "remaining_time": 84.45553705,
                        "test": [
                          1.163245579,
                          0.5134770889
                        ]
                      },
                      {
                        "iteration": 157,
                        "learn": [
                          1.054375449,
                          0.5695538058
                        ],
                        "passed_time": 15.81312861,
                        "remaining_time": 84.26996385,
                        "test": [
                          1.163131116,
                          0.5134770889
                        ]
                      },
                      {
                        "iteration": 158,
                        "learn": [
                          1.053612803,
                          0.5699287589
                        ],
                        "passed_time": 15.89911644,
                        "remaining_time": 84.09532657,
                        "test": [
                          1.16275687,
                          0.5134770889
                        ]
                      },
                      {
                        "iteration": 159,
                        "learn": [
                          1.052442346,
                          0.570303712
                        ],
                        "passed_time": 15.98826502,
                        "remaining_time": 83.93839137,
                        "test": [
                          1.161994787,
                          0.5134770889
                        ]
                      },
                      {
                        "iteration": 160,
                        "learn": [
                          1.051666468,
                          0.5706786652
                        ],
                        "passed_time": 16.07422735,
                        "remaining_time": 83.76569406,
                        "test": [
                          1.16155531,
                          0.5148247978
                        ]
                      },
                      {
                        "iteration": 161,
                        "learn": [
                          1.051001283,
                          0.5725534308
                        ],
                        "passed_time": 16.15893496,
                        "remaining_time": 83.58757713,
                        "test": [
                          1.161268664,
                          0.5161725067
                        ]
                      },
                      {
                        "iteration": 162,
                        "learn": [
                          1.049691635,
                          0.5744281965
                        ],
                        "passed_time": 16.23959035,
                        "remaining_time": 83.38979828,
                        "test": [
                          1.160880821,
                          0.5148247978
                        ]
                      },
                      {
                        "iteration": 163,
                        "learn": [
                          1.048771656,
                          0.5744281965
                        ],
                        "passed_time": 16.32103504,
                        "remaining_time": 83.19747129,
                        "test": [
                          1.160219784,
                          0.5175202156
                        ]
                      },
                      {
                        "iteration": 164,
                        "learn": [
                          1.047827188,
                          0.5748031496
                        ],
                        "passed_time": 16.4015797,
                        "remaining_time": 83.00193361,
                        "test": [
                          1.159911201,
                          0.5175202156
                        ]
                      },
                      {
                        "iteration": 165,
                        "learn": [
                          1.046792202,
                          0.5770528684
                        ],
                        "passed_time": 16.48153124,
                        "remaining_time": 82.80480154,
                        "test": [
                          1.159227488,
                          0.5175202156
                        ]
                      },
                      {
                        "iteration": 166,
                        "learn": [
                          1.045808166,
                          0.5781777278
                        ],
                        "passed_time": 16.562699,
                        "remaining_time": 82.61513934,
                        "test": [
                          1.15883569,
                          0.5161725067
                        ]
                      },
                      {
                        "iteration": 167,
                        "learn": [
                          1.044971418,
                          0.578927634
                        ],
                        "passed_time": 16.6520744,
                        "remaining_time": 82.46741606,
                        "test": [
                          1.158180726,
                          0.5161725067
                        ]
                      },
                      {
                        "iteration": 168,
                        "learn": [
                          1.043676235,
                          0.5796775403
                        ],
                        "passed_time": 16.738316,
                        "remaining_time": 82.30497393,
                        "test": [
                          1.158217277,
                          0.5134770889
                        ]
                      },
                      {
                        "iteration": 169,
                        "learn": [
                          1.042905068,
                          0.5804274466
                        ],
                        "passed_time": 16.81783423,
                        "remaining_time": 82.1106024,
                        "test": [
                          1.158032877,
                          0.5134770889
                        ]
                      },
                      {
                        "iteration": 170,
                        "learn": [
                          1.042328521,
                          0.5808023997
                        ],
                        "passed_time": 16.9026366,
                        "remaining_time": 81.94319149,
                        "test": [
                          1.158121167,
                          0.5134770889
                        ]
                      },
                      {
                        "iteration": 171,
                        "learn": [
                          1.041784398,
                          0.5811773528
                        ],
                        "passed_time": 16.98148349,
                        "remaining_time": 81.7480717,
                        "test": [
                          1.15777758,
                          0.5134770889
                        ]
                      },
                      {
                        "iteration": 172,
                        "learn": [
                          1.040826253,
                          0.581552306
                        ],
                        "passed_time": 17.05983064,
                        "remaining_time": 81.55190715,
                        "test": [
                          1.157970664,
                          0.5134770889
                        ]
                      },
                      {
                        "iteration": 173,
                        "learn": [
                          1.040168456,
                          0.581552306
                        ],
                        "passed_time": 17.13909389,
                        "remaining_time": 81.3614457,
                        "test": [
                          1.157964457,
                          0.5134770889
                        ]
                      },
                      {
                        "iteration": 174,
                        "learn": [
                          1.039455496,
                          0.5823022122
                        ],
                        "passed_time": 17.22332871,
                        "remaining_time": 81.19569249,
                        "test": [
                          1.157888284,
                          0.5134770889
                        ]
                      },
                      {
                        "iteration": 175,
                        "learn": [
                          1.038878222,
                          0.5826771654
                        ],
                        "passed_time": 17.30246628,
                        "remaining_time": 81.00700122,
                        "test": [
                          1.157613637,
                          0.5148247978
                        ]
                      },
                      {
                        "iteration": 176,
                        "learn": [
                          1.038138993,
                          0.5830521185
                        ],
                        "passed_time": 17.3802901,
                        "remaining_time": 80.81343926,
                        "test": [
                          1.157417553,
                          0.5148247978
                        ]
                      },
                      {
                        "iteration": 177,
                        "learn": [
                          1.037397055,
                          0.5830521185
                        ],
                        "passed_time": 17.45701303,
                        "remaining_time": 80.61609387,
                        "test": [
                          1.156968211,
                          0.5148247978
                        ]
                      },
                      {
                        "iteration": 178,
                        "learn": [
                          1.036793639,
                          0.584551931
                        ],
                        "passed_time": 17.53519092,
                        "remaining_time": 80.42676951,
                        "test": [
                          1.156644937,
                          0.5161725067
                        ]
                      },
                      {
                        "iteration": 179,
                        "learn": [
                          1.036186656,
                          0.584551931
                        ],
                        "passed_time": 17.6162238,
                        "remaining_time": 80.25168622,
                        "test": [
                          1.156640742,
                          0.5161725067
                        ]
                      },
                      {
                        "iteration": 180,
                        "learn": [
                          1.035512875,
                          0.5841769779
                        ],
                        "passed_time": 17.69449125,
                        "remaining_time": 80.0651289,
                        "test": [
                          1.156097104,
                          0.5161725067
                        ]
                      },
                      {
                        "iteration": 181,
                        "learn": [
                          1.035139992,
                          0.5841769779
                        ],
                        "passed_time": 17.78246447,
                        "remaining_time": 79.92338428,
                        "test": [
                          1.156015031,
                          0.5148247978
                        ]
                      },
                      {
                        "iteration": 182,
                        "learn": [
                          1.034393458,
                          0.584551931
                        ],
                        "passed_time": 17.86749169,
                        "remaining_time": 79.76907494,
                        "test": [
                          1.15594685,
                          0.5148247978
                        ]
                      },
                      {
                        "iteration": 183,
                        "learn": [
                          1.033724472,
                          0.5849268841
                        ],
                        "passed_time": 17.94986308,
                        "remaining_time": 79.6037406,
                        "test": [
                          1.155073959,
                          0.5161725067
                        ]
                      },
                      {
                        "iteration": 184,
                        "learn": [
                          1.032779751,
                          0.5849268841
                        ],
                        "passed_time": 18.03011653,
                        "remaining_time": 79.42997281,
                        "test": [
                          1.154720251,
                          0.5148247978
                        ]
                      },
                      {
                        "iteration": 185,
                        "learn": [
                          1.032360478,
                          0.5849268841
                        ],
                        "passed_time": 18.10990833,
                        "remaining_time": 79.25519024,
                        "test": [
                          1.154439233,
                          0.5148247978
                        ]
                      },
                      {
                        "iteration": 186,
                        "learn": [
                          1.03182516,
                          0.5853018373
                        ],
                        "passed_time": 18.18986807,
                        "remaining_time": 79.08215368,
                        "test": [
                          1.153848544,
                          0.5148247978
                        ]
                      },
                      {
                        "iteration": 187,
                        "learn": [
                          1.030922098,
                          0.5853018373
                        ],
                        "passed_time": 18.26805523,
                        "remaining_time": 78.90245132,
                        "test": [
                          1.153511501,
                          0.5148247978
                        ]
                      },
                      {
                        "iteration": 188,
                        "learn": [
                          1.030228971,
                          0.5856767904
                        ],
                        "passed_time": 18.34643465,
                        "remaining_time": 78.72464815,
                        "test": [
                          1.153188685,
                          0.5148247978
                        ]
                      },
                      {
                        "iteration": 189,
                        "learn": [
                          1.029467309,
                          0.5856767904
                        ],
                        "passed_time": 18.42470591,
                        "remaining_time": 78.54743048,
                        "test": [
                          1.152650449,
                          0.5161725067
                        ]
                      },
                      {
                        "iteration": 190,
                        "learn": [
                          1.028793015,
                          0.5860517435
                        ],
                        "passed_time": 18.50610065,
                        "remaining_time": 78.38447866,
                        "test": [
                          1.151879485,
                          0.5161725067
                        ]
                      },
                      {
                        "iteration": 191,
                        "learn": [
                          1.028037149,
                          0.5860517435
                        ],
                        "passed_time": 18.59295598,
                        "remaining_time": 78.24535643,
                        "test": [
                          1.151316127,
                          0.5188679245
                        ]
                      },
                      {
                        "iteration": 192,
                        "learn": [
                          1.027250866,
                          0.5864266967
                        ],
                        "passed_time": 18.67225917,
                        "remaining_time": 78.07519768,
                        "test": [
                          1.150486544,
                          0.5202156334
                        ]
                      },
                      {
                        "iteration": 193,
                        "learn": [
                          1.026338341,
                          0.5868016498
                        ],
                        "passed_time": 18.75926083,
                        "remaining_time": 77.93795993,
                        "test": [
                          1.149732793,
                          0.5202156334
                        ]
                      },
                      {
                        "iteration": 194,
                        "learn": [
                          1.025738623,
                          0.5871766029
                        ],
                        "passed_time": 18.84108477,
                        "remaining_time": 77.77986276,
                        "test": [
                          1.149645907,
                          0.5202156334
                        ]
                      },
                      {
                        "iteration": 195,
                        "learn": [
                          1.024755499,
                          0.5886764154
                        ],
                        "passed_time": 18.92820369,
                        "remaining_time": 77.64426411,
                        "test": [
                          1.148783908,
                          0.5215633423
                        ]
                      },
                      {
                        "iteration": 196,
                        "learn": [
                          1.0238949,
                          0.590176228
                        ],
                        "passed_time": 19.00783916,
                        "remaining_time": 77.47865404,
                        "test": [
                          1.148863347,
                          0.5215633423
                        ]
                      },
                      {
                        "iteration": 197,
                        "learn": [
                          1.02342319,
                          0.5905511811
                        ],
                        "passed_time": 19.08844432,
                        "remaining_time": 77.31784011,
                        "test": [
                          1.148817787,
                          0.5202156334
                        ]
                      },
                      {
                        "iteration": 198,
                        "learn": [
                          1.022796634,
                          0.5909261342
                        ],
                        "passed_time": 19.17105397,
                        "remaining_time": 77.16590064,
                        "test": [
                          1.148470048,
                          0.5202156334
                        ]
                      },
                      {
                        "iteration": 199,
                        "learn": [
                          1.021868934,
                          0.5913010874
                        ],
                        "passed_time": 19.25092442,
                        "remaining_time": 77.0036977,
                        "test": [
                          1.148219667,
                          0.5202156334
                        ]
                      },
                      {
                        "iteration": 200,
                        "learn": [
                          1.020791413,
                          0.5916760405
                        ],
                        "passed_time": 19.33099108,
                        "remaining_time": 76.84309389,
                        "test": [
                          1.147741912,
                          0.5215633423
                        ]
                      },
                      {
                        "iteration": 201,
                        "learn": [
                          1.019850274,
                          0.5924259468
                        ],
                        "passed_time": 19.41239537,
                        "remaining_time": 76.6885718,
                        "test": [
                          1.147021372,
                          0.5202156334
                        ]
                      },
                      {
                        "iteration": 202,
                        "learn": [
                          1.01919135,
                          0.593175853
                        ],
                        "passed_time": 19.49208199,
                        "remaining_time": 76.52802632,
                        "test": [
                          1.146629453,
                          0.5202156334
                        ]
                      },
                      {
                        "iteration": 203,
                        "learn": [
                          1.018199811,
                          0.5943007124
                        ],
                        "passed_time": 19.5732085,
                        "remaining_time": 76.373892,
                        "test": [
                          1.146370385,
                          0.5188679245
                        ]
                      },
                      {
                        "iteration": 204,
                        "learn": [
                          1.017809584,
                          0.5943007124
                        ],
                        "passed_time": 19.65352682,
                        "remaining_time": 76.21733572,
                        "test": [
                          1.146201889,
                          0.5188679245
                        ]
                      },
                      {
                        "iteration": 205,
                        "learn": [
                          1.017090746,
                          0.5958005249
                        ],
                        "passed_time": 19.73823613,
                        "remaining_time": 76.0784441,
                        "test": [
                          1.144985912,
                          0.5202156334
                        ]
                      },
                      {
                        "iteration": 206,
                        "learn": [
                          1.016611673,
                          0.5958005249
                        ],
                        "passed_time": 19.85491349,
                        "remaining_time": 76.06254297,
                        "test": [
                          1.144966078,
                          0.5202156334
                        ]
                      },
                      {
                        "iteration": 207,
                        "learn": [
                          1.015989356,
                          0.5958005249
                        ],
                        "passed_time": 19.96745356,
                        "remaining_time": 76.02991934,
                        "test": [
                          1.144717147,
                          0.5202156334
                        ]
                      },
                      {
                        "iteration": 208,
                        "learn": [
                          1.015407241,
                          0.5958005249
                        ],
                        "passed_time": 20.07156556,
                        "remaining_time": 75.96463328,
                        "test": [
                          1.143921903,
                          0.5202156334
                        ]
                      },
                      {
                        "iteration": 209,
                        "learn": [
                          1.014846288,
                          0.5961754781
                        ],
                        "passed_time": 20.17137413,
                        "remaining_time": 75.88278841,
                        "test": [
                          1.143816017,
                          0.5188679245
                        ]
                      },
                      {
                        "iteration": 210,
                        "learn": [
                          1.014184482,
                          0.5973003375
                        ],
                        "passed_time": 20.27065423,
                        "remaining_time": 75.79879708,
                        "test": [
                          1.143692469,
                          0.5188679245
                        ]
                      },
                      {
                        "iteration": 211,
                        "learn": [
                          1.013290081,
                          0.5984251969
                        ],
                        "passed_time": 20.37132666,
                        "remaining_time": 75.71983684,
                        "test": [
                          1.143356287,
                          0.5188679245
                        ]
                      },
                      {
                        "iteration": 212,
                        "learn": [
                          1.012204522,
                          0.5984251969
                        ],
                        "passed_time": 20.47084594,
                        "remaining_time": 75.63641199,
                        "test": [
                          1.142999611,
                          0.5188679245
                        ]
                      },
                      {
                        "iteration": 213,
                        "learn": [
                          1.011703575,
                          0.59880015
                        ],
                        "passed_time": 20.5709633,
                        "remaining_time": 75.55503343,
                        "test": [
                          1.14297452,
                          0.5188679245
                        ]
                      },
                      {
                        "iteration": 214,
                        "learn": [
                          1.011226269,
                          0.59880015
                        ],
                        "passed_time": 20.67113419,
                        "remaining_time": 75.47367598,
                        "test": [
                          1.142758674,
                          0.5188679245
                        ]
                      },
                      {
                        "iteration": 215,
                        "learn": [
                          1.010452251,
                          0.5995500562
                        ],
                        "passed_time": 20.77849482,
                        "remaining_time": 75.41824046,
                        "test": [
                          1.142763059,
                          0.5188679245
                        ]
                      },
                      {
                        "iteration": 216,
                        "learn": [
                          1.010136014,
                          0.5999250094
                        ],
                        "passed_time": 20.88153856,
                        "remaining_time": 75.34674974,
                        "test": [
                          1.142429607,
                          0.5188679245
                        ]
                      },
                      {
                        "iteration": 217,
                        "learn": [
                          1.009763422,
                          0.6002999625
                        ],
                        "passed_time": 20.98616149,
                        "remaining_time": 75.28063433,
                        "test": [
                          1.142033297,
                          0.5202156334
                        ]
                      },
                      {
                        "iteration": 218,
                        "learn": [
                          1.009194622,
                          0.6006749156
                        ],
                        "passed_time": 21.08474612,
                        "remaining_time": 75.19263341,
                        "test": [
                          1.141665664,
                          0.5215633423
                        ]
                      },
                      {
                        "iteration": 219,
                        "learn": [
                          1.008687267,
                          0.6002999625
                        ],
                        "passed_time": 21.18334692,
                        "remaining_time": 75.10459364,
                        "test": [
                          1.141348445,
                          0.5215633423
                        ]
                      },
                      {
                        "iteration": 220,
                        "learn": [
                          1.008065338,
                          0.6006749156
                        ],
                        "passed_time": 21.28634685,
                        "remaining_time": 75.0319647,
                        "test": [
                          1.141003846,
                          0.5202156334
                        ]
                      },
                      {
                        "iteration": 221,
                        "learn": [
                          1.007494994,
                          0.6014248219
                        ],
                        "passed_time": 21.39674309,
                        "remaining_time": 74.98498254,
                        "test": [
                          1.140705384,
                          0.5215633423
                        ]
                      },
                      {
                        "iteration": 222,
                        "learn": [
                          1.006826597,
                          0.6036745407
                        ],
                        "passed_time": 21.50076678,
                        "remaining_time": 74.91522775,
                        "test": [
                          1.140670036,
                          0.5215633423
                        ]
                      },
                      {
                        "iteration": 223,
                        "learn": [
                          1.006329703,
                          0.6029246344
                        ],
                        "passed_time": 21.60348366,
                        "remaining_time": 74.84063983,
                        "test": [
                          1.139803216,
                          0.5215633423
                        ]
                      },
                      {
                        "iteration": 224,
                        "learn": [
                          1.005376095,
                          0.6044244469
                        ],
                        "passed_time": 21.70355051,
                        "remaining_time": 74.75667399,
                        "test": [
                          1.139347294,
                          0.5215633423
                        ]
                      },
                      {
                        "iteration": 225,
                        "learn": [
                          1.004559245,
                          0.6051743532
                        ],
                        "passed_time": 21.82229259,
                        "remaining_time": 74.73652417,
                        "test": [
                          1.138871085,
                          0.5215633423
                        ]
                      },
                      {
                        "iteration": 226,
                        "learn": [
                          1.003998359,
                          0.6055493063
                        ],
                        "passed_time": 21.92450901,
                        "remaining_time": 74.65923111,
                        "test": [
                          1.138748147,
                          0.5229110512
                        ]
                      },
                      {
                        "iteration": 227,
                        "learn": [
                          1.00352227,
                          0.6055493063
                        ],
                        "passed_time": 22.02823036,
                        "remaining_time": 74.58681506,
                        "test": [
                          1.138642817,
                          0.5229110512
                        ]
                      },
                      {
                        "iteration": 228,
                        "learn": [
                          1.00303538,
                          0.6044244469
                        ],
                        "passed_time": 22.12864163,
                        "remaining_time": 74.5029812,
                        "test": [
                          1.138143568,
                          0.525606469
                        ]
                      },
                      {
                        "iteration": 229,
                        "learn": [
                          1.002011059,
                          0.6055493063
                        ],
                        "passed_time": 22.23191627,
                        "remaining_time": 74.42858926,
                        "test": [
                          1.13808685,
                          0.5242587601
                        ]
                      },
                      {
                        "iteration": 230,
                        "learn": [
                          1.001444362,
                          0.6055493063
                        ],
                        "passed_time": 22.33247119,
                        "remaining_time": 74.34489327,
                        "test": [
                          1.137509444,
                          0.5242587601
                        ]
                      },
                      {
                        "iteration": 231,
                        "learn": [
                          1.000839704,
                          0.6066741657
                        ],
                        "passed_time": 22.44083631,
                        "remaining_time": 74.28690639,
                        "test": [
                          1.136992665,
                          0.5242587601
                        ]
                      },
                      {
                        "iteration": 232,
                        "learn": [
                          0.9998777084,
                          0.6070491189
                        ],
                        "passed_time": 22.54411004,
                        "remaining_time": 74.21172703,
                        "test": [
                          1.136263603,
                          0.5242587601
                        ]
                      },
                      {
                        "iteration": 233,
                        "learn": [
                          0.9991762786,
                          0.607424072
                        ],
                        "passed_time": 22.64477436,
                        "remaining_time": 74.12776565,
                        "test": [
                          1.136008038,
                          0.5242587601
                        ]
                      },
                      {
                        "iteration": 234,
                        "learn": [
                          0.9987540732,
                          0.607424072
                        ],
                        "passed_time": 22.74254777,
                        "remaining_time": 74.03425126,
                        "test": [
                          1.135731936,
                          0.5242587601
                        ]
                      },
                      {
                        "iteration": 235,
                        "learn": [
                          0.9982058413,
                          0.607424072
                        ],
                        "passed_time": 22.85466097,
                        "remaining_time": 73.98712279,
                        "test": [
                          1.135277322,
                          0.5269541779
                        ]
                      },
                      {
                        "iteration": 236,
                        "learn": [
                          0.9974693329,
                          0.6070491189
                        ],
                        "passed_time": 22.9581566,
                        "remaining_time": 73.91170247,
                        "test": [
                          1.135305221,
                          0.525606469
                        ]
                      },
                      {
                        "iteration": 237,
                        "learn": [
                          0.9967247893,
                          0.6081739783
                        ],
                        "passed_time": 23.06755928,
                        "remaining_time": 73.85495869,
                        "test": [
                          1.134438029,
                          0.5269541779
                        ]
                      },
                      {
                        "iteration": 238,
                        "learn": [
                          0.9963104916,
                          0.6081739783
                        ],
                        "passed_time": 23.15566493,
                        "remaining_time": 73.72996239,
                        "test": [
                          1.134634646,
                          0.5269541779
                        ]
                      },
                      {
                        "iteration": 239,
                        "learn": [
                          0.9957762545,
                          0.6089238845
                        ],
                        "passed_time": 23.25794101,
                        "remaining_time": 73.65014654,
                        "test": [
                          1.13462815,
                          0.5283018868
                        ]
                      },
                      {
                        "iteration": 240,
                        "learn": [
                          0.9953850679,
                          0.6089238845
                        ],
                        "passed_time": 23.35748213,
                        "remaining_time": 73.56153087,
                        "test": [
                          1.13444471,
                          0.5283018868
                        ]
                      },
                      {
                        "iteration": 241,
                        "learn": [
                          0.9950283229,
                          0.6089238845
                        ],
                        "passed_time": 23.43775183,
                        "remaining_time": 73.41246234,
                        "test": [
                          1.134388634,
                          0.5296495957
                        ]
                      },
                      {
                        "iteration": 242,
                        "learn": [
                          0.994408302,
                          0.6092988376
                        ],
                        "passed_time": 23.51858847,
                        "remaining_time": 73.26572622,
                        "test": [
                          1.13440791,
                          0.5296495957
                        ]
                      },
                      {
                        "iteration": 243,
                        "learn": [
                          0.9938956768,
                          0.6089238845
                        ],
                        "passed_time": 23.60077434,
                        "remaining_time": 73.12371066,
                        "test": [
                          1.134277311,
                          0.5296495957
                        ]
                      },
                      {
                        "iteration": 244,
                        "learn": [
                          0.9932918144,
                          0.6092988376
                        ],
                        "passed_time": 23.6792995,
                        "remaining_time": 72.97090255,
                        "test": [
                          1.134516438,
                          0.5296495957
                        ]
                      },
                      {
                        "iteration": 245,
                        "learn": [
                          0.9928599448,
                          0.6096737908
                        ],
                        "passed_time": 23.76827893,
                        "remaining_time": 72.85074111,
                        "test": [
                          1.134145891,
                          0.5309973046
                        ]
                      },
                      {
                        "iteration": 246,
                        "learn": [
                          0.9921462527,
                          0.6100487439
                        ],
                        "passed_time": 23.86588162,
                        "remaining_time": 72.75712089,
                        "test": [
                          1.133849305,
                          0.5309973046
                        ]
                      },
                      {
                        "iteration": 247,
                        "learn": [
                          0.9914289838,
                          0.6111736033
                        ],
                        "passed_time": 23.94654836,
                        "remaining_time": 72.6121144,
                        "test": [
                          1.133665589,
                          0.5309973046
                        ]
                      },
                      {
                        "iteration": 248,
                        "learn": [
                          0.9907357943,
                          0.6115485564
                        ],
                        "passed_time": 24.02951471,
                        "remaining_time": 72.47456042,
                        "test": [
                          1.133548839,
                          0.5309973046
                        ]
                      },
                      {
                        "iteration": 249,
                        "learn": [
                          0.9900892118,
                          0.6122984627
                        ],
                        "passed_time": 24.11246037,
                        "remaining_time": 72.33738112,
                        "test": [
                          1.133102331,
                          0.5309973046
                        ]
                      },
                      {
                        "iteration": 250,
                        "learn": [
                          0.9896865699,
                          0.6126734158
                        ],
                        "passed_time": 24.19087649,
                        "remaining_time": 72.18711751,
                        "test": [
                          1.133126967,
                          0.5309973046
                        ]
                      },
                      {
                        "iteration": 251,
                        "learn": [
                          0.9891100212,
                          0.6126734158
                        ],
                        "passed_time": 24.27297617,
                        "remaining_time": 72.04835785,
                        "test": [
                          1.132817029,
                          0.5309973046
                        ]
                      },
                      {
                        "iteration": 252,
                        "learn": [
                          0.9883515455,
                          0.6122984627
                        ],
                        "passed_time": 24.3535285,
                        "remaining_time": 71.90547742,
                        "test": [
                          1.132462781,
                          0.5309973046
                        ]
                      },
                      {
                        "iteration": 253,
                        "learn": [
                          0.9878013612,
                          0.6126734158
                        ],
                        "passed_time": 24.43207979,
                        "remaining_time": 71.75721072,
                        "test": [
                          1.132018311,
                          0.5309973046
                        ]
                      },
                      {
                        "iteration": 254,
                        "learn": [
                          0.9872098164,
                          0.6126734158
                        ],
                        "passed_time": 24.51185856,
                        "remaining_time": 71.61307698,
                        "test": [
                          1.131615502,
                          0.5309973046
                        ]
                      },
                      {
                        "iteration": 255,
                        "learn": [
                          0.9867269449,
                          0.613048369
                        ],
                        "passed_time": 24.59223178,
                        "remaining_time": 71.47117361,
                        "test": [
                          1.13131626,
                          0.5309973046
                        ]
                      },
                      {
                        "iteration": 256,
                        "learn": [
                          0.9863860897,
                          0.6126734158
                        ],
                        "passed_time": 24.67219575,
                        "remaining_time": 71.32856593,
                        "test": [
                          1.131247566,
                          0.5309973046
                        ]
                      },
                      {
                        "iteration": 257,
                        "learn": [
                          0.9859463721,
                          0.6137982752
                        ],
                        "passed_time": 24.754578,
                        "remaining_time": 71.19339874,
                        "test": [
                          1.130954941,
                          0.5309973046
                        ]
                      },
                      {
                        "iteration": 258,
                        "learn": [
                          0.9853825011,
                          0.6137982752
                        ],
                        "passed_time": 24.84458349,
                        "remaining_time": 71.08044928,
                        "test": [
                          1.130511499,
                          0.5309973046
                        ]
                      },
                      {
                        "iteration": 259,
                        "learn": [
                          0.9848946053,
                          0.6134233221
                        ],
                        "passed_time": 24.92534337,
                        "remaining_time": 70.94136191,
                        "test": [
                          1.130216366,
                          0.5309973046
                        ]
                      },
                      {
                        "iteration": 260,
                        "learn": [
                          0.9843458011,
                          0.6141732283
                        ],
                        "passed_time": 25.00464638,
                        "remaining_time": 70.79859645,
                        "test": [
                          1.13028216,
                          0.5309973046
                        ]
                      },
                      {
                        "iteration": 261,
                        "learn": [
                          0.9839081778,
                          0.6152980877
                        ],
                        "passed_time": 25.08966273,
                        "remaining_time": 70.67240876,
                        "test": [
                          1.130085513,
                          0.5309973046
                        ]
                      },
                      {
                        "iteration": 262,
                        "learn": [
                          0.9831107396,
                          0.6156730409
                        ],
                        "passed_time": 25.16690516,
                        "remaining_time": 70.52474944,
                        "test": [
                          1.129284566,
                          0.5296495957
                        ]
                      },
                      {
                        "iteration": 263,
                        "learn": [
                          0.982620052,
                          0.616047994
                        ],
                        "passed_time": 25.24905776,
                        "remaining_time": 70.39131253,
                        "test": [
                          1.129293243,
                          0.5296495957
                        ]
                      },
                      {
                        "iteration": 264,
                        "learn": [
                          0.982052159,
                          0.616047994
                        ],
                        "passed_time": 25.32871227,
                        "remaining_time": 70.25133403,
                        "test": [
                          1.128975258,
                          0.5296495957
                        ]
                      },
                      {
                        "iteration": 265,
                        "learn": [
                          0.981318236,
                          0.6175478065
                        ],
                        "passed_time": 25.40835682,
                        "remaining_time": 70.11178161,
                        "test": [
                          1.128242041,
                          0.5296495957
                        ]
                      },
                      {
                        "iteration": 266,
                        "learn": [
                          0.9808655323,
                          0.6179227597
                        ],
                        "passed_time": 25.48848757,
                        "remaining_time": 69.97401268,
                        "test": [
                          1.128270407,
                          0.5296495957
                        ]
                      },
                      {
                        "iteration": 267,
                        "learn": [
                          0.9803414088,
                          0.6179227597
                        ],
                        "passed_time": 25.56904967,
                        "remaining_time": 69.83785208,
                        "test": [
                          1.127911634,
                          0.5309973046
                        ]
                      },
                      {
                        "iteration": 268,
                        "learn": [
                          0.9797869614,
                          0.6182977128
                        ],
                        "passed_time": 25.64779468,
                        "remaining_time": 69.69716696,
                        "test": [
                          1.127657965,
                          0.5309973046
                        ]
                      },
                      {
                        "iteration": 269,
                        "learn": [
                          0.9793157912,
                          0.6182977128
                        ],
                        "passed_time": 25.72527929,
                        "remaining_time": 69.5535329,
                        "test": [
                          1.127443254,
                          0.5309973046
                        ]
                      },
                      {
                        "iteration": 270,
                        "learn": [
                          0.9789434609,
                          0.6182977128
                        ],
                        "passed_time": 25.8107604,
                        "remaining_time": 69.43189791,
                        "test": [
                          1.127306848,
                          0.5309973046
                        ]
                      },
                      {
                        "iteration": 271,
                        "learn": [
                          0.978341022,
                          0.6186726659
                        ],
                        "passed_time": 25.89476124,
                        "remaining_time": 69.30656686,
                        "test": [
                          1.127031464,
                          0.5309973046
                        ]
                      },
                      {
                        "iteration": 272,
                        "learn": [
                          0.9780049313,
                          0.6186726659
                        ],
                        "passed_time": 25.97381657,
                        "remaining_time": 69.16836868,
                        "test": [
                          1.127097473,
                          0.5309973046
                        ]
                      },
                      {
                        "iteration": 273,
                        "learn": [
                          0.9775518397,
                          0.6186726659
                        ],
                        "passed_time": 26.053849,
                        "remaining_time": 69.03319114,
                        "test": [
                          1.126924143,
                          0.5309973046
                        ]
                      },
                      {
                        "iteration": 274,
                        "learn": [
                          0.9770658998,
                          0.6182977128
                        ],
                        "passed_time": 26.13666163,
                        "remaining_time": 68.90574429,
                        "test": [
                          1.126895781,
                          0.5309973046
                        ]
                      },
                      {
                        "iteration": 275,
                        "learn": [
                          0.9764382397,
                          0.6186726659
                        ],
                        "passed_time": 26.21751649,
                        "remaining_time": 68.7734853,
                        "test": [
                          1.126336531,
                          0.5309973046
                        ]
                      },
                      {
                        "iteration": 276,
                        "learn": [
                          0.9761202426,
                          0.619047619
                        ],
                        "passed_time": 26.2987123,
                        "remaining_time": 68.64248735,
                        "test": [
                          1.126288729,
                          0.5309973046
                        ]
                      },
                      {
                        "iteration": 277,
                        "learn": [
                          0.9754121904,
                          0.6201724784
                        ],
                        "passed_time": 26.3773051,
                        "remaining_time": 68.50508736,
                        "test": [
                          1.125881913,
                          0.5309973046
                        ]
                      },
                      {
                        "iteration": 278,
                        "learn": [
                          0.9746769332,
                          0.6209223847
                        ],
                        "passed_time": 26.45453691,
                        "remaining_time": 68.36459179,
                        "test": [
                          1.125854184,
                          0.5309973046
                        ]
                      },
                      {
                        "iteration": 279,
                        "learn": [
                          0.9740485689,
                          0.6209223847
                        ],
                        "passed_time": 26.5340954,
                        "remaining_time": 68.23053102,
                        "test": [
                          1.125329793,
                          0.5309973046
                        ]
                      },
                      {
                        "iteration": 280,
                        "learn": [
                          0.9737768119,
                          0.6209223847
                        ],
                        "passed_time": 26.61309493,
                        "remaining_time": 68.09542796,
                        "test": [
                          1.125353043,
                          0.5309973046
                        ]
                      },
                      {
                        "iteration": 281,
                        "learn": [
                          0.9733060792,
                          0.621672291
                        ],
                        "passed_time": 26.69045266,
                        "remaining_time": 67.95654258,
                        "test": [
                          1.124870317,
                          0.5323450135
                        ]
                      },
                      {
                        "iteration": 282,
                        "learn": [
                          0.9726688573,
                          0.6220472441
                        ],
                        "passed_time": 26.76868914,
                        "remaining_time": 67.82031843,
                        "test": [
                          1.124628564,
                          0.5336927224
                        ]
                      },
                      {
                        "iteration": 283,
                        "learn": [
                          0.9723453655,
                          0.6220472441
                        ],
                        "passed_time": 26.86404362,
                        "remaining_time": 67.72765927,
                        "test": [
                          1.124551186,
                          0.5336927224
                        ]
                      },
                      {
                        "iteration": 284,
                        "learn": [
                          0.9718815541,
                          0.6224221972
                        ],
                        "passed_time": 26.94349253,
                        "remaining_time": 67.59507776,
                        "test": [
                          1.124402667,
                          0.5350404313
                        ]
                      },
                      {
                        "iteration": 285,
                        "learn": [
                          0.9714600735,
                          0.6227971504
                        ],
                        "passed_time": 27.02192612,
                        "remaining_time": 67.46033303,
                        "test": [
                          1.124047864,
                          0.5350404313
                        ]
                      },
                      {
                        "iteration": 286,
                        "learn": [
                          0.9709612182,
                          0.6231721035
                        ],
                        "passed_time": 27.10424565,
                        "remaining_time": 67.33563467,
                        "test": [
                          1.123489237,
                          0.5363881402
                        ]
                      },
                      {
                        "iteration": 287,
                        "learn": [
                          0.9704390285,
                          0.6239220097
                        ],
                        "passed_time": 27.18332065,
                        "remaining_time": 67.20320939,
                        "test": [
                          1.123348349,
                          0.539083558
                        ]
                      },
                      {
                        "iteration": 288,
                        "learn": [
                          0.9699903142,
                          0.6250468691
                        ],
                        "passed_time": 27.2628918,
                        "remaining_time": 67.07237394,
                        "test": [
                          1.123319659,
                          0.539083558
                        ]
                      },
                      {
                        "iteration": 289,
                        "learn": [
                          0.9695790608,
                          0.6250468691
                        ],
                        "passed_time": 27.3404958,
                        "remaining_time": 66.93707592,
                        "test": [
                          1.122864278,
                          0.539083558
                        ]
                      },
                      {
                        "iteration": 290,
                        "learn": [
                          0.968962963,
                          0.6250468691
                        ],
                        "passed_time": 27.41737405,
                        "remaining_time": 66.8004062,
                        "test": [
                          1.122740957,
                          0.539083558
                        ]
                      },
                      {
                        "iteration": 291,
                        "learn": [
                          0.9683591147,
                          0.6257967754
                        ],
                        "passed_time": 27.4957521,
                        "remaining_time": 66.6677825,
                        "test": [
                          1.122610253,
                          0.5377358491
                        ]
                      },
                      {
                        "iteration": 292,
                        "learn": [
                          0.9680744655,
                          0.6257967754
                        ],
                        "passed_time": 27.57533931,
                        "remaining_time": 66.53844674,
                        "test": [
                          1.12259107,
                          0.5377358491
                        ]
                      },
                      {
                        "iteration": 293,
                        "learn": [
                          0.9676010542,
                          0.6261717285
                        ],
                        "passed_time": 27.65327267,
                        "remaining_time": 66.40547792,
                        "test": [
                          1.122789036,
                          0.5377358491
                        ]
                      },
                      {
                        "iteration": 294,
                        "learn": [
                          0.9673538939,
                          0.6269216348
                        ],
                        "passed_time": 27.7305204,
                        "remaining_time": 66.27124367,
                        "test": [
                          1.122769277,
                          0.5377358491
                        ]
                      },
                      {
                        "iteration": 295,
                        "learn": [
                          0.9668780279,
                          0.6269216348
                        ],
                        "passed_time": 27.81030553,
                        "remaining_time": 66.14342936,
                        "test": [
                          1.12216548,
                          0.539083558
                        ]
                      },
                      {
                        "iteration": 296,
                        "learn": [
                          0.9664584112,
                          0.6272965879
                        ],
                        "passed_time": 27.9027036,
                        "remaining_time": 66.04579337,
                        "test": [
                          1.121916572,
                          0.539083558
                        ]
                      },
                      {
                        "iteration": 297,
                        "learn": [
                          0.9658983392,
                          0.6280464942
                        ],
                        "passed_time": 27.9826756,
                        "remaining_time": 65.91892036,
                        "test": [
                          1.121931618,
                          0.539083558
                        ]
                      },
                      {
                        "iteration": 298,
                        "learn": [
                          0.9655706341,
                          0.6287964004
                        ],
                        "passed_time": 28.06086044,
                        "remaining_time": 65.78817113,
                        "test": [
                          1.121842621,
                          0.539083558
                        ]
                      },
                      {
                        "iteration": 299,
                        "learn": [
                          0.9650718342,
                          0.6276715411
                        ],
                        "passed_time": 28.14694613,
                        "remaining_time": 65.67620763,
                        "test": [
                          1.121197178,
                          0.539083558
                        ]
                      },
                      {
                        "iteration": 300,
                        "learn": [
                          0.9645190431,
                          0.6276715411
                        ],
                        "passed_time": 28.22682581,
                        "remaining_time": 65.55000411,
                        "test": [
                          1.121156818,
                          0.539083558
                        ]
                      },
                      {
                        "iteration": 301,
                        "learn": [
                          0.9638157193,
                          0.6299212598
                        ],
                        "passed_time": 28.30918309,
                        "remaining_time": 65.42983377,
                        "test": [
                          1.121490825,
                          0.539083558
                        ]
                      },
                      {
                        "iteration": 302,
                        "learn": [
                          0.9634779316,
                          0.630296213
                        ],
                        "passed_time": 28.38780159,
                        "remaining_time": 65.30131258,
                        "test": [
                          1.121405236,
                          0.539083558
                        ]
                      },
                      {
                        "iteration": 303,
                        "learn": [
                          0.9627365942,
                          0.6314210724
                        ],
                        "passed_time": 28.46784392,
                        "remaining_time": 65.1763795,
                        "test": [
                          1.120786938,
                          0.539083558
                        ]
                      },
                      {
                        "iteration": 304,
                        "learn": [
                          0.9621124001,
                          0.6321709786
                        ],
                        "passed_time": 28.55031757,
                        "remaining_time": 65.05728101,
                        "test": [
                          1.120548386,
                          0.539083558
                        ]
                      },
                      {
                        "iteration": 305,
                        "learn": [
                          0.9609891146,
                          0.6325459318
                        ],
                        "passed_time": 28.63112661,
                        "remaining_time": 64.93464662,
                        "test": [
                          1.119490752,
                          0.5404312668
                        ]
                      },
                      {
                        "iteration": 306,
                        "learn": [
                          0.9606343205,
                          0.6329208849
                        ],
                        "passed_time": 28.71169711,
                        "remaining_time": 64.81174624,
                        "test": [
                          1.119466293,
                          0.5404312668
                        ]
                      },
                      {
                        "iteration": 307,
                        "learn": [
                          0.9602803547,
                          0.6329208849
                        ],
                        "passed_time": 28.79052995,
                        "remaining_time": 64.68521664,
                        "test": [
                          1.119159808,
                          0.5404312668
                        ]
                      },
                      {
                        "iteration": 308,
                        "learn": [
                          0.9596476876,
                          0.633295838
                        ],
                        "passed_time": 28.88092093,
                        "remaining_time": 64.58484259,
                        "test": [
                          1.11891894,
                          0.5404312668
                        ]
                      },
                      {
                        "iteration": 309,
                        "learn": [
                          0.9590822392,
                          0.633295838
                        ],
                        "passed_time": 28.96049644,
                        "remaining_time": 64.46045982,
                        "test": [
                          1.118680426,
                          0.5404312668
                        ]
                      },
                      {
                        "iteration": 310,
                        "learn": [
                          0.9588052156,
                          0.6336707912
                        ],
                        "passed_time": 29.04139274,
                        "remaining_time": 64.3392913,
                        "test": [
                          1.118474956,
                          0.5404312668
                        ]
                      },
                      {
                        "iteration": 311,
                        "learn": [
                          0.9584244646,
                          0.6340457443
                        ],
                        "passed_time": 29.12174815,
                        "remaining_time": 64.21718824,
                        "test": [
                          1.118533945,
                          0.5404312668
                        ]
                      },
                      {
                        "iteration": 312,
                        "learn": [
                          0.9579921097,
                          0.6344206974
                        ],
                        "passed_time": 29.20735306,
                        "remaining_time": 64.10687397,
                        "test": [
                          1.118308098,
                          0.539083558
                        ]
                      },
                      {
                        "iteration": 313,
                        "learn": [
                          0.957553942,
                          0.6344206974
                        ],
                        "passed_time": 29.28718171,
                        "remaining_time": 63.98409762,
                        "test": [
                          1.118202737,
                          0.539083558
                        ]
                      },
                      {
                        "iteration": 314,
                        "learn": [
                          0.9571803151,
                          0.6344206974
                        ],
                        "passed_time": 29.36643926,
                        "remaining_time": 63.86035205,
                        "test": [
                          1.118236132,
                          0.539083558
                        ]
                      },
                      {
                        "iteration": 315,
                        "learn": [
                          0.9568357752,
                          0.6347956505
                        ],
                        "passed_time": 29.44819525,
                        "remaining_time": 63.74229604,
                        "test": [
                          1.117799018,
                          0.539083558
                        ]
                      },
                      {
                        "iteration": 316,
                        "learn": [
                          0.9564914701,
                          0.6344206974
                        ],
                        "passed_time": 29.52919563,
                        "remaining_time": 63.62284105,
                        "test": [
                          1.117667064,
                          0.5404312668
                        ]
                      },
                      {
                        "iteration": 317,
                        "learn": [
                          0.9558322169,
                          0.6347956505
                        ],
                        "passed_time": 29.61964271,
                        "remaining_time": 63.52388783,
                        "test": [
                          1.117059837,
                          0.5417789757
                        ]
                      },
                      {
                        "iteration": 318,
                        "learn": [
                          0.955434642,
                          0.6351706037
                        ],
                        "passed_time": 29.70903795,
                        "remaining_time": 63.42274245,
                        "test": [
                          1.116874694,
                          0.5417789757
                        ]
                      },
                      {
                        "iteration": 319,
                        "learn": [
                          0.9547956086,
                          0.6355455568
                        ],
                        "passed_time": 29.79603288,
                        "remaining_time": 63.31656988,
                        "test": [
                          1.116529307,
                          0.5417789757
                        ]
                      },
                      {
                        "iteration": 320,
                        "learn": [
                          0.9543990831,
                          0.6359205099
                        ],
                        "passed_time": 29.88762008,
                        "remaining_time": 63.22023064,
                        "test": [
                          1.116379159,
                          0.5417789757
                        ]
                      },
                      {
                        "iteration": 321,
                        "learn": [
                          0.9539890174,
                          0.6355455568
                        ],
                        "passed_time": 29.97408444,
                        "remaining_time": 63.11313432,
                        "test": [
                          1.116323327,
                          0.5417789757
                        ]
                      },
                      {
                        "iteration": 322,
                        "learn": [
                          0.9535214752,
                          0.6359205099
                        ],
                        "passed_time": 30.05764866,
                        "remaining_time": 63.00008714,
                        "test": [
                          1.11615672,
                          0.5417789757
                        ]
                      },
                      {
                        "iteration": 323,
                        "learn": [
                          0.9531717254,
                          0.6355455568
                        ],
                        "passed_time": 30.13988996,
                        "remaining_time": 62.88446178,
                        "test": [
                          1.116261736,
                          0.5417789757
                        ]
                      },
                      {
                        "iteration": 324,
                        "learn": [
                          0.9527789515,
                          0.6351706037
                        ],
                        "passed_time": 30.22627823,
                        "remaining_time": 62.77765478,
                        "test": [
                          1.116077612,
                          0.5417789757
                        ]
                      },
                      {
                        "iteration": 325,
                        "learn": [
                          0.9522679054,
                          0.6359205099
                        ],
                        "passed_time": 30.31701532,
                        "remaining_time": 62.67996419,
                        "test": [
                          1.115970068,
                          0.5417789757
                        ]
                      },
                      {
                        "iteration": 326,
                        "learn": [
                          0.9518840012,
                          0.6359205099
                        ],
                        "passed_time": 30.39950294,
                        "remaining_time": 62.56533786,
                        "test": [
                          1.116047041,
                          0.5417789757
                        ]
                      },
                      {
                        "iteration": 327,
                        "learn": [
                          0.9514701967,
                          0.6362954631
                        ],
                        "passed_time": 30.48686753,
                        "remaining_time": 62.46089933,
                        "test": [
                          1.115774091,
                          0.5417789757
                        ]
                      },
                      {
                        "iteration": 328,
                        "learn": [
                          0.9509045789,
                          0.6362954631
                        ],
                        "passed_time": 30.57121466,
                        "remaining_time": 62.35041045,
                        "test": [
                          1.115613105,
                          0.5417789757
                        ]
                      },
                      {
                        "iteration": 329,
                        "learn": [
                          0.9505459658,
                          0.6362954631
                        ],
                        "passed_time": 30.65269916,
                        "remaining_time": 62.23426799,
                        "test": [
                          1.115460249,
                          0.5417789757
                        ]
                      },
                      {
                        "iteration": 330,
                        "learn": [
                          0.9499388623,
                          0.6366704162
                        ],
                        "passed_time": 30.73509,
                        "remaining_time": 62.12016679,
                        "test": [
                          1.115238457,
                          0.5417789757
                        ]
                      },
                      {
                        "iteration": 331,
                        "learn": [
                          0.949004918,
                          0.6377952756
                        ],
                        "passed_time": 30.81960897,
                        "remaining_time": 62.01053852,
                        "test": [
                          1.114436037,
                          0.5431266846
                        ]
                      },
                      {
                        "iteration": 332,
                        "learn": [
                          0.9482920228,
                          0.6374203225
                        ],
                        "passed_time": 30.90638511,
                        "remaining_time": 61.9055822,
                        "test": [
                          1.113615926,
                          0.5431266846
                        ]
                      },
                      {
                        "iteration": 333,
                        "learn": [
                          0.9474440838,
                          0.6381702287
                        ],
                        "passed_time": 30.99008564,
                        "remaining_time": 61.79460191,
                        "test": [
                          1.112855671,
                          0.5431266846
                        ]
                      },
                      {
                        "iteration": 334,
                        "learn": [
                          0.9468768385,
                          0.638920135
                        ],
                        "passed_time": 31.06927059,
                        "remaining_time": 61.67482072,
                        "test": [
                          1.112754349,
                          0.5431266846
                        ]
                      },
                      {
                        "iteration": 335,
                        "learn": [
                          0.9464636885,
                          0.6377952756
                        ],
                        "passed_time": 31.14793878,
                        "remaining_time": 61.55425997,
                        "test": [
                          1.112759137,
                          0.5431266846
                        ]
                      },
                      {
                        "iteration": 336,
                        "learn": [
                          0.9460043207,
                          0.6381702287
                        ],
                        "passed_time": 31.23445388,
                        "remaining_time": 61.44938553,
                        "test": [
                          1.112483023,
                          0.5431266846
                        ]
                      },
                      {
                        "iteration": 337,
                        "learn": [
                          0.9456884036,
                          0.6392950881
                        ],
                        "passed_time": 31.31371012,
                        "remaining_time": 61.33040265,
                        "test": [
                          1.112221748,
                          0.5431266846
                        ]
                      },
                      {
                        "iteration": 338,
                        "learn": [
                          0.94473835,
                          0.6396700412
                        ],
                        "passed_time": 31.39500995,
                        "remaining_time": 61.21563887,
                        "test": [
                          1.112061617,
                          0.5431266846
                        ]
                      },
                      {
                        "iteration": 339,
                        "learn": [
                          0.9440891708,
                          0.6400449944
                        ],
                        "passed_time": 31.47466486,
                        "remaining_time": 61.09787884,
                        "test": [
                          1.111881492,
                          0.5444743935
                        ]
                      },
                      {
                        "iteration": 340,
                        "learn": [
                          0.9437445854,
                          0.6392950881
                        ],
                        "passed_time": 31.55409422,
                        "remaining_time": 60.97990642,
                        "test": [
                          1.11181639,
                          0.5444743935
                        ]
                      },
                      {
                        "iteration": 341,
                        "learn": [
                          0.9433340938,
                          0.638920135
                        ],
                        "passed_time": 31.63379392,
                        "remaining_time": 60.86267954,
                        "test": [
                          1.111242411,
                          0.5444743935
                        ]
                      },
                      {
                        "iteration": 342,
                        "learn": [
                          0.9428575786,
                          0.6392950881
                        ],
                        "passed_time": 31.71446667,
                        "remaining_time": 60.74753528,
                        "test": [
                          1.11119325,
                          0.5444743935
                        ]
                      },
                      {
                        "iteration": 343,
                        "learn": [
                          0.9422985037,
                          0.6400449944
                        ],
                        "passed_time": 31.79461597,
                        "remaining_time": 60.63159325,
                        "test": [
                          1.110896323,
                          0.5444743935
                        ]
                      },
                      {
                        "iteration": 344,
                        "learn": [
                          0.9418971864,
                          0.6400449944
                        ],
                        "passed_time": 31.87399232,
                        "remaining_time": 60.51439121,
                        "test": [
                          1.110799606,
                          0.5444743935
                        ]
                      },
                      {
                        "iteration": 345,
                        "learn": [
                          0.9415024279,
                          0.6407949006
                        ],
                        "passed_time": 31.96618446,
                        "remaining_time": 60.4216319,
                        "test": [
                          1.110805544,
                          0.5458221024
                        ]
                      },
                      {
                        "iteration": 346,
                        "learn": [
                          0.9410813551,
                          0.6411698538
                        ],
                        "passed_time": 32.04601374,
                        "remaining_time": 60.30561088,
                        "test": [
                          1.110912628,
                          0.5458221024
                        ]
                      },
                      {
                        "iteration": 347,
                        "learn": [
                          0.9407895732,
                          0.6411698538
                        ],
                        "passed_time": 32.1256446,
                        "remaining_time": 60.18942609,
                        "test": [
                          1.110702824,
                          0.5444743935
                        ]
                      },
                      {
                        "iteration": 348,
                        "learn": [
                          0.940512395,
                          0.6415448069
                        ],
                        "passed_time": 32.20675061,
                        "remaining_time": 60.07620242,
                        "test": [
                          1.110654737,
                          0.5444743935
                        ]
                      },
                      {
                        "iteration": 349,
                        "learn": [
                          0.9401965757,
                          0.6422947132
                        ],
                        "passed_time": 32.2981966,
                        "remaining_time": 59.98236512,
                        "test": [
                          1.110675956,
                          0.5444743935
                        ]
                      },
                      {
                        "iteration": 350,
                        "learn": [
                          0.9397249443,
                          0.6422947132
                        ],
                        "passed_time": 32.3790574,
                        "remaining_time": 59.86896938,
                        "test": [
                          1.110501387,
                          0.5458221024
                        ]
                      },
                      {
                        "iteration": 351,
                        "learn": [
                          0.9392383364,
                          0.6426696663
                        ],
                        "passed_time": 32.46521152,
                        "remaining_time": 59.76550303,
                        "test": [
                          1.110291127,
                          0.5458221024
                        ]
                      },
                      {
                        "iteration": 352,
                        "learn": [
                          0.9388456943,
                          0.6437945257
                        ],
                        "passed_time": 32.54765824,
                        "remaining_time": 59.6553396,
                        "test": [
                          1.110294295,
                          0.5458221024
                        ]
                      },
                      {
                        "iteration": 353,
                        "learn": [
                          0.9382360035,
                          0.6449193851
                        ],
                        "passed_time": 32.62943666,
                        "remaining_time": 59.54411322,
                        "test": [
                          1.110282258,
                          0.5444743935
                        ]
                      },
                      {
                        "iteration": 354,
                        "learn": [
                          0.9379098933,
                          0.6452943382
                        ],
                        "passed_time": 32.709385,
                        "remaining_time": 59.42972768,
                        "test": [
                          1.110178992,
                          0.5444743935
                        ]
                      },
                      {
                        "iteration": 355,
                        "learn": [
                          0.9375578219,
                          0.6456692913
                        ],
                        "passed_time": 32.79160014,
                        "remaining_time": 59.3196362,
                        "test": [
                          1.109961327,
                          0.5444743935
                        ]
                      },
                      {
                        "iteration": 356,
                        "learn": [
                          0.9370494716,
                          0.6456692913
                        ],
                        "passed_time": 32.87239178,
                        "remaining_time": 59.20713702,
                        "test": [
                          1.109868094,
                          0.5444743935
                        ]
                      },
                      {
                        "iteration": 357,
                        "learn": [
                          0.9366986975,
                          0.6460442445
                        ],
                        "passed_time": 32.9588765,
                        "remaining_time": 59.10502435,
                        "test": [
                          1.109538065,
                          0.5444743935
                        ]
                      },
                      {
                        "iteration": 358,
                        "learn": [
                          0.9361366915,
                          0.6460442445
                        ],
                        "passed_time": 33.0424988,
                        "remaining_time": 58.99788783,
                        "test": [
                          1.10907209,
                          0.5444743935
                        ]
                      },
                      {
                        "iteration": 359,
                        "learn": [
                          0.9355682091,
                          0.6464191976
                        ],
                        "passed_time": 33.12164025,
                        "remaining_time": 58.88291599,
                        "test": [
                          1.108937814,
                          0.5458221024
                        ]
                      },
                      {
                        "iteration": 360,
                        "learn": [
                          0.9352840618,
                          0.6460442445
                        ],
                        "passed_time": 33.20129006,
                        "remaining_time": 58.76904252,
                        "test": [
                          1.108758645,
                          0.5458221024
                        ]
                      },
                      {
                        "iteration": 361,
                        "learn": [
                          0.9349672821,
                          0.6460442445
                        ],
                        "passed_time": 33.28706059,
                        "remaining_time": 58.66614546,
                        "test": [
                          1.108950183,
                          0.5458221024
                        ]
                      },
                      {
                        "iteration": 362,
                        "learn": [
                          0.9346610818,
                          0.6464191976
                        ],
                        "passed_time": 33.3728764,
                        "remaining_time": 58.56342222,
                        "test": [
                          1.108978435,
                          0.5458221024
                        ]
                      },
                      {
                        "iteration": 363,
                        "learn": [
                          0.9345098032,
                          0.6464191976
                        ],
                        "passed_time": 33.47789135,
                        "remaining_time": 58.49433764,
                        "test": [
                          1.10887999,
                          0.5458221024
                        ]
                      },
                      {
                        "iteration": 364,
                        "learn": [
                          0.9342494807,
                          0.6464191976
                        ],
                        "passed_time": 33.57661128,
                        "remaining_time": 58.41410456,
                        "test": [
                          1.108772025,
                          0.5458221024
                        ]
                      },
                      {
                        "iteration": 365,
                        "learn": [
                          0.9339461513,
                          0.6464191976
                        ],
                        "passed_time": 33.67774875,
                        "remaining_time": 58.33795821,
                        "test": [
                          1.108665925,
                          0.5458221024
                        ]
                      },
                      {
                        "iteration": 366,
                        "learn": [
                          0.9337177836,
                          0.6464191976
                        ],
                        "passed_time": 33.77662283,
                        "remaining_time": 58.25777181,
                        "test": [
                          1.108346434,
                          0.5458221024
                        ]
                      },
                      {
                        "iteration": 367,
                        "learn": [
                          0.9333519884,
                          0.6464191976
                        ],
                        "passed_time": 33.87551439,
                        "remaining_time": 58.17751384,
                        "test": [
                          1.108145796,
                          0.5458221024
                        ]
                      },
                      {
                        "iteration": 368,
                        "learn": [
                          0.9329592258,
                          0.647544057
                        ],
                        "passed_time": 33.98403543,
                        "remaining_time": 58.11362156,
                        "test": [
                          1.107965905,
                          0.5471698113
                        ]
                      },
                      {
                        "iteration": 369,
                        "learn": [
                          0.9326258386,
                          0.647544057
                        ],
                        "passed_time": 34.08721247,
                        "remaining_time": 58.04038881,
                        "test": [
                          1.107950176,
                          0.5471698113
                        ]
                      },
                      {
                        "iteration": 370,
                        "learn": [
                          0.9321194504,
                          0.6486689164
                        ],
                        "passed_time": 34.18774548,
                        "remaining_time": 57.96251188,
                        "test": [
                          1.107824107,
                          0.5471698113
                        ]
                      },
                      {
                        "iteration": 371,
                        "learn": [
                          0.9317648274,
                          0.6490438695
                        ],
                        "passed_time": 34.28681436,
                        "remaining_time": 57.88204145,
                        "test": [
                          1.107545406,
                          0.5458221024
                        ]
                      },
                      {
                        "iteration": 372,
                        "learn": [
                          0.9314436385,
                          0.6490438695
                        ],
                        "passed_time": 34.39005258,
                        "remaining_time": 57.80847981,
                        "test": [
                          1.107363934,
                          0.5458221024
                        ]
                      },
                      {
                        "iteration": 373,
                        "learn": [
                          0.9309426618,
                          0.6497937758
                        ],
                        "passed_time": 34.49324669,
                        "remaining_time": 57.73468563,
                        "test": [
                          1.107069299,
                          0.5458221024
                        ]
                      },
                      {
                        "iteration": 374,
                        "learn": [
                          0.9306130086,
                          0.6497937758
                        ],
                        "passed_time": 34.58890939,
                        "remaining_time": 57.64818232,
                        "test": [
                          1.106796014,
                          0.5458221024
                        ]
                      },
                      {
                        "iteration": 375,
                        "learn": [
                          0.9301001247,
                          0.6497937758
                        ],
                        "passed_time": 34.68788466,
                        "remaining_time": 57.56712774,
                        "test": [
                          1.106524646,
                          0.5444743935
                        ]
                      },
                      {
                        "iteration": 376,
                        "learn": [
                          0.9295669557,
                          0.650543682
                        ],
                        "passed_time": 34.78631044,
                        "remaining_time": 57.48507004,
                        "test": [
                          1.106379432,
                          0.5444743935
                        ]
                      },
                      {
                        "iteration": 377,
                        "learn": [
                          0.9291584171,
                          0.6501687289
                        ],
                        "passed_time": 34.88844553,
                        "remaining_time": 57.40902941,
                        "test": [
                          1.106058827,
                          0.5444743935
                        ]
                      },
                      {
                        "iteration": 378,
                        "learn": [
                          0.9286609764,
                          0.6497937758
                        ],
                        "passed_time": 34.99717732,
                        "remaining_time": 57.34365993,
                        "test": [
                          1.105588528,
                          0.5431266846
                        ]
                      },
                      {
                        "iteration": 379,
                        "learn": [
                          0.9281316221,
                          0.6497937758
                        ],
                        "passed_time": 35.10185419,
                        "remaining_time": 57.27144632,
                        "test": [
                          1.105199288,
                          0.5431266846
                        ]
                      },
                      {
                        "iteration": 380,
                        "learn": [
                          0.9278487391,
                          0.6501687289
                        ],
                        "passed_time": 35.20112069,
                        "remaining_time": 57.1902722,
                        "test": [
                          1.105149974,
                          0.5431266846
                        ]
                      },
                      {
                        "iteration": 381,
                        "learn": [
                          0.9275673158,
                          0.650543682
                        ],
                        "passed_time": 35.30103884,
                        "remaining_time": 57.1100576,
                        "test": [
                          1.105151386,
                          0.5431266846
                        ]
                      },
                      {
                        "iteration": 382,
                        "learn": [
                          0.9269099077,
                          0.6512935883
                        ],
                        "passed_time": 35.41291648,
                        "remaining_time": 57.04900645,
                        "test": [
                          1.104881132,
                          0.5444743935
                        ]
                      },
                      {
                        "iteration": 383,
                        "learn": [
                          0.9264953681,
                          0.6516685414
                        ],
                        "passed_time": 35.51538989,
                        "remaining_time": 56.97260462,
                        "test": [
                          1.104970125,
                          0.5444743935
                        ]
                      },
                      {
                        "iteration": 384,
                        "learn": [
                          0.9257374844,
                          0.6524184477
                        ],
                        "passed_time": 35.61940893,
                        "remaining_time": 56.89853635,
                        "test": [
                          1.104777605,
                          0.5458221024
                        ]
                      },
                      {
                        "iteration": 385,
                        "learn": [
                          0.9253582538,
                          0.6535433071
                        ],
                        "passed_time": 35.71803348,
                        "remaining_time": 56.81573201,
                        "test": [
                          1.104712567,
                          0.5458221024
                        ]
                      },
                      {
                        "iteration": 386,
                        "learn": [
                          0.9246770563,
                          0.6546681665
                        ],
                        "passed_time": 35.81746175,
                        "remaining_time": 56.734119,
                        "test": [
                          1.103973702,
                          0.5458221024
                        ]
                      },
                      {
                        "iteration": 387,
                        "learn": [
                          0.9242574559,
                          0.6542932133
                        ],
                        "passed_time": 35.91535405,
                        "remaining_time": 56.64999144,
                        "test": [
                          1.103913743,
                          0.5458221024
                        ]
                      },
                      {
                        "iteration": 388,
                        "learn": [
                          0.9238829928,
                          0.6539182602
                        ],
                        "passed_time": 36.03249016,
                        "remaining_time": 56.59601925,
                        "test": [
                          1.103659095,
                          0.5458221024
                        ]
                      },
                      {
                        "iteration": 389,
                        "learn": [
                          0.9235913446,
                          0.6539182602
                        ],
                        "passed_time": 36.14456017,
                        "remaining_time": 56.53379924,
                        "test": [
                          1.103535684,
                          0.5458221024
                        ]
                      },
                      {
                        "iteration": 390,
                        "learn": [
                          0.9231938862,
                          0.6550431196
                        ],
                        "passed_time": 36.2407663,
                        "remaining_time": 56.44661555,
                        "test": [
                          1.103687365,
                          0.5431266846
                        ]
                      },
                      {
                        "iteration": 391,
                        "learn": [
                          0.9229408669,
                          0.6550431196
                        ],
                        "passed_time": 36.34619686,
                        "remaining_time": 56.37369309,
                        "test": [
                          1.103625435,
                          0.5431266846
                        ]
                      },
                      {
                        "iteration": 392,
                        "learn": [
                          0.9227078156,
                          0.6550431196
                        ],
                        "passed_time": 36.44477351,
                        "remaining_time": 56.29001913,
                        "test": [
                          1.103536908,
                          0.5431266846
                        ]
                      },
                      {
                        "iteration": 393,
                        "learn": [
                          0.9221290975,
                          0.656167979
                        ],
                        "passed_time": 36.54823064,
                        "remaining_time": 56.21377606,
                        "test": [
                          1.103105987,
                          0.5431266846
                        ]
                      },
                      {
                        "iteration": 394,
                        "learn": [
                          0.9218076781,
                          0.6554180727
                        ],
                        "passed_time": 36.65138063,
                        "remaining_time": 56.13692476,
                        "test": [
                          1.1031067,
                          0.5431266846
                        ]
                      },
                      {
                        "iteration": 395,
                        "learn": [
                          0.9213113862,
                          0.6572928384
                        ],
                        "passed_time": 36.74117808,
                        "remaining_time": 56.03957464,
                        "test": [
                          1.102911438,
                          0.5417789757
                        ]
                      },
                      {
                        "iteration": 396,
                        "learn": [
                          0.920901692,
                          0.6565429321
                        ],
                        "passed_time": 36.83662967,
                        "remaining_time": 55.95085061,
                        "test": [
                          1.102646234,
                          0.5417789757
                        ]
                      },
                      {
                        "iteration": 397,
                        "learn": [
                          0.9202319491,
                          0.6576677915
                        ],
                        "passed_time": 36.93919175,
                        "remaining_time": 55.87284783,
                        "test": [
                          1.102757724,
                          0.539083558
                        ]
                      },
                      {
                        "iteration": 398,
                        "learn": [
                          0.9199091413,
                          0.6576677915
                        ],
                        "passed_time": 37.02396119,
                        "remaining_time": 55.7679215,
                        "test": [
                          1.102517138,
                          0.539083558
                        ]
                      },
                      {
                        "iteration": 399,
                        "learn": [
                          0.9195322542,
                          0.6580427447
                        ],
                        "passed_time": 37.11970247,
                        "remaining_time": 55.6795537,
                        "test": [
                          1.102476531,
                          0.5377358491
                        ]
                      },
                      {
                        "iteration": 400,
                        "learn": [
                          0.9191378563,
                          0.6584176978
                        ],
                        "passed_time": 37.2025488,
                        "remaining_time": 55.5718871,
                        "test": [
                          1.10229115,
                          0.5377358491
                        ]
                      },
                      {
                        "iteration": 401,
                        "learn": [
                          0.9185296406,
                          0.6587926509
                        ],
                        "passed_time": 37.28571206,
                        "remaining_time": 55.46481545,
                        "test": [
                          1.102165953,
                          0.5377358491
                        ]
                      },
                      {
                        "iteration": 402,
                        "learn": [
                          0.9181572944,
                          0.6587926509
                        ],
                        "passed_time": 37.3738504,
                        "remaining_time": 55.36523247,
                        "test": [
                          1.102144446,
                          0.5363881402
                        ]
                      },
                      {
                        "iteration": 403,
                        "learn": [
                          0.9179045208,
                          0.6587926509
                        ],
                        "passed_time": 37.45841692,
                        "remaining_time": 55.26043684,
                        "test": [
                          1.102076585,
                          0.5363881402
                        ]
                      },
                      {
                        "iteration": 404,
                        "learn": [
                          0.9176196357,
                          0.6587926509
                        ],
                        "passed_time": 37.54263215,
                        "remaining_time": 55.155225,
                        "test": [
                          1.102004372,
                          0.5363881402
                        ]
                      },
                      {
                        "iteration": 405,
                        "learn": [
                          0.916947707,
                          0.659167604
                        ],
                        "passed_time": 37.62414042,
                        "remaining_time": 55.04615618,
                        "test": [
                          1.101712151,
                          0.5377358491
                        ]
                      },
                      {
                        "iteration": 406,
                        "learn": [
                          0.9164656911,
                          0.6595425572
                        ],
                        "passed_time": 37.7033716,
                        "remaining_time": 54.93390506,
                        "test": [
                          1.101705987,
                          0.5363881402
                        ]
                      },
                      {
                        "iteration": 407,
                        "learn": [
                          0.91581484,
                          0.6599175103
                        ],
                        "passed_time": 37.78364972,
                        "remaining_time": 54.82333489,
                        "test": [
                          1.101529069,
                          0.5377358491
                        ]
                      },
                      {
                        "iteration": 408,
                        "learn": [
                          0.9154243306,
                          0.6602924634
                        ],
                        "passed_time": 37.86820319,
                        "remaining_time": 54.71909067,
                        "test": [
                          1.101411127,
                          0.539083558
                        ]
                      },
                      {
                        "iteration": 409,
                        "learn": [
                          0.9148593639,
                          0.6610423697
                        ],
                        "passed_time": 37.95114278,
                        "remaining_time": 54.61262009,
                        "test": [
                          1.101073735,
                          0.5377358491
                        ]
                      },
                      {
                        "iteration": 410,
                        "learn": [
                          0.9142602946,
                          0.6610423697
                        ],
                        "passed_time": 38.03407719,
                        "remaining_time": 54.5062566,
                        "test": [
                          1.10060234,
                          0.539083558
                        ]
                      },
                      {
                        "iteration": 411,
                        "learn": [
                          0.9139376324,
                          0.6610423697
                        ],
                        "passed_time": 38.13086313,
                        "remaining_time": 54.41977554,
                        "test": [
                          1.1004836,
                          0.539083558
                        ]
                      },
                      {
                        "iteration": 412,
                        "learn": [
                          0.9135512114,
                          0.6610423697
                        ],
                        "passed_time": 38.2109453,
                        "remaining_time": 54.30950337,
                        "test": [
                          1.100272021,
                          0.539083558
                        ]
                      },
                      {
                        "iteration": 413,
                        "learn": [
                          0.9132185361,
                          0.6614173228
                        ],
                        "passed_time": 38.29230712,
                        "remaining_time": 54.20118834,
                        "test": [
                          1.100268792,
                          0.5404312668
                        ]
                      },
                      {
                        "iteration": 414,
                        "learn": [
                          0.9128033481,
                          0.6614173228
                        ],
                        "passed_time": 38.37787591,
                        "remaining_time": 54.09893351,
                        "test": [
                          1.100109364,
                          0.5404312668
                        ]
                      },
                      {
                        "iteration": 415,
                        "learn": [
                          0.9124793054,
                          0.661792276
                        ],
                        "passed_time": 38.46040844,
                        "remaining_time": 53.99249647,
                        "test": [
                          1.099732994,
                          0.539083558
                        ]
                      },
                      {
                        "iteration": 416,
                        "learn": [
                          0.9120424771,
                          0.6625421822
                        ],
                        "passed_time": 38.54401087,
                        "remaining_time": 53.88766988,
                        "test": [
                          1.099931396,
                          0.539083558
                        ]
                      },
                      {
                        "iteration": 417,
                        "learn": [
                          0.9118344805,
                          0.6625421822
                        ],
                        "passed_time": 38.62466618,
                        "remaining_time": 53.77884143,
                        "test": [
                          1.09997848,
                          0.539083558
                        ]
                      },
                      {
                        "iteration": 418,
                        "learn": [
                          0.9114977807,
                          0.6625421822
                        ],
                        "passed_time": 38.70354361,
                        "remaining_time": 53.66768219,
                        "test": [
                          1.099961046,
                          0.539083558
                        ]
                      },
                      {
                        "iteration": 419,
                        "learn": [
                          0.9111177504,
                          0.6632920885
                        ],
                        "passed_time": 38.78362611,
                        "remaining_time": 53.55834081,
                        "test": [
                          1.099843408,
                          0.539083558
                        ]
                      },
                      {
                        "iteration": 420,
                        "learn": [
                          0.9108262058,
                          0.6632920885
                        ],
                        "passed_time": 38.86319353,
                        "remaining_time": 53.44843005,
                        "test": [
                          1.099534384,
                          0.539083558
                        ]
                      },
                      {
                        "iteration": 421,
                        "learn": [
                          0.9103419226,
                          0.6632920885
                        ],
                        "passed_time": 38.94215397,
                        "remaining_time": 53.33783174,
                        "test": [
                          1.099412008,
                          0.539083558
                        ]
                      },
                      {
                        "iteration": 422,
                        "learn": [
                          0.9100103137,
                          0.6640419948
                        ],
                        "passed_time": 39.02208777,
                        "remaining_time": 53.22871074,
                        "test": [
                          1.099412202,
                          0.539083558
                        ]
                      },
                      {
                        "iteration": 423,
                        "learn": [
                          0.9096152959,
                          0.6632920885
                        ],
                        "passed_time": 39.11940592,
                        "remaining_time": 53.1433439,
                        "test": [
                          1.098919849,
                          0.539083558
                        ]
                      },
                      {
                        "iteration": 424,
                        "learn": [
                          0.9092937304,
                          0.6640419948
                        ],
                        "passed_time": 39.20167101,
                        "remaining_time": 53.03755489,
                        "test": [
                          1.098543898,
                          0.539083558
                        ]
                      },
                      {
                        "iteration": 425,
                        "learn": [
                          0.9090582285,
                          0.6640419948
                        ],
                        "passed_time": 39.2820787,
                        "remaining_time": 52.92937365,
                        "test": [
                          1.09858699,
                          0.539083558
                        ]
                      },
                      {
                        "iteration": 426,
                        "learn": [
                          0.9086720627,
                          0.6640419948
                        ],
                        "passed_time": 39.36238493,
                        "remaining_time": 52.82118634,
                        "test": [
                          1.098526358,
                          0.5404312668
                        ]
                      },
                      {
                        "iteration": 427,
                        "learn": [
                          0.908353549,
                          0.6640419948
                        ],
                        "passed_time": 39.44830298,
                        "remaining_time": 52.72062922,
                        "test": [
                          1.098459636,
                          0.5404312668
                        ]
                      },
                      {
                        "iteration": 428,
                        "learn": [
                          0.9078493176,
                          0.664791901
                        ],
                        "passed_time": 39.52973249,
                        "remaining_time": 52.61416608,
                        "test": [
                          1.098248379,
                          0.5404312668
                        ]
                      },
                      {
                        "iteration": 429,
                        "learn": [
                          0.907536608,
                          0.664791901
                        ],
                        "passed_time": 39.61264226,
                        "remaining_time": 52.5097816,
                        "test": [
                          1.098074007,
                          0.5404312668
                        ]
                      },
                      {
                        "iteration": 430,
                        "learn": [
                          0.9071877654,
                          0.6644169479
                        ],
                        "passed_time": 39.69159664,
                        "remaining_time": 52.40027492,
                        "test": [
                          1.097799119,
                          0.5404312668
                        ]
                      },
                      {
                        "iteration": 431,
                        "learn": [
                          0.9067345862,
                          0.664791901
                        ],
                        "passed_time": 39.77078823,
                        "remaining_time": 52.29122156,
                        "test": [
                          1.097645934,
                          0.5404312668
                        ]
                      },
                      {
                        "iteration": 432,
                        "learn": [
                          0.9063487077,
                          0.664791901
                        ],
                        "passed_time": 39.85058274,
                        "remaining_time": 52.18309564,
                        "test": [
                          1.097577671,
                          0.5404312668
                        ]
                      },
                      {
                        "iteration": 433,
                        "learn": [
                          0.9060835913,
                          0.664791901
                        ],
                        "passed_time": 39.93053635,
                        "remaining_time": 52.07530777,
                        "test": [
                          1.097713758,
                          0.5404312668
                        ]
                      },
                      {
                        "iteration": 434,
                        "learn": [
                          0.9056004198,
                          0.6651668541
                        ],
                        "passed_time": 40.01371682,
                        "remaining_time": 51.97183909,
                        "test": [
                          1.097519436,
                          0.5404312668
                        ]
                      },
                      {
                        "iteration": 435,
                        "learn": [
                          0.9052924763,
                          0.6651668541
                        ],
                        "passed_time": 40.10625363,
                        "remaining_time": 51.88056662,
                        "test": [
                          1.097386282,
                          0.5417789757
                        ]
                      },
                      {
                        "iteration": 436,
                        "learn": [
                          0.9048638931,
                          0.6659167604
                        ],
                        "passed_time": 40.19161569,
                        "remaining_time": 51.78004493,
                        "test": [
                          1.097307514,
                          0.5417789757
                        ]
                      },
                      {
                        "iteration": 437,
                        "learn": [
                          0.9043870262,
                          0.6655418073
                        ],
                        "passed_time": 40.270659,
                        "remaining_time": 51.67148484,
                        "test": [
                          1.097211547,
                          0.5458221024
                        ]
                      },
                      {
                        "iteration": 438,
                        "learn": [
                          0.9040305831,
                          0.6659167604
                        ],
                        "passed_time": 40.3507139,
                        "remaining_time": 51.56435193,
                        "test": [
                          1.096869038,
                          0.5458221024
                        ]
                      },
                      {
                        "iteration": 439,
                        "learn": [
                          0.9035516539,
                          0.6666666667
                        ],
                        "passed_time": 40.43296085,
                        "remaining_time": 51.46013199,
                        "test": [
                          1.096748408,
                          0.5458221024
                        ]
                      },
                      {
                        "iteration": 440,
                        "learn": [
                          0.9031996114,
                          0.6659167604
                        ],
                        "passed_time": 40.51580523,
                        "remaining_time": 51.35676898,
                        "test": [
                          1.096797462,
                          0.5458221024
                        ]
                      },
                      {
                        "iteration": 441,
                        "learn": [
                          0.9028833615,
                          0.6662917135
                        ],
                        "passed_time": 40.59817089,
                        "remaining_time": 51.25289447,
                        "test": [
                          1.096818077,
                          0.5458221024
                        ]
                      },
                      {
                        "iteration": 442,
                        "learn": [
                          0.9020404613,
                          0.6670416198
                        ],
                        "passed_time": 40.67730635,
                        "remaining_time": 51.14505561,
                        "test": [
                          1.097141604,
                          0.5458221024
                        ]
                      },
                      {
                        "iteration": 443,
                        "learn": [
                          0.9016966877,
                          0.6674165729
                        ],
                        "passed_time": 40.7575767,
                        "remaining_time": 51.03876722,
                        "test": [
                          1.096708398,
                          0.5458221024
                        ]
                      },
                      {
                        "iteration": 444,
                        "learn": [
                          0.9013412322,
                          0.6677915261
                        ],
                        "passed_time": 40.83875792,
                        "remaining_time": 50.93373179,
                        "test": [
                          1.096412312,
                          0.5471698113
                        ]
                      },
                      {
                        "iteration": 445,
                        "learn": [
                          0.9009984125,
                          0.6681664792
                        ],
                        "passed_time": 40.91685926,
                        "remaining_time": 50.82497765,
                        "test": [
                          1.096467639,
                          0.5471698113
                        ]
                      },
                      {
                        "iteration": 446,
                        "learn": [
                          0.9006806103,
                          0.6685414323
                        ],
                        "passed_time": 41.0015961,
                        "remaining_time": 50.72456967,
                        "test": [
                          1.096287727,
                          0.5485175202
                        ]
                      },
                      {
                        "iteration": 447,
                        "learn": [
                          0.9002766624,
                          0.6700412448
                        ],
                        "passed_time": 41.08730533,
                        "remaining_time": 50.62542978,
                        "test": [
                          1.09627048,
                          0.5471698113
                        ]
                      },
                      {
                        "iteration": 448,
                        "learn": [
                          0.8997264375,
                          0.670416198
                        ],
                        "passed_time": 41.19335705,
                        "remaining_time": 50.55131344,
                        "test": [
                          1.095966359,
                          0.5471698113
                        ]
                      },
                      {
                        "iteration": 449,
                        "learn": [
                          0.8994202742,
                          0.670416198
                        ],
                        "passed_time": 41.28118966,
                        "remaining_time": 50.45478737,
                        "test": [
                          1.095837639,
                          0.5471698113
                        ]
                      },
                      {
                        "iteration": 450,
                        "learn": [
                          0.8991378402,
                          0.670416198
                        ],
                        "passed_time": 41.36170949,
                        "remaining_time": 50.34939803,
                        "test": [
                          1.095721406,
                          0.5471698113
                        ]
                      },
                      {
                        "iteration": 451,
                        "learn": [
                          0.8987545025,
                          0.6711661042
                        ],
                        "passed_time": 41.4429087,
                        "remaining_time": 50.2449424,
                        "test": [
                          1.095651716,
                          0.5471698113
                        ]
                      },
                      {
                        "iteration": 452,
                        "learn": [
                          0.8982001936,
                          0.6707911511
                        ],
                        "passed_time": 41.52736597,
                        "remaining_time": 50.14452359,
                        "test": [
                          1.095629898,
                          0.5471698113
                        ]
                      },
                      {
                        "iteration": 453,
                        "learn": [
                          0.8978427432,
                          0.6719160105
                        ],
                        "passed_time": 41.60714286,
                        "remaining_time": 50.03854626,
                        "test": [
                          1.095439215,
                          0.5471698113
                        ]
                      },
                      {
                        "iteration": 454,
                        "learn": [
                          0.8975108225,
                          0.6719160105
                        ],
                        "passed_time": 41.68897478,
                        "remaining_time": 49.93514561,
                        "test": [
                          1.095211867,
                          0.5485175202
                        ]
                      },
                      {
                        "iteration": 455,
                        "learn": [
                          0.8970427689,
                          0.6722909636
                        ],
                        "passed_time": 41.76889489,
                        "remaining_time": 49.82955882,
                        "test": [
                          1.095329816,
                          0.5458221024
                        ]
                      },
                      {
                        "iteration": 456,
                        "learn": [
                          0.8966954768,
                          0.673415823
                        ],
                        "passed_time": 41.84802882,
                        "remaining_time": 49.72315021,
                        "test": [
                          1.095412043,
                          0.5458221024
                        ]
                      },
                      {
                        "iteration": 457,
                        "learn": [
                          0.8964570593,
                          0.6730408699
                        ],
                        "passed_time": 41.9278853,
                        "remaining_time": 49.61771579,
                        "test": [
                          1.09547211,
                          0.5458221024
                        ]
                      },
                      {
                        "iteration": 458,
                        "learn": [
                          0.895874989,
                          0.673415823
                        ],
                        "passed_time": 42.00941835,
                        "remaining_time": 49.51436891,
                        "test": [
                          1.095105818,
                          0.5485175202
                        ]
                      },
                      {
                        "iteration": 459,
                        "learn": [
                          0.8955633983,
                          0.6737907762
                        ],
                        "passed_time": 42.08946713,
                        "remaining_time": 49.40937446,
                        "test": [
                          1.095008453,
                          0.5471698113
                        ]
                      },
                      {
                        "iteration": 460,
                        "learn": [
                          0.895151079,
                          0.6745406824
                        ],
                        "passed_time": 42.17990963,
                        "remaining_time": 49.31664054,
                        "test": [
                          1.09506275,
                          0.5471698113
                        ]
                      },
                      {
                        "iteration": 461,
                        "learn": [
                          0.8947932338,
                          0.6745406824
                        ],
                        "passed_time": 42.26580506,
                        "remaining_time": 49.21862148,
                        "test": [
                          1.094756636,
                          0.5485175202
                        ]
                      },
                      {
                        "iteration": 462,
                        "learn": [
                          0.8944660603,
                          0.6745406824
                        ],
                        "passed_time": 42.34674075,
                        "remaining_time": 49.11490234,
                        "test": [
                          1.094581688,
                          0.5498652291
                        ]
                      },
                      {
                        "iteration": 463,
                        "learn": [
                          0.8939223557,
                          0.6745406824
                        ],
                        "passed_time": 42.42862901,
                        "remaining_time": 49.01238179,
                        "test": [
                          1.094297757,
                          0.5498652291
                        ]
                      },
                      {
                        "iteration": 464,
                        "learn": [
                          0.8936234279,
                          0.6745406824
                        ],
                        "passed_time": 42.51626388,
                        "remaining_time": 48.91656166,
                        "test": [
                          1.094205908,
                          0.5498652291
                        ]
                      },
                      {
                        "iteration": 465,
                        "learn": [
                          0.8933876795,
                          0.6741657293
                        ],
                        "passed_time": 42.59807083,
                        "remaining_time": 48.81409833,
                        "test": [
                          1.094094319,
                          0.5498652291
                        ]
                      },
                      {
                        "iteration": 466,
                        "learn": [
                          0.8928632452,
                          0.6749156355
                        ],
                        "passed_time": 42.67921846,
                        "remaining_time": 48.71097096,
                        "test": [
                          1.093920869,
                          0.5485175202
                        ]
                      },
                      {
                        "iteration": 467,
                        "learn": [
                          0.8923880392,
                          0.6749156355
                        ],
                        "passed_time": 42.75684132,
                        "remaining_time": 48.60393073,
                        "test": [
                          1.093593723,
                          0.5498652291
                        ]
                      },
                      {
                        "iteration": 468,
                        "learn": [
                          0.891902796,
                          0.6745406824
                        ],
                        "passed_time": 42.83490301,
                        "remaining_time": 48.49751279,
                        "test": [
                          1.093376104,
                          0.5498652291
                        ]
                      },
                      {
                        "iteration": 469,
                        "learn": [
                          0.8916027361,
                          0.6749156355
                        ],
                        "passed_time": 42.9123749,
                        "remaining_time": 48.39055042,
                        "test": [
                          1.093338745,
                          0.5498652291
                        ]
                      },
                      {
                        "iteration": 470,
                        "learn": [
                          0.8913450733,
                          0.6752905887
                        ],
                        "passed_time": 42.99342589,
                        "remaining_time": 48.28773312,
                        "test": [
                          1.093319554,
                          0.5498652291
                        ]
                      },
                      {
                        "iteration": 471,
                        "learn": [
                          0.8909486323,
                          0.6756655418
                        ],
                        "passed_time": 43.07294197,
                        "remaining_time": 48.18329102,
                        "test": [
                          1.09321779,
                          0.5498652291
                        ]
                      },
                      {
                        "iteration": 472,
                        "learn": [
                          0.8906559816,
                          0.6764154481
                        ],
                        "passed_time": 43.15305107,
                        "remaining_time": 48.07961504,
                        "test": [
                          1.093277662,
                          0.5498652291
                        ]
                      },
                      {
                        "iteration": 473,
                        "learn": [
                          0.8904334177,
                          0.6760404949
                        ],
                        "passed_time": 43.24552036,
                        "remaining_time": 47.98975466,
                        "test": [
                          1.09326463,
                          0.5498652291
                        ]
                      },
                      {
                        "iteration": 474,
                        "learn": [
                          0.8901793436,
                          0.6764154481
                        ],
                        "passed_time": 43.32455185,
                        "remaining_time": 47.88503099,
                        "test": [
                          1.093225606,
                          0.5498652291
                        ]
                      },
                      {
                        "iteration": 475,
                        "learn": [
                          0.889792854,
                          0.6760404949
                        ],
                        "passed_time": 43.406159,
                        "remaining_time": 47.78325067,
                        "test": [
                          1.092923552,
                          0.5498652291
                        ]
                      },
                      {
                        "iteration": 476,
                        "learn": [
                          0.8895112523,
                          0.6764154481
                        ],
                        "passed_time": 43.48936795,
                        "remaining_time": 47.68331119,
                        "test": [
                          1.0927871,
                          0.5498652291
                        ]
                      },
                      {
                        "iteration": 477,
                        "learn": [
                          0.8892253586,
                          0.6764154481
                        ],
                        "passed_time": 43.5738167,
                        "remaining_time": 47.58479565,
                        "test": [
                          1.092815918,
                          0.5498652291
                        ]
                      },
                      {
                        "iteration": 478,
                        "learn": [
                          0.8888046626,
                          0.6767904012
                        ],
                        "passed_time": 43.66218782,
                        "remaining_time": 47.49060512,
                        "test": [
                          1.092421667,
                          0.5498652291
                        ]
                      },
                      {
                        "iteration": 479,
                        "learn": [
                          0.8884266707,
                          0.6767904012
                        ],
                        "passed_time": 43.74595551,
                        "remaining_time": 47.3914518,
                        "test": [
                          1.092385224,
                          0.5498652291
                        ]
                      },
                      {
                        "iteration": 480,
                        "learn": [
                          0.8880402352,
                          0.6775403075
                        ],
                        "passed_time": 43.82833759,
                        "remaining_time": 47.29086738,
                        "test": [
                          1.092252301,
                          0.551212938
                        ]
                      },
                      {
                        "iteration": 481,
                        "learn": [
                          0.8877701728,
                          0.6771653543
                        ],
                        "passed_time": 43.91150356,
                        "remaining_time": 47.19120092,
                        "test": [
                          1.092182066,
                          0.551212938
                        ]
                      },
                      {
                        "iteration": 482,
                        "learn": [
                          0.8873330835,
                          0.6775403075
                        ],
                        "passed_time": 43.99461571,
                        "remaining_time": 47.09154518,
                        "test": [
                          1.091886947,
                          0.551212938
                        ]
                      },
                      {
                        "iteration": 483,
                        "learn": [
                          0.8869961221,
                          0.6775403075
                        ],
                        "passed_time": 44.07768234,
                        "remaining_time": 46.99190927,
                        "test": [
                          1.091577351,
                          0.551212938
                        ]
                      },
                      {
                        "iteration": 484,
                        "learn": [
                          0.8865757476,
                          0.6782902137
                        ],
                        "passed_time": 44.1614436,
                        "remaining_time": 46.89307929,
                        "test": [
                          1.09165553,
                          0.551212938
                        ]
                      },
                      {
                        "iteration": 485,
                        "learn": [
                          0.8863832861,
                          0.6782902137
                        ],
                        "passed_time": 44.26449048,
                        "remaining_time": 46.81470803,
                        "test": [
                          1.091627534,
                          0.551212938
                        ]
                      },
                      {
                        "iteration": 486,
                        "learn": [
                          0.8861075615,
                          0.6786651669
                        ],
                        "passed_time": 44.34736435,
                        "remaining_time": 46.71498544,
                        "test": [
                          1.09167411,
                          0.551212938
                        ]
                      },
                      {
                        "iteration": 487,
                        "learn": [
                          0.8857841018,
                          0.6782902137
                        ],
                        "passed_time": 44.42963869,
                        "remaining_time": 46.61470288,
                        "test": [
                          1.091653698,
                          0.551212938
                        ]
                      },
                      {
                        "iteration": 488,
                        "learn": [
                          0.885457233,
                          0.6786651669
                        ],
                        "passed_time": 44.51467151,
                        "remaining_time": 46.51737656,
                        "test": [
                          1.091467481,
                          0.551212938
                        ]
                      },
                      {
                        "iteration": 489,
                        "learn": [
                          0.8851248392,
                          0.6797900262
                        ],
                        "passed_time": 44.59709178,
                        "remaining_time": 46.41738124,
                        "test": [
                          1.09133405,
                          0.5525606469
                        ]
                      },
                      {
                        "iteration": 490,
                        "learn": [
                          0.88483863,
                          0.6794150731
                        ],
                        "passed_time": 44.67744343,
                        "remaining_time": 46.31531305,
                        "test": [
                          1.091376801,
                          0.5525606469
                        ]
                      },
                      {
                        "iteration": 491,
                        "learn": [
                          0.8844782005,
                          0.6794150731
                        ],
                        "passed_time": 44.75676673,
                        "remaining_time": 46.21227134,
                        "test": [
                          1.091214628,
                          0.551212938
                        ]
                      },
                      {
                        "iteration": 492,
                        "learn": [
                          0.8839491641,
                          0.6794150731
                        ],
                        "passed_time": 44.83711869,
                        "remaining_time": 46.11038372,
                        "test": [
                          1.090956172,
                          0.551212938
                        ]
                      },
                      {
                        "iteration": 493,
                        "learn": [
                          0.8836334571,
                          0.6797900262
                        ],
                        "passed_time": 44.91844315,
                        "remaining_time": 46.00957942,
                        "test": [
                          1.090649639,
                          0.551212938
                        ]
                      },
                      {
                        "iteration": 494,
                        "learn": [
                          0.8834098305,
                          0.6801649794
                        ],
                        "passed_time": 44.99980335,
                        "remaining_time": 45.90889029,
                        "test": [
                          1.09061877,
                          0.551212938
                        ]
                      },
                      {
                        "iteration": 495,
                        "learn": [
                          0.8830852523,
                          0.6816647919
                        ],
                        "passed_time": 45.07950495,
                        "remaining_time": 45.80659374,
                        "test": [
                          1.090639646,
                          0.551212938
                        ]
                      },
                      {
                        "iteration": 496,
                        "learn": [
                          0.8826887931,
                          0.6816647919
                        ],
                        "passed_time": 45.15979493,
                        "remaining_time": 45.7049836,
                        "test": [
                          1.090583498,
                          0.551212938
                        ]
                      },
                      {
                        "iteration": 497,
                        "learn": [
                          0.8823831643,
                          0.682039745
                        ],
                        "passed_time": 45.25063496,
                        "remaining_time": 45.61409388,
                        "test": [
                          1.090621951,
                          0.551212938
                        ]
                      },
                      {
                        "iteration": 498,
                        "learn": [
                          0.8820596705,
                          0.6824146982
                        ],
                        "passed_time": 45.33596273,
                        "remaining_time": 45.51766999,
                        "test": [
                          1.090661761,
                          0.551212938
                        ]
                      },
                      {
                        "iteration": 499,
                        "learn": [
                          0.8817130424,
                          0.6824146982
                        ],
                        "passed_time": 45.4174231,
                        "remaining_time": 45.4174231,
                        "test": [
                          1.090462255,
                          0.551212938
                        ]
                      },
                      {
                        "iteration": 500,
                        "learn": [
                          0.8814291787,
                          0.6827896513
                        ],
                        "passed_time": 45.49849094,
                        "remaining_time": 45.31686024,
                        "test": [
                          1.090343591,
                          0.551212938
                        ]
                      },
                      {
                        "iteration": 501,
                        "learn": [
                          0.881133903,
                          0.6827896513
                        ],
                        "passed_time": 45.58516573,
                        "remaining_time": 45.22193732,
                        "test": [
                          1.090130721,
                          0.551212938
                        ]
                      },
                      {
                        "iteration": 502,
                        "learn": [
                          0.8807912645,
                          0.6827896513
                        ],
                        "passed_time": 45.66579043,
                        "remaining_time": 45.12106927,
                        "test": [
                          1.090083246,
                          0.551212938
                        ]
                      },
                      {
                        "iteration": 503,
                        "learn": [
                          0.8805952635,
                          0.6824146982
                        ],
                        "passed_time": 45.74916156,
                        "remaining_time": 45.0229844,
                        "test": [
                          1.090026883,
                          0.551212938
                        ]
                      },
                      {
                        "iteration": 504,
                        "learn": [
                          0.8803332153,
                          0.6824146982
                        ],
                        "passed_time": 45.83173279,
                        "remaining_time": 44.92417372,
                        "test": [
                          1.089996715,
                          0.551212938
                        ]
                      },
                      {
                        "iteration": 505,
                        "learn": [
                          0.8800077942,
                          0.6824146982
                        ],
                        "passed_time": 45.91447958,
                        "remaining_time": 44.82559865,
                        "test": [
                          1.089756689,
                          0.5498652291
                        ]
                      },
                      {
                        "iteration": 506,
                        "learn": [
                          0.8794829201,
                          0.6827896513
                        ],
                        "passed_time": 45.99772138,
                        "remaining_time": 44.72756734,
                        "test": [
                          1.089543964,
                          0.5498652291
                        ]
                      },
                      {
                        "iteration": 507,
                        "learn": [
                          0.8791436173,
                          0.6827896513
                        ],
                        "passed_time": 46.0786052,
                        "remaining_time": 44.62731054,
                        "test": [
                          1.089192443,
                          0.5498652291
                        ]
                      },
                      {
                        "iteration": 508,
                        "learn": [
                          0.8788506094,
                          0.6827896513
                        ],
                        "passed_time": 46.16020431,
                        "remaining_time": 44.52781988,
                        "test": [
                          1.089108118,
                          0.5498652291
                        ]
                      },
                      {
                        "iteration": 509,
                        "learn": [
                          0.8785409275,
                          0.6827896513
                        ],
                        "passed_time": 46.23868138,
                        "remaining_time": 44.42539975,
                        "test": [
                          1.088917656,
                          0.5498652291
                        ]
                      },
                      {
                        "iteration": 510,
                        "learn": [
                          0.8780359641,
                          0.6831646044
                        ],
                        "passed_time": 46.33732721,
                        "remaining_time": 44.34237379,
                        "test": [
                          1.088928575,
                          0.5498652291
                        ]
                      },
                      {
                        "iteration": 511,
                        "learn": [
                          0.8778559534,
                          0.6831646044
                        ],
                        "passed_time": 46.4173268,
                        "remaining_time": 44.24151461,
                        "test": [
                          1.088811824,
                          0.5498652291
                        ]
                      },
                      {
                        "iteration": 512,
                        "learn": [
                          0.8773220505,
                          0.6839145107
                        ],
                        "passed_time": 46.49830426,
                        "remaining_time": 44.14166506,
                        "test": [
                          1.08855693,
                          0.5498652291
                        ]
                      },
                      {
                        "iteration": 513,
                        "learn": [
                          0.8770212698,
                          0.6835395576
                        ],
                        "passed_time": 46.58375495,
                        "remaining_time": 44.0461185,
                        "test": [
                          1.088334638,
                          0.5498652291
                        ]
                      },
                      {
                        "iteration": 514,
                        "learn": [
                          0.8767225371,
                          0.6831646044
                        ],
                        "passed_time": 46.66338626,
                        "remaining_time": 43.94513075,
                        "test": [
                          1.088389637,
                          0.5498652291
                        ]
                      },
                      {
                        "iteration": 515,
                        "learn": [
                          0.8764527705,
                          0.6831646044
                        ],
                        "passed_time": 46.74411595,
                        "remaining_time": 43.84525604,
                        "test": [
                          1.088226045,
                          0.5498652291
                        ]
                      },
                      {
                        "iteration": 516,
                        "learn": [
                          0.8760252926,
                          0.6831646044
                        ],
                        "passed_time": 46.82482751,
                        "remaining_time": 43.74543846,
                        "test": [
                          1.088119959,
                          0.5498652291
                        ]
                      },
                      {
                        "iteration": 517,
                        "learn": [
                          0.8753293428,
                          0.6824146982
                        ],
                        "passed_time": 46.90710962,
                        "remaining_time": 43.64715605,
                        "test": [
                          1.087882885,
                          0.551212938
                        ]
                      },
                      {
                        "iteration": 518,
                        "learn": [
                          0.8751376019,
                          0.6827896513
                        ],
                        "passed_time": 47.01175903,
                        "remaining_time": 43.56966492,
                        "test": [
                          1.087894172,
                          0.551212938
                        ]
                      },
                      {
                        "iteration": 519,
                        "learn": [
                          0.8747324623,
                          0.6827896513
                        ],
                        "passed_time": 47.1109643,
                        "remaining_time": 43.48704397,
                        "test": [
                          1.087573675,
                          0.5539083558
                        ]
                      },
                      {
                        "iteration": 520,
                        "learn": [
                          0.8744013154,
                          0.6831646044
                        ],
                        "passed_time": 47.20667254,
                        "remaining_time": 43.40114424,
                        "test": [
                          1.087576089,
                          0.5539083558
                        ]
                      },
                      {
                        "iteration": 521,
                        "learn": [
                          0.8738664949,
                          0.6827896513
                        ],
                        "passed_time": 47.32056762,
                        "remaining_time": 43.33186077,
                        "test": [
                          1.087433576,
                          0.5539083558
                        ]
                      },
                      {
                        "iteration": 522,
                        "learn": [
                          0.8734762715,
                          0.6839145107
                        ],
                        "passed_time": 47.43221034,
                        "remaining_time": 43.26035245,
                        "test": [
                          1.087135732,
                          0.5525606469
                        ]
                      },
                      {
                        "iteration": 523,
                        "learn": [
                          0.8731202912,
                          0.6839145107
                        ],
                        "passed_time": 47.53233701,
                        "remaining_time": 43.1782298,
                        "test": [
                          1.087051683,
                          0.5525606469
                        ]
                      },
                      {
                        "iteration": 524,
                        "learn": [
                          0.8728573122,
                          0.6846644169
                        ],
                        "passed_time": 47.63736837,
                        "remaining_time": 43.10047615,
                        "test": [
                          1.086800424,
                          0.5525606469
                        ]
                      },
                      {
                        "iteration": 525,
                        "learn": [
                          0.8722089551,
                          0.6846644169
                        ],
                        "passed_time": 47.73641326,
                        "remaining_time": 43.01722412,
                        "test": [
                          1.086332858,
                          0.551212938
                        ]
                      },
                      {
                        "iteration": 526,
                        "learn": [
                          0.8718702439,
                          0.6854143232
                        ],
                        "passed_time": 47.83687312,
                        "remaining_time": 42.93518213,
                        "test": [
                          1.086212347,
                          0.5525606469
                        ]
                      },
                      {
                        "iteration": 527,
                        "learn": [
                          0.8715927941,
                          0.6850393701
                        ],
                        "passed_time": 47.93983609,
                        "remaining_time": 42.85530802,
                        "test": [
                          1.086244076,
                          0.5525606469
                        ]
                      },
                      {
                        "iteration": 528,
                        "learn": [
                          0.8712475281,
                          0.6854143232
                        ],
                        "passed_time": 48.04652722,
                        "remaining_time": 42.77866602,
                        "test": [
                          1.086366486,
                          0.5525606469
                        ]
                      },
                      {
                        "iteration": 529,
                        "learn": [
                          0.8709833342,
                          0.6857892763
                        ],
                        "passed_time": 48.14515124,
                        "remaining_time": 42.69475676,
                        "test": [
                          1.08626915,
                          0.5525606469
                        ]
                      },
                      {
                        "iteration": 530,
                        "learn": [
                          0.870725169,
                          0.6861642295
                        ],
                        "passed_time": 48.24253196,
                        "remaining_time": 42.60969395,
                        "test": [
                          1.086236406,
                          0.5525606469
                        ]
                      },
                      {
                        "iteration": 531,
                        "learn": [
                          0.870479164,
                          0.6865391826
                        ],
                        "passed_time": 48.35513095,
                        "remaining_time": 42.53797234,
                        "test": [
                          1.086023744,
                          0.5525606469
                        ]
                      },
                      {
                        "iteration": 532,
                        "learn": [
                          0.8702793542,
                          0.6872890889
                        ],
                        "passed_time": 48.46832714,
                        "remaining_time": 42.46662059,
                        "test": [
                          1.085988022,
                          0.5525606469
                        ]
                      },
                      {
                        "iteration": 533,
                        "learn": [
                          0.8700624614,
                          0.687664042
                        ],
                        "passed_time": 48.57410691,
                        "remaining_time": 42.38864012,
                        "test": [
                          1.085900856,
                          0.5525606469
                        ]
                      },
                      {
                        "iteration": 534,
                        "learn": [
                          0.8696706662,
                          0.6880389951
                        ],
                        "passed_time": 48.67895617,
                        "remaining_time": 42.30974695,
                        "test": [
                          1.08599009,
                          0.5539083558
                        ]
                      },
                      {
                        "iteration": 535,
                        "learn": [
                          0.8692850278,
                          0.6880389951
                        ],
                        "passed_time": 48.7793352,
                        "remaining_time": 42.22688719,
                        "test": [
                          1.085640327,
                          0.5539083558
                        ]
                      },
                      {
                        "iteration": 536,
                        "learn": [
                          0.8690512313,
                          0.6887889014
                        ],
                        "passed_time": 48.88154511,
                        "remaining_time": 42.14554075,
                        "test": [
                          1.085597323,
                          0.5539083558
                        ]
                      },
                      {
                        "iteration": 537,
                        "learn": [
                          0.868712798,
                          0.6887889014
                        ],
                        "passed_time": 48.99664662,
                        "remaining_time": 42.07518725,
                        "test": [
                          1.08531727,
                          0.551212938
                        ]
                      },
                      {
                        "iteration": 538,
                        "learn": [
                          0.8684349125,
                          0.6891638545
                        ],
                        "passed_time": 49.09848759,
                        "remaining_time": 41.99332612,
                        "test": [
                          1.085389903,
                          0.5498652291
                        ]
                      },
                      {
                        "iteration": 539,
                        "learn": [
                          0.8681576281,
                          0.6891638545
                        ],
                        "passed_time": 49.20226812,
                        "remaining_time": 41.91304322,
                        "test": [
                          1.085182465,
                          0.5485175202
                        ]
                      },
                      {
                        "iteration": 540,
                        "learn": [
                          0.86791323,
                          0.6891638545
                        ],
                        "passed_time": 49.30083115,
                        "remaining_time": 41.82824676,
                        "test": [
                          1.085072053,
                          0.5485175202
                        ]
                      },
                      {
                        "iteration": 541,
                        "learn": [
                          0.8675787289,
                          0.6891638545
                        ],
                        "passed_time": 49.4244154,
                        "remaining_time": 41.7645429,
                        "test": [
                          1.085049261,
                          0.5485175202
                        ]
                      },
                      {
                        "iteration": 542,
                        "learn": [
                          0.867203525,
                          0.690663667
                        ],
                        "passed_time": 49.52392038,
                        "remaining_time": 41.68035288,
                        "test": [
                          1.084741064,
                          0.5485175202
                        ]
                      },
                      {
                        "iteration": 543,
                        "learn": [
                          0.8668959422,
                          0.6914135733
                        ],
                        "passed_time": 49.6282549,
                        "remaining_time": 41.60015484,
                        "test": [
                          1.084415537,
                          0.5485175202
                        ]
                      },
                      {
                        "iteration": 544,
                        "learn": [
                          0.8666763856,
                          0.6914135733
                        ],
                        "passed_time": 49.73162841,
                        "remaining_time": 41.51906592,
                        "test": [
                          1.084336258,
                          0.5498652291
                        ]
                      },
                      {
                        "iteration": 545,
                        "learn": [
                          0.8664770918,
                          0.6910386202
                        ],
                        "passed_time": 49.83020202,
                        "remaining_time": 41.43390424,
                        "test": [
                          1.084325402,
                          0.5498652291
                        ]
                      },
                      {
                        "iteration": 546,
                        "learn": [
                          0.8660311966,
                          0.6910386202
                        ],
                        "passed_time": 49.93234075,
                        "remaining_time": 41.35164599,
                        "test": [
                          1.084060176,
                          0.5498652291
                        ]
                      },
                      {
                        "iteration": 547,
                        "learn": [
                          0.8657520353,
                          0.6914135733
                        ],
                        "passed_time": 50.02691171,
                        "remaining_time": 41.26307317,
                        "test": [
                          1.083876163,
                          0.5498652291
                        ]
                      },
                      {
                        "iteration": 548,
                        "learn": [
                          0.8654324565,
                          0.6914135733
                        ],
                        "passed_time": 50.13749246,
                        "remaining_time": 41.18763042,
                        "test": [
                          1.083917073,
                          0.5498652291
                        ]
                      },
                      {
                        "iteration": 549,
                        "learn": [
                          0.8651508243,
                          0.6917885264
                        ],
                        "passed_time": 50.24150756,
                        "remaining_time": 41.106688,
                        "test": [
                          1.083929248,
                          0.5498652291
                        ]
                      },
                      {
                        "iteration": 550,
                        "learn": [
                          0.864822788,
                          0.6917885264
                        ],
                        "passed_time": 50.34493294,
                        "remaining_time": 41.02518129,
                        "test": [
                          1.083541957,
                          0.5498652291
                        ]
                      },
                      {
                        "iteration": 551,
                        "learn": [
                          0.8644666306,
                          0.690663667
                        ],
                        "passed_time": 50.46054652,
                        "remaining_time": 40.95348703,
                        "test": [
                          1.08356619,
                          0.5498652291
                        ]
                      },
                      {
                        "iteration": 552,
                        "learn": [
                          0.8641995215,
                          0.690663667
                        ],
                        "passed_time": 50.55318741,
                        "remaining_time": 40.86306469,
                        "test": [
                          1.083461072,
                          0.551212938
                        ]
                      },
                      {
                        "iteration": 553,
                        "learn": [
                          0.8639948293,
                          0.6914135733
                        ],
                        "passed_time": 50.63562877,
                        "remaining_time": 40.76442316,
                        "test": [
                          1.083368935,
                          0.551212938
                        ]
                      },
                      {
                        "iteration": 554,
                        "learn": [
                          0.8636985075,
                          0.6910386202
                        ],
                        "passed_time": 50.72286099,
                        "remaining_time": 40.66968133,
                        "test": [
                          1.082939435,
                          0.551212938
                        ]
                      },
                      {
                        "iteration": 555,
                        "learn": [
                          0.8633757172,
                          0.6917885264
                        ],
                        "passed_time": 50.80586726,
                        "remaining_time": 40.57159184,
                        "test": [
                          1.08265512,
                          0.5498652291
                        ]
                      },
                      {
                        "iteration": 556,
                        "learn": [
                          0.8629298232,
                          0.6914135733
                        ],
                        "passed_time": 50.8860786,
                        "remaining_time": 40.47133361,
                        "test": [
                          1.082334585,
                          0.5498652291
                        ]
                      },
                      {
                        "iteration": 557,
                        "learn": [
                          0.862608264,
                          0.6917885264
                        ],
                        "passed_time": 50.96650414,
                        "remaining_time": 40.3713169,
                        "test": [
                          1.082201067,
                          0.5498652291
                        ]
                      },
                      {
                        "iteration": 558,
                        "learn": [
                          0.8621365542,
                          0.6925384327
                        ],
                        "passed_time": 51.04827143,
                        "remaining_time": 40.27242881,
                        "test": [
                          1.081731957,
                          0.5498652291
                        ]
                      },
                      {
                        "iteration": 559,
                        "learn": [
                          0.8617772582,
                          0.6925384327
                        ],
                        "passed_time": 51.13579717,
                        "remaining_time": 40.17812635,
                        "test": [
                          1.081648164,
                          0.5498652291
                        ]
                      },
                      {
                        "iteration": 560,
                        "learn": [
                          0.8614803092,
                          0.6929133858
                        ],
                        "passed_time": 51.21672111,
                        "remaining_time": 40.07868193,
                        "test": [
                          1.081571456,
                          0.5498652291
                        ]
                      },
                      {
                        "iteration": 561,
                        "learn": [
                          0.8612132541,
                          0.6929133858
                        ],
                        "passed_time": 51.29670896,
                        "remaining_time": 39.97857389,
                        "test": [
                          1.081299648,
                          0.5498652291
                        ]
                      },
                      {
                        "iteration": 562,
                        "learn": [
                          0.8610218054,
                          0.693288339
                        ],
                        "passed_time": 51.37933331,
                        "remaining_time": 39.88058376,
                        "test": [
                          1.081219836,
                          0.5498652291
                        ]
                      },
                      {
                        "iteration": 563,
                        "learn": [
                          0.8607816078,
                          0.693288339
                        ],
                        "passed_time": 51.48308329,
                        "remaining_time": 39.79897928,
                        "test": [
                          1.081115087,
                          0.5498652291
                        ]
                      },
                      {
                        "iteration": 564,
                        "learn": [
                          0.8605171655,
                          0.693288339
                        ],
                        "passed_time": 51.57648963,
                        "remaining_time": 39.70933273,
                        "test": [
                          1.081126977,
                          0.5498652291
                        ]
                      },
                      {
                        "iteration": 565,
                        "learn": [
                          0.8602288918,
                          0.6936632921
                        ],
                        "passed_time": 51.65539149,
                        "remaining_time": 39.60855107,
                        "test": [
                          1.080972422,
                          0.5485175202
                        ]
                      },
                      {
                        "iteration": 566,
                        "learn": [
                          0.8599867683,
                          0.6936632921
                        ],
                        "passed_time": 51.74056285,
                        "remaining_time": 39.51263442,
                        "test": [
                          1.080926174,
                          0.5498652291
                        ]
                      },
                      {
                        "iteration": 567,
                        "learn": [
                          0.8596343319,
                          0.693288339
                        ],
                        "passed_time": 51.82270043,
                        "remaining_time": 39.41444821,
                        "test": [
                          1.080621818,
                          0.5485175202
                        ]
                      },
                      {
                        "iteration": 568,
                        "learn": [
                          0.8592152835,
                          0.693288339
                        ],
                        "passed_time": 51.90199348,
                        "remaining_time": 39.31416378,
                        "test": [
                          1.080103755,
                          0.5498652291
                        ]
                      },
                      {
                        "iteration": 569,
                        "learn": [
                          0.8588520559,
                          0.6936632921
                        ],
                        "passed_time": 51.98160393,
                        "remaining_time": 39.21419244,
                        "test": [
                          1.079880195,
                          0.551212938
                        ]
                      },
                      {
                        "iteration": 570,
                        "learn": [
                          0.8585566913,
                          0.693288339
                        ],
                        "passed_time": 52.06088917,
                        "remaining_time": 39.11404808,
                        "test": [
                          1.079726126,
                          0.551212938
                        ]
                      },
                      {
                        "iteration": 571,
                        "learn": [
                          0.8582556585,
                          0.6936632921
                        ],
                        "passed_time": 52.1417234,
                        "remaining_time": 39.01513569,
                        "test": [
                          1.079520547,
                          0.551212938
                        ]
                      },
                      {
                        "iteration": 572,
                        "learn": [
                          0.8579742219,
                          0.6944131984
                        ],
                        "passed_time": 52.22255424,
                        "remaining_time": 38.91628387,
                        "test": [
                          1.079434573,
                          0.551212938
                        ]
                      },
                      {
                        "iteration": 573,
                        "learn": [
                          0.857657041,
                          0.6944131984
                        ],
                        "passed_time": 52.30124526,
                        "remaining_time": 38.81590676,
                        "test": [
                          1.079214949,
                          0.5525606469
                        ]
                      },
                      {
                        "iteration": 574,
                        "learn": [
                          0.8573451989,
                          0.6940382452
                        ],
                        "passed_time": 52.38046085,
                        "remaining_time": 38.7159928,
                        "test": [
                          1.079274913,
                          0.5552560647
                        ]
                      },
                      {
                        "iteration": 575,
                        "learn": [
                          0.8570248083,
                          0.6944131984
                        ],
                        "passed_time": 52.47361987,
                        "remaining_time": 38.62641462,
                        "test": [
                          1.079108501,
                          0.5525606469
                        ]
                      },
                      {
                        "iteration": 576,
                        "learn": [
                          0.8566838122,
                          0.6944131984
                        ],
                        "passed_time": 52.56114101,
                        "remaining_time": 38.5326909,
                        "test": [
                          1.079310354,
                          0.5539083558
                        ]
                      },
                      {
                        "iteration": 577,
                        "learn": [
                          0.8564518046,
                          0.6951631046
                        ],
                        "passed_time": 52.6402487,
                        "remaining_time": 38.43284593,
                        "test": [
                          1.079436786,
                          0.5539083558
                        ]
                      },
                      {
                        "iteration": 578,
                        "learn": [
                          0.8561704546,
                          0.6959130109
                        ],
                        "passed_time": 52.72212438,
                        "remaining_time": 38.33508526,
                        "test": [
                          1.079449341,
                          0.5539083558
                        ]
                      },
                      {
                        "iteration": 579,
                        "learn": [
                          0.8558843516,
                          0.696287964
                        ],
                        "passed_time": 52.80305288,
                        "remaining_time": 38.23669347,
                        "test": [
                          1.07924359,
                          0.5539083558
                        ]
                      },
                      {
                        "iteration": 580,
                        "learn": [
                          0.8555004352,
                          0.6955380577
                        ],
                        "passed_time": 52.88554509,
                        "remaining_time": 38.13948949,
                        "test": [
                          1.079111802,
                          0.5539083558
                        ]
                      },
                      {
                        "iteration": 581,
                        "learn": [
                          0.8552753513,
                          0.6955380577
                        ],
                        "passed_time": 52.96262608,
                        "remaining_time": 38.03844966,
                        "test": [
                          1.078951426,
                          0.5539083558
                        ]
                      },
                      {
                        "iteration": 582,
                        "learn": [
                          0.8549864727,
                          0.696287964
                        ],
                        "passed_time": 53.04574063,
                        "remaining_time": 37.94180762,
                        "test": [
                          1.079242269,
                          0.5525606469
                        ]
                      },
                      {
                        "iteration": 583,
                        "learn": [
                          0.8546899616,
                          0.696287964
                        ],
                        "passed_time": 53.12689747,
                        "remaining_time": 37.84381737,
                        "test": [
                          1.079083131,
                          0.5525606469
                        ]
                      },
                      {
                        "iteration": 584,
                        "learn": [
                          0.8544830162,
                          0.696287964
                        ],
                        "passed_time": 53.20688472,
                        "remaining_time": 37.74505497,
                        "test": [
                          1.078885191,
                          0.5525606469
                        ]
                      },
                      {
                        "iteration": 585,
                        "learn": [
                          0.8542413897,
                          0.696287964
                        ],
                        "passed_time": 53.28749041,
                        "remaining_time": 37.64679357,
                        "test": [
                          1.078692813,
                          0.5539083558
                        ]
                      },
                      {
                        "iteration": 586,
                        "learn": [
                          0.8538848366,
                          0.696287964
                        ],
                        "passed_time": 53.36854447,
                        "remaining_time": 37.54890778,
                        "test": [
                          1.078554219,
                          0.5539083558
                        ]
                      },
                      {
                        "iteration": 587,
                        "learn": [
                          0.8535751023,
                          0.6966629171
                        ],
                        "passed_time": 53.44792623,
                        "remaining_time": 37.44990749,
                        "test": [
                          1.078530704,
                          0.5525606469
                        ]
                      },
                      {
                        "iteration": 588,
                        "learn": [
                          0.8532109163,
                          0.696287964
                        ],
                        "passed_time": 53.54622183,
                        "remaining_time": 37.36417177,
                        "test": [
                          1.078432954,
                          0.5539083558
                        ]
                      },
                      {
                        "iteration": 589,
                        "learn": [
                          0.8530094712,
                          0.6966629171
                        ],
                        "passed_time": 53.62538688,
                        "remaining_time": 37.26509936,
                        "test": [
                          1.078230117,
                          0.5525606469
                        ]
                      },
                      {
                        "iteration": 590,
                        "learn": [
                          0.8526737603,
                          0.6966629171
                        ],
                        "passed_time": 53.70611475,
                        "remaining_time": 37.16717586,
                        "test": [
                          1.07822601,
                          0.5525606469
                        ]
                      },
                      {
                        "iteration": 591,
                        "learn": [
                          0.8523629322,
                          0.6974128234
                        ],
                        "passed_time": 53.79413544,
                        "remaining_time": 37.07433658,
                        "test": [
                          1.078201827,
                          0.5525606469
                        ]
                      },
                      {
                        "iteration": 592,
                        "learn": [
                          0.8521011025,
                          0.6974128234
                        ],
                        "passed_time": 53.87525632,
                        "remaining_time": 36.97677795,
                        "test": [
                          1.077991348,
                          0.5525606469
                        ]
                      },
                      {
                        "iteration": 593,
                        "learn": [
                          0.8518392008,
                          0.6970378703
                        ],
                        "passed_time": 53.95504384,
                        "remaining_time": 36.8783633,
                        "test": [
                          1.077902874,
                          0.5525606469
                        ]
                      },
                      {
                        "iteration": 594,
                        "learn": [
                          0.8515666674,
                          0.6981627297
                        ],
                        "passed_time": 54.0368335,
                        "remaining_time": 36.78137407,
                        "test": [
                          1.077843753,
                          0.5525606469
                        ]
                      },
                      {
                        "iteration": 595,
                        "learn": [
                          0.8512781386,
                          0.6989126359
                        ],
                        "passed_time": 54.11683745,
                        "remaining_time": 36.68322538,
                        "test": [
                          1.077891212,
                          0.5525606469
                        ]
                      },
                      {
                        "iteration": 596,
                        "learn": [
                          0.8508655349,
                          0.6989126359
                        ],
                        "passed_time": 54.19693026,
                        "remaining_time": 36.58519748,
                        "test": [
                          1.077615605,
                          0.5539083558
                        ]
                      },
                      {
                        "iteration": 597,
                        "learn": [
                          0.8503103558,
                          0.6992875891
                        ],
                        "passed_time": 54.27929448,
                        "remaining_time": 36.48875649,
                        "test": [
                          1.077311162,
                          0.5539083558
                        ]
                      },
                      {
                        "iteration": 598,
                        "learn": [
                          0.8497894229,
                          0.7004124484
                        ],
                        "passed_time": 54.36206996,
                        "remaining_time": 36.39263782,
                        "test": [
                          1.0775524,
                          0.5525606469
                        ]
                      },
                      {
                        "iteration": 599,
                        "learn": [
                          0.8490558993,
                          0.701912261
                        ],
                        "passed_time": 54.4446355,
                        "remaining_time": 36.29642366,
                        "test": [
                          1.076820653,
                          0.5552560647
                        ]
                      },
                      {
                        "iteration": 600,
                        "learn": [
                          0.8488185442,
                          0.7026621672
                        ],
                        "passed_time": 54.63026607,
                        "remaining_time": 36.26867914,
                        "test": [
                          1.076824395,
                          0.5552560647
                        ]
                      },
                      {
                        "iteration": 601,
                        "learn": [
                          0.8486463995,
                          0.7030371204
                        ],
                        "passed_time": 54.77844535,
                        "remaining_time": 36.21564992,
                        "test": [
                          1.076749749,
                          0.5552560647
                        ]
                      },
                      {
                        "iteration": 602,
                        "learn": [
                          0.8482381561,
                          0.7030371204
                        ],
                        "passed_time": 54.85814112,
                        "remaining_time": 36.11721729,
                        "test": [
                          1.076627036,
                          0.5552560647
                        ]
                      },
                      {
                        "iteration": 603,
                        "learn": [
                          0.8480069991,
                          0.7030371204
                        ],
                        "passed_time": 54.93578647,
                        "remaining_time": 36.01750239,
                        "test": [
                          1.076614824,
                          0.5552560647
                        ]
                      },
                      {
                        "iteration": 604,
                        "learn": [
                          0.8477494064,
                          0.7030371204
                        ],
                        "passed_time": 55.01629863,
                        "remaining_time": 35.91973217,
                        "test": [
                          1.076623359,
                          0.5552560647
                        ]
                      },
                      {
                        "iteration": 605,
                        "learn": [
                          0.847489967,
                          0.7030371204
                        ],
                        "passed_time": 55.09923055,
                        "remaining_time": 35.82359214,
                        "test": [
                          1.076550871,
                          0.5552560647
                        ]
                      },
                      {
                        "iteration": 606,
                        "learn": [
                          0.8471530742,
                          0.7034120735
                        ],
                        "passed_time": 55.18079422,
                        "remaining_time": 35.72660976,
                        "test": [
                          1.076284571,
                          0.5552560647
                        ]
                      },
                      {
                        "iteration": 607,
                        "learn": [
                          0.8468667854,
                          0.7034120735
                        ],
                        "passed_time": 55.25974326,
                        "remaining_time": 35.62799236,
                        "test": [
                          1.076025685,
                          0.5552560647
                        ]
                      },
                      {
                        "iteration": 608,
                        "learn": [
                          0.8465451256,
                          0.7037870266
                        ],
                        "passed_time": 55.39509654,
                        "remaining_time": 35.56565312,
                        "test": [
                          1.076019721,
                          0.5566037736
                        ]
                      },
                      {
                        "iteration": 609,
                        "learn": [
                          0.8462465569,
                          0.7037870266
                        ],
                        "passed_time": 55.59139207,
                        "remaining_time": 35.54203755,
                        "test": [
                          1.076047558,
                          0.5566037736
                        ]
                      },
                      {
                        "iteration": 610,
                        "learn": [
                          0.8460290129,
                          0.7030371204
                        ],
                        "passed_time": 55.67702372,
                        "remaining_time": 35.44740135,
                        "test": [
                          1.076125086,
                          0.5566037736
                        ]
                      },
                      {
                        "iteration": 611,
                        "learn": [
                          0.8457347096,
                          0.7045369329
                        ],
                        "passed_time": 55.76088778,
                        "remaining_time": 35.35167395,
                        "test": [
                          1.07592543,
                          0.5552560647
                        ]
                      },
                      {
                        "iteration": 612,
                        "learn": [
                          0.8455116408,
                          0.704911886
                        ],
                        "passed_time": 55.84699097,
                        "remaining_time": 35.25739886,
                        "test": [
                          1.075970569,
                          0.5539083558
                        ]
                      },
                      {
                        "iteration": 613,
                        "learn": [
                          0.8451691076,
                          0.7045369329
                        ],
                        "passed_time": 55.92916618,
                        "remaining_time": 35.16068102,
                        "test": [
                          1.075982515,
                          0.5552560647
                        ]
                      },
                      {
                        "iteration": 614,
                        "learn": [
                          0.8449743513,
                          0.7045369329
                        ],
                        "passed_time": 56.01006349,
                        "remaining_time": 35.06321047,
                        "test": [
                          1.075758361,
                          0.5552560647
                        ]
                      },
                      {
                        "iteration": 615,
                        "learn": [
                          0.8446205593,
                          0.7034120735
                        ],
                        "passed_time": 56.09215694,
                        "remaining_time": 34.96653939,
                        "test": [
                          1.076049286,
                          0.551212938
                        ]
                      },
                      {
                        "iteration": 616,
                        "learn": [
                          0.8443137836,
                          0.7034120735
                        ],
                        "passed_time": 56.21913918,
                        "remaining_time": 34.89778007,
                        "test": [
                          1.076018966,
                          0.551212938
                        ]
                      },
                      {
                        "iteration": 617,
                        "learn": [
                          0.844045751,
                          0.7037870266
                        ],
                        "passed_time": 56.38425088,
                        "remaining_time": 34.85240103,
                        "test": [
                          1.075958249,
                          0.551212938
                        ]
                      },
                      {
                        "iteration": 618,
                        "learn": [
                          0.8437823802,
                          0.7037870266
                        ],
                        "passed_time": 56.48090133,
                        "remaining_time": 34.76449662,
                        "test": [
                          1.075626186,
                          0.551212938
                        ]
                      },
                      {
                        "iteration": 619,
                        "learn": [
                          0.8435776296,
                          0.7045369329
                        ],
                        "passed_time": 56.56277136,
                        "remaining_time": 34.66750502,
                        "test": [
                          1.075499137,
                          0.551212938
                        ]
                      },
                      {
                        "iteration": 620,
                        "learn": [
                          0.8432641905,
                          0.7045369329
                        ],
                        "passed_time": 56.66346128,
                        "remaining_time": 34.58204803,
                        "test": [
                          1.075354216,
                          0.551212938
                        ]
                      },
                      {
                        "iteration": 621,
                        "learn": [
                          0.8429976357,
                          0.704911886
                        ],
                        "passed_time": 56.74169359,
                        "remaining_time": 34.48289418,
                        "test": [
                          1.075649412,
                          0.551212938
                        ]
                      },
                      {
                        "iteration": 622,
                        "learn": [
                          0.8427707302,
                          0.7052868391
                        ],
                        "passed_time": 56.82642656,
                        "remaining_time": 34.38774127,
                        "test": [
                          1.075745031,
                          0.5498652291
                        ]
                      },
                      {
                        "iteration": 623,
                        "learn": [
                          0.8422396891,
                          0.7056617923
                        ],
                        "passed_time": 56.90648487,
                        "remaining_time": 34.28980498,
                        "test": [
                          1.075477367,
                          0.5498652291
                        ]
                      },
                      {
                        "iteration": 624,
                        "learn": [
                          0.8418615488,
                          0.7060367454
                        ],
                        "passed_time": 56.98906003,
                        "remaining_time": 34.19343602,
                        "test": [
                          1.075091809,
                          0.551212938
                        ]
                      },
                      {
                        "iteration": 625,
                        "learn": [
                          0.8416495009,
                          0.7056617923
                        ],
                        "passed_time": 57.0731748,
                        "remaining_time": 34.09803095,
                        "test": [
                          1.0748995,
                          0.551212938
                        ]
                      },
                      {
                        "iteration": 626,
                        "learn": [
                          0.8413958488,
                          0.7056617923
                        ],
                        "passed_time": 57.15730419,
                        "remaining_time": 34.00267059,
                        "test": [
                          1.074786544,
                          0.551212938
                        ]
                      },
                      {
                        "iteration": 627,
                        "learn": [
                          0.8410810238,
                          0.7060367454
                        ],
                        "passed_time": 57.23726822,
                        "remaining_time": 33.90487862,
                        "test": [
                          1.074414768,
                          0.551212938
                        ]
                      },
                      {
                        "iteration": 628,
                        "learn": [
                          0.8408881386,
                          0.7064116985
                        ],
                        "passed_time": 57.31646337,
                        "remaining_time": 33.80668984,
                        "test": [
                          1.074344568,
                          0.5525606469
                        ]
                      },
                      {
                        "iteration": 629,
                        "learn": [
                          0.8406319802,
                          0.7067866517
                        ],
                        "passed_time": 57.39670345,
                        "remaining_time": 33.70917504,
                        "test": [
                          1.07437743,
                          0.551212938
                        ]
                      },
                      {
                        "iteration": 630,
                        "learn": [
                          0.8403354602,
                          0.7064116985
                        ],
                        "passed_time": 57.47779065,
                        "remaining_time": 33.61221038,
                        "test": [
                          1.074266737,
                          0.5525606469
                        ]
                      },
                      {
                        "iteration": 631,
                        "learn": [
                          0.8398414681,
                          0.7067866517
                        ],
                        "passed_time": 57.55919888,
                        "remaining_time": 33.51548289,
                        "test": [
                          1.073941263,
                          0.5498652291
                        ]
                      },
                      {
                        "iteration": 632,
                        "learn": [
                          0.8396824656,
                          0.7067866517
                        ],
                        "passed_time": 57.65370553,
                        "remaining_time": 33.42639799,
                        "test": [
                          1.073902029,
                          0.5498652291
                        ]
                      },
                      {
                        "iteration": 633,
                        "learn": [
                          0.8394706252,
                          0.7067866517
                        ],
                        "passed_time": 57.73994268,
                        "remaining_time": 33.33252211,
                        "test": [
                          1.073823126,
                          0.5485175202
                        ]
                      },
                      {
                        "iteration": 634,
                        "learn": [
                          0.8392749458,
                          0.7067866517
                        ],
                        "passed_time": 57.82140864,
                        "remaining_time": 33.2359278,
                        "test": [
                          1.073833716,
                          0.5485175202
                        ]
                      },
                      {
                        "iteration": 635,
                        "learn": [
                          0.8390183846,
                          0.7064116985
                        ],
                        "passed_time": 57.90343112,
                        "remaining_time": 33.13969957,
                        "test": [
                          1.073779255,
                          0.5485175202
                        ]
                      },
                      {
                        "iteration": 636,
                        "learn": [
                          0.8386382678,
                          0.7064116985
                        ],
                        "passed_time": 57.9852711,
                        "remaining_time": 33.04341195,
                        "test": [
                          1.07371355,
                          0.5485175202
                        ]
                      },
                      {
                        "iteration": 637,
                        "learn": [
                          0.8384654065,
                          0.7067866517
                        ],
                        "passed_time": 58.06806055,
                        "remaining_time": 32.94770834,
                        "test": [
                          1.073783632,
                          0.5485175202
                        ]
                      },
                      {
                        "iteration": 638,
                        "learn": [
                          0.8382284329,
                          0.7075365579
                        ],
                        "passed_time": 58.14891729,
                        "remaining_time": 32.85095327,
                        "test": [
                          1.073883617,
                          0.5485175202
                        ]
                      },
                      {
                        "iteration": 639,
                        "learn": [
                          0.8379248863,
                          0.7082864642
                        ],
                        "passed_time": 58.23054501,
                        "remaining_time": 32.75468157,
                        "test": [
                          1.07385119,
                          0.5485175202
                        ]
                      },
                      {
                        "iteration": 640,
                        "learn": [
                          0.8377268671,
                          0.7082864642
                        ],
                        "passed_time": 58.30975162,
                        "remaining_time": 32.65709958,
                        "test": [
                          1.073749493,
                          0.5498652291
                        ]
                      },
                      {
                        "iteration": 641,
                        "learn": [
                          0.8374575157,
                          0.7079115111
                        ],
                        "passed_time": 58.39127567,
                        "remaining_time": 32.56086712,
                        "test": [
                          1.073675178,
                          0.5498652291
                        ]
                      },
                      {
                        "iteration": 642,
                        "learn": [
                          0.8371217399,
                          0.7079115111
                        ],
                        "passed_time": 58.47080946,
                        "remaining_time": 32.46357539,
                        "test": [
                          1.073408667,
                          0.5498652291
                        ]
                      },
                      {
                        "iteration": 643,
                        "learn": [
                          0.8368844441,
                          0.7079115111
                        ],
                        "passed_time": 58.55205169,
                        "remaining_time": 32.36728323,
                        "test": [
                          1.073386507,
                          0.551212938
                        ]
                      },
                      {
                        "iteration": 644,
                        "learn": [
                          0.8365205585,
                          0.7086614173
                        ],
                        "passed_time": 58.63314111,
                        "remaining_time": 32.27095364,
                        "test": [
                          1.073099622,
                          0.551212938
                        ]
                      },
                      {
                        "iteration": 645,
                        "learn": [
                          0.8363130758,
                          0.7094113236
                        ],
                        "passed_time": 58.73762076,
                        "remaining_time": 32.18748877,
                        "test": [
                          1.073005895,
                          0.551212938
                        ]
                      },
                      {
                        "iteration": 646,
                        "learn": [
                          0.8361411636,
                          0.7094113236
                        ],
                        "passed_time": 58.81801482,
                        "remaining_time": 32.09081798,
                        "test": [
                          1.072897965,
                          0.551212938
                        ]
                      },
                      {
                        "iteration": 647,
                        "learn": [
                          0.8359129732,
                          0.7097862767
                        ],
                        "passed_time": 58.90263363,
                        "remaining_time": 31.99649234,
                        "test": [
                          1.072885909,
                          0.551212938
                        ]
                      },
                      {
                        "iteration": 648,
                        "learn": [
                          0.835641662,
                          0.7097862767
                        ],
                        "passed_time": 58.98179,
                        "remaining_time": 31.89924236,
                        "test": [
                          1.072585525,
                          0.5525606469
                        ]
                      },
                      {
                        "iteration": 649,
                        "learn": [
                          0.8354348993,
                          0.7097862767
                        ],
                        "passed_time": 59.06182673,
                        "remaining_time": 31.80252209,
                        "test": [
                          1.072625696,
                          0.5525606469
                        ]
                      },
                      {
                        "iteration": 650,
                        "learn": [
                          0.8352546813,
                          0.7101612298
                        ],
                        "passed_time": 59.14091599,
                        "remaining_time": 31.70534513,
                        "test": [
                          1.072614248,
                          0.5525606469
                        ]
                      },
                      {
                        "iteration": 651,
                        "learn": [
                          0.8349484888,
                          0.710536183
                        ],
                        "passed_time": 59.22067485,
                        "remaining_time": 31.60858105,
                        "test": [
                          1.072209835,
                          0.5539083558
                        ]
                      },
                      {
                        "iteration": 652,
                        "learn": [
                          0.8341402907,
                          0.7109111361
                        ],
                        "passed_time": 59.29930411,
                        "remaining_time": 31.5112688,
                        "test": [
                          1.072246116,
                          0.5539083558
                        ]
                      },
                      {
                        "iteration": 653,
                        "learn": [
                          0.8339503131,
                          0.7109111361
                        ],
                        "passed_time": 59.38026007,
                        "remaining_time": 31.41524462,
                        "test": [
                          1.072163362,
                          0.5539083558
                        ]
                      },
                      {
                        "iteration": 654,
                        "learn": [
                          0.8337550319,
                          0.7112860892
                        ],
                        "passed_time": 59.46312444,
                        "remaining_time": 31.32027165,
                        "test": [
                          1.07198764,
                          0.5539083558
                        ]
                      },
                      {
                        "iteration": 655,
                        "learn": [
                          0.8334618318,
                          0.7116610424
                        ],
                        "passed_time": 59.54489466,
                        "remaining_time": 31.22476183,
                        "test": [
                          1.071903514,
                          0.5552560647
                        ]
                      },
                      {
                        "iteration": 656,
                        "learn": [
                          0.8331808208,
                          0.7116610424
                        ],
                        "passed_time": 59.62500402,
                        "remaining_time": 31.12842676,
                        "test": [
                          1.071711081,
                          0.5552560647
                        ]
                      },
                      {
                        "iteration": 657,
                        "learn": [
                          0.8329924468,
                          0.7120359955
                        ],
                        "passed_time": 59.72068952,
                        "remaining_time": 31.0402368,
                        "test": [
                          1.071523017,
                          0.5566037736
                        ]
                      },
                      {
                        "iteration": 658,
                        "learn": [
                          0.8327182236,
                          0.7116610424
                        ],
                        "passed_time": 59.80929093,
                        "remaining_time": 30.94835843,
                        "test": [
                          1.071320914,
                          0.5566037736
                        ]
                      },
                      {
                        "iteration": 659,
                        "learn": [
                          0.8325215269,
                          0.7120359955
                        ],
                        "passed_time": 59.8953974,
                        "remaining_time": 30.85520472,
                        "test": [
                          1.071250976,
                          0.5566037736
                        ]
                      },
                      {
                        "iteration": 660,
                        "learn": [
                          0.8322882649,
                          0.7124109486
                        ],
                        "passed_time": 59.97466147,
                        "remaining_time": 30.75856315,
                        "test": [
                          1.071237225,
                          0.5566037736
                        ]
                      },
                      {
                        "iteration": 661,
                        "learn": [
                          0.8320163167,
                          0.7124109486
                        ],
                        "passed_time": 60.05607058,
                        "remaining_time": 30.66306927,
                        "test": [
                          1.071064512,
                          0.5566037736
                        ]
                      },
                      {
                        "iteration": 662,
                        "learn": [
                          0.831771426,
                          0.7131608549
                        ],
                        "passed_time": 60.14618907,
                        "remaining_time": 30.57204482,
                        "test": [
                          1.071001283,
                          0.5579514825
                        ]
                      },
                      {
                        "iteration": 663,
                        "learn": [
                          0.8312829484,
                          0.7131608549
                        ],
                        "passed_time": 60.23757032,
                        "remaining_time": 30.48166209,
                        "test": [
                          1.071023687,
                          0.5579514825
                        ]
                      },
                      {
                        "iteration": 664,
                        "learn": [
                          0.8310911304,
                          0.7131608549
                        ],
                        "passed_time": 60.32491556,
                        "remaining_time": 30.38924318,
                        "test": [
                          1.071041844,
                          0.5579514825
                        ]
                      },
                      {
                        "iteration": 665,
                        "learn": [
                          0.8308792584,
                          0.713535808
                        ],
                        "passed_time": 60.40927931,
                        "remaining_time": 30.29534428,
                        "test": [
                          1.07110945,
                          0.5579514825
                        ]
                      },
                      {
                        "iteration": 666,
                        "learn": [
                          0.8306149262,
                          0.713535808
                        ],
                        "passed_time": 60.50854909,
                        "remaining_time": 30.20891581,
                        "test": [
                          1.071070841,
                          0.5566037736
                        ]
                      },
                      {
                        "iteration": 667,
                        "learn": [
                          0.8302975742,
                          0.7139107612
                        ],
                        "passed_time": 60.61162248,
                        "remaining_time": 30.12433932,
                        "test": [
                          1.0709684,
                          0.5566037736
                        ]
                      },
                      {
                        "iteration": 668,
                        "learn": [
                          0.8300020167,
                          0.7142857143
                        ],
                        "passed_time": 60.71659683,
                        "remaining_time": 30.04064806,
                        "test": [
                          1.070948173,
                          0.5552560647
                        ]
                      },
                      {
                        "iteration": 669,
                        "learn": [
                          0.8296942063,
                          0.7146606674
                        ],
                        "passed_time": 60.858895,
                        "remaining_time": 29.97527664,
                        "test": [
                          1.070830323,
                          0.5552560647
                        ]
                      },
                      {
                        "iteration": 670,
                        "learn": [
                          0.8294082451,
                          0.7154105737
                        ],
                        "passed_time": 60.96402636,
                        "remaining_time": 29.89145257,
                        "test": [
                          1.070911216,
                          0.5552560647
                        ]
                      },
                      {
                        "iteration": 671,
                        "learn": [
                          0.8289346452,
                          0.7157855268
                        ],
                        "passed_time": 61.0640731,
                        "remaining_time": 29.8050833,
                        "test": [
                          1.070751484,
                          0.5552560647
                        ]
                      },
                      {
                        "iteration": 672,
                        "learn": [
                          0.8286957183,
                          0.7157855268
                        ],
                        "passed_time": 61.16266639,
                        "remaining_time": 29.71796718,
                        "test": [
                          1.070759417,
                          0.5552560647
                        ]
                      },
                      {
                        "iteration": 673,
                        "learn": [
                          0.8283860775,
                          0.7161604799
                        ],
                        "passed_time": 61.26431251,
                        "remaining_time": 29.63229359,
                        "test": [
                          1.070736186,
                          0.5552560647
                        ]
                      },
                      {
                        "iteration": 674,
                        "learn": [
                          0.8282307344,
                          0.7165354331
                        ],
                        "passed_time": 61.3667448,
                        "remaining_time": 29.5469512,
                        "test": [
                          1.070728413,
                          0.5552560647
                        ]
                      },
                      {
                        "iteration": 675,
                        "learn": [
                          0.8279021731,
                          0.7161604799
                        ],
                        "passed_time": 61.47214447,
                        "remaining_time": 29.46298048,
                        "test": [
                          1.070723963,
                          0.5552560647
                        ]
                      },
                      {
                        "iteration": 676,
                        "learn": [
                          0.8276138127,
                          0.7157855268
                        ],
                        "passed_time": 61.57666483,
                        "remaining_time": 29.37852694,
                        "test": [
                          1.070570553,
                          0.5552560647
                        ]
                      },
                      {
                        "iteration": 677,
                        "learn": [
                          0.8273848525,
                          0.7169103862
                        ],
                        "passed_time": 61.67926712,
                        "remaining_time": 29.29310326,
                        "test": [
                          1.070419737,
                          0.5552560647
                        ]
                      },
                      {
                        "iteration": 678,
                        "learn": [
                          0.827152658,
                          0.7169103862
                        ],
                        "passed_time": 61.79608365,
                        "remaining_time": 29.21434882,
                        "test": [
                          1.070366619,
                          0.5552560647
                        ]
                      },
                      {
                        "iteration": 679,
                        "learn": [
                          0.8265348761,
                          0.7172853393
                        ],
                        "passed_time": 61.90337297,
                        "remaining_time": 29.13099904,
                        "test": [
                          1.069998421,
                          0.5552560647
                        ]
                      },
                      {
                        "iteration": 680,
                        "learn": [
                          0.8262026964,
                          0.7169103862
                        ],
                        "passed_time": 62.00865285,
                        "remaining_time": 29.04663768,
                        "test": [
                          1.0701217,
                          0.5552560647
                        ]
                      },
                      {
                        "iteration": 681,
                        "learn": [
                          0.8259712106,
                          0.7176602925
                        ],
                        "passed_time": 62.11745617,
                        "remaining_time": 28.96385786,
                        "test": [
                          1.070101649,
                          0.5552560647
                        ]
                      },
                      {
                        "iteration": 682,
                        "learn": [
                          0.8257863293,
                          0.7180352456
                        ],
                        "passed_time": 62.21570687,
                        "remaining_time": 28.87610407,
                        "test": [
                          1.069941372,
                          0.5566037736
                        ]
                      },
                      {
                        "iteration": 683,
                        "learn": [
                          0.8251893146,
                          0.719160105
                        ],
                        "passed_time": 62.31920723,
                        "remaining_time": 28.79074486,
                        "test": [
                          1.069780421,
                          0.5566037736
                        ]
                      },
                      {
                        "iteration": 684,
                        "learn": [
                          0.8245647373,
                          0.719160105
                        ],
                        "passed_time": 62.42325257,
                        "remaining_time": 28.7055833,
                        "test": [
                          1.069567887,
                          0.5566037736
                        ]
                      },
                      {
                        "iteration": 685,
                        "learn": [
                          0.8243999786,
                          0.719160105
                        ],
                        "passed_time": 62.52615947,
                        "remaining_time": 28.61984559,
                        "test": [
                          1.069487655,
                          0.5566037736
                        ]
                      },
                      {
                        "iteration": 686,
                        "learn": [
                          0.8241142324,
                          0.719160105
                        ],
                        "passed_time": 62.62427786,
                        "remaining_time": 28.53187623,
                        "test": [
                          1.069277529,
                          0.5566037736
                        ]
                      },
                      {
                        "iteration": 687,
                        "learn": [
                          0.8238690439,
                          0.7187851519
                        ],
                        "passed_time": 62.72270618,
                        "remaining_time": 28.44401792,
                        "test": [
                          1.069261395,
                          0.5566037736
                        ]
                      },
                      {
                        "iteration": 688,
                        "learn": [
                          0.8235769239,
                          0.7187851519
                        ],
                        "passed_time": 62.85257159,
                        "remaining_time": 28.37031896,
                        "test": [
                          1.069250951,
                          0.5552560647
                        ]
                      },
                      {
                        "iteration": 689,
                        "learn": [
                          0.8233545731,
                          0.719160105
                        ],
                        "passed_time": 62.97849007,
                        "remaining_time": 28.29468395,
                        "test": [
                          1.06918644,
                          0.5566037736
                        ]
                      },
                      {
                        "iteration": 690,
                        "learn": [
                          0.8231589914,
                          0.7195350581
                        ],
                        "passed_time": 63.07755761,
                        "remaining_time": 28.20689624,
                        "test": [
                          1.069195365,
                          0.5579514825
                        ]
                      },
                      {
                        "iteration": 691,
                        "learn": [
                          0.8229719685,
                          0.719160105
                        ],
                        "passed_time": 63.17786428,
                        "remaining_time": 28.11962746,
                        "test": [
                          1.069151298,
                          0.5566037736
                        ]
                      },
                      {
                        "iteration": 692,
                        "learn": [
                          0.822798622,
                          0.7199100112
                        ],
                        "passed_time": 63.27756948,
                        "remaining_time": 28.03205459,
                        "test": [
                          1.069134757,
                          0.5566037736
                        ]
                      },
                      {
                        "iteration": 693,
                        "learn": [
                          0.8225813019,
                          0.7195350581
                        ],
                        "passed_time": 63.37574721,
                        "remaining_time": 27.94377326,
                        "test": [
                          1.069156703,
                          0.5566037736
                        ]
                      },
                      {
                        "iteration": 694,
                        "learn": [
                          0.8223121008,
                          0.719160105
                        ],
                        "passed_time": 63.47555548,
                        "remaining_time": 27.85617902,
                        "test": [
                          1.069148737,
                          0.5566037736
                        ]
                      },
                      {
                        "iteration": 695,
                        "learn": [
                          0.8220063981,
                          0.7195350581
                        ],
                        "passed_time": 63.58386613,
                        "remaining_time": 27.77226337,
                        "test": [
                          1.069007109,
                          0.5566037736
                        ]
                      },
                      {
                        "iteration": 696,
                        "learn": [
                          0.8216523492,
                          0.7195350581
                        ],
                        "passed_time": 63.68551124,
                        "remaining_time": 27.68538007,
                        "test": [
                          1.068877904,
                          0.5579514825
                        ]
                      },
                      {
                        "iteration": 697,
                        "learn": [
                          0.8214448389,
                          0.7187851519
                        ],
                        "passed_time": 63.77751259,
                        "remaining_time": 27.59428195,
                        "test": [
                          1.068837711,
                          0.5579514825
                        ]
                      },
                      {
                        "iteration": 698,
                        "learn": [
                          0.8210253709,
                          0.7195350581
                        ],
                        "passed_time": 63.88913683,
                        "remaining_time": 27.51163117,
                        "test": [
                          1.068480724,
                          0.5579514825
                        ]
                      },
                      {
                        "iteration": 699,
                        "learn": [
                          0.8206344251,
                          0.7202849644
                        ],
                        "passed_time": 63.99712714,
                        "remaining_time": 27.4273402,
                        "test": [
                          1.068495336,
                          0.5566037736
                        ]
                      },
                      {
                        "iteration": 700,
                        "learn": [
                          0.8203117572,
                          0.7199100112
                        ],
                        "passed_time": 64.09609603,
                        "remaining_time": 27.33913368,
                        "test": [
                          1.068316385,
                          0.5566037736
                        ]
                      },
                      {
                        "iteration": 701,
                        "learn": [
                          0.8200568199,
                          0.7195350581
                        ],
                        "passed_time": 64.18881809,
                        "remaining_time": 27.24824472,
                        "test": [
                          1.068161351,
                          0.5566037736
                        ]
                      },
                      {
                        "iteration": 702,
                        "learn": [
                          0.8197545537,
                          0.7206599175
                        ],
                        "passed_time": 64.2680202,
                        "remaining_time": 27.15163869,
                        "test": [
                          1.068069192,
                          0.5566037736
                        ]
                      },
                      {
                        "iteration": 703,
                        "learn": [
                          0.8194472713,
                          0.7206599175
                        ],
                        "passed_time": 64.34844596,
                        "remaining_time": 27.0555966,
                        "test": [
                          1.067775956,
                          0.5579514825
                        ]
                      },
                      {
                        "iteration": 704,
                        "learn": [
                          0.8192687308,
                          0.7202849644
                        ],
                        "passed_time": 64.42807064,
                        "remaining_time": 26.9592636,
                        "test": [
                          1.067623003,
                          0.5579514825
                        ]
                      },
                      {
                        "iteration": 705,
                        "learn": [
                          0.8190182166,
                          0.7206599175
                        ],
                        "passed_time": 64.51098565,
                        "remaining_time": 26.86434813,
                        "test": [
                          1.067657217,
                          0.5579514825
                        ]
                      },
                      {
                        "iteration": 706,
                        "learn": [
                          0.8187884655,
                          0.7206599175
                        ],
                        "passed_time": 64.59065307,
                        "remaining_time": 26.76812072,
                        "test": [
                          1.067691022,
                          0.5579514825
                        ]
                      },
                      {
                        "iteration": 707,
                        "learn": [
                          0.8185765748,
                          0.7206599175
                        ],
                        "passed_time": 64.66810953,
                        "remaining_time": 26.67102822,
                        "test": [
                          1.067550456,
                          0.5579514825
                        ]
                      },
                      {
                        "iteration": 708,
                        "learn": [
                          0.8182788202,
                          0.7206599175
                        ],
                        "passed_time": 64.74843581,
                        "remaining_time": 26.575169,
                        "test": [
                          1.067438697,
                          0.5566037736
                        ]
                      },
                      {
                        "iteration": 709,
                        "learn": [
                          0.8178978915,
                          0.7210348706
                        ],
                        "passed_time": 64.82894954,
                        "remaining_time": 26.47943009,
                        "test": [
                          1.067442893,
                          0.5566037736
                        ]
                      },
                      {
                        "iteration": 710,
                        "learn": [
                          0.8177771833,
                          0.7210348706
                        ],
                        "passed_time": 64.92443904,
                        "remaining_time": 26.38982121,
                        "test": [
                          1.067427253,
                          0.5566037736
                        ]
                      },
                      {
                        "iteration": 711,
                        "learn": [
                          0.8174754765,
                          0.7217847769
                        ],
                        "passed_time": 65.01513901,
                        "remaining_time": 26.29825848,
                        "test": [
                          1.06729266,
                          0.5566037736
                        ]
                      },
                      {
                        "iteration": 712,
                        "learn": [
                          0.8169180135,
                          0.7225346832
                        ],
                        "passed_time": 65.09859887,
                        "remaining_time": 26.20378384,
                        "test": [
                          1.067515828,
                          0.5566037736
                        ]
                      },
                      {
                        "iteration": 713,
                        "learn": [
                          0.8166844021,
                          0.7225346832
                        ],
                        "passed_time": 65.17901474,
                        "remaining_time": 26.10812075,
                        "test": [
                          1.067443997,
                          0.5566037736
                        ]
                      },
                      {
                        "iteration": 714,
                        "learn": [
                          0.8164161602,
                          0.7232845894
                        ],
                        "passed_time": 65.26031141,
                        "remaining_time": 26.0128514,
                        "test": [
                          1.067508642,
                          0.5552560647
                        ]
                      },
                      {
                        "iteration": 715,
                        "learn": [
                          0.8162108725,
                          0.7236595426
                        ],
                        "passed_time": 65.34148664,
                        "remaining_time": 25.91757291,
                        "test": [
                          1.067380471,
                          0.5552560647
                        ]
                      },
                      {
                        "iteration": 716,
                        "learn": [
                          0.816070466,
                          0.7236595426
                        ],
                        "passed_time": 65.42286486,
                        "remaining_time": 25.82241388,
                        "test": [
                          1.067273638,
                          0.5552560647
                        ]
                      },
                      {
                        "iteration": 717,
                        "learn": [
                          0.8158518447,
                          0.7236595426
                        ],
                        "passed_time": 65.50880005,
                        "remaining_time": 25.72908303,
                        "test": [
                          1.067246157,
                          0.5552560647
                        ]
                      },
                      {
                        "iteration": 718,
                        "learn": [
                          0.8156423173,
                          0.7247844019
                        ],
                        "passed_time": 65.59100027,
                        "remaining_time": 25.63431304,
                        "test": [
                          1.067318641,
                          0.5552560647
                        ]
                      },
                      {
                        "iteration": 719,
                        "learn": [
                          0.8152952916,
                          0.7251593551
                        ],
                        "passed_time": 65.67130223,
                        "remaining_time": 25.53883975,
                        "test": [
                          1.067149184,
                          0.5552560647
                        ]
                      },
                      {
                        "iteration": 720,
                        "learn": [
                          0.8149291827,
                          0.7262842145
                        ],
                        "passed_time": 65.75113505,
                        "remaining_time": 25.44322702,
                        "test": [
                          1.067191829,
                          0.5552560647
                        ]
                      },
                      {
                        "iteration": 721,
                        "learn": [
                          0.8147413807,
                          0.727784027
                        ],
                        "passed_time": 65.83158343,
                        "remaining_time": 25.34789501,
                        "test": [
                          1.067197996,
                          0.5552560647
                        ]
                      },
                      {
                        "iteration": 722,
                        "learn": [
                          0.8144777653,
                          0.7274090739
                        ],
                        "passed_time": 65.91098888,
                        "remaining_time": 25.25220459,
                        "test": [
                          1.067154775,
                          0.5566037736
                        ]
                      },
                      {
                        "iteration": 723,
                        "learn": [
                          0.8141552477,
                          0.727784027
                        ],
                        "passed_time": 66.01553978,
                        "remaining_time": 25.166145,
                        "test": [
                          1.067102798,
                          0.5566037736
                        ]
                      },
                      {
                        "iteration": 724,
                        "learn": [
                          0.8139028141,
                          0.7285339333
                        ],
                        "passed_time": 66.10076978,
                        "remaining_time": 25.07270578,
                        "test": [
                          1.067165153,
                          0.5566037736
                        ]
                      },
                      {
                        "iteration": 725,
                        "learn": [
                          0.8135335754,
                          0.7281589801
                        ],
                        "passed_time": 66.18252765,
                        "remaining_time": 24.97797875,
                        "test": [
                          1.066936382,
                          0.5566037736
                        ]
                      },
                      {
                        "iteration": 726,
                        "learn": [
                          0.8131474435,
                          0.7285339333
                        ],
                        "passed_time": 66.26251681,
                        "remaining_time": 24.88262323,
                        "test": [
                          1.066756626,
                          0.5579514825
                        ]
                      },
                      {
                        "iteration": 727,
                        "learn": [
                          0.8129333828,
                          0.7285339333
                        ],
                        "passed_time": 66.34263186,
                        "remaining_time": 24.78735696,
                        "test": [
                          1.066764868,
                          0.5566037736
                        ]
                      },
                      {
                        "iteration": 728,
                        "learn": [
                          0.8127235116,
                          0.7285339333
                        ],
                        "passed_time": 66.42136031,
                        "remaining_time": 24.69161679,
                        "test": [
                          1.066628588,
                          0.5566037736
                        ]
                      },
                      {
                        "iteration": 729,
                        "learn": [
                          0.812527804,
                          0.7289088864
                        ],
                        "passed_time": 66.50276612,
                        "remaining_time": 24.5969135,
                        "test": [
                          1.066487874,
                          0.5566037736
                        ]
                      },
                      {
                        "iteration": 730,
                        "learn": [
                          0.8122910174,
                          0.7296587927
                        ],
                        "passed_time": 66.58220947,
                        "remaining_time": 24.50152442,
                        "test": [
                          1.06653661,
                          0.5566037736
                        ]
                      },
                      {
                        "iteration": 731,
                        "learn": [
                          0.8120239901,
                          0.7300337458
                        ],
                        "passed_time": 66.66338864,
                        "remaining_time": 24.40681442,
                        "test": [
                          1.066365942,
                          0.5566037736
                        ]
                      },
                      {
                        "iteration": 732,
                        "learn": [
                          0.8117378213,
                          0.7300337458
                        ],
                        "passed_time": 66.74980655,
                        "remaining_time": 24.31404959,
                        "test": [
                          1.066157943,
                          0.5566037736
                        ]
                      },
                      {
                        "iteration": 733,
                        "learn": [
                          0.8115035409,
                          0.7296587927
                        ],
                        "passed_time": 66.83725383,
                        "remaining_time": 24.22167509,
                        "test": [
                          1.066033647,
                          0.5566037736
                        ]
                      },
                      {
                        "iteration": 734,
                        "learn": [
                          0.8112164132,
                          0.730783652
                        ],
                        "passed_time": 66.92486305,
                        "remaining_time": 24.12937239,
                        "test": [
                          1.065932257,
                          0.5566037736
                        ]
                      },
                      {
                        "iteration": 735,
                        "learn": [
                          0.811075656,
                          0.730783652
                        ],
                        "passed_time": 67.03762219,
                        "remaining_time": 24.04610361,
                        "test": [
                          1.065900532,
                          0.5566037736
                        ]
                      },
                      {
                        "iteration": 736,
                        "learn": [
                          0.8107745748,
                          0.730783652
                        ],
                        "passed_time": 67.12186061,
                        "remaining_time": 23.95257713,
                        "test": [
                          1.065767608,
                          0.5566037736
                        ]
                      },
                      {
                        "iteration": 737,
                        "learn": [
                          0.810588478,
                          0.7311586052
                        ],
                        "passed_time": 67.20399738,
                        "remaining_time": 23.85832969,
                        "test": [
                          1.065590238,
                          0.5566037736
                        ]
                      },
                      {
                        "iteration": 738,
                        "learn": [
                          0.8100559891,
                          0.7311586052
                        ],
                        "passed_time": 67.28424738,
                        "remaining_time": 23.76344867,
                        "test": [
                          1.065570872,
                          0.5552560647
                        ]
                      },
                      {
                        "iteration": 739,
                        "learn": [
                          0.8098684112,
                          0.7311586052
                        ],
                        "passed_time": 67.36317733,
                        "remaining_time": 23.66814339,
                        "test": [
                          1.065509167,
                          0.5552560647
                        ]
                      },
                      {
                        "iteration": 740,
                        "learn": [
                          0.8096289489,
                          0.7311586052
                        ],
                        "passed_time": 67.44162188,
                        "remaining_time": 23.57271264,
                        "test": [
                          1.065466826,
                          0.5552560647
                        ]
                      },
                      {
                        "iteration": 741,
                        "learn": [
                          0.8093311755,
                          0.730783652
                        ],
                        "passed_time": 67.52160748,
                        "remaining_time": 23.47786352,
                        "test": [
                          1.065343655,
                          0.5552560647
                        ]
                      },
                      {
                        "iteration": 742,
                        "learn": [
                          0.8091431595,
                          0.7311586052
                        ],
                        "passed_time": 67.59905114,
                        "remaining_time": 23.38217516,
                        "test": [
                          1.065303875,
                          0.5552560647
                        ]
                      },
                      {
                        "iteration": 743,
                        "learn": [
                          0.8088951162,
                          0.7315335583
                        ],
                        "passed_time": 67.67744679,
                        "remaining_time": 23.28686341,
                        "test": [
                          1.065380048,
                          0.5552560647
                        ]
                      },
                      {
                        "iteration": 744,
                        "learn": [
                          0.8086136658,
                          0.7315335583
                        ],
                        "passed_time": 67.75667739,
                        "remaining_time": 23.19188287,
                        "test": [
                          1.065212476,
                          0.5566037736
                        ]
                      },
                      {
                        "iteration": 745,
                        "learn": [
                          0.8083744029,
                          0.7315335583
                        ],
                        "passed_time": 67.83832153,
                        "remaining_time": 23.09776631,
                        "test": [
                          1.065021151,
                          0.5579514825
                        ]
                      },
                      {
                        "iteration": 746,
                        "learn": [
                          0.8081163367,
                          0.7315335583
                        ],
                        "passed_time": 67.91784743,
                        "remaining_time": 23.00296573,
                        "test": [
                          1.06513585,
                          0.5579514825
                        ]
                      },
                      {
                        "iteration": 747,
                        "learn": [
                          0.8078890746,
                          0.7315335583
                        ],
                        "passed_time": 68.01364868,
                        "remaining_time": 22.91368913,
                        "test": [
                          1.065119743,
                          0.5579514825
                        ]
                      },
                      {
                        "iteration": 748,
                        "learn": [
                          0.8076191523,
                          0.7319085114
                        ],
                        "passed_time": 68.10620298,
                        "remaining_time": 22.82330701,
                        "test": [
                          1.06524083,
                          0.5579514825
                        ]
                      },
                      {
                        "iteration": 749,
                        "learn": [
                          0.807407435,
                          0.7322834646
                        ],
                        "passed_time": 68.18495228,
                        "remaining_time": 22.72831743,
                        "test": [
                          1.065078559,
                          0.5579514825
                        ]
                      },
                      {
                        "iteration": 750,
                        "learn": [
                          0.8072270665,
                          0.7322834646
                        ],
                        "passed_time": 68.26493027,
                        "remaining_time": 22.63377848,
                        "test": [
                          1.064934975,
                          0.5579514825
                        ]
                      },
                      {
                        "iteration": 751,
                        "learn": [
                          0.8069957077,
                          0.7322834646
                        ],
                        "passed_time": 68.34679088,
                        "remaining_time": 22.53989912,
                        "test": [
                          1.064628417,
                          0.5579514825
                        ]
                      },
                      {
                        "iteration": 752,
                        "learn": [
                          0.8068631573,
                          0.7322834646
                        ],
                        "passed_time": 68.42746331,
                        "remaining_time": 22.44566193,
                        "test": [
                          1.064519861,
                          0.5579514825
                        ]
                      },
                      {
                        "iteration": 753,
                        "learn": [
                          0.8066605248,
                          0.7322834646
                        ],
                        "passed_time": 68.50751655,
                        "remaining_time": 22.35125872,
                        "test": [
                          1.064471356,
                          0.5579514825
                        ]
                      },
                      {
                        "iteration": 754,
                        "learn": [
                          0.8064599094,
                          0.7326584177
                        ],
                        "passed_time": 68.58860602,
                        "remaining_time": 22.25722977,
                        "test": [
                          1.064565595,
                          0.5579514825
                        ]
                      },
                      {
                        "iteration": 755,
                        "learn": [
                          0.8062425779,
                          0.7337832771
                        ],
                        "passed_time": 68.66704436,
                        "remaining_time": 22.1623794,
                        "test": [
                          1.064453364,
                          0.5566037736
                        ]
                      },
                      {
                        "iteration": 756,
                        "learn": [
                          0.8060025993,
                          0.733408324
                        ],
                        "passed_time": 68.74778995,
                        "remaining_time": 22.06831302,
                        "test": [
                          1.064252057,
                          0.5579514825
                        ]
                      },
                      {
                        "iteration": 757,
                        "learn": [
                          0.8057759735,
                          0.733408324
                        ],
                        "passed_time": 68.82679132,
                        "remaining_time": 21.97372493,
                        "test": [
                          1.064174327,
                          0.5579514825
                        ]
                      },
                      {
                        "iteration": 758,
                        "learn": [
                          0.8055346382,
                          0.733408324
                        ],
                        "passed_time": 68.90776599,
                        "remaining_time": 21.87980448,
                        "test": [
                          1.064023031,
                          0.5566037736
                        ]
                      },
                      {
                        "iteration": 759,
                        "learn": [
                          0.8054031776,
                          0.733408324
                        ],
                        "passed_time": 68.98698735,
                        "remaining_time": 21.78536443,
                        "test": [
                          1.064031822,
                          0.5566037736
                        ]
                      },
                      {
                        "iteration": 760,
                        "learn": [
                          0.8051765369,
                          0.7341582302
                        ],
                        "passed_time": 69.09432018,
                        "remaining_time": 21.69979306,
                        "test": [
                          1.063927145,
                          0.5579514825
                        ]
                      },
                      {
                        "iteration": 761,
                        "learn": [
                          0.8049971038,
                          0.7341582302
                        ],
                        "passed_time": 69.18067445,
                        "remaining_time": 21.60761223,
                        "test": [
                          1.063888268,
                          0.5579514825
                        ]
                      },
                      {
                        "iteration": 762,
                        "learn": [
                          0.8047981725,
                          0.7345331834
                        ],
                        "passed_time": 69.26172733,
                        "remaining_time": 21.51379997,
                        "test": [
                          1.063978667,
                          0.5566037736
                        ]
                      },
                      {
                        "iteration": 763,
                        "learn": [
                          0.8045549933,
                          0.7345331834
                        ],
                        "passed_time": 69.34432761,
                        "remaining_time": 21.4204991,
                        "test": [
                          1.064029264,
                          0.5566037736
                        ]
                      },
                      {
                        "iteration": 764,
                        "learn": [
                          0.8043841233,
                          0.7345331834
                        ],
                        "passed_time": 69.42646519,
                        "remaining_time": 21.32708408,
                        "test": [
                          1.063981717,
                          0.5566037736
                        ]
                      },
                      {
                        "iteration": 765,
                        "learn": [
                          0.8042191872,
                          0.7345331834
                        ],
                        "passed_time": 69.51005574,
                        "remaining_time": 21.23414235,
                        "test": [
                          1.0639485,
                          0.5566037736
                        ]
                      },
                      {
                        "iteration": 766,
                        "learn": [
                          0.8040514201,
                          0.7337832771
                        ],
                        "passed_time": 69.59505666,
                        "remaining_time": 21.14165346,
                        "test": [
                          1.063856693,
                          0.5566037736
                        ]
                      },
                      {
                        "iteration": 767,
                        "learn": [
                          0.8037459665,
                          0.733408324
                        ],
                        "passed_time": 69.67436294,
                        "remaining_time": 21.04746381,
                        "test": [
                          1.063932386,
                          0.5566037736
                        ]
                      },
                      {
                        "iteration": 768,
                        "learn": [
                          0.8035464964,
                          0.7337832771
                        ],
                        "passed_time": 69.75726583,
                        "remaining_time": 20.95439325,
                        "test": [
                          1.063843667,
                          0.5566037736
                        ]
                      },
                      {
                        "iteration": 769,
                        "learn": [
                          0.8032844599,
                          0.7337832771
                        ],
                        "passed_time": 69.84678176,
                        "remaining_time": 20.86332442,
                        "test": [
                          1.063671198,
                          0.5566037736
                        ]
                      },
                      {
                        "iteration": 770,
                        "learn": [
                          0.8030417895,
                          0.7337832771
                        ],
                        "passed_time": 69.92748627,
                        "remaining_time": 20.76964249,
                        "test": [
                          1.063452965,
                          0.5566037736
                        ]
                      },
                      {
                        "iteration": 771,
                        "learn": [
                          0.8028140379,
                          0.7341582302
                        ],
                        "passed_time": 70.00849808,
                        "remaining_time": 20.67608493,
                        "test": [
                          1.063288939,
                          0.5566037736
                        ]
                      },
                      {
                        "iteration": 772,
                        "learn": [
                          0.8025462482,
                          0.7341582302
                        ],
                        "passed_time": 70.11382962,
                        "remaining_time": 20.58970158,
                        "test": [
                          1.063202643,
                          0.5566037736
                        ]
                      },
                      {
                        "iteration": 773,
                        "learn": [
                          0.8023463593,
                          0.7341582302
                        ],
                        "passed_time": 70.20147246,
                        "remaining_time": 20.49810436,
                        "test": [
                          1.063035052,
                          0.5566037736
                        ]
                      },
                      {
                        "iteration": 774,
                        "learn": [
                          0.8021541813,
                          0.7341582302
                        ],
                        "passed_time": 70.28289601,
                        "remaining_time": 20.40471175,
                        "test": [
                          1.062897848,
                          0.5566037736
                        ]
                      },
                      {
                        "iteration": 775,
                        "learn": [
                          0.8019325316,
                          0.7341582302
                        ],
                        "passed_time": 70.36680072,
                        "remaining_time": 20.31206619,
                        "test": [
                          1.062915813,
                          0.5566037736
                        ]
                      },
                      {
                        "iteration": 776,
                        "learn": [
                          0.8016969878,
                          0.7341582302
                        ],
                        "passed_time": 70.44908738,
                        "remaining_time": 20.21897874,
                        "test": [
                          1.062907376,
                          0.5566037736
                        ]
                      },
                      {
                        "iteration": 777,
                        "learn": [
                          0.8015275359,
                          0.7345331834
                        ],
                        "passed_time": 70.53159568,
                        "remaining_time": 20.12598231,
                        "test": [
                          1.062867318,
                          0.5566037736
                        ]
                      },
                      {
                        "iteration": 778,
                        "learn": [
                          0.8013169943,
                          0.7345331834
                        ],
                        "passed_time": 70.61235771,
                        "remaining_time": 20.0325174,
                        "test": [
                          1.062828795,
                          0.5566037736
                        ]
                      },
                      {
                        "iteration": 779,
                        "learn": [
                          0.8010422856,
                          0.7349081365
                        ],
                        "passed_time": 70.69263543,
                        "remaining_time": 19.93894845,
                        "test": [
                          1.0626526,
                          0.5566037736
                        ]
                      },
                      {
                        "iteration": 780,
                        "learn": [
                          0.8008660161,
                          0.7345331834
                        ],
                        "passed_time": 70.77564367,
                        "remaining_time": 19.84617921,
                        "test": [
                          1.062753996,
                          0.5566037736
                        ]
                      },
                      {
                        "iteration": 781,
                        "learn": [
                          0.8007093508,
                          0.7345331834
                        ],
                        "passed_time": 70.855667,
                        "remaining_time": 19.75260282,
                        "test": [
                          1.06270662,
                          0.5566037736
                        ]
                      },
                      {
                        "iteration": 782,
                        "learn": [
                          0.8005492117,
                          0.7349081365
                        ],
                        "passed_time": 70.93735315,
                        "remaining_time": 19.65952188,
                        "test": [
                          1.062700505,
                          0.5566037736
                        ]
                      },
                      {
                        "iteration": 783,
                        "learn": [
                          0.8003335413,
                          0.7352830896
                        ],
                        "passed_time": 71.01947946,
                        "remaining_time": 19.56659128,
                        "test": [
                          1.062649876,
                          0.5566037736
                        ]
                      },
                      {
                        "iteration": 784,
                        "learn": [
                          0.8000834539,
                          0.7349081365
                        ],
                        "passed_time": 71.11941214,
                        "remaining_time": 19.47856511,
                        "test": [
                          1.062544191,
                          0.5566037736
                        ]
                      },
                      {
                        "iteration": 785,
                        "learn": [
                          0.7998252768,
                          0.7352830896
                        ],
                        "passed_time": 71.21268427,
                        "remaining_time": 19.38869521,
                        "test": [
                          1.062572017,
                          0.5566037736
                        ]
                      },
                      {
                        "iteration": 786,
                        "learn": [
                          0.7996346372,
                          0.7352830896
                        ],
                        "passed_time": 71.29477826,
                        "remaining_time": 19.29579132,
                        "test": [
                          1.062493286,
                          0.5566037736
                        ]
                      },
                      {
                        "iteration": 787,
                        "learn": [
                          0.7994167048,
                          0.7356580427
                        ],
                        "passed_time": 71.37664875,
                        "remaining_time": 19.20285474,
                        "test": [
                          1.062461332,
                          0.5566037736
                        ]
                      },
                      {
                        "iteration": 788,
                        "learn": [
                          0.7992800705,
                          0.7356580427
                        ],
                        "passed_time": 71.46007936,
                        "remaining_time": 19.11036343,
                        "test": [
                          1.062494187,
                          0.5566037736
                        ]
                      },
                      {
                        "iteration": 789,
                        "learn": [
                          0.7990988519,
                          0.7356580427
                        ],
                        "passed_time": 71.54252426,
                        "remaining_time": 19.01763303,
                        "test": [
                          1.062376196,
                          0.5566037736
                        ]
                      },
                      {
                        "iteration": 790,
                        "learn": [
                          0.7989239023,
                          0.7352830896
                        ],
                        "passed_time": 71.62582327,
                        "remaining_time": 18.92515432,
                        "test": [
                          1.062116555,
                          0.5566037736
                        ]
                      },
                      {
                        "iteration": 791,
                        "learn": [
                          0.7987494477,
                          0.7352830896
                        ],
                        "passed_time": 71.70546713,
                        "remaining_time": 18.83173884,
                        "test": [
                          1.062111562,
                          0.5566037736
                        ]
                      },
                      {
                        "iteration": 792,
                        "learn": [
                          0.7986001929,
                          0.7356580427
                        ],
                        "passed_time": 71.78767839,
                        "remaining_time": 18.73902828,
                        "test": [
                          1.062071499,
                          0.5566037736
                        ]
                      },
                      {
                        "iteration": 793,
                        "learn": [
                          0.7984124859,
                          0.7356580427
                        ],
                        "passed_time": 71.86868761,
                        "remaining_time": 18.6460323,
                        "test": [
                          1.062036941,
                          0.5566037736
                        ]
                      },
                      {
                        "iteration": 794,
                        "learn": [
                          0.7979804963,
                          0.7356580427
                        ],
                        "passed_time": 71.94944977,
                        "remaining_time": 18.55300277,
                        "test": [
                          1.061879263,
                          0.5566037736
                        ]
                      },
                      {
                        "iteration": 795,
                        "learn": [
                          0.7976234933,
                          0.7356580427
                        ],
                        "passed_time": 72.03121561,
                        "remaining_time": 18.46026129,
                        "test": [
                          1.061725441,
                          0.5566037736
                        ]
                      },
                      {
                        "iteration": 796,
                        "learn": [
                          0.7974243072,
                          0.7360329959
                        ],
                        "passed_time": 72.11461472,
                        "remaining_time": 18.36796335,
                        "test": [
                          1.061828806,
                          0.5539083558
                        ]
                      },
                      {
                        "iteration": 797,
                        "learn": [
                          0.7972628977,
                          0.736407949
                        ],
                        "passed_time": 72.23488377,
                        "remaining_time": 18.2850207,
                        "test": [
                          1.061800135,
                          0.5539083558
                        ]
                      },
                      {
                        "iteration": 798,
                        "learn": [
                          0.7969729711,
                          0.7371578553
                        ],
                        "passed_time": 72.32545033,
                        "remaining_time": 18.19451254,
                        "test": [
                          1.061507794,
                          0.5552560647
                        ]
                      },
                      {
                        "iteration": 799,
                        "learn": [
                          0.7967401377,
                          0.7367829021
                        ],
                        "passed_time": 72.40729597,
                        "remaining_time": 18.10182399,
                        "test": [
                          1.061531039,
                          0.5552560647
                        ]
                      },
                      {
                        "iteration": 800,
                        "learn": [
                          0.7965766779,
                          0.7371578553
                        ],
                        "passed_time": 72.48947253,
                        "remaining_time": 18.00924474,
                        "test": [
                          1.061537406,
                          0.5552560647
                        ]
                      },
                      {
                        "iteration": 801,
                        "learn": [
                          0.7962931862,
                          0.7382827147
                        ],
                        "passed_time": 72.56967834,
                        "remaining_time": 17.91620488,
                        "test": [
                          1.061304852,
                          0.5552560647
                        ]
                      },
                      {
                        "iteration": 802,
                        "learn": [
                          0.7956931377,
                          0.7382827147
                        ],
                        "passed_time": 72.66096094,
                        "remaining_time": 17.82591445,
                        "test": [
                          1.061016507,
                          0.5525606469
                        ]
                      },
                      {
                        "iteration": 803,
                        "learn": [
                          0.7953874912,
                          0.7390326209
                        ],
                        "passed_time": 72.74350859,
                        "remaining_time": 17.73349214,
                        "test": [
                          1.060915455,
                          0.5525606469
                        ]
                      },
                      {
                        "iteration": 804,
                        "learn": [
                          0.7951970199,
                          0.7386576678
                        ],
                        "passed_time": 72.82377861,
                        "remaining_time": 17.64054264,
                        "test": [
                          1.060684624,
                          0.5525606469
                        ]
                      },
                      {
                        "iteration": 805,
                        "learn": [
                          0.7948669178,
                          0.7394075741
                        ],
                        "passed_time": 72.90958292,
                        "remaining_time": 17.54895668,
                        "test": [
                          1.060627507,
                          0.5539083558
                        ]
                      },
                      {
                        "iteration": 806,
                        "learn": [
                          0.794389901,
                          0.7394075741
                        ],
                        "passed_time": 72.99066124,
                        "remaining_time": 17.4562548,
                        "test": [
                          1.060875804,
                          0.5539083558
                        ]
                      },
                      {
                        "iteration": 807,
                        "learn": [
                          0.7942300576,
                          0.7401574803
                        ],
                        "passed_time": 73.07039313,
                        "remaining_time": 17.36326173,
                        "test": [
                          1.060867781,
                          0.5539083558
                        ]
                      },
                      {
                        "iteration": 808,
                        "learn": [
                          0.7940453553,
                          0.7397825272
                        ],
                        "passed_time": 73.35855951,
                        "remaining_time": 17.31951158,
                        "test": [
                          1.06076857,
                          0.5539083558
                        ]
                      },
                      {
                        "iteration": 809,
                        "learn": [
                          0.7938112884,
                          0.7401574803
                        ],
                        "passed_time": 73.45653586,
                        "remaining_time": 17.23054545,
                        "test": [
                          1.060785538,
                          0.5539083558
                        ]
                      },
                      {
                        "iteration": 810,
                        "learn": [
                          0.7935754914,
                          0.7409073866
                        ],
                        "passed_time": 73.5364727,
                        "remaining_time": 17.13735307,
                        "test": [
                          1.060691251,
                          0.5539083558
                        ]
                      },
                      {
                        "iteration": 811,
                        "learn": [
                          0.7933768922,
                          0.7412823397
                        ],
                        "passed_time": 73.61530268,
                        "remaining_time": 17.04393707,
                        "test": [
                          1.06063789,
                          0.5539083558
                        ]
                      },
                      {
                        "iteration": 812,
                        "learn": [
                          0.7932240258,
                          0.742032246
                        ],
                        "passed_time": 73.69808785,
                        "remaining_time": 16.9514667,
                        "test": [
                          1.060604784,
                          0.5539083558
                        ]
                      },
                      {
                        "iteration": 813,
                        "learn": [
                          0.7930150599,
                          0.7409073866
                        ],
                        "passed_time": 73.78846863,
                        "remaining_time": 16.86075573,
                        "test": [
                          1.060507801,
                          0.5539083558
                        ]
                      },
                      {
                        "iteration": 814,
                        "learn": [
                          0.7928311858,
                          0.7409073866
                        ],
                        "passed_time": 73.86886983,
                        "remaining_time": 16.76778027,
                        "test": [
                          1.060412228,
                          0.5539083558
                        ]
                      },
                      {
                        "iteration": 815,
                        "learn": [
                          0.7927135685,
                          0.7409073866
                        ],
                        "passed_time": 73.95216587,
                        "remaining_time": 16.67548838,
                        "test": [
                          1.060407963,
                          0.5539083558
                        ]
                      },
                      {
                        "iteration": 816,
                        "learn": [
                          0.7925254511,
                          0.7409073866
                        ],
                        "passed_time": 74.03261491,
                        "remaining_time": 16.58258082,
                        "test": [
                          1.060189689,
                          0.5539083558
                        ]
                      },
                      {
                        "iteration": 817,
                        "learn": [
                          0.7922736731,
                          0.742032246
                        ],
                        "passed_time": 74.11534712,
                        "remaining_time": 16.49021171,
                        "test": [
                          1.060319493,
                          0.5539083558
                        ]
                      },
                      {
                        "iteration": 818,
                        "learn": [
                          0.7920306019,
                          0.7427821522
                        ],
                        "passed_time": 74.22008705,
                        "remaining_time": 16.40272986,
                        "test": [
                          1.060284656,
                          0.5539083558
                        ]
                      },
                      {
                        "iteration": 819,
                        "learn": [
                          0.7918417447,
                          0.7435320585
                        ],
                        "passed_time": 74.3302385,
                        "remaining_time": 16.31639382,
                        "test": [
                          1.06038279,
                          0.5539083558
                        ]
                      },
                      {
                        "iteration": 820,
                        "learn": [
                          0.7916961389,
                          0.7439070116
                        ],
                        "passed_time": 74.45463125,
                        "remaining_time": 16.23310474,
                        "test": [
                          1.060393686,
                          0.5539083558
                        ]
                      },
                      {
                        "iteration": 821,
                        "learn": [
                          0.7915511504,
                          0.7435320585
                        ],
                        "passed_time": 74.56039719,
                        "remaining_time": 16.14568212,
                        "test": [
                          1.060400663,
                          0.5539083558
                        ]
                      },
                      {
                        "iteration": 822,
                        "learn": [
                          0.7913671524,
                          0.7435320585
                        ],
                        "passed_time": 74.6624398,
                        "remaining_time": 16.05741415,
                        "test": [
                          1.060478058,
                          0.5539083558
                        ]
                      },
                      {
                        "iteration": 823,
                        "learn": [
                          0.7910631824,
                          0.7424071991
                        ],
                        "passed_time": 74.7662852,
                        "remaining_time": 15.96949781,
                        "test": [
                          1.06085036,
                          0.5539083558
                        ]
                      },
                      {
                        "iteration": 824,
                        "learn": [
                          0.7908425364,
                          0.7424071991
                        ],
                        "passed_time": 74.86647604,
                        "remaining_time": 15.88076764,
                        "test": [
                          1.060945265,
                          0.5539083558
                        ]
                      },
                      {
                        "iteration": 825,
                        "learn": [
                          0.7906704605,
                          0.7427821522
                        ],
                        "passed_time": 74.9668249,
                        "remaining_time": 15.79204302,
                        "test": [
                          1.060952547,
                          0.5539083558
                        ]
                      },
                      {
                        "iteration": 826,
                        "learn": [
                          0.7903521546,
                          0.7424071991
                        ],
                        "passed_time": 75.06943213,
                        "remaining_time": 15.70376271,
                        "test": [
                          1.060981921,
                          0.5539083558
                        ]
                      },
                      {
                        "iteration": 827,
                        "learn": [
                          0.7900591339,
                          0.7442819648
                        ],
                        "passed_time": 75.17144554,
                        "remaining_time": 15.61532444,
                        "test": [
                          1.060990513,
                          0.5539083558
                        ]
                      },
                      {
                        "iteration": 828,
                        "learn": [
                          0.7897311803,
                          0.7442819648
                        ],
                        "passed_time": 75.27950748,
                        "remaining_time": 15.52810106,
                        "test": [
                          1.060829428,
                          0.5539083558
                        ]
                      },
                      {
                        "iteration": 829,
                        "learn": [
                          0.7895805365,
                          0.7442819648
                        ],
                        "passed_time": 75.379612,
                        "remaining_time": 15.43919764,
                        "test": [
                          1.060844699,
                          0.5539083558
                        ]
                      },
                      {
                        "iteration": 830,
                        "learn": [
                          0.789435129,
                          0.7446569179
                        ],
                        "passed_time": 75.51943129,
                        "remaining_time": 15.35834403,
                        "test": [
                          1.060833698,
                          0.5539083558
                        ]
                      },
                      {
                        "iteration": 831,
                        "learn": [
                          0.789302038,
                          0.7446569179
                        ],
                        "passed_time": 75.6279245,
                        "remaining_time": 15.27102322,
                        "test": [
                          1.060860709,
                          0.5539083558
                        ]
                      },
                      {
                        "iteration": 832,
                        "learn": [
                          0.7891089547,
                          0.745031871
                        ],
                        "passed_time": 75.72892731,
                        "remaining_time": 15.18214989,
                        "test": [
                          1.060808074,
                          0.5552560647
                        ]
                      },
                      {
                        "iteration": 833,
                        "learn": [
                          0.7889711641,
                          0.745031871
                        ],
                        "passed_time": 75.83276792,
                        "remaining_time": 15.09381232,
                        "test": [
                          1.06078168,
                          0.5539083558
                        ]
                      },
                      {
                        "iteration": 834,
                        "learn": [
                          0.7887599232,
                          0.7454068241
                        ],
                        "passed_time": 75.9321307,
                        "remaining_time": 15.00455277,
                        "test": [
                          1.060656695,
                          0.5552560647
                        ]
                      },
                      {
                        "iteration": 835,
                        "learn": [
                          0.7885942573,
                          0.7454068241
                        ],
                        "passed_time": 76.03160041,
                        "remaining_time": 14.91529003,
                        "test": [
                          1.060586777,
                          0.5552560647
                        ]
                      },
                      {
                        "iteration": 836,
                        "learn": [
                          0.7883773909,
                          0.7454068241
                        ],
                        "passed_time": 76.13108572,
                        "remaining_time": 14.82600594,
                        "test": [
                          1.060656753,
                          0.5552560647
                        ]
                      },
                      {
                        "iteration": 837,
                        "learn": [
                          0.7881481023,
                          0.745031871
                        ],
                        "passed_time": 76.23051266,
                        "remaining_time": 14.73668622,
                        "test": [
                          1.060616507,
                          0.5552560647
                        ]
                      },
                      {
                        "iteration": 838,
                        "learn": [
                          0.7878486669,
                          0.7454068241
                        ],
                        "passed_time": 76.33185056,
                        "remaining_time": 14.64770911,
                        "test": [
                          1.060519646,
                          0.5552560647
                        ]
                      },
                      {
                        "iteration": 839,
                        "learn": [
                          0.7876795619,
                          0.7454068241
                        ],
                        "passed_time": 76.43354835,
                        "remaining_time": 14.55877111,
                        "test": [
                          1.060342219,
                          0.5552560647
                        ]
                      },
                      {
                        "iteration": 840,
                        "learn": [
                          0.7874933005,
                          0.745031871
                        ],
                        "passed_time": 76.56959977,
                        "remaining_time": 14.4762977,
                        "test": [
                          1.0603635,
                          0.5552560647
                        ]
                      },
                      {
                        "iteration": 841,
                        "learn": [
                          0.7873380792,
                          0.7454068241
                        ],
                        "passed_time": 76.67021861,
                        "remaining_time": 14.38704815,
                        "test": [
                          1.060396801,
                          0.5552560647
                        ]
                      },
                      {
                        "iteration": 842,
                        "learn": [
                          0.7871175471,
                          0.7461567304
                        ],
                        "passed_time": 76.77095893,
                        "remaining_time": 14.29779425,
                        "test": [
                          1.060341154,
                          0.5552560647
                        ]
                      },
                      {
                        "iteration": 843,
                        "learn": [
                          0.7869070234,
                          0.7461567304
                        ],
                        "passed_time": 76.87002608,
                        "remaining_time": 14.20820387,
                        "test": [
                          1.060335269,
                          0.5552560647
                        ]
                      },
                      {
                        "iteration": 844,
                        "learn": [
                          0.7866173506,
                          0.7457817773
                        ],
                        "passed_time": 76.9683065,
                        "remaining_time": 14.11844675,
                        "test": [
                          1.059969682,
                          0.5552560647
                        ]
                      },
                      {
                        "iteration": 845,
                        "learn": [
                          0.7862986966,
                          0.745031871
                        ],
                        "passed_time": 77.068291,
                        "remaining_time": 14.02897968,
                        "test": [
                          1.0600911,
                          0.5552560647
                        ]
                      },
                      {
                        "iteration": 846,
                        "learn": [
                          0.7861254133,
                          0.7446569179
                        ],
                        "passed_time": 77.17693084,
                        "remaining_time": 13.94105126,
                        "test": [
                          1.060174441,
                          0.5552560647
                        ]
                      },
                      {
                        "iteration": 847,
                        "learn": [
                          0.7859275893,
                          0.7454068241
                        ],
                        "passed_time": 77.27477119,
                        "remaining_time": 13.85113823,
                        "test": [
                          1.060212358,
                          0.5552560647
                        ]
                      },
                      {
                        "iteration": 848,
                        "learn": [
                          0.7857145067,
                          0.7454068241
                        ],
                        "passed_time": 77.37643786,
                        "remaining_time": 13.76188706,
                        "test": [
                          1.060157691,
                          0.5552560647
                        ]
                      },
                      {
                        "iteration": 849,
                        "learn": [
                          0.7852442828,
                          0.745031871
                        ],
                        "passed_time": 77.47005293,
                        "remaining_time": 13.67118581,
                        "test": [
                          1.059980205,
                          0.5552560647
                        ]
                      },
                      {
                        "iteration": 850,
                        "learn": [
                          0.7850603151,
                          0.7454068241
                        ],
                        "passed_time": 77.59465917,
                        "remaining_time": 13.5859039,
                        "test": [
                          1.059806316,
                          0.5579514825
                        ]
                      },
                      {
                        "iteration": 851,
                        "learn": [
                          0.7848879081,
                          0.7454068241
                        ],
                        "passed_time": 77.6826434,
                        "remaining_time": 13.4941681,
                        "test": [
                          1.059701636,
                          0.5579514825
                        ]
                      },
                      {
                        "iteration": 852,
                        "learn": [
                          0.7847229593,
                          0.7454068241
                        ],
                        "passed_time": 77.78401705,
                        "remaining_time": 13.40474854,
                        "test": [
                          1.059581847,
                          0.5579514825
                        ]
                      },
                      {
                        "iteration": 853,
                        "learn": [
                          0.784502405,
                          0.7457817773
                        ],
                        "passed_time": 77.86398912,
                        "remaining_time": 13.31164217,
                        "test": [
                          1.059606024,
                          0.5579514825
                        ]
                      },
                      {
                        "iteration": 854,
                        "learn": [
                          0.7842362912,
                          0.7461567304
                        ],
                        "passed_time": 77.94245905,
                        "remaining_time": 13.21831177,
                        "test": [
                          1.059438229,
                          0.5579514825
                        ]
                      },
                      {
                        "iteration": 855,
                        "learn": [
                          0.7840190487,
                          0.7457817773
                        ],
                        "passed_time": 78.02485389,
                        "remaining_time": 13.12567636,
                        "test": [
                          1.059445891,
                          0.5579514825
                        ]
                      },
                      {
                        "iteration": 856,
                        "learn": [
                          0.7836070292,
                          0.7454068241
                        ],
                        "passed_time": 78.10741314,
                        "remaining_time": 13.03309227,
                        "test": [
                          1.059286578,
                          0.5579514825
                        ]
                      },
                      {
                        "iteration": 857,
                        "learn": [
                          0.7831962693,
                          0.7472815898
                        ],
                        "passed_time": 78.19128813,
                        "remaining_time": 12.94074932,
                        "test": [
                          1.059126502,
                          0.5579514825
                        ]
                      },
                      {
                        "iteration": 858,
                        "learn": [
                          0.7829906313,
                          0.7469066367
                        ],
                        "passed_time": 78.27143016,
                        "remaining_time": 12.84781333,
                        "test": [
                          1.058984552,
                          0.5579514825
                        ]
                      },
                      {
                        "iteration": 859,
                        "learn": [
                          0.7827071767,
                          0.7472815898
                        ],
                        "passed_time": 78.35942098,
                        "remaining_time": 12.75618481,
                        "test": [
                          1.059172567,
                          0.5592991914
                        ]
                      },
                      {
                        "iteration": 860,
                        "learn": [
                          0.7824879375,
                          0.7476565429
                        ],
                        "passed_time": 78.44283613,
                        "remaining_time": 12.66382604,
                        "test": [
                          1.059000793,
                          0.5592991914
                        ]
                      },
                      {
                        "iteration": 861,
                        "learn": [
                          0.7823315126,
                          0.7476565429
                        ],
                        "passed_time": 78.52572103,
                        "remaining_time": 12.57140314,
                        "test": [
                          1.05885664,
                          0.5592991914
                        ]
                      },
                      {
                        "iteration": 862,
                        "learn": [
                          0.782009328,
                          0.7476565429
                        ],
                        "passed_time": 78.63022869,
                        "remaining_time": 12.48243491,
                        "test": [
                          1.05879151,
                          0.5579514825
                        ]
                      },
                      {
                        "iteration": 863,
                        "learn": [
                          0.7818198868,
                          0.7480314961
                        ],
                        "passed_time": 78.71297265,
                        "remaining_time": 12.39000495,
                        "test": [
                          1.05861198,
                          0.5579514825
                        ]
                      },
                      {
                        "iteration": 864,
                        "learn": [
                          0.7816225096,
                          0.7480314961
                        ],
                        "passed_time": 78.79407613,
                        "remaining_time": 12.29734136,
                        "test": [
                          1.058605257,
                          0.5579514825
                        ]
                      },
                      {
                        "iteration": 865,
                        "learn": [
                          0.7814295663,
                          0.7480314961
                        ],
                        "passed_time": 78.87258339,
                        "remaining_time": 12.20430274,
                        "test": [
                          1.058467945,
                          0.5592991914
                        ]
                      },
                      {
                        "iteration": 866,
                        "learn": [
                          0.7812259973,
                          0.7480314961
                        ],
                        "passed_time": 78.95304387,
                        "remaining_time": 12.11159727,
                        "test": [
                          1.058414655,
                          0.5592991914
                        ]
                      },
                      {
                        "iteration": 867,
                        "learn": [
                          0.7809232958,
                          0.7491563555
                        ],
                        "passed_time": 79.03235516,
                        "remaining_time": 12.01874525,
                        "test": [
                          1.058511682,
                          0.5592991914
                        ]
                      },
                      {
                        "iteration": 868,
                        "learn": [
                          0.7807799284,
                          0.7487814023
                        ],
                        "passed_time": 79.11173572,
                        "remaining_time": 11.92593484,
                        "test": [
                          1.058508585,
                          0.5592991914
                        ]
                      },
                      {
                        "iteration": 869,
                        "learn": [
                          0.7805362215,
                          0.7484064492
                        ],
                        "passed_time": 79.19299593,
                        "remaining_time": 11.83343617,
                        "test": [
                          1.058534378,
                          0.5592991914
                        ]
                      },
                      {
                        "iteration": 870,
                        "learn": [
                          0.7803099562,
                          0.7487814023
                        ],
                        "passed_time": 79.27089805,
                        "remaining_time": 11.74046596,
                        "test": [
                          1.058898161,
                          0.5566037736
                        ]
                      },
                      {
                        "iteration": 871,
                        "learn": [
                          0.7801701651,
                          0.7484064492
                        ],
                        "passed_time": 79.35084212,
                        "remaining_time": 11.64783004,
                        "test": [
                          1.058930174,
                          0.5566037736
                        ]
                      },
                      {
                        "iteration": 872,
                        "learn": [
                          0.7799562867,
                          0.7484064492
                        ],
                        "passed_time": 79.43460252,
                        "remaining_time": 11.55577837,
                        "test": [
                          1.058946743,
                          0.5566037736
                        ]
                      },
                      {
                        "iteration": 873,
                        "learn": [
                          0.7797866177,
                          0.7487814023
                        ],
                        "passed_time": 79.5148203,
                        "remaining_time": 11.46323496,
                        "test": [
                          1.058962815,
                          0.5566037736
                        ]
                      },
                      {
                        "iteration": 874,
                        "learn": [
                          0.7795513108,
                          0.7480314961
                        ],
                        "passed_time": 79.59564023,
                        "remaining_time": 11.37080575,
                        "test": [
                          1.058927639,
                          0.5566037736
                        ]
                      },
                      {
                        "iteration": 875,
                        "learn": [
                          0.7793684038,
                          0.7484064492
                        ],
                        "passed_time": 79.70096194,
                        "remaining_time": 11.28187132,
                        "test": [
                          1.058841773,
                          0.5566037736
                        ]
                      },
                      {
                        "iteration": 876,
                        "learn": [
                          0.7791471779,
                          0.7480314961
                        ],
                        "passed_time": 79.78244464,
                        "remaining_time": 11.18955609,
                        "test": [
                          1.058839138,
                          0.5566037736
                        ]
                      },
                      {
                        "iteration": 877,
                        "learn": [
                          0.7789512711,
                          0.7480314961
                        ],
                        "passed_time": 79.86075704,
                        "remaining_time": 11.09682501,
                        "test": [
                          1.058653761,
                          0.5566037736
                        ]
                      },
                      {
                        "iteration": 878,
                        "learn": [
                          0.7786161278,
                          0.7480314961
                        ],
                        "passed_time": 79.94070594,
                        "remaining_time": 11.00435201,
                        "test": [
                          1.058467908,
                          0.5566037736
                        ]
                      },
                      {
                        "iteration": 879,
                        "learn": [
                          0.7784493854,
                          0.7487814023
                        ],
                        "passed_time": 80.02250027,
                        "remaining_time": 10.91215913,
                        "test": [
                          1.058455365,
                          0.5566037736
                        ]
                      },
                      {
                        "iteration": 880,
                        "learn": [
                          0.7782766852,
                          0.7487814023
                        ],
                        "passed_time": 80.10490977,
                        "remaining_time": 10.82007294,
                        "test": [
                          1.05835839,
                          0.5552560647
                        ]
                      },
                      {
                        "iteration": 881,
                        "learn": [
                          0.7780874251,
                          0.7491563555
                        ],
                        "passed_time": 80.18999152,
                        "remaining_time": 10.72836621,
                        "test": [
                          1.058373416,
                          0.5552560647
                        ]
                      },
                      {
                        "iteration": 882,
                        "learn": [
                          0.7777548774,
                          0.7487814023
                        ],
                        "passed_time": 80.26928927,
                        "remaining_time": 10.63590809,
                        "test": [
                          1.057875966,
                          0.5552560647
                        ]
                      },
                      {
                        "iteration": 883,
                        "learn": [
                          0.7775764637,
                          0.7487814023
                        ],
                        "passed_time": 80.35010791,
                        "remaining_time": 10.54367932,
                        "test": [
                          1.05793276,
                          0.5552560647
                        ]
                      },
                      {
                        "iteration": 884,
                        "learn": [
                          0.777422485,
                          0.7487814023
                        ],
                        "passed_time": 80.43899476,
                        "remaining_time": 10.45252474,
                        "test": [
                          1.057865385,
                          0.5552560647
                        ]
                      },
                      {
                        "iteration": 885,
                        "learn": [
                          0.7772452838,
                          0.7491563555
                        ],
                        "passed_time": 80.52233266,
                        "remaining_time": 10.36066131,
                        "test": [
                          1.057898044,
                          0.5552560647
                        ]
                      },
                      {
                        "iteration": 886,
                        "learn": [
                          0.7770539717,
                          0.7487814023
                        ],
                        "passed_time": 80.60229131,
                        "remaining_time": 10.2683866,
                        "test": [
                          1.057986188,
                          0.5552560647
                        ]
                      },
                      {
                        "iteration": 887,
                        "learn": [
                          0.7769248395,
                          0.7487814023
                        ],
                        "passed_time": 80.70166646,
                        "remaining_time": 10.17858856,
                        "test": [
                          1.058012206,
                          0.5552560647
                        ]
                      },
                      {
                        "iteration": 888,
                        "learn": [
                          0.7766554091,
                          0.7495313086
                        ],
                        "passed_time": 80.79675117,
                        "remaining_time": 10.08823327,
                        "test": [
                          1.058055077,
                          0.5566037736
                        ]
                      },
                      {
                        "iteration": 889,
                        "learn": [
                          0.7764629219,
                          0.7495313086
                        ],
                        "passed_time": 80.87703327,
                        "remaining_time": 9.99603782,
                        "test": [
                          1.058043983,
                          0.5566037736
                        ]
                      },
                      {
                        "iteration": 890,
                        "learn": [
                          0.7762416367,
                          0.7495313086
                        ],
                        "passed_time": 80.95672556,
                        "remaining_time": 9.903796954,
                        "test": [
                          1.058037493,
                          0.5566037736
                        ]
                      },
                      {
                        "iteration": 891,
                        "learn": [
                          0.7760246193,
                          0.7499062617
                        ],
                        "passed_time": 81.03674291,
                        "remaining_time": 9.811623581,
                        "test": [
                          1.058002566,
                          0.5566037736
                        ]
                      },
                      {
                        "iteration": 892,
                        "learn": [
                          0.7758139051,
                          0.7499062617
                        ],
                        "passed_time": 81.11667897,
                        "remaining_time": 9.719467693,
                        "test": [
                          1.058037383,
                          0.5566037736
                        ]
                      },
                      {
                        "iteration": 893,
                        "learn": [
                          0.7756694004,
                          0.7499062617
                        ],
                        "passed_time": 81.19994699,
                        "remaining_time": 9.627734207,
                        "test": [
                          1.057981744,
                          0.5566037736
                        ]
                      },
                      {
                        "iteration": 894,
                        "learn": [
                          0.7754543615,
                          0.7502812148
                        ],
                        "passed_time": 81.28059263,
                        "remaining_time": 9.535711984,
                        "test": [
                          1.057903147,
                          0.5566037736
                        ]
                      },
                      {
                        "iteration": 895,
                        "learn": [
                          0.775166831,
                          0.750656168
                        ],
                        "passed_time": 81.36242544,
                        "remaining_time": 9.443852952,
                        "test": [
                          1.057821767,
                          0.5566037736
                        ]
                      },
                      {
                        "iteration": 896,
                        "learn": [
                          0.7749265947,
                          0.750656168
                        ],
                        "passed_time": 81.45009032,
                        "remaining_time": 9.352685956,
                        "test": [
                          1.057856679,
                          0.5566037736
                        ]
                      },
                      {
                        "iteration": 897,
                        "learn": [
                          0.7746806099,
                          0.7502812148
                        ],
                        "passed_time": 81.53547887,
                        "remaining_time": 9.261268201,
                        "test": [
                          1.057616925,
                          0.5566037736
                        ]
                      },
                      {
                        "iteration": 898,
                        "learn": [
                          0.774481114,
                          0.750656168
                        ],
                        "passed_time": 81.61906329,
                        "remaining_time": 9.16966117,
                        "test": [
                          1.057410552,
                          0.5566037736
                        ]
                      },
                      {
                        "iteration": 899,
                        "learn": [
                          0.7742386571,
                          0.7521559805
                        ],
                        "passed_time": 81.71476218,
                        "remaining_time": 9.07941802,
                        "test": [
                          1.057190182,
                          0.5566037736
                        ]
                      },
                      {
                        "iteration": 900,
                        "learn": [
                          0.7740637097,
                          0.7517810274
                        ],
                        "passed_time": 81.82392253,
                        "remaining_time": 8.990641876,
                        "test": [
                          1.057199563,
                          0.5566037736
                        ]
                      },
                      {
                        "iteration": 901,
                        "learn": [
                          0.7738506655,
                          0.7529058868
                        ],
                        "passed_time": 81.90342496,
                        "remaining_time": 8.898598277,
                        "test": [
                          1.057108447,
                          0.5566037736
                        ]
                      },
                      {
                        "iteration": 902,
                        "learn": [
                          0.7737058561,
                          0.7532808399
                        ],
                        "passed_time": 81.9863051,
                        "remaining_time": 8.806945287,
                        "test": [
                          1.057026942,
                          0.5566037736
                        ]
                      },
                      {
                        "iteration": 903,
                        "learn": [
                          0.7732807367,
                          0.7551556055
                        ],
                        "passed_time": 82.0684003,
                        "remaining_time": 8.715228351,
                        "test": [
                          1.056672737,
                          0.5566037736
                        ]
                      },
                      {
                        "iteration": 904,
                        "learn": [
                          0.7730036558,
                          0.7555305587
                        ],
                        "passed_time": 82.14915563,
                        "remaining_time": 8.623392027,
                        "test": [
                          1.056328958,
                          0.5566037736
                        ]
                      },
                      {
                        "iteration": 905,
                        "learn": [
                          0.7726054211,
                          0.7547806524
                        ],
                        "passed_time": 82.22950071,
                        "remaining_time": 8.531537601,
                        "test": [
                          1.056309094,
                          0.5539083558
                        ]
                      },
                      {
                        "iteration": 906,
                        "learn": [
                          0.7724293721,
                          0.7551556055
                        ],
                        "passed_time": 82.30905916,
                        "remaining_time": 8.439627896,
                        "test": [
                          1.056302987,
                          0.5539083558
                        ]
                      },
                      {
                        "iteration": 907,
                        "learn": [
                          0.77226317,
                          0.7547806524
                        ],
                        "passed_time": 82.39001693,
                        "remaining_time": 8.347887178,
                        "test": [
                          1.056180381,
                          0.5539083558
                        ]
                      },
                      {
                        "iteration": 908,
                        "learn": [
                          0.7719569991,
                          0.7551556055
                        ],
                        "passed_time": 82.47460653,
                        "remaining_time": 8.256533767,
                        "test": [
                          1.055851577,
                          0.5539083558
                        ]
                      },
                      {
                        "iteration": 909,
                        "learn": [
                          0.7715960232,
                          0.7555305587
                        ],
                        "passed_time": 82.55530438,
                        "remaining_time": 8.164810323,
                        "test": [
                          1.055642845,
                          0.5539083558
                        ]
                      },
                      {
                        "iteration": 910,
                        "learn": [
                          0.7714138042,
                          0.7555305587
                        ],
                        "passed_time": 82.63527614,
                        "remaining_time": 8.073040149,
                        "test": [
                          1.055720609,
                          0.5539083558
                        ]
                      },
                      {
                        "iteration": 911,
                        "learn": [
                          0.7711609801,
                          0.7555305587
                        ],
                        "passed_time": 82.71644719,
                        "remaining_time": 7.981411571,
                        "test": [
                          1.055966825,
                          0.5539083558
                        ]
                      },
                      {
                        "iteration": 912,
                        "learn": [
                          0.7709856892,
                          0.7555305587
                        ],
                        "passed_time": 82.82707483,
                        "remaining_time": 7.892612827,
                        "test": [
                          1.055879849,
                          0.5539083558
                        ]
                      },
                      {
                        "iteration": 913,
                        "learn": [
                          0.7708301443,
                          0.7547806524
                        ],
                        "passed_time": 82.90685718,
                        "remaining_time": 7.800864023,
                        "test": [
                          1.055864084,
                          0.5539083558
                        ]
                      },
                      {
                        "iteration": 914,
                        "learn": [
                          0.7707196201,
                          0.7551556055
                        ],
                        "passed_time": 82.98983618,
                        "remaining_time": 7.709438333,
                        "test": [
                          1.055868558,
                          0.5539083558
                        ]
                      },
                      {
                        "iteration": 915,
                        "learn": [
                          0.7705713197,
                          0.7547806524
                        ],
                        "passed_time": 83.07912177,
                        "remaining_time": 7.61860942,
                        "test": [
                          1.055859553,
                          0.5539083558
                        ]
                      },
                      {
                        "iteration": 916,
                        "learn": [
                          0.7703830472,
                          0.7547806524
                        ],
                        "passed_time": 83.16449348,
                        "remaining_time": 7.527429617,
                        "test": [
                          1.055927892,
                          0.5539083558
                        ]
                      },
                      {
                        "iteration": 917,
                        "learn": [
                          0.7701397372,
                          0.7544056993
                        ],
                        "passed_time": 83.2483238,
                        "remaining_time": 7.436124784,
                        "test": [
                          1.055756683,
                          0.5539083558
                        ]
                      },
                      {
                        "iteration": 918,
                        "learn": [
                          0.7699992646,
                          0.7544056993
                        ],
                        "passed_time": 83.32958212,
                        "remaining_time": 7.344609523,
                        "test": [
                          1.055728956,
                          0.5539083558
                        ]
                      },
                      {
                        "iteration": 919,
                        "learn": [
                          0.7697639512,
                          0.7544056993
                        ],
                        "passed_time": 83.41402309,
                        "remaining_time": 7.253393312,
                        "test": [
                          1.055633234,
                          0.5539083558
                        ]
                      },
                      {
                        "iteration": 920,
                        "learn": [
                          0.76928089,
                          0.7551556055
                        ],
                        "passed_time": 83.50102199,
                        "remaining_time": 7.162411224,
                        "test": [
                          1.055481437,
                          0.5539083558
                        ]
                      },
                      {
                        "iteration": 921,
                        "learn": [
                          0.7690581654,
                          0.7547806524
                        ],
                        "passed_time": 83.58140943,
                        "remaining_time": 7.070878455,
                        "test": [
                          1.055353268,
                          0.5539083558
                        ]
                      },
                      {
                        "iteration": 922,
                        "learn": [
                          0.768915761,
                          0.7547806524
                        ],
                        "passed_time": 83.66126172,
                        "remaining_time": 6.979325192,
                        "test": [
                          1.055374426,
                          0.5539083558
                        ]
                      },
                      {
                        "iteration": 923,
                        "learn": [
                          0.7687589536,
                          0.7547806524
                        ],
                        "passed_time": 83.74442387,
                        "remaining_time": 6.888069495,
                        "test": [
                          1.0553341,
                          0.5539083558
                        ]
                      },
                      {
                        "iteration": 924,
                        "learn": [
                          0.7685981059,
                          0.7547806524
                        ],
                        "passed_time": 83.8589779,
                        "remaining_time": 6.799376586,
                        "test": [
                          1.055313062,
                          0.5539083558
                        ]
                      },
                      {
                        "iteration": 925,
                        "learn": [
                          0.7684708524,
                          0.7547806524
                        ],
                        "passed_time": 83.95662546,
                        "remaining_time": 6.709276764,
                        "test": [
                          1.055360423,
                          0.5539083558
                        ]
                      },
                      {
                        "iteration": 926,
                        "learn": [
                          0.7681161929,
                          0.7559055118
                        ],
                        "passed_time": 84.04248107,
                        "remaining_time": 6.618232058,
                        "test": [
                          1.055081344,
                          0.5552560647
                        ]
                      },
                      {
                        "iteration": 927,
                        "learn": [
                          0.7679218578,
                          0.7551556055
                        ],
                        "passed_time": 84.12361421,
                        "remaining_time": 6.526832137,
                        "test": [
                          1.055055135,
                          0.5552560647
                        ]
                      },
                      {
                        "iteration": 928,
                        "learn": [
                          0.7677277241,
                          0.7555305587
                        ],
                        "passed_time": 84.21008574,
                        "remaining_time": 6.435862312,
                        "test": [
                          1.055175977,
                          0.5552560647
                        ]
                      },
                      {
                        "iteration": 929,
                        "learn": [
                          0.7675015751,
                          0.7555305587
                        ],
                        "passed_time": 84.29108204,
                        "remaining_time": 6.344490046,
                        "test": [
                          1.055111389,
                          0.5552560647
                        ]
                      },
                      {
                        "iteration": 930,
                        "learn": [
                          0.767319258,
                          0.7559055118
                        ],
                        "passed_time": 84.37756838,
                        "remaining_time": 6.253546958,
                        "test": [
                          1.055143901,
                          0.5552560647
                        ]
                      },
                      {
                        "iteration": 931,
                        "learn": [
                          0.7671234914,
                          0.7562804649
                        ],
                        "passed_time": 84.45978255,
                        "remaining_time": 6.162301731,
                        "test": [
                          1.055136408,
                          0.5552560647
                        ]
                      },
                      {
                        "iteration": 932,
                        "learn": [
                          0.7670043213,
                          0.7562804649
                        ],
                        "passed_time": 84.5495608,
                        "remaining_time": 6.07161905,
                        "test": [
                          1.055157722,
                          0.5552560647
                        ]
                      },
                      {
                        "iteration": 933,
                        "learn": [
                          0.7668181691,
                          0.7566554181
                        ],
                        "passed_time": 84.63029476,
                        "remaining_time": 5.980299202,
                        "test": [
                          1.055185006,
                          0.5539083558
                        ]
                      },
                      {
                        "iteration": 934,
                        "learn": [
                          0.766648888,
                          0.7566554181
                        ],
                        "passed_time": 84.71246743,
                        "remaining_time": 5.889102014,
                        "test": [
                          1.05503413,
                          0.5539083558
                        ]
                      },
                      {
                        "iteration": 935,
                        "learn": [
                          0.7664825547,
                          0.7566554181
                        ],
                        "passed_time": 84.79316855,
                        "remaining_time": 5.797823491,
                        "test": [
                          1.055029863,
                          0.5539083558
                        ]
                      },
                      {
                        "iteration": 936,
                        "learn": [
                          0.7662044322,
                          0.7566554181
                        ],
                        "passed_time": 84.89737037,
                        "remaining_time": 5.708147634,
                        "test": [
                          1.054877759,
                          0.5539083558
                        ]
                      },
                      {
                        "iteration": 937,
                        "learn": [
                          0.7659619427,
                          0.7577802775
                        ],
                        "passed_time": 84.98386142,
                        "remaining_time": 5.617270158,
                        "test": [
                          1.054664378,
                          0.5525606469
                        ]
                      },
                      {
                        "iteration": 938,
                        "learn": [
                          0.7656772094,
                          0.7585301837
                        ],
                        "passed_time": 85.06418251,
                        "remaining_time": 5.526001207,
                        "test": [
                          1.054455907,
                          0.5539083558
                        ]
                      },
                      {
                        "iteration": 939,
                        "learn": [
                          0.7655196638,
                          0.7585301837
                        ],
                        "passed_time": 85.14373552,
                        "remaining_time": 5.434706522,
                        "test": [
                          1.054440231,
                          0.5539083558
                        ]
                      },
                      {
                        "iteration": 940,
                        "learn": [
                          0.7651902086,
                          0.7581552306
                        ],
                        "passed_time": 85.22417581,
                        "remaining_time": 5.343492426,
                        "test": [
                          1.054098704,
                          0.5539083558
                        ]
                      },
                      {
                        "iteration": 941,
                        "learn": [
                          0.765002393,
                          0.7585301837
                        ],
                        "passed_time": 85.30282035,
                        "remaining_time": 5.252190637,
                        "test": [
                          1.05411292,
                          0.5539083558
                        ]
                      },
                      {
                        "iteration": 942,
                        "learn": [
                          0.764846284,
                          0.7581552306
                        ],
                        "passed_time": 85.38305929,
                        "remaining_time": 5.161012068,
                        "test": [
                          1.05409643,
                          0.5539083558
                        ]
                      },
                      {
                        "iteration": 943,
                        "learn": [
                          0.7645794879,
                          0.7581552306
                        ],
                        "passed_time": 85.46234371,
                        "remaining_time": 5.069800051,
                        "test": [
                          1.05373582,
                          0.5539083558
                        ]
                      },
                      {
                        "iteration": 944,
                        "learn": [
                          0.7644147351,
                          0.7581552306
                        ],
                        "passed_time": 85.54928992,
                        "remaining_time": 4.979059201,
                        "test": [
                          1.053777642,
                          0.5539083558
                        ]
                      },
                      {
                        "iteration": 945,
                        "learn": [
                          0.7641984487,
                          0.7581552306
                        ],
                        "passed_time": 85.6281425,
                        "remaining_time": 4.887864371,
                        "test": [
                          1.053746879,
                          0.5539083558
                        ]
                      },
                      {
                        "iteration": 946,
                        "learn": [
                          0.7640658418,
                          0.7581552306
                        ],
                        "passed_time": 85.70842366,
                        "remaining_time": 4.796775559,
                        "test": [
                          1.053623982,
                          0.5539083558
                        ]
                      },
                      {
                        "iteration": 947,
                        "learn": [
                          0.7638280691,
                          0.7585301837
                        ],
                        "passed_time": 85.79001014,
                        "remaining_time": 4.705781147,
                        "test": [
                          1.053587466,
                          0.5539083558
                        ]
                      },
                      {
                        "iteration": 948,
                        "learn": [
                          0.7636470385,
                          0.7585301837
                        ],
                        "passed_time": 85.87186421,
                        "remaining_time": 4.614820943,
                        "test": [
                          1.053434634,
                          0.5539083558
                        ]
                      },
                      {
                        "iteration": 949,
                        "learn": [
                          0.7634419436,
                          0.7585301837
                        ],
                        "passed_time": 85.98613604,
                        "remaining_time": 4.525586107,
                        "test": [
                          1.05339486,
                          0.5539083558
                        ]
                      },
                      {
                        "iteration": 950,
                        "learn": [
                          0.7632602632,
                          0.7585301837
                        ],
                        "passed_time": 86.08120593,
                        "remaining_time": 4.435309243,
                        "test": [
                          1.053316974,
                          0.5539083558
                        ]
                      },
                      {
                        "iteration": 951,
                        "learn": [
                          0.7630396606,
                          0.7585301837
                        ],
                        "passed_time": 86.16135977,
                        "remaining_time": 4.344270241,
                        "test": [
                          1.053292271,
                          0.5539083558
                        ]
                      },
                      {
                        "iteration": 952,
                        "learn": [
                          0.7628810199,
                          0.7589051369
                        ],
                        "passed_time": 86.24185729,
                        "remaining_time": 4.253271031,
                        "test": [
                          1.053132236,
                          0.5552560647
                        ]
                      },
                      {
                        "iteration": 953,
                        "learn": [
                          0.7626761341,
                          0.75928009
                        ],
                        "passed_time": 86.32047178,
                        "remaining_time": 4.162203042,
                        "test": [
                          1.052962086,
                          0.5566037736
                        ]
                      },
                      {
                        "iteration": 954,
                        "learn": [
                          0.7624654537,
                          0.75928009
                        ],
                        "passed_time": 86.40172206,
                        "remaining_time": 4.071285333,
                        "test": [
                          1.052983645,
                          0.5566037736
                        ]
                      },
                      {
                        "iteration": 955,
                        "learn": [
                          0.7622498067,
                          0.7596550431
                        ],
                        "passed_time": 86.4832838,
                        "remaining_time": 3.980402183,
                        "test": [
                          1.05305504,
                          0.5539083558
                        ]
                      },
                      {
                        "iteration": 956,
                        "learn": [
                          0.7620294715,
                          0.7600299963
                        ],
                        "passed_time": 86.56817212,
                        "remaining_time": 3.889687984,
                        "test": [
                          1.052957145,
                          0.5566037736
                        ]
                      },
                      {
                        "iteration": 957,
                        "learn": [
                          0.7617958925,
                          0.7600299963
                        ],
                        "passed_time": 86.64932061,
                        "remaining_time": 3.798821989,
                        "test": [
                          1.052871014,
                          0.5566037736
                        ]
                      },
                      {
                        "iteration": 958,
                        "learn": [
                          0.7616304282,
                          0.7600299963
                        ],
                        "passed_time": 86.72870157,
                        "remaining_time": 3.707900693,
                        "test": [
                          1.052864617,
                          0.5552560647
                        ]
                      },
                      {
                        "iteration": 959,
                        "learn": [
                          0.7614417529,
                          0.7600299963
                        ],
                        "passed_time": 86.80896651,
                        "remaining_time": 3.617040271,
                        "test": [
                          1.052749644,
                          0.5566037736
                        ]
                      },
                      {
                        "iteration": 960,
                        "learn": [
                          0.7612899792,
                          0.7600299963
                        ],
                        "passed_time": 86.88921537,
                        "remaining_time": 3.526201248,
                        "test": [
                          1.052703104,
                          0.5566037736
                        ]
                      },
                      {
                        "iteration": 961,
                        "learn": [
                          0.7610835165,
                          0.7607799025
                        ],
                        "passed_time": 86.99500671,
                        "remaining_time": 3.436393196,
                        "test": [
                          1.052732112,
                          0.5552560647
                        ]
                      },
                      {
                        "iteration": 962,
                        "learn": [
                          0.7608463812,
                          0.7619047619
                        ],
                        "passed_time": 87.07663542,
                        "remaining_time": 3.345623583,
                        "test": [
                          1.052755037,
                          0.5552560647
                        ]
                      },
                      {
                        "iteration": 963,
                        "learn": [
                          0.7605491265,
                          0.762279715
                        ],
                        "passed_time": 87.15829534,
                        "remaining_time": 3.2548741,
                        "test": [
                          1.052658115,
                          0.5539083558
                        ]
                      },
                      {
                        "iteration": 964,
                        "learn": [
                          0.7603083108,
                          0.7619047619
                        ],
                        "passed_time": 87.24022364,
                        "remaining_time": 3.164153189,
                        "test": [
                          1.05262908,
                          0.5525606469
                        ]
                      },
                      {
                        "iteration": 965,
                        "learn": [
                          0.7600752791,
                          0.7626546682
                        ],
                        "passed_time": 87.32101603,
                        "remaining_time": 3.073410502,
                        "test": [
                          1.052537974,
                          0.5525606469
                        ]
                      },
                      {
                        "iteration": 966,
                        "learn": [
                          0.7599313597,
                          0.7630296213
                        ],
                        "passed_time": 87.40785535,
                        "remaining_time": 2.982894754,
                        "test": [
                          1.052510257,
                          0.5525606469
                        ]
                      },
                      {
                        "iteration": 967,
                        "learn": [
                          0.7596892419,
                          0.7634045744
                        ],
                        "passed_time": 87.49103026,
                        "remaining_time": 2.892265463,
                        "test": [
                          1.052499655,
                          0.5525606469
                        ]
                      },
                      {
                        "iteration": 968,
                        "learn": [
                          0.7594580161,
                          0.7634045744
                        ],
                        "passed_time": 87.57999474,
                        "remaining_time": 2.801836777,
                        "test": [
                          1.052211148,
                          0.5525606469
                        ]
                      },
                      {
                        "iteration": 969,
                        "learn": [
                          0.7592908499,
                          0.7637795276
                        ],
                        "passed_time": 87.66194083,
                        "remaining_time": 2.711194046,
                        "test": [
                          1.05206957,
                          0.5525606469
                        ]
                      },
                      {
                        "iteration": 970,
                        "learn": [
                          0.759131976,
                          0.7634045744
                        ],
                        "passed_time": 87.74499218,
                        "remaining_time": 2.620602238,
                        "test": [
                          1.052097536,
                          0.5525606469
                        ]
                      },
                      {
                        "iteration": 971,
                        "learn": [
                          0.7588531361,
                          0.7630296213
                        ],
                        "passed_time": 87.84659555,
                        "remaining_time": 2.530560366,
                        "test": [
                          1.051856597,
                          0.5525606469
                        ]
                      },
                      {
                        "iteration": 972,
                        "learn": [
                          0.7586647748,
                          0.7637795276
                        ],
                        "passed_time": 87.95082964,
                        "remaining_time": 2.440567729,
                        "test": [
                          1.051731449,
                          0.5525606469
                        ]
                      },
                      {
                        "iteration": 973,
                        "learn": [
                          0.7585091185,
                          0.7641544807
                        ],
                        "passed_time": 88.09941061,
                        "remaining_time": 2.351729647,
                        "test": [
                          1.05168578,
                          0.5539083558
                        ]
                      },
                      {
                        "iteration": 974,
                        "learn": [
                          0.7583082303,
                          0.7641544807
                        ],
                        "passed_time": 88.20131086,
                        "remaining_time": 2.261572073,
                        "test": [
                          1.051624774,
                          0.5539083558
                        ]
                      },
                      {
                        "iteration": 975,
                        "learn": [
                          0.7581149264,
                          0.7641544807
                        ],
                        "passed_time": 88.30361092,
                        "remaining_time": 2.171400269,
                        "test": [
                          1.051479741,
                          0.5539083558
                        ]
                      },
                      {
                        "iteration": 976,
                        "learn": [
                          0.7579876736,
                          0.7641544807
                        ],
                        "passed_time": 88.40532993,
                        "remaining_time": 2.081189957,
                        "test": [
                          1.051452536,
                          0.5539083558
                        ]
                      },
                      {
                        "iteration": 977,
                        "learn": [
                          0.7578071105,
                          0.7645294338
                        ],
                        "passed_time": 88.51101841,
                        "remaining_time": 1.991045404,
                        "test": [
                          1.051400374,
                          0.5539083558
                        ]
                      },
                      {
                        "iteration": 978,
                        "learn": [
                          0.757627529,
                          0.7645294338
                        ],
                        "passed_time": 88.61562178,
                        "remaining_time": 1.90084582,
                        "test": [
                          1.051232777,
                          0.5552560647
                        ]
                      },
                      {
                        "iteration": 979,
                        "learn": [
                          0.7573241569,
                          0.764904387
                        ],
                        "passed_time": 88.72093086,
                        "remaining_time": 1.810631242,
                        "test": [
                          1.051277811,
                          0.5552560647
                        ]
                      },
                      {
                        "iteration": 980,
                        "learn": [
                          0.7571181189,
                          0.7656542932
                        ],
                        "passed_time": 88.82063059,
                        "remaining_time": 1.720277249,
                        "test": [
                          1.051276985,
                          0.5539083558
                        ]
                      },
                      {
                        "iteration": 981,
                        "learn": [
                          0.7569451088,
                          0.7660292463
                        ],
                        "passed_time": 88.92094651,
                        "remaining_time": 1.629915517,
                        "test": [
                          1.051248119,
                          0.5539083558
                        ]
                      },
                      {
                        "iteration": 982,
                        "learn": [
                          0.7568055016,
                          0.7664041995
                        ],
                        "passed_time": 89.05187513,
                        "remaining_time": 1.540062947,
                        "test": [
                          1.051179823,
                          0.5539083558
                        ]
                      },
                      {
                        "iteration": 983,
                        "learn": [
                          0.7565966207,
                          0.7667791526
                        ],
                        "passed_time": 89.17403624,
                        "remaining_time": 1.449984329,
                        "test": [
                          1.051134524,
                          0.5539083558
                        ]
                      },
                      {
                        "iteration": 984,
                        "learn": [
                          0.7564127355,
                          0.7667791526
                        ],
                        "passed_time": 89.27192095,
                        "remaining_time": 1.359470877,
                        "test": [
                          1.051109784,
                          0.5539083558
                        ]
                      },
                      {
                        "iteration": 985,
                        "learn": [
                          0.7562114419,
                          0.7667791526
                        ],
                        "passed_time": 89.37393866,
                        "remaining_time": 1.269001157,
                        "test": [
                          1.050913644,
                          0.5539083558
                        ]
                      },
                      {
                        "iteration": 986,
                        "learn": [
                          0.7560783551,
                          0.7667791526
                        ],
                        "passed_time": 89.4782168,
                        "remaining_time": 1.17853781,
                        "test": [
                          1.050881225,
                          0.5539083558
                        ]
                      },
                      {
                        "iteration": 987,
                        "learn": [
                          0.7559652458,
                          0.7671541057
                        ],
                        "passed_time": 89.58108832,
                        "remaining_time": 1.088029413,
                        "test": [
                          1.05081446,
                          0.5539083558
                        ]
                      },
                      {
                        "iteration": 988,
                        "learn": [
                          0.7558379631,
                          0.7671541057
                        ],
                        "passed_time": 89.6871531,
                        "remaining_time": 0.9975315309,
                        "test": [
                          1.050794484,
                          0.5539083558
                        ]
                      },
                      {
                        "iteration": 989,
                        "learn": [
                          0.7556710601,
                          0.7671541057
                        ],
                        "passed_time": 89.78842899,
                        "remaining_time": 0.9069538282,
                        "test": [
                          1.050792147,
                          0.5539083558
                        ]
                      },
                      {
                        "iteration": 990,
                        "learn": [
                          0.7552617346,
                          0.7690288714
                        ],
                        "passed_time": 89.88732233,
                        "remaining_time": 0.816332897,
                        "test": [
                          1.050661835,
                          0.5539083558
                        ]
                      },
                      {
                        "iteration": 991,
                        "learn": [
                          0.7550344889,
                          0.7694038245
                        ],
                        "passed_time": 89.98997756,
                        "remaining_time": 0.7257256255,
                        "test": [
                          1.050497476,
                          0.5539083558
                        ]
                      },
                      {
                        "iteration": 992,
                        "learn": [
                          0.7548685758,
                          0.7690288714
                        ],
                        "passed_time": 90.13102888,
                        "remaining_time": 0.6353647554,
                        "test": [
                          1.050507724,
                          0.5539083558
                        ]
                      },
                      {
                        "iteration": 993,
                        "learn": [
                          0.7546729708,
                          0.7686539183
                        ],
                        "passed_time": 90.2530878,
                        "remaining_time": 0.5447872503,
                        "test": [
                          1.050524836,
                          0.5539083558
                        ]
                      },
                      {
                        "iteration": 994,
                        "learn": [
                          0.7544551026,
                          0.7682789651
                        ],
                        "passed_time": 90.36427273,
                        "remaining_time": 0.4540918228,
                        "test": [
                          1.050503088,
                          0.5539083558
                        ]
                      },
                      {
                        "iteration": 995,
                        "learn": [
                          0.7543401096,
                          0.7682789651
                        ],
                        "passed_time": 90.468333,
                        "remaining_time": 0.3633266385,
                        "test": [
                          1.050437962,
                          0.5539083558
                        ]
                      },
                      {
                        "iteration": 996,
                        "learn": [
                          0.7540616705,
                          0.7682789651
                        ],
                        "passed_time": 90.56954509,
                        "remaining_time": 0.2725262139,
                        "test": [
                          1.050415243,
                          0.5539083558
                        ]
                      },
                      {
                        "iteration": 997,
                        "learn": [
                          0.7539341515,
                          0.7682789651
                        ],
                        "passed_time": 90.67831172,
                        "remaining_time": 0.1817200636,
                        "test": [
                          1.050421218,
                          0.5539083558
                        ]
                      },
                      {
                        "iteration": 998,
                        "learn": [
                          0.7536636915,
                          0.7694038245
                        ],
                        "passed_time": 90.77856401,
                        "remaining_time": 0.09086943345,
                        "test": [
                          1.050559389,
                          0.5552560647
                        ]
                      },
                      {
                        "iteration": 999,
                        "learn": [
                          0.7534583662,
                          0.7701537308
                        ],
                        "passed_time": 90.87815939,
                        "remaining_time": 0,
                        "test": [
                          1.050452287,
                          0.5552560647
                        ]
                      }
                    ],
                    "meta": {
                      "iteration_count": 1000,
                      "launch_mode": "Train",
                      "learn_metrics": [
                        {
                          "best_value": "Min",
                          "name": "MultiClass"
                        },
                        {
                          "best_value": "Max",
                          "name": "Accuracy"
                        }
                      ],
                      "learn_sets": [
                        "learn"
                      ],
                      "name": "experiment",
                      "parameters": "",
                      "test_metrics": [
                        {
                          "best_value": "Min",
                          "name": "MultiClass"
                        },
                        {
                          "best_value": "Max",
                          "name": "Accuracy"
                        }
                      ],
                      "test_sets": [
                        "test"
                      ]
                    }
                  },
                  "passed_iterations": 999,
                  "total_iterations": 1000
                },
                "name": "catboost_info",
                "path": "catboost_info"
              }
            },
            "layout": "IPY_MODEL_812ed1732d3140548d029376e7db1d42"
          }
        },
        "6dc4cdc0cb2c49668de60382f77ca1b6": {
          "model_module": "@jupyter-widgets/controls",
          "model_module_version": "1.5.0",
          "model_name": "DescriptionStyleModel",
          "state": {
            "_model_module": "@jupyter-widgets/controls",
            "_model_module_version": "1.5.0",
            "_model_name": "DescriptionStyleModel",
            "_view_count": null,
            "_view_module": "@jupyter-widgets/base",
            "_view_module_version": "1.2.0",
            "_view_name": "StyleView",
            "description_width": ""
          }
        },
        "6f33df6c9ea945d7a22348d7c5d7245c": {
          "model_module": "@jupyter-widgets/controls",
          "model_module_version": "1.5.0",
          "model_name": "HBoxModel",
          "state": {
            "_dom_classes": [],
            "_model_module": "@jupyter-widgets/controls",
            "_model_module_version": "1.5.0",
            "_model_name": "HBoxModel",
            "_view_count": null,
            "_view_module": "@jupyter-widgets/controls",
            "_view_module_version": "1.5.0",
            "_view_name": "HBoxView",
            "box_style": "",
            "children": [
              "IPY_MODEL_1f1e2649889349d5981fd4f9dbead129",
              "IPY_MODEL_d2fa0bb2fe4041ea838e657aae4d676f",
              "IPY_MODEL_1546e288ee21490f913c2ec785c99df3"
            ],
            "layout": "IPY_MODEL_bf44372f8ad24be583fa5936738dea48"
          }
        },
        "70ceefcd88f544fa9bc9c4a37292ab95": {
          "model_module": "@jupyter-widgets/base",
          "model_module_version": "1.2.0",
          "model_name": "LayoutModel",
          "state": {
            "_model_module": "@jupyter-widgets/base",
            "_model_module_version": "1.2.0",
            "_model_name": "LayoutModel",
            "_view_count": null,
            "_view_module": "@jupyter-widgets/base",
            "_view_module_version": "1.2.0",
            "_view_name": "LayoutView",
            "align_content": null,
            "align_items": null,
            "align_self": null,
            "border": null,
            "bottom": null,
            "display": null,
            "flex": null,
            "flex_flow": null,
            "grid_area": null,
            "grid_auto_columns": null,
            "grid_auto_flow": null,
            "grid_auto_rows": null,
            "grid_column": null,
            "grid_gap": null,
            "grid_row": null,
            "grid_template_areas": null,
            "grid_template_columns": null,
            "grid_template_rows": null,
            "height": null,
            "justify_content": null,
            "justify_items": null,
            "left": null,
            "margin": null,
            "max_height": null,
            "max_width": null,
            "min_height": null,
            "min_width": null,
            "object_fit": null,
            "object_position": null,
            "order": null,
            "overflow": null,
            "overflow_x": null,
            "overflow_y": null,
            "padding": null,
            "right": null,
            "top": null,
            "visibility": null,
            "width": null
          }
        },
        "710d758d33a14aba81c942cbfd226d80": {
          "model_module": "@jupyter-widgets/base",
          "model_module_version": "1.2.0",
          "model_name": "LayoutModel",
          "state": {
            "_model_module": "@jupyter-widgets/base",
            "_model_module_version": "1.2.0",
            "_model_name": "LayoutModel",
            "_view_count": null,
            "_view_module": "@jupyter-widgets/base",
            "_view_module_version": "1.2.0",
            "_view_name": "LayoutView",
            "align_content": null,
            "align_items": null,
            "align_self": null,
            "border": null,
            "bottom": null,
            "display": null,
            "flex": null,
            "flex_flow": null,
            "grid_area": null,
            "grid_auto_columns": null,
            "grid_auto_flow": null,
            "grid_auto_rows": null,
            "grid_column": null,
            "grid_gap": null,
            "grid_row": null,
            "grid_template_areas": null,
            "grid_template_columns": null,
            "grid_template_rows": null,
            "height": null,
            "justify_content": null,
            "justify_items": null,
            "left": null,
            "margin": null,
            "max_height": null,
            "max_width": null,
            "min_height": null,
            "min_width": null,
            "object_fit": null,
            "object_position": null,
            "order": null,
            "overflow": null,
            "overflow_x": null,
            "overflow_y": null,
            "padding": null,
            "right": null,
            "top": null,
            "visibility": null,
            "width": null
          }
        },
        "73214aca6e234cd3948fe33a7ba2a0bb": {
          "model_module": "@jupyter-widgets/base",
          "model_module_version": "1.2.0",
          "model_name": "LayoutModel",
          "state": {
            "_model_module": "@jupyter-widgets/base",
            "_model_module_version": "1.2.0",
            "_model_name": "LayoutModel",
            "_view_count": null,
            "_view_module": "@jupyter-widgets/base",
            "_view_module_version": "1.2.0",
            "_view_name": "LayoutView",
            "align_content": null,
            "align_items": null,
            "align_self": null,
            "border": null,
            "bottom": null,
            "display": null,
            "flex": null,
            "flex_flow": null,
            "grid_area": null,
            "grid_auto_columns": null,
            "grid_auto_flow": null,
            "grid_auto_rows": null,
            "grid_column": null,
            "grid_gap": null,
            "grid_row": null,
            "grid_template_areas": null,
            "grid_template_columns": null,
            "grid_template_rows": null,
            "height": null,
            "justify_content": null,
            "justify_items": null,
            "left": null,
            "margin": null,
            "max_height": null,
            "max_width": null,
            "min_height": null,
            "min_width": null,
            "object_fit": null,
            "object_position": null,
            "order": null,
            "overflow": null,
            "overflow_x": null,
            "overflow_y": null,
            "padding": null,
            "right": null,
            "top": null,
            "visibility": null,
            "width": null
          }
        },
        "73f04e7b51c749719a399392c7c5955d": {
          "model_module": "@jupyter-widgets/controls",
          "model_module_version": "1.5.0",
          "model_name": "FloatProgressModel",
          "state": {
            "_dom_classes": [],
            "_model_module": "@jupyter-widgets/controls",
            "_model_module_version": "1.5.0",
            "_model_name": "FloatProgressModel",
            "_view_count": null,
            "_view_module": "@jupyter-widgets/controls",
            "_view_module_version": "1.5.0",
            "_view_name": "ProgressView",
            "bar_style": "success",
            "description": "",
            "description_tooltip": null,
            "layout": "IPY_MODEL_5b9d2c539c95472187834004c3493c71",
            "max": 77,
            "min": 0,
            "orientation": "horizontal",
            "style": "IPY_MODEL_af3b59c47ab345108b8618a3d003985b",
            "value": 77
          }
        },
        "7415a80be4bd4e57a87b3b53cd33114f": {
          "model_module": "@jupyter-widgets/base",
          "model_module_version": "1.2.0",
          "model_name": "LayoutModel",
          "state": {
            "_model_module": "@jupyter-widgets/base",
            "_model_module_version": "1.2.0",
            "_model_name": "LayoutModel",
            "_view_count": null,
            "_view_module": "@jupyter-widgets/base",
            "_view_module_version": "1.2.0",
            "_view_name": "LayoutView",
            "align_content": null,
            "align_items": null,
            "align_self": null,
            "border": null,
            "bottom": null,
            "display": null,
            "flex": null,
            "flex_flow": null,
            "grid_area": null,
            "grid_auto_columns": null,
            "grid_auto_flow": null,
            "grid_auto_rows": null,
            "grid_column": null,
            "grid_gap": null,
            "grid_row": null,
            "grid_template_areas": null,
            "grid_template_columns": null,
            "grid_template_rows": null,
            "height": null,
            "justify_content": null,
            "justify_items": null,
            "left": null,
            "margin": null,
            "max_height": null,
            "max_width": null,
            "min_height": null,
            "min_width": null,
            "object_fit": null,
            "object_position": null,
            "order": null,
            "overflow": null,
            "overflow_x": null,
            "overflow_y": null,
            "padding": null,
            "right": null,
            "top": null,
            "visibility": null,
            "width": null
          }
        },
        "7519f74b19df40eab5cf59a856527ecb": {
          "model_module": "@jupyter-widgets/base",
          "model_module_version": "1.2.0",
          "model_name": "LayoutModel",
          "state": {
            "_model_module": "@jupyter-widgets/base",
            "_model_module_version": "1.2.0",
            "_model_name": "LayoutModel",
            "_view_count": null,
            "_view_module": "@jupyter-widgets/base",
            "_view_module_version": "1.2.0",
            "_view_name": "LayoutView",
            "align_content": null,
            "align_items": null,
            "align_self": null,
            "border": null,
            "bottom": null,
            "display": null,
            "flex": null,
            "flex_flow": null,
            "grid_area": null,
            "grid_auto_columns": null,
            "grid_auto_flow": null,
            "grid_auto_rows": null,
            "grid_column": null,
            "grid_gap": null,
            "grid_row": null,
            "grid_template_areas": null,
            "grid_template_columns": null,
            "grid_template_rows": null,
            "height": null,
            "justify_content": null,
            "justify_items": null,
            "left": null,
            "margin": null,
            "max_height": null,
            "max_width": null,
            "min_height": null,
            "min_width": null,
            "object_fit": null,
            "object_position": null,
            "order": null,
            "overflow": null,
            "overflow_x": null,
            "overflow_y": null,
            "padding": null,
            "right": null,
            "top": null,
            "visibility": null,
            "width": null
          }
        },
        "751d3f78518e4f98b16a20cb14408cf8": {
          "model_module": "@jupyter-widgets/controls",
          "model_module_version": "1.5.0",
          "model_name": "ProgressStyleModel",
          "state": {
            "_model_module": "@jupyter-widgets/controls",
            "_model_module_version": "1.5.0",
            "_model_name": "ProgressStyleModel",
            "_view_count": null,
            "_view_module": "@jupyter-widgets/base",
            "_view_module_version": "1.2.0",
            "_view_name": "StyleView",
            "bar_color": null,
            "description_width": ""
          }
        },
        "75bc38d7d4ce4fd0ac09225250d62bf4": {
          "model_module": "@jupyter-widgets/controls",
          "model_module_version": "1.5.0",
          "model_name": "HTMLModel",
          "state": {
            "_dom_classes": [],
            "_model_module": "@jupyter-widgets/controls",
            "_model_module_version": "1.5.0",
            "_model_name": "HTMLModel",
            "_view_count": null,
            "_view_module": "@jupyter-widgets/controls",
            "_view_module_version": "1.5.0",
            "_view_name": "HTMLView",
            "description": "",
            "description_tooltip": null,
            "layout": "IPY_MODEL_0d0a786c78874d1487207c8653545745",
            "placeholder": "​",
            "style": "IPY_MODEL_da748c4d4bfa4eb19a73423c10ce6c93",
            "value": " 77/77 [00:09&lt;00:00,  7.85it/s]"
          }
        },
        "75c8fc4bd26344548ef3896e69bfddde": {
          "model_module": "@jupyter-widgets/controls",
          "model_module_version": "1.5.0",
          "model_name": "HTMLModel",
          "state": {
            "_dom_classes": [],
            "_model_module": "@jupyter-widgets/controls",
            "_model_module_version": "1.5.0",
            "_model_name": "HTMLModel",
            "_view_count": null,
            "_view_module": "@jupyter-widgets/controls",
            "_view_module_version": "1.5.0",
            "_view_name": "HTMLView",
            "description": "",
            "description_tooltip": null,
            "layout": "IPY_MODEL_66b55d70e58947dcbdbcfb680c8e6d9b",
            "placeholder": "​",
            "style": "IPY_MODEL_f5940474d8ba40ed933b6527a3e76b18",
            "value": "100%"
          }
        },
        "76e99570c8b34b229fb43e0bc8350df8": {
          "model_module": "@jupyter-widgets/controls",
          "model_module_version": "1.5.0",
          "model_name": "HBoxModel",
          "state": {
            "_dom_classes": [],
            "_model_module": "@jupyter-widgets/controls",
            "_model_module_version": "1.5.0",
            "_model_name": "HBoxModel",
            "_view_count": null,
            "_view_module": "@jupyter-widgets/controls",
            "_view_module_version": "1.5.0",
            "_view_name": "HBoxView",
            "box_style": "",
            "children": [
              "IPY_MODEL_a1b07b3839af40a6a3ca14a956b31cc3",
              "IPY_MODEL_9e11f81dce5240f0b7f8fbce786f2c0d",
              "IPY_MODEL_16499644b7ac4b0ebf25a519a9831ea3"
            ],
            "layout": "IPY_MODEL_089edb2ea6144bb8b82f1d0b9737ed57"
          }
        },
        "76edf330ed614c6a808d6e9c6348e174": {
          "model_module": "@jupyter-widgets/controls",
          "model_module_version": "1.5.0",
          "model_name": "DescriptionStyleModel",
          "state": {
            "_model_module": "@jupyter-widgets/controls",
            "_model_module_version": "1.5.0",
            "_model_name": "DescriptionStyleModel",
            "_view_count": null,
            "_view_module": "@jupyter-widgets/base",
            "_view_module_version": "1.2.0",
            "_view_name": "StyleView",
            "description_width": ""
          }
        },
        "798f7788d2f04f46b79d49f53b38cdfa": {
          "model_module": "@jupyter-widgets/controls",
          "model_module_version": "1.5.0",
          "model_name": "HBoxModel",
          "state": {
            "_dom_classes": [],
            "_model_module": "@jupyter-widgets/controls",
            "_model_module_version": "1.5.0",
            "_model_name": "HBoxModel",
            "_view_count": null,
            "_view_module": "@jupyter-widgets/controls",
            "_view_module_version": "1.5.0",
            "_view_name": "HBoxView",
            "box_style": "",
            "children": [
              "IPY_MODEL_fe4890fcacdb49e2807b7e95195a741e",
              "IPY_MODEL_18ac8beb68f9495196c78406f96b4da7",
              "IPY_MODEL_a7d0ba96c74c44bf8abe6d7570595ea1"
            ],
            "layout": "IPY_MODEL_7415a80be4bd4e57a87b3b53cd33114f"
          }
        },
        "7b1121a6cd1c43ba9d79e668410e6556": {
          "model_module": "@jupyter-widgets/controls",
          "model_module_version": "1.5.0",
          "model_name": "FloatProgressModel",
          "state": {
            "_dom_classes": [],
            "_model_module": "@jupyter-widgets/controls",
            "_model_module_version": "1.5.0",
            "_model_name": "FloatProgressModel",
            "_view_count": null,
            "_view_module": "@jupyter-widgets/controls",
            "_view_module_version": "1.5.0",
            "_view_name": "ProgressView",
            "bar_style": "success",
            "description": "",
            "description_tooltip": null,
            "layout": "IPY_MODEL_9cad87fd041b4b84a72e6d6a7770f53b",
            "max": 77,
            "min": 0,
            "orientation": "horizontal",
            "style": "IPY_MODEL_9a54b764824c4fe6946eae514c78d7ba",
            "value": 77
          }
        },
        "7ba8876d2d9f4e579b495935bcc08e62": {
          "model_module": "@jupyter-widgets/base",
          "model_module_version": "1.2.0",
          "model_name": "LayoutModel",
          "state": {
            "_model_module": "@jupyter-widgets/base",
            "_model_module_version": "1.2.0",
            "_model_name": "LayoutModel",
            "_view_count": null,
            "_view_module": "@jupyter-widgets/base",
            "_view_module_version": "1.2.0",
            "_view_name": "LayoutView",
            "align_content": null,
            "align_items": null,
            "align_self": null,
            "border": null,
            "bottom": null,
            "display": null,
            "flex": null,
            "flex_flow": null,
            "grid_area": null,
            "grid_auto_columns": null,
            "grid_auto_flow": null,
            "grid_auto_rows": null,
            "grid_column": null,
            "grid_gap": null,
            "grid_row": null,
            "grid_template_areas": null,
            "grid_template_columns": null,
            "grid_template_rows": null,
            "height": null,
            "justify_content": null,
            "justify_items": null,
            "left": null,
            "margin": null,
            "max_height": null,
            "max_width": null,
            "min_height": null,
            "min_width": null,
            "object_fit": null,
            "object_position": null,
            "order": null,
            "overflow": null,
            "overflow_x": null,
            "overflow_y": null,
            "padding": null,
            "right": null,
            "top": null,
            "visibility": null,
            "width": null
          }
        },
        "7c85a69660954040a6a0b50107665ffa": {
          "model_module": "@jupyter-widgets/controls",
          "model_module_version": "1.5.0",
          "model_name": "HTMLModel",
          "state": {
            "_dom_classes": [],
            "_model_module": "@jupyter-widgets/controls",
            "_model_module_version": "1.5.0",
            "_model_name": "HTMLModel",
            "_view_count": null,
            "_view_module": "@jupyter-widgets/controls",
            "_view_module_version": "1.5.0",
            "_view_name": "HTMLView",
            "description": "",
            "description_tooltip": null,
            "layout": "IPY_MODEL_0bfb4d88030f4f27995f307b710de3c5",
            "placeholder": "​",
            "style": "IPY_MODEL_5addd726da7a4763a331d7a6d0361ad2",
            "value": "Downloading (…)lve/main/config.json: 100%"
          }
        },
        "7e56382d6596473ba960c45d27c2f68d": {
          "model_module": "@jupyter-widgets/base",
          "model_module_version": "1.2.0",
          "model_name": "LayoutModel",
          "state": {
            "_model_module": "@jupyter-widgets/base",
            "_model_module_version": "1.2.0",
            "_model_name": "LayoutModel",
            "_view_count": null,
            "_view_module": "@jupyter-widgets/base",
            "_view_module_version": "1.2.0",
            "_view_name": "LayoutView",
            "align_content": null,
            "align_items": null,
            "align_self": null,
            "border": null,
            "bottom": null,
            "display": null,
            "flex": null,
            "flex_flow": null,
            "grid_area": null,
            "grid_auto_columns": null,
            "grid_auto_flow": null,
            "grid_auto_rows": null,
            "grid_column": null,
            "grid_gap": null,
            "grid_row": null,
            "grid_template_areas": null,
            "grid_template_columns": null,
            "grid_template_rows": null,
            "height": null,
            "justify_content": null,
            "justify_items": null,
            "left": null,
            "margin": null,
            "max_height": null,
            "max_width": null,
            "min_height": null,
            "min_width": null,
            "object_fit": null,
            "object_position": null,
            "order": null,
            "overflow": null,
            "overflow_x": null,
            "overflow_y": null,
            "padding": null,
            "right": null,
            "top": null,
            "visibility": null,
            "width": null
          }
        },
        "8162620c609c4676b65160d8473dae3c": {
          "model_module": "@jupyter-widgets/controls",
          "model_module_version": "1.5.0",
          "model_name": "FloatProgressModel",
          "state": {
            "_dom_classes": [],
            "_model_module": "@jupyter-widgets/controls",
            "_model_module_version": "1.5.0",
            "_model_name": "FloatProgressModel",
            "_view_count": null,
            "_view_module": "@jupyter-widgets/controls",
            "_view_module_version": "1.5.0",
            "_view_name": "ProgressView",
            "bar_style": "success",
            "description": "",
            "description_tooltip": null,
            "layout": "IPY_MODEL_e33b9555aea94e60816e78c329f02411",
            "max": 179,
            "min": 0,
            "orientation": "horizontal",
            "style": "IPY_MODEL_ea442b5d21424f69bcba4b32509ebe63",
            "value": 179
          }
        },
        "83574078ee1147ff9fb9301579b6274f": {
          "model_module": "@jupyter-widgets/base",
          "model_module_version": "1.2.0",
          "model_name": "LayoutModel",
          "state": {
            "_model_module": "@jupyter-widgets/base",
            "_model_module_version": "1.2.0",
            "_model_name": "LayoutModel",
            "_view_count": null,
            "_view_module": "@jupyter-widgets/base",
            "_view_module_version": "1.2.0",
            "_view_name": "LayoutView",
            "align_content": null,
            "align_items": null,
            "align_self": null,
            "border": null,
            "bottom": null,
            "display": null,
            "flex": null,
            "flex_flow": null,
            "grid_area": null,
            "grid_auto_columns": null,
            "grid_auto_flow": null,
            "grid_auto_rows": null,
            "grid_column": null,
            "grid_gap": null,
            "grid_row": null,
            "grid_template_areas": null,
            "grid_template_columns": null,
            "grid_template_rows": null,
            "height": null,
            "justify_content": null,
            "justify_items": null,
            "left": null,
            "margin": null,
            "max_height": null,
            "max_width": null,
            "min_height": null,
            "min_width": null,
            "object_fit": null,
            "object_position": null,
            "order": null,
            "overflow": null,
            "overflow_x": null,
            "overflow_y": null,
            "padding": null,
            "right": null,
            "top": null,
            "visibility": null,
            "width": null
          }
        },
        "8366da938a7e45a5a3d3cc8b165ce69e": {
          "model_module": "@jupyter-widgets/base",
          "model_module_version": "1.2.0",
          "model_name": "LayoutModel",
          "state": {
            "_model_module": "@jupyter-widgets/base",
            "_model_module_version": "1.2.0",
            "_model_name": "LayoutModel",
            "_view_count": null,
            "_view_module": "@jupyter-widgets/base",
            "_view_module_version": "1.2.0",
            "_view_name": "LayoutView",
            "align_content": null,
            "align_items": null,
            "align_self": null,
            "border": null,
            "bottom": null,
            "display": null,
            "flex": null,
            "flex_flow": null,
            "grid_area": null,
            "grid_auto_columns": null,
            "grid_auto_flow": null,
            "grid_auto_rows": null,
            "grid_column": null,
            "grid_gap": null,
            "grid_row": null,
            "grid_template_areas": null,
            "grid_template_columns": null,
            "grid_template_rows": null,
            "height": null,
            "justify_content": null,
            "justify_items": null,
            "left": null,
            "margin": null,
            "max_height": null,
            "max_width": null,
            "min_height": null,
            "min_width": null,
            "object_fit": null,
            "object_position": null,
            "order": null,
            "overflow": null,
            "overflow_x": null,
            "overflow_y": null,
            "padding": null,
            "right": null,
            "top": null,
            "visibility": null,
            "width": null
          }
        },
        "84668293d8c3478f94334c34b32165d0": {
          "model_module": "@jupyter-widgets/controls",
          "model_module_version": "1.5.0",
          "model_name": "ProgressStyleModel",
          "state": {
            "_model_module": "@jupyter-widgets/controls",
            "_model_module_version": "1.5.0",
            "_model_name": "ProgressStyleModel",
            "_view_count": null,
            "_view_module": "@jupyter-widgets/base",
            "_view_module_version": "1.2.0",
            "_view_name": "StyleView",
            "bar_color": null,
            "description_width": ""
          }
        },
        "860f4892516048eba3a56567a471dff7": {
          "model_module": "@jupyter-widgets/base",
          "model_module_version": "1.2.0",
          "model_name": "LayoutModel",
          "state": {
            "_model_module": "@jupyter-widgets/base",
            "_model_module_version": "1.2.0",
            "_model_name": "LayoutModel",
            "_view_count": null,
            "_view_module": "@jupyter-widgets/base",
            "_view_module_version": "1.2.0",
            "_view_name": "LayoutView",
            "align_content": null,
            "align_items": null,
            "align_self": null,
            "border": null,
            "bottom": null,
            "display": null,
            "flex": null,
            "flex_flow": null,
            "grid_area": null,
            "grid_auto_columns": null,
            "grid_auto_flow": null,
            "grid_auto_rows": null,
            "grid_column": null,
            "grid_gap": null,
            "grid_row": null,
            "grid_template_areas": null,
            "grid_template_columns": null,
            "grid_template_rows": null,
            "height": null,
            "justify_content": null,
            "justify_items": null,
            "left": null,
            "margin": null,
            "max_height": null,
            "max_width": null,
            "min_height": null,
            "min_width": null,
            "object_fit": null,
            "object_position": null,
            "order": null,
            "overflow": null,
            "overflow_x": null,
            "overflow_y": null,
            "padding": null,
            "right": null,
            "top": null,
            "visibility": null,
            "width": null
          }
        },
        "8659f182f1a743fabd5ac58c22f9f75b": {
          "model_module": "@jupyter-widgets/controls",
          "model_module_version": "1.5.0",
          "model_name": "HTMLModel",
          "state": {
            "_dom_classes": [],
            "_model_module": "@jupyter-widgets/controls",
            "_model_module_version": "1.5.0",
            "_model_name": "HTMLModel",
            "_view_count": null,
            "_view_module": "@jupyter-widgets/controls",
            "_view_module_version": "1.5.0",
            "_view_name": "HTMLView",
            "description": "",
            "description_tooltip": null,
            "layout": "IPY_MODEL_8c5d1e9f857a44bfa66555e323b1adad",
            "placeholder": "​",
            "style": "IPY_MODEL_2348ab5c635e44728f6d44b65bc56684",
            "value": "100%"
          }
        },
        "86aad8667ddd4395894f97ddc770fb5f": {
          "model_module": "@jupyter-widgets/controls",
          "model_module_version": "1.5.0",
          "model_name": "HTMLModel",
          "state": {
            "_dom_classes": [],
            "_model_module": "@jupyter-widgets/controls",
            "_model_module_version": "1.5.0",
            "_model_name": "HTMLModel",
            "_view_count": null,
            "_view_module": "@jupyter-widgets/controls",
            "_view_module_version": "1.5.0",
            "_view_name": "HTMLView",
            "description": "",
            "description_tooltip": null,
            "layout": "IPY_MODEL_7ba8876d2d9f4e579b495935bcc08e62",
            "placeholder": "​",
            "style": "IPY_MODEL_e21e7b8bebec463e93990f665b39232a",
            "value": "100%"
          }
        },
        "87a0cd9b84594bf4b88a7eccb8394dac": {
          "model_module": "@jupyter-widgets/controls",
          "model_module_version": "1.5.0",
          "model_name": "DescriptionStyleModel",
          "state": {
            "_model_module": "@jupyter-widgets/controls",
            "_model_module_version": "1.5.0",
            "_model_name": "DescriptionStyleModel",
            "_view_count": null,
            "_view_module": "@jupyter-widgets/base",
            "_view_module_version": "1.2.0",
            "_view_name": "StyleView",
            "description_width": ""
          }
        },
        "87b6224affe04726b809305a71408b6a": {
          "model_module": "@jupyter-widgets/base",
          "model_module_version": "1.2.0",
          "model_name": "LayoutModel",
          "state": {
            "_model_module": "@jupyter-widgets/base",
            "_model_module_version": "1.2.0",
            "_model_name": "LayoutModel",
            "_view_count": null,
            "_view_module": "@jupyter-widgets/base",
            "_view_module_version": "1.2.0",
            "_view_name": "LayoutView",
            "align_content": null,
            "align_items": null,
            "align_self": null,
            "border": null,
            "bottom": null,
            "display": null,
            "flex": null,
            "flex_flow": null,
            "grid_area": null,
            "grid_auto_columns": null,
            "grid_auto_flow": null,
            "grid_auto_rows": null,
            "grid_column": null,
            "grid_gap": null,
            "grid_row": null,
            "grid_template_areas": null,
            "grid_template_columns": null,
            "grid_template_rows": null,
            "height": null,
            "justify_content": null,
            "justify_items": null,
            "left": null,
            "margin": null,
            "max_height": null,
            "max_width": null,
            "min_height": null,
            "min_width": null,
            "object_fit": null,
            "object_position": null,
            "order": null,
            "overflow": null,
            "overflow_x": null,
            "overflow_y": null,
            "padding": null,
            "right": null,
            "top": null,
            "visibility": null,
            "width": null
          }
        },
        "87f8fa1298ea43999c59ded9157a38a0": {
          "model_module": "@jupyter-widgets/base",
          "model_module_version": "1.2.0",
          "model_name": "LayoutModel",
          "state": {
            "_model_module": "@jupyter-widgets/base",
            "_model_module_version": "1.2.0",
            "_model_name": "LayoutModel",
            "_view_count": null,
            "_view_module": "@jupyter-widgets/base",
            "_view_module_version": "1.2.0",
            "_view_name": "LayoutView",
            "align_content": null,
            "align_items": null,
            "align_self": null,
            "border": null,
            "bottom": null,
            "display": null,
            "flex": null,
            "flex_flow": null,
            "grid_area": null,
            "grid_auto_columns": null,
            "grid_auto_flow": null,
            "grid_auto_rows": null,
            "grid_column": null,
            "grid_gap": null,
            "grid_row": null,
            "grid_template_areas": null,
            "grid_template_columns": null,
            "grid_template_rows": null,
            "height": null,
            "justify_content": null,
            "justify_items": null,
            "left": null,
            "margin": null,
            "max_height": null,
            "max_width": null,
            "min_height": null,
            "min_width": null,
            "object_fit": null,
            "object_position": null,
            "order": null,
            "overflow": null,
            "overflow_x": null,
            "overflow_y": null,
            "padding": null,
            "right": null,
            "top": null,
            "visibility": null,
            "width": null
          }
        },
        "886a96005f27495c94cf8b7ecfa432c6": {
          "model_module": "@jupyter-widgets/controls",
          "model_module_version": "1.5.0",
          "model_name": "HBoxModel",
          "state": {
            "_dom_classes": [],
            "_model_module": "@jupyter-widgets/controls",
            "_model_module_version": "1.5.0",
            "_model_name": "HBoxModel",
            "_view_count": null,
            "_view_module": "@jupyter-widgets/controls",
            "_view_module_version": "1.5.0",
            "_view_name": "HBoxView",
            "box_style": "",
            "children": [
              "IPY_MODEL_7c85a69660954040a6a0b50107665ffa",
              "IPY_MODEL_68ca120085354fc691c2e630d0238141",
              "IPY_MODEL_d7372f225a2e4f669984e34bcadcc8ca"
            ],
            "layout": "IPY_MODEL_1e428e381cb441d9bd3cd20b0d1f68b6"
          }
        },
        "88a601feeebc45339122ed1f6b807bc8": {
          "model_module": "@jupyter-widgets/controls",
          "model_module_version": "1.5.0",
          "model_name": "FloatProgressModel",
          "state": {
            "_dom_classes": [],
            "_model_module": "@jupyter-widgets/controls",
            "_model_module_version": "1.5.0",
            "_model_name": "FloatProgressModel",
            "_view_count": null,
            "_view_module": "@jupyter-widgets/controls",
            "_view_module_version": "1.5.0",
            "_view_name": "ProgressView",
            "bar_style": "success",
            "description": "",
            "description_tooltip": null,
            "layout": "IPY_MODEL_40633a37b6d242dcb06a9acf7f1b5082",
            "max": 29,
            "min": 0,
            "orientation": "horizontal",
            "style": "IPY_MODEL_38837ca7bde043e3a7a497d31357c0ca",
            "value": 29
          }
        },
        "89ebf6e11ca0400c9bf296f662c2e2af": {
          "model_module": "@jupyter-widgets/controls",
          "model_module_version": "1.5.0",
          "model_name": "FloatProgressModel",
          "state": {
            "_dom_classes": [],
            "_model_module": "@jupyter-widgets/controls",
            "_model_module_version": "1.5.0",
            "_model_name": "FloatProgressModel",
            "_view_count": null,
            "_view_module": "@jupyter-widgets/controls",
            "_view_module_version": "1.5.0",
            "_view_name": "ProgressView",
            "bar_style": "success",
            "description": "",
            "description_tooltip": null,
            "layout": "IPY_MODEL_6773dbbc41f14dd79af33425df057fc9",
            "max": 77,
            "min": 0,
            "orientation": "horizontal",
            "style": "IPY_MODEL_4b4fdaa168a449ee8b62cb86c5a99ec4",
            "value": 77
          }
        },
        "89fc330a6a6747e88ae46d06b7c543bf": {
          "model_module": "@jupyter-widgets/controls",
          "model_module_version": "1.5.0",
          "model_name": "HTMLModel",
          "state": {
            "_dom_classes": [],
            "_model_module": "@jupyter-widgets/controls",
            "_model_module_version": "1.5.0",
            "_model_name": "HTMLModel",
            "_view_count": null,
            "_view_module": "@jupyter-widgets/controls",
            "_view_module_version": "1.5.0",
            "_view_name": "HTMLView",
            "description": "",
            "description_tooltip": null,
            "layout": "IPY_MODEL_04b66a4bdac543a68d745d190ffc1134",
            "placeholder": "​",
            "style": "IPY_MODEL_0e3816503558436089e9abe1bf91745c",
            "value": " 77/77 [00:09&lt;00:00,  7.81it/s]"
          }
        },
        "8b128918d8aa49128abaf14f7bc2625b": {
          "model_module": "@jupyter-widgets/controls",
          "model_module_version": "1.5.0",
          "model_name": "HBoxModel",
          "state": {
            "_dom_classes": [],
            "_model_module": "@jupyter-widgets/controls",
            "_model_module_version": "1.5.0",
            "_model_name": "HBoxModel",
            "_view_count": null,
            "_view_module": "@jupyter-widgets/controls",
            "_view_module_version": "1.5.0",
            "_view_name": "HBoxView",
            "box_style": "",
            "children": [
              "IPY_MODEL_c69022cfa20844b4be36255cd54186b1",
              "IPY_MODEL_d2b5da6d93cb458286b7ce8c2f65a516",
              "IPY_MODEL_edcfd019d5aa4267affe2aa399f753ee"
            ],
            "layout": "IPY_MODEL_53c6c54fd9c844e18c09d96f625750b6"
          }
        },
        "8c5d1e9f857a44bfa66555e323b1adad": {
          "model_module": "@jupyter-widgets/base",
          "model_module_version": "1.2.0",
          "model_name": "LayoutModel",
          "state": {
            "_model_module": "@jupyter-widgets/base",
            "_model_module_version": "1.2.0",
            "_model_name": "LayoutModel",
            "_view_count": null,
            "_view_module": "@jupyter-widgets/base",
            "_view_module_version": "1.2.0",
            "_view_name": "LayoutView",
            "align_content": null,
            "align_items": null,
            "align_self": null,
            "border": null,
            "bottom": null,
            "display": null,
            "flex": null,
            "flex_flow": null,
            "grid_area": null,
            "grid_auto_columns": null,
            "grid_auto_flow": null,
            "grid_auto_rows": null,
            "grid_column": null,
            "grid_gap": null,
            "grid_row": null,
            "grid_template_areas": null,
            "grid_template_columns": null,
            "grid_template_rows": null,
            "height": null,
            "justify_content": null,
            "justify_items": null,
            "left": null,
            "margin": null,
            "max_height": null,
            "max_width": null,
            "min_height": null,
            "min_width": null,
            "object_fit": null,
            "object_position": null,
            "order": null,
            "overflow": null,
            "overflow_x": null,
            "overflow_y": null,
            "padding": null,
            "right": null,
            "top": null,
            "visibility": null,
            "width": null
          }
        },
        "8c9af6bbd0f74886b75c606d9496e311": {
          "model_module": "@jupyter-widgets/base",
          "model_module_version": "1.2.0",
          "model_name": "LayoutModel",
          "state": {
            "_model_module": "@jupyter-widgets/base",
            "_model_module_version": "1.2.0",
            "_model_name": "LayoutModel",
            "_view_count": null,
            "_view_module": "@jupyter-widgets/base",
            "_view_module_version": "1.2.0",
            "_view_name": "LayoutView",
            "align_content": null,
            "align_items": null,
            "align_self": null,
            "border": null,
            "bottom": null,
            "display": null,
            "flex": null,
            "flex_flow": null,
            "grid_area": null,
            "grid_auto_columns": null,
            "grid_auto_flow": null,
            "grid_auto_rows": null,
            "grid_column": null,
            "grid_gap": null,
            "grid_row": null,
            "grid_template_areas": null,
            "grid_template_columns": null,
            "grid_template_rows": null,
            "height": null,
            "justify_content": null,
            "justify_items": null,
            "left": null,
            "margin": null,
            "max_height": null,
            "max_width": null,
            "min_height": null,
            "min_width": null,
            "object_fit": null,
            "object_position": null,
            "order": null,
            "overflow": null,
            "overflow_x": null,
            "overflow_y": null,
            "padding": null,
            "right": null,
            "top": null,
            "visibility": null,
            "width": null
          }
        },
        "8d5396d48131439c9051b3df9083ecfe": {
          "model_module": "@jupyter-widgets/controls",
          "model_module_version": "1.5.0",
          "model_name": "DescriptionStyleModel",
          "state": {
            "_model_module": "@jupyter-widgets/controls",
            "_model_module_version": "1.5.0",
            "_model_name": "DescriptionStyleModel",
            "_view_count": null,
            "_view_module": "@jupyter-widgets/base",
            "_view_module_version": "1.2.0",
            "_view_name": "StyleView",
            "description_width": ""
          }
        },
        "8e5d98e7aa0246cc89954ba01f92316c": {
          "model_module": "@jupyter-widgets/base",
          "model_module_version": "1.2.0",
          "model_name": "LayoutModel",
          "state": {
            "_model_module": "@jupyter-widgets/base",
            "_model_module_version": "1.2.0",
            "_model_name": "LayoutModel",
            "_view_count": null,
            "_view_module": "@jupyter-widgets/base",
            "_view_module_version": "1.2.0",
            "_view_name": "LayoutView",
            "align_content": null,
            "align_items": null,
            "align_self": null,
            "border": null,
            "bottom": null,
            "display": null,
            "flex": null,
            "flex_flow": null,
            "grid_area": null,
            "grid_auto_columns": null,
            "grid_auto_flow": null,
            "grid_auto_rows": null,
            "grid_column": null,
            "grid_gap": null,
            "grid_row": null,
            "grid_template_areas": null,
            "grid_template_columns": null,
            "grid_template_rows": null,
            "height": null,
            "justify_content": null,
            "justify_items": null,
            "left": null,
            "margin": null,
            "max_height": null,
            "max_width": null,
            "min_height": null,
            "min_width": null,
            "object_fit": null,
            "object_position": null,
            "order": null,
            "overflow": null,
            "overflow_x": null,
            "overflow_y": null,
            "padding": null,
            "right": null,
            "top": null,
            "visibility": null,
            "width": null
          }
        },
        "8f000b83793c4b78a964f155f69816ab": {
          "model_module": "@jupyter-widgets/base",
          "model_module_version": "1.2.0",
          "model_name": "LayoutModel",
          "state": {
            "_model_module": "@jupyter-widgets/base",
            "_model_module_version": "1.2.0",
            "_model_name": "LayoutModel",
            "_view_count": null,
            "_view_module": "@jupyter-widgets/base",
            "_view_module_version": "1.2.0",
            "_view_name": "LayoutView",
            "align_content": null,
            "align_items": null,
            "align_self": null,
            "border": null,
            "bottom": null,
            "display": null,
            "flex": null,
            "flex_flow": null,
            "grid_area": null,
            "grid_auto_columns": null,
            "grid_auto_flow": null,
            "grid_auto_rows": null,
            "grid_column": null,
            "grid_gap": null,
            "grid_row": null,
            "grid_template_areas": null,
            "grid_template_columns": null,
            "grid_template_rows": null,
            "height": null,
            "justify_content": null,
            "justify_items": null,
            "left": null,
            "margin": null,
            "max_height": null,
            "max_width": null,
            "min_height": null,
            "min_width": null,
            "object_fit": null,
            "object_position": null,
            "order": null,
            "overflow": null,
            "overflow_x": null,
            "overflow_y": null,
            "padding": null,
            "right": null,
            "top": null,
            "visibility": null,
            "width": null
          }
        },
        "8ffdacd7a0504101b878e9356e060c84": {
          "model_module": "@jupyter-widgets/controls",
          "model_module_version": "1.5.0",
          "model_name": "FloatProgressModel",
          "state": {
            "_dom_classes": [],
            "_model_module": "@jupyter-widgets/controls",
            "_model_module_version": "1.5.0",
            "_model_name": "FloatProgressModel",
            "_view_count": null,
            "_view_module": "@jupyter-widgets/controls",
            "_view_module_version": "1.5.0",
            "_view_name": "ProgressView",
            "bar_style": "success",
            "description": "",
            "description_tooltip": null,
            "layout": "IPY_MODEL_20cacc9945714517a59b383fdf55119d",
            "max": 179,
            "min": 0,
            "orientation": "horizontal",
            "style": "IPY_MODEL_a14025fb303042ea8c105be815e8c87d",
            "value": 179
          }
        },
        "91aebe0a678344da90617b6198d5dc26": {
          "model_module": "@jupyter-widgets/base",
          "model_module_version": "1.2.0",
          "model_name": "LayoutModel",
          "state": {
            "_model_module": "@jupyter-widgets/base",
            "_model_module_version": "1.2.0",
            "_model_name": "LayoutModel",
            "_view_count": null,
            "_view_module": "@jupyter-widgets/base",
            "_view_module_version": "1.2.0",
            "_view_name": "LayoutView",
            "align_content": null,
            "align_items": null,
            "align_self": null,
            "border": null,
            "bottom": null,
            "display": null,
            "flex": null,
            "flex_flow": null,
            "grid_area": null,
            "grid_auto_columns": null,
            "grid_auto_flow": null,
            "grid_auto_rows": null,
            "grid_column": null,
            "grid_gap": null,
            "grid_row": null,
            "grid_template_areas": null,
            "grid_template_columns": null,
            "grid_template_rows": null,
            "height": null,
            "justify_content": null,
            "justify_items": null,
            "left": null,
            "margin": null,
            "max_height": null,
            "max_width": null,
            "min_height": null,
            "min_width": null,
            "object_fit": null,
            "object_position": null,
            "order": null,
            "overflow": null,
            "overflow_x": null,
            "overflow_y": null,
            "padding": null,
            "right": null,
            "top": null,
            "visibility": null,
            "width": null
          }
        },
        "92387edcdb33449195ecd0462dbe0548": {
          "model_module": "@jupyter-widgets/controls",
          "model_module_version": "1.5.0",
          "model_name": "HTMLModel",
          "state": {
            "_dom_classes": [],
            "_model_module": "@jupyter-widgets/controls",
            "_model_module_version": "1.5.0",
            "_model_name": "HTMLModel",
            "_view_count": null,
            "_view_module": "@jupyter-widgets/controls",
            "_view_module_version": "1.5.0",
            "_view_name": "HTMLView",
            "description": "",
            "description_tooltip": null,
            "layout": "IPY_MODEL_2e0bfe69d3204a16a673dd907cfd0948",
            "placeholder": "​",
            "style": "IPY_MODEL_f23e3a9aeb9e42408ff62ab98d1f55b3",
            "value": " 714M/714M [00:44&lt;00:00, 17.9MB/s]"
          }
        },
        "92a0b465213048adb92f017f5e253a8d": {
          "model_module": "@jupyter-widgets/base",
          "model_module_version": "1.2.0",
          "model_name": "LayoutModel",
          "state": {
            "_model_module": "@jupyter-widgets/base",
            "_model_module_version": "1.2.0",
            "_model_name": "LayoutModel",
            "_view_count": null,
            "_view_module": "@jupyter-widgets/base",
            "_view_module_version": "1.2.0",
            "_view_name": "LayoutView",
            "align_content": null,
            "align_items": null,
            "align_self": null,
            "border": null,
            "bottom": null,
            "display": null,
            "flex": null,
            "flex_flow": null,
            "grid_area": null,
            "grid_auto_columns": null,
            "grid_auto_flow": null,
            "grid_auto_rows": null,
            "grid_column": null,
            "grid_gap": null,
            "grid_row": null,
            "grid_template_areas": null,
            "grid_template_columns": null,
            "grid_template_rows": null,
            "height": null,
            "justify_content": null,
            "justify_items": null,
            "left": null,
            "margin": null,
            "max_height": null,
            "max_width": null,
            "min_height": null,
            "min_width": null,
            "object_fit": null,
            "object_position": null,
            "order": null,
            "overflow": null,
            "overflow_x": null,
            "overflow_y": null,
            "padding": null,
            "right": null,
            "top": null,
            "visibility": null,
            "width": null
          }
        },
        "92dd99aa0f694075ae74c689a0395833": {
          "model_module": "@jupyter-widgets/controls",
          "model_module_version": "1.5.0",
          "model_name": "ProgressStyleModel",
          "state": {
            "_model_module": "@jupyter-widgets/controls",
            "_model_module_version": "1.5.0",
            "_model_name": "ProgressStyleModel",
            "_view_count": null,
            "_view_module": "@jupyter-widgets/base",
            "_view_module_version": "1.2.0",
            "_view_name": "StyleView",
            "bar_color": null,
            "description_width": ""
          }
        },
        "93236b1ad4ee45cfaee3a896e7818220": {
          "model_module": "@jupyter-widgets/base",
          "model_module_version": "1.2.0",
          "model_name": "LayoutModel",
          "state": {
            "_model_module": "@jupyter-widgets/base",
            "_model_module_version": "1.2.0",
            "_model_name": "LayoutModel",
            "_view_count": null,
            "_view_module": "@jupyter-widgets/base",
            "_view_module_version": "1.2.0",
            "_view_name": "LayoutView",
            "align_content": null,
            "align_items": null,
            "align_self": null,
            "border": null,
            "bottom": null,
            "display": null,
            "flex": null,
            "flex_flow": null,
            "grid_area": null,
            "grid_auto_columns": null,
            "grid_auto_flow": null,
            "grid_auto_rows": null,
            "grid_column": null,
            "grid_gap": null,
            "grid_row": null,
            "grid_template_areas": null,
            "grid_template_columns": null,
            "grid_template_rows": null,
            "height": null,
            "justify_content": null,
            "justify_items": null,
            "left": null,
            "margin": null,
            "max_height": null,
            "max_width": null,
            "min_height": null,
            "min_width": null,
            "object_fit": null,
            "object_position": null,
            "order": null,
            "overflow": null,
            "overflow_x": null,
            "overflow_y": null,
            "padding": null,
            "right": null,
            "top": null,
            "visibility": null,
            "width": null
          }
        },
        "933dc881009f4f02b32a39512cedcc9d": {
          "model_module": "@jupyter-widgets/base",
          "model_module_version": "1.2.0",
          "model_name": "LayoutModel",
          "state": {
            "_model_module": "@jupyter-widgets/base",
            "_model_module_version": "1.2.0",
            "_model_name": "LayoutModel",
            "_view_count": null,
            "_view_module": "@jupyter-widgets/base",
            "_view_module_version": "1.2.0",
            "_view_name": "LayoutView",
            "align_content": null,
            "align_items": null,
            "align_self": null,
            "border": null,
            "bottom": null,
            "display": null,
            "flex": null,
            "flex_flow": null,
            "grid_area": null,
            "grid_auto_columns": null,
            "grid_auto_flow": null,
            "grid_auto_rows": null,
            "grid_column": null,
            "grid_gap": null,
            "grid_row": null,
            "grid_template_areas": null,
            "grid_template_columns": null,
            "grid_template_rows": null,
            "height": null,
            "justify_content": null,
            "justify_items": null,
            "left": null,
            "margin": null,
            "max_height": null,
            "max_width": null,
            "min_height": null,
            "min_width": null,
            "object_fit": null,
            "object_position": null,
            "order": null,
            "overflow": null,
            "overflow_x": null,
            "overflow_y": null,
            "padding": null,
            "right": null,
            "top": null,
            "visibility": null,
            "width": null
          }
        },
        "94333c0f0f874d278e58f4350eabf5aa": {
          "model_module": "@jupyter-widgets/controls",
          "model_module_version": "1.5.0",
          "model_name": "HBoxModel",
          "state": {
            "_dom_classes": [],
            "_model_module": "@jupyter-widgets/controls",
            "_model_module_version": "1.5.0",
            "_model_name": "HBoxModel",
            "_view_count": null,
            "_view_module": "@jupyter-widgets/controls",
            "_view_module_version": "1.5.0",
            "_view_name": "HBoxView",
            "box_style": "",
            "children": [
              "IPY_MODEL_8659f182f1a743fabd5ac58c22f9f75b",
              "IPY_MODEL_141a4d4182af486f98da309dc7322d5f",
              "IPY_MODEL_e43ca7b60c5e4ed692ed3ac885ff8f05"
            ],
            "layout": "IPY_MODEL_0604244d9fa149c0a9386297194c72b4"
          }
        },
        "94d8e9db6d8145fea83002449eb1e5f7": {
          "model_module": "@jupyter-widgets/controls",
          "model_module_version": "1.5.0",
          "model_name": "DescriptionStyleModel",
          "state": {
            "_model_module": "@jupyter-widgets/controls",
            "_model_module_version": "1.5.0",
            "_model_name": "DescriptionStyleModel",
            "_view_count": null,
            "_view_module": "@jupyter-widgets/base",
            "_view_module_version": "1.2.0",
            "_view_name": "StyleView",
            "description_width": ""
          }
        },
        "96b9553bae6b429a95643b0ecaccf31b": {
          "model_module": "@jupyter-widgets/base",
          "model_module_version": "1.2.0",
          "model_name": "LayoutModel",
          "state": {
            "_model_module": "@jupyter-widgets/base",
            "_model_module_version": "1.2.0",
            "_model_name": "LayoutModel",
            "_view_count": null,
            "_view_module": "@jupyter-widgets/base",
            "_view_module_version": "1.2.0",
            "_view_name": "LayoutView",
            "align_content": null,
            "align_items": null,
            "align_self": null,
            "border": null,
            "bottom": null,
            "display": null,
            "flex": null,
            "flex_flow": null,
            "grid_area": null,
            "grid_auto_columns": null,
            "grid_auto_flow": null,
            "grid_auto_rows": null,
            "grid_column": null,
            "grid_gap": null,
            "grid_row": null,
            "grid_template_areas": null,
            "grid_template_columns": null,
            "grid_template_rows": null,
            "height": null,
            "justify_content": null,
            "justify_items": null,
            "left": null,
            "margin": null,
            "max_height": null,
            "max_width": null,
            "min_height": null,
            "min_width": null,
            "object_fit": null,
            "object_position": null,
            "order": null,
            "overflow": null,
            "overflow_x": null,
            "overflow_y": null,
            "padding": null,
            "right": null,
            "top": null,
            "visibility": null,
            "width": null
          }
        },
        "96e4e5d0d95f4465accba39608fdb176": {
          "model_module": "@jupyter-widgets/controls",
          "model_module_version": "1.5.0",
          "model_name": "DescriptionStyleModel",
          "state": {
            "_model_module": "@jupyter-widgets/controls",
            "_model_module_version": "1.5.0",
            "_model_name": "DescriptionStyleModel",
            "_view_count": null,
            "_view_module": "@jupyter-widgets/base",
            "_view_module_version": "1.2.0",
            "_view_name": "StyleView",
            "description_width": ""
          }
        },
        "9757e7bf895a4281a8f9b7643e353660": {
          "model_module": "@jupyter-widgets/base",
          "model_module_version": "1.2.0",
          "model_name": "LayoutModel",
          "state": {
            "_model_module": "@jupyter-widgets/base",
            "_model_module_version": "1.2.0",
            "_model_name": "LayoutModel",
            "_view_count": null,
            "_view_module": "@jupyter-widgets/base",
            "_view_module_version": "1.2.0",
            "_view_name": "LayoutView",
            "align_content": null,
            "align_items": null,
            "align_self": null,
            "border": null,
            "bottom": null,
            "display": null,
            "flex": null,
            "flex_flow": null,
            "grid_area": null,
            "grid_auto_columns": null,
            "grid_auto_flow": null,
            "grid_auto_rows": null,
            "grid_column": null,
            "grid_gap": null,
            "grid_row": null,
            "grid_template_areas": null,
            "grid_template_columns": null,
            "grid_template_rows": null,
            "height": null,
            "justify_content": null,
            "justify_items": null,
            "left": null,
            "margin": null,
            "max_height": null,
            "max_width": null,
            "min_height": null,
            "min_width": null,
            "object_fit": null,
            "object_position": null,
            "order": null,
            "overflow": null,
            "overflow_x": null,
            "overflow_y": null,
            "padding": null,
            "right": null,
            "top": null,
            "visibility": null,
            "width": null
          }
        },
        "97b2761221ac4235bd89c1dccdf6ae61": {
          "model_module": "@jupyter-widgets/controls",
          "model_module_version": "1.5.0",
          "model_name": "HTMLModel",
          "state": {
            "_dom_classes": [],
            "_model_module": "@jupyter-widgets/controls",
            "_model_module_version": "1.5.0",
            "_model_name": "HTMLModel",
            "_view_count": null,
            "_view_module": "@jupyter-widgets/controls",
            "_view_module_version": "1.5.0",
            "_view_name": "HTMLView",
            "description": "",
            "description_tooltip": null,
            "layout": "IPY_MODEL_3d4cb68e68664c8a8db44afc2b787cc6",
            "placeholder": "​",
            "style": "IPY_MODEL_e9d019f8297c489b8699b16859ec21b1",
            "value": " 179/179 [01:08&lt;00:00,  3.27it/s]"
          }
        },
        "9a54b764824c4fe6946eae514c78d7ba": {
          "model_module": "@jupyter-widgets/controls",
          "model_module_version": "1.5.0",
          "model_name": "ProgressStyleModel",
          "state": {
            "_model_module": "@jupyter-widgets/controls",
            "_model_module_version": "1.5.0",
            "_model_name": "ProgressStyleModel",
            "_view_count": null,
            "_view_module": "@jupyter-widgets/base",
            "_view_module_version": "1.2.0",
            "_view_name": "StyleView",
            "bar_color": null,
            "description_width": ""
          }
        },
        "9a64f60bd862482b87868bc502d902c7": {
          "model_module": "@jupyter-widgets/controls",
          "model_module_version": "1.5.0",
          "model_name": "DescriptionStyleModel",
          "state": {
            "_model_module": "@jupyter-widgets/controls",
            "_model_module_version": "1.5.0",
            "_model_name": "DescriptionStyleModel",
            "_view_count": null,
            "_view_module": "@jupyter-widgets/base",
            "_view_module_version": "1.2.0",
            "_view_name": "StyleView",
            "description_width": ""
          }
        },
        "9b2e35e1e126418da70eb6eb1de3039d": {
          "model_module": "@jupyter-widgets/base",
          "model_module_version": "1.2.0",
          "model_name": "LayoutModel",
          "state": {
            "_model_module": "@jupyter-widgets/base",
            "_model_module_version": "1.2.0",
            "_model_name": "LayoutModel",
            "_view_count": null,
            "_view_module": "@jupyter-widgets/base",
            "_view_module_version": "1.2.0",
            "_view_name": "LayoutView",
            "align_content": null,
            "align_items": null,
            "align_self": null,
            "border": null,
            "bottom": null,
            "display": null,
            "flex": null,
            "flex_flow": null,
            "grid_area": null,
            "grid_auto_columns": null,
            "grid_auto_flow": null,
            "grid_auto_rows": null,
            "grid_column": null,
            "grid_gap": null,
            "grid_row": null,
            "grid_template_areas": null,
            "grid_template_columns": null,
            "grid_template_rows": null,
            "height": null,
            "justify_content": null,
            "justify_items": null,
            "left": null,
            "margin": null,
            "max_height": null,
            "max_width": null,
            "min_height": null,
            "min_width": null,
            "object_fit": null,
            "object_position": null,
            "order": null,
            "overflow": null,
            "overflow_x": null,
            "overflow_y": null,
            "padding": null,
            "right": null,
            "top": null,
            "visibility": null,
            "width": null
          }
        },
        "9b8997b333394b24b6f42d042bebdb23": {
          "model_module": "@jupyter-widgets/controls",
          "model_module_version": "1.5.0",
          "model_name": "ProgressStyleModel",
          "state": {
            "_model_module": "@jupyter-widgets/controls",
            "_model_module_version": "1.5.0",
            "_model_name": "ProgressStyleModel",
            "_view_count": null,
            "_view_module": "@jupyter-widgets/base",
            "_view_module_version": "1.2.0",
            "_view_name": "StyleView",
            "bar_color": null,
            "description_width": ""
          }
        },
        "9c28b8e510bc4e6fb156836871bd4a63": {
          "model_module": "@jupyter-widgets/controls",
          "model_module_version": "1.5.0",
          "model_name": "HBoxModel",
          "state": {
            "_dom_classes": [],
            "_model_module": "@jupyter-widgets/controls",
            "_model_module_version": "1.5.0",
            "_model_name": "HBoxModel",
            "_view_count": null,
            "_view_module": "@jupyter-widgets/controls",
            "_view_module_version": "1.5.0",
            "_view_name": "HBoxView",
            "box_style": "",
            "children": [
              "IPY_MODEL_66de89ff76a947d39d63b654a18bf02e",
              "IPY_MODEL_e84dfb1cdde84c49aafece3a2bd3dc0e",
              "IPY_MODEL_40ecf08a350a49999dc777e757475958"
            ],
            "layout": "IPY_MODEL_9eaa85549db04e51a0aca6e570a1d425"
          }
        },
        "9cad87fd041b4b84a72e6d6a7770f53b": {
          "model_module": "@jupyter-widgets/base",
          "model_module_version": "1.2.0",
          "model_name": "LayoutModel",
          "state": {
            "_model_module": "@jupyter-widgets/base",
            "_model_module_version": "1.2.0",
            "_model_name": "LayoutModel",
            "_view_count": null,
            "_view_module": "@jupyter-widgets/base",
            "_view_module_version": "1.2.0",
            "_view_name": "LayoutView",
            "align_content": null,
            "align_items": null,
            "align_self": null,
            "border": null,
            "bottom": null,
            "display": null,
            "flex": null,
            "flex_flow": null,
            "grid_area": null,
            "grid_auto_columns": null,
            "grid_auto_flow": null,
            "grid_auto_rows": null,
            "grid_column": null,
            "grid_gap": null,
            "grid_row": null,
            "grid_template_areas": null,
            "grid_template_columns": null,
            "grid_template_rows": null,
            "height": null,
            "justify_content": null,
            "justify_items": null,
            "left": null,
            "margin": null,
            "max_height": null,
            "max_width": null,
            "min_height": null,
            "min_width": null,
            "object_fit": null,
            "object_position": null,
            "order": null,
            "overflow": null,
            "overflow_x": null,
            "overflow_y": null,
            "padding": null,
            "right": null,
            "top": null,
            "visibility": null,
            "width": null
          }
        },
        "9cb514b09f7340be83be40a24e1ffe26": {
          "model_module": "@jupyter-widgets/base",
          "model_module_version": "1.2.0",
          "model_name": "LayoutModel",
          "state": {
            "_model_module": "@jupyter-widgets/base",
            "_model_module_version": "1.2.0",
            "_model_name": "LayoutModel",
            "_view_count": null,
            "_view_module": "@jupyter-widgets/base",
            "_view_module_version": "1.2.0",
            "_view_name": "LayoutView",
            "align_content": null,
            "align_items": null,
            "align_self": null,
            "border": null,
            "bottom": null,
            "display": null,
            "flex": null,
            "flex_flow": null,
            "grid_area": null,
            "grid_auto_columns": null,
            "grid_auto_flow": null,
            "grid_auto_rows": null,
            "grid_column": null,
            "grid_gap": null,
            "grid_row": null,
            "grid_template_areas": null,
            "grid_template_columns": null,
            "grid_template_rows": null,
            "height": null,
            "justify_content": null,
            "justify_items": null,
            "left": null,
            "margin": null,
            "max_height": null,
            "max_width": null,
            "min_height": null,
            "min_width": null,
            "object_fit": null,
            "object_position": null,
            "order": null,
            "overflow": null,
            "overflow_x": null,
            "overflow_y": null,
            "padding": null,
            "right": null,
            "top": null,
            "visibility": null,
            "width": null
          }
        },
        "9d155d9c5aef4e3cb546bb044af4ff1c": {
          "model_module": "@jupyter-widgets/controls",
          "model_module_version": "1.5.0",
          "model_name": "HBoxModel",
          "state": {
            "_dom_classes": [],
            "_model_module": "@jupyter-widgets/controls",
            "_model_module_version": "1.5.0",
            "_model_name": "HBoxModel",
            "_view_count": null,
            "_view_module": "@jupyter-widgets/controls",
            "_view_module_version": "1.5.0",
            "_view_name": "HBoxView",
            "box_style": "",
            "children": [
              "IPY_MODEL_2ecf857bef024e9c8789101ff2600801",
              "IPY_MODEL_348abf79b85547969740eb47f3b9a593",
              "IPY_MODEL_a061d156b69042ed8494531b7a00f6d6"
            ],
            "layout": "IPY_MODEL_62bea4e66b9f4790b679762ff2edd089"
          }
        },
        "9e11f81dce5240f0b7f8fbce786f2c0d": {
          "model_module": "@jupyter-widgets/controls",
          "model_module_version": "1.5.0",
          "model_name": "FloatProgressModel",
          "state": {
            "_dom_classes": [],
            "_model_module": "@jupyter-widgets/controls",
            "_model_module_version": "1.5.0",
            "_model_name": "FloatProgressModel",
            "_view_count": null,
            "_view_module": "@jupyter-widgets/controls",
            "_view_module_version": "1.5.0",
            "_view_name": "ProgressView",
            "bar_style": "danger",
            "description": "",
            "description_tooltip": null,
            "layout": "IPY_MODEL_0eafa8a6366e4b3b948308f39bf316af",
            "max": 186,
            "min": 0,
            "orientation": "horizontal",
            "style": "IPY_MODEL_e49f8e7df4404c3e8199c50fef902dc5",
            "value": 0
          }
        },
        "9eaa85549db04e51a0aca6e570a1d425": {
          "model_module": "@jupyter-widgets/base",
          "model_module_version": "1.2.0",
          "model_name": "LayoutModel",
          "state": {
            "_model_module": "@jupyter-widgets/base",
            "_model_module_version": "1.2.0",
            "_model_name": "LayoutModel",
            "_view_count": null,
            "_view_module": "@jupyter-widgets/base",
            "_view_module_version": "1.2.0",
            "_view_name": "LayoutView",
            "align_content": null,
            "align_items": null,
            "align_self": null,
            "border": null,
            "bottom": null,
            "display": null,
            "flex": null,
            "flex_flow": null,
            "grid_area": null,
            "grid_auto_columns": null,
            "grid_auto_flow": null,
            "grid_auto_rows": null,
            "grid_column": null,
            "grid_gap": null,
            "grid_row": null,
            "grid_template_areas": null,
            "grid_template_columns": null,
            "grid_template_rows": null,
            "height": null,
            "justify_content": null,
            "justify_items": null,
            "left": null,
            "margin": null,
            "max_height": null,
            "max_width": null,
            "min_height": null,
            "min_width": null,
            "object_fit": null,
            "object_position": null,
            "order": null,
            "overflow": null,
            "overflow_x": null,
            "overflow_y": null,
            "padding": null,
            "right": null,
            "top": null,
            "visibility": null,
            "width": null
          }
        },
        "9eb90160959f4144ba9abf388878166c": {
          "model_module": "@jupyter-widgets/controls",
          "model_module_version": "1.5.0",
          "model_name": "DescriptionStyleModel",
          "state": {
            "_model_module": "@jupyter-widgets/controls",
            "_model_module_version": "1.5.0",
            "_model_name": "DescriptionStyleModel",
            "_view_count": null,
            "_view_module": "@jupyter-widgets/base",
            "_view_module_version": "1.2.0",
            "_view_name": "StyleView",
            "description_width": ""
          }
        },
        "9fa44a46bda5411d97a163cfa4ab4df5": {
          "model_module": "@jupyter-widgets/controls",
          "model_module_version": "1.5.0",
          "model_name": "ProgressStyleModel",
          "state": {
            "_model_module": "@jupyter-widgets/controls",
            "_model_module_version": "1.5.0",
            "_model_name": "ProgressStyleModel",
            "_view_count": null,
            "_view_module": "@jupyter-widgets/base",
            "_view_module_version": "1.2.0",
            "_view_name": "StyleView",
            "bar_color": null,
            "description_width": ""
          }
        },
        "a061d156b69042ed8494531b7a00f6d6": {
          "model_module": "@jupyter-widgets/controls",
          "model_module_version": "1.5.0",
          "model_name": "HTMLModel",
          "state": {
            "_dom_classes": [],
            "_model_module": "@jupyter-widgets/controls",
            "_model_module_version": "1.5.0",
            "_model_name": "HTMLModel",
            "_view_count": null,
            "_view_module": "@jupyter-widgets/controls",
            "_view_module_version": "1.5.0",
            "_view_name": "HTMLView",
            "description": "",
            "description_tooltip": null,
            "layout": "IPY_MODEL_a4a2d311ffd84284b8b4b1b883846025",
            "placeholder": "​",
            "style": "IPY_MODEL_024f39f732424a79b9dd7d26600ffeb6",
            "value": " 77/77 [00:09&lt;00:00,  7.77it/s]"
          }
        },
        "a0f4c6c863694cd19169be78298c659f": {
          "model_module": "@jupyter-widgets/controls",
          "model_module_version": "1.5.0",
          "model_name": "HTMLModel",
          "state": {
            "_dom_classes": [],
            "_model_module": "@jupyter-widgets/controls",
            "_model_module_version": "1.5.0",
            "_model_name": "HTMLModel",
            "_view_count": null,
            "_view_module": "@jupyter-widgets/controls",
            "_view_module_version": "1.5.0",
            "_view_name": "HTMLView",
            "description": "",
            "description_tooltip": null,
            "layout": "IPY_MODEL_7e56382d6596473ba960c45d27c2f68d",
            "placeholder": "​",
            "style": "IPY_MODEL_b561d35c14b240ab8e1d526461a135d9",
            "value": "Downloading: 100%"
          }
        },
        "a14025fb303042ea8c105be815e8c87d": {
          "model_module": "@jupyter-widgets/controls",
          "model_module_version": "1.5.0",
          "model_name": "ProgressStyleModel",
          "state": {
            "_model_module": "@jupyter-widgets/controls",
            "_model_module_version": "1.5.0",
            "_model_name": "ProgressStyleModel",
            "_view_count": null,
            "_view_module": "@jupyter-widgets/base",
            "_view_module_version": "1.2.0",
            "_view_name": "StyleView",
            "bar_color": null,
            "description_width": ""
          }
        },
        "a1b07b3839af40a6a3ca14a956b31cc3": {
          "model_module": "@jupyter-widgets/controls",
          "model_module_version": "1.5.0",
          "model_name": "HTMLModel",
          "state": {
            "_dom_classes": [],
            "_model_module": "@jupyter-widgets/controls",
            "_model_module_version": "1.5.0",
            "_model_name": "HTMLModel",
            "_view_count": null,
            "_view_module": "@jupyter-widgets/controls",
            "_view_module_version": "1.5.0",
            "_view_name": "HTMLView",
            "description": "",
            "description_tooltip": null,
            "layout": "IPY_MODEL_1a86df6494784b39b044f2bef571b666",
            "placeholder": "​",
            "style": "IPY_MODEL_11827c7f99e74c20a78118439c305ea1",
            "value": "  0%"
          }
        },
        "a1d965d5ad574d66b3aee18dbb414015": {
          "model_module": "@jupyter-widgets/base",
          "model_module_version": "1.2.0",
          "model_name": "LayoutModel",
          "state": {
            "_model_module": "@jupyter-widgets/base",
            "_model_module_version": "1.2.0",
            "_model_name": "LayoutModel",
            "_view_count": null,
            "_view_module": "@jupyter-widgets/base",
            "_view_module_version": "1.2.0",
            "_view_name": "LayoutView",
            "align_content": null,
            "align_items": null,
            "align_self": null,
            "border": null,
            "bottom": null,
            "display": null,
            "flex": null,
            "flex_flow": null,
            "grid_area": null,
            "grid_auto_columns": null,
            "grid_auto_flow": null,
            "grid_auto_rows": null,
            "grid_column": null,
            "grid_gap": null,
            "grid_row": null,
            "grid_template_areas": null,
            "grid_template_columns": null,
            "grid_template_rows": null,
            "height": null,
            "justify_content": null,
            "justify_items": null,
            "left": null,
            "margin": null,
            "max_height": null,
            "max_width": null,
            "min_height": null,
            "min_width": null,
            "object_fit": null,
            "object_position": null,
            "order": null,
            "overflow": null,
            "overflow_x": null,
            "overflow_y": null,
            "padding": null,
            "right": null,
            "top": null,
            "visibility": null,
            "width": null
          }
        },
        "a2c4f3b7acd2422ba3f8e0231cbf4dc4": {
          "model_module": "@jupyter-widgets/base",
          "model_module_version": "1.2.0",
          "model_name": "LayoutModel",
          "state": {
            "_model_module": "@jupyter-widgets/base",
            "_model_module_version": "1.2.0",
            "_model_name": "LayoutModel",
            "_view_count": null,
            "_view_module": "@jupyter-widgets/base",
            "_view_module_version": "1.2.0",
            "_view_name": "LayoutView",
            "align_content": null,
            "align_items": null,
            "align_self": null,
            "border": null,
            "bottom": null,
            "display": null,
            "flex": null,
            "flex_flow": null,
            "grid_area": null,
            "grid_auto_columns": null,
            "grid_auto_flow": null,
            "grid_auto_rows": null,
            "grid_column": null,
            "grid_gap": null,
            "grid_row": null,
            "grid_template_areas": null,
            "grid_template_columns": null,
            "grid_template_rows": null,
            "height": null,
            "justify_content": null,
            "justify_items": null,
            "left": null,
            "margin": null,
            "max_height": null,
            "max_width": null,
            "min_height": null,
            "min_width": null,
            "object_fit": null,
            "object_position": null,
            "order": null,
            "overflow": null,
            "overflow_x": null,
            "overflow_y": null,
            "padding": null,
            "right": null,
            "top": null,
            "visibility": null,
            "width": null
          }
        },
        "a2c9112cf6ee439a97fe95a51ded8f15": {
          "model_module": "@jupyter-widgets/controls",
          "model_module_version": "1.5.0",
          "model_name": "FloatProgressModel",
          "state": {
            "_dom_classes": [],
            "_model_module": "@jupyter-widgets/controls",
            "_model_module_version": "1.5.0",
            "_model_name": "FloatProgressModel",
            "_view_count": null,
            "_view_module": "@jupyter-widgets/controls",
            "_view_module_version": "1.5.0",
            "_view_name": "ProgressView",
            "bar_style": "success",
            "description": "",
            "description_tooltip": null,
            "layout": "IPY_MODEL_b49b228183c24f239d3ed6d370e70790",
            "max": 77,
            "min": 0,
            "orientation": "horizontal",
            "style": "IPY_MODEL_0f2b2c012f8c4a05a1bb9da1f59bae40",
            "value": 77
          }
        },
        "a2e24f0f109a4ceab331f9a9f05d8dce": {
          "model_module": "@jupyter-widgets/controls",
          "model_module_version": "1.5.0",
          "model_name": "HTMLModel",
          "state": {
            "_dom_classes": [],
            "_model_module": "@jupyter-widgets/controls",
            "_model_module_version": "1.5.0",
            "_model_name": "HTMLModel",
            "_view_count": null,
            "_view_module": "@jupyter-widgets/controls",
            "_view_module_version": "1.5.0",
            "_view_name": "HTMLView",
            "description": "",
            "description_tooltip": null,
            "layout": "IPY_MODEL_b71be879498b471e9b77059ebfb5e3a3",
            "placeholder": "​",
            "style": "IPY_MODEL_fda78f8b5ac84b0b8eccc6375bec0d35",
            "value": "100%"
          }
        },
        "a480b3f05ac24ab1ad7e81fde89b0dc5": {
          "model_module": "@jupyter-widgets/controls",
          "model_module_version": "1.5.0",
          "model_name": "HBoxModel",
          "state": {
            "_dom_classes": [],
            "_model_module": "@jupyter-widgets/controls",
            "_model_module_version": "1.5.0",
            "_model_name": "HBoxModel",
            "_view_count": null,
            "_view_module": "@jupyter-widgets/controls",
            "_view_module_version": "1.5.0",
            "_view_name": "HBoxView",
            "box_style": "",
            "children": [
              "IPY_MODEL_75c8fc4bd26344548ef3896e69bfddde",
              "IPY_MODEL_d3d60d4f5b9042bd8e4e82653b3d0902",
              "IPY_MODEL_89fc330a6a6747e88ae46d06b7c543bf"
            ],
            "layout": "IPY_MODEL_120a4d06e7e24a66b2387220ac64318f"
          }
        },
        "a4a2d311ffd84284b8b4b1b883846025": {
          "model_module": "@jupyter-widgets/base",
          "model_module_version": "1.2.0",
          "model_name": "LayoutModel",
          "state": {
            "_model_module": "@jupyter-widgets/base",
            "_model_module_version": "1.2.0",
            "_model_name": "LayoutModel",
            "_view_count": null,
            "_view_module": "@jupyter-widgets/base",
            "_view_module_version": "1.2.0",
            "_view_name": "LayoutView",
            "align_content": null,
            "align_items": null,
            "align_self": null,
            "border": null,
            "bottom": null,
            "display": null,
            "flex": null,
            "flex_flow": null,
            "grid_area": null,
            "grid_auto_columns": null,
            "grid_auto_flow": null,
            "grid_auto_rows": null,
            "grid_column": null,
            "grid_gap": null,
            "grid_row": null,
            "grid_template_areas": null,
            "grid_template_columns": null,
            "grid_template_rows": null,
            "height": null,
            "justify_content": null,
            "justify_items": null,
            "left": null,
            "margin": null,
            "max_height": null,
            "max_width": null,
            "min_height": null,
            "min_width": null,
            "object_fit": null,
            "object_position": null,
            "order": null,
            "overflow": null,
            "overflow_x": null,
            "overflow_y": null,
            "padding": null,
            "right": null,
            "top": null,
            "visibility": null,
            "width": null
          }
        },
        "a53b2cd4d82243558cfe95b5af01aafc": {
          "model_module": "@jupyter-widgets/controls",
          "model_module_version": "1.5.0",
          "model_name": "HTMLModel",
          "state": {
            "_dom_classes": [],
            "_model_module": "@jupyter-widgets/controls",
            "_model_module_version": "1.5.0",
            "_model_name": "HTMLModel",
            "_view_count": null,
            "_view_module": "@jupyter-widgets/controls",
            "_view_module_version": "1.5.0",
            "_view_name": "HTMLView",
            "description": "",
            "description_tooltip": null,
            "layout": "IPY_MODEL_87b6224affe04726b809305a71408b6a",
            "placeholder": "​",
            "style": "IPY_MODEL_b6843d66c1bb4b5681e2461e02676ccd",
            "value": " 77/77 [00:09&lt;00:00,  7.79it/s]"
          }
        },
        "a70fc06c765c4724839f44c92a2d204d": {
          "model_module": "@jupyter-widgets/controls",
          "model_module_version": "1.5.0",
          "model_name": "FloatProgressModel",
          "state": {
            "_dom_classes": [],
            "_model_module": "@jupyter-widgets/controls",
            "_model_module_version": "1.5.0",
            "_model_name": "FloatProgressModel",
            "_view_count": null,
            "_view_module": "@jupyter-widgets/controls",
            "_view_module_version": "1.5.0",
            "_view_name": "ProgressView",
            "bar_style": "success",
            "description": "",
            "description_tooltip": null,
            "layout": "IPY_MODEL_9757e7bf895a4281a8f9b7643e353660",
            "max": 625,
            "min": 0,
            "orientation": "horizontal",
            "style": "IPY_MODEL_92dd99aa0f694075ae74c689a0395833",
            "value": 625
          }
        },
        "a7d0ba96c74c44bf8abe6d7570595ea1": {
          "model_module": "@jupyter-widgets/controls",
          "model_module_version": "1.5.0",
          "model_name": "HTMLModel",
          "state": {
            "_dom_classes": [],
            "_model_module": "@jupyter-widgets/controls",
            "_model_module_version": "1.5.0",
            "_model_name": "HTMLModel",
            "_view_count": null,
            "_view_module": "@jupyter-widgets/controls",
            "_view_module_version": "1.5.0",
            "_view_name": "HTMLView",
            "description": "",
            "description_tooltip": null,
            "layout": "IPY_MODEL_d8421ce969e046dbbdc679cf293ff7dc",
            "placeholder": "​",
            "style": "IPY_MODEL_96e4e5d0d95f4465accba39608fdb176",
            "value": " 77/77 [00:09&lt;00:00,  7.71it/s]"
          }
        },
        "a7d11158f01d4c4e99d390d537755cac": {
          "model_module": "@jupyter-widgets/base",
          "model_module_version": "1.2.0",
          "model_name": "LayoutModel",
          "state": {
            "_model_module": "@jupyter-widgets/base",
            "_model_module_version": "1.2.0",
            "_model_name": "LayoutModel",
            "_view_count": null,
            "_view_module": "@jupyter-widgets/base",
            "_view_module_version": "1.2.0",
            "_view_name": "LayoutView",
            "align_content": null,
            "align_items": null,
            "align_self": null,
            "border": null,
            "bottom": null,
            "display": null,
            "flex": null,
            "flex_flow": null,
            "grid_area": null,
            "grid_auto_columns": null,
            "grid_auto_flow": null,
            "grid_auto_rows": null,
            "grid_column": null,
            "grid_gap": null,
            "grid_row": null,
            "grid_template_areas": null,
            "grid_template_columns": null,
            "grid_template_rows": null,
            "height": null,
            "justify_content": null,
            "justify_items": null,
            "left": null,
            "margin": null,
            "max_height": null,
            "max_width": null,
            "min_height": null,
            "min_width": null,
            "object_fit": null,
            "object_position": null,
            "order": null,
            "overflow": null,
            "overflow_x": null,
            "overflow_y": null,
            "padding": null,
            "right": null,
            "top": null,
            "visibility": null,
            "width": null
          }
        },
        "a95bcbc585cf4b29967f115ab4654853": {
          "model_module": "@jupyter-widgets/base",
          "model_module_version": "1.2.0",
          "model_name": "LayoutModel",
          "state": {
            "_model_module": "@jupyter-widgets/base",
            "_model_module_version": "1.2.0",
            "_model_name": "LayoutModel",
            "_view_count": null,
            "_view_module": "@jupyter-widgets/base",
            "_view_module_version": "1.2.0",
            "_view_name": "LayoutView",
            "align_content": null,
            "align_items": null,
            "align_self": null,
            "border": null,
            "bottom": null,
            "display": null,
            "flex": null,
            "flex_flow": null,
            "grid_area": null,
            "grid_auto_columns": null,
            "grid_auto_flow": null,
            "grid_auto_rows": null,
            "grid_column": null,
            "grid_gap": null,
            "grid_row": null,
            "grid_template_areas": null,
            "grid_template_columns": null,
            "grid_template_rows": null,
            "height": null,
            "justify_content": null,
            "justify_items": null,
            "left": null,
            "margin": null,
            "max_height": null,
            "max_width": null,
            "min_height": null,
            "min_width": null,
            "object_fit": null,
            "object_position": null,
            "order": null,
            "overflow": null,
            "overflow_x": null,
            "overflow_y": null,
            "padding": null,
            "right": null,
            "top": null,
            "visibility": null,
            "width": null
          }
        },
        "a9c57f8332c14f538b3ee5c34c8d8de3": {
          "model_module": "@jupyter-widgets/base",
          "model_module_version": "1.2.0",
          "model_name": "LayoutModel",
          "state": {
            "_model_module": "@jupyter-widgets/base",
            "_model_module_version": "1.2.0",
            "_model_name": "LayoutModel",
            "_view_count": null,
            "_view_module": "@jupyter-widgets/base",
            "_view_module_version": "1.2.0",
            "_view_name": "LayoutView",
            "align_content": null,
            "align_items": null,
            "align_self": null,
            "border": null,
            "bottom": null,
            "display": null,
            "flex": null,
            "flex_flow": null,
            "grid_area": null,
            "grid_auto_columns": null,
            "grid_auto_flow": null,
            "grid_auto_rows": null,
            "grid_column": null,
            "grid_gap": null,
            "grid_row": null,
            "grid_template_areas": null,
            "grid_template_columns": null,
            "grid_template_rows": null,
            "height": null,
            "justify_content": null,
            "justify_items": null,
            "left": null,
            "margin": null,
            "max_height": null,
            "max_width": null,
            "min_height": null,
            "min_width": null,
            "object_fit": null,
            "object_position": null,
            "order": null,
            "overflow": null,
            "overflow_x": null,
            "overflow_y": null,
            "padding": null,
            "right": null,
            "top": null,
            "visibility": null,
            "width": null
          }
        },
        "aa94dd476c5d41a8b1e4e3291a2d13a1": {
          "model_module": "@jupyter-widgets/controls",
          "model_module_version": "1.5.0",
          "model_name": "ProgressStyleModel",
          "state": {
            "_model_module": "@jupyter-widgets/controls",
            "_model_module_version": "1.5.0",
            "_model_name": "ProgressStyleModel",
            "_view_count": null,
            "_view_module": "@jupyter-widgets/base",
            "_view_module_version": "1.2.0",
            "_view_name": "StyleView",
            "bar_color": null,
            "description_width": ""
          }
        },
        "ac1ca1220ee24283a7ef904c94d9d824": {
          "model_module": "@jupyter-widgets/controls",
          "model_module_version": "1.5.0",
          "model_name": "ProgressStyleModel",
          "state": {
            "_model_module": "@jupyter-widgets/controls",
            "_model_module_version": "1.5.0",
            "_model_name": "ProgressStyleModel",
            "_view_count": null,
            "_view_module": "@jupyter-widgets/base",
            "_view_module_version": "1.2.0",
            "_view_name": "StyleView",
            "bar_color": null,
            "description_width": ""
          }
        },
        "ac3b266065c1407c842b0028cf8b4707": {
          "model_module": "@jupyter-widgets/base",
          "model_module_version": "1.2.0",
          "model_name": "LayoutModel",
          "state": {
            "_model_module": "@jupyter-widgets/base",
            "_model_module_version": "1.2.0",
            "_model_name": "LayoutModel",
            "_view_count": null,
            "_view_module": "@jupyter-widgets/base",
            "_view_module_version": "1.2.0",
            "_view_name": "LayoutView",
            "align_content": null,
            "align_items": null,
            "align_self": null,
            "border": null,
            "bottom": null,
            "display": null,
            "flex": null,
            "flex_flow": null,
            "grid_area": null,
            "grid_auto_columns": null,
            "grid_auto_flow": null,
            "grid_auto_rows": null,
            "grid_column": null,
            "grid_gap": null,
            "grid_row": null,
            "grid_template_areas": null,
            "grid_template_columns": null,
            "grid_template_rows": null,
            "height": null,
            "justify_content": null,
            "justify_items": null,
            "left": null,
            "margin": null,
            "max_height": null,
            "max_width": null,
            "min_height": null,
            "min_width": null,
            "object_fit": null,
            "object_position": null,
            "order": null,
            "overflow": null,
            "overflow_x": null,
            "overflow_y": null,
            "padding": null,
            "right": null,
            "top": null,
            "visibility": null,
            "width": null
          }
        },
        "ac85df5f28094b0884eabe6e2dad8b2c": {
          "model_module": "@jupyter-widgets/controls",
          "model_module_version": "1.5.0",
          "model_name": "DescriptionStyleModel",
          "state": {
            "_model_module": "@jupyter-widgets/controls",
            "_model_module_version": "1.5.0",
            "_model_name": "DescriptionStyleModel",
            "_view_count": null,
            "_view_module": "@jupyter-widgets/base",
            "_view_module_version": "1.2.0",
            "_view_name": "StyleView",
            "description_width": ""
          }
        },
        "ad05971ead2e44e7863c7db2571a83c2": {
          "model_module": "@jupyter-widgets/controls",
          "model_module_version": "1.5.0",
          "model_name": "DescriptionStyleModel",
          "state": {
            "_model_module": "@jupyter-widgets/controls",
            "_model_module_version": "1.5.0",
            "_model_name": "DescriptionStyleModel",
            "_view_count": null,
            "_view_module": "@jupyter-widgets/base",
            "_view_module_version": "1.2.0",
            "_view_name": "StyleView",
            "description_width": ""
          }
        },
        "ad4860ff269844b0bc5ccdc201d5be8f": {
          "model_module": "@jupyter-widgets/controls",
          "model_module_version": "1.5.0",
          "model_name": "DescriptionStyleModel",
          "state": {
            "_model_module": "@jupyter-widgets/controls",
            "_model_module_version": "1.5.0",
            "_model_name": "DescriptionStyleModel",
            "_view_count": null,
            "_view_module": "@jupyter-widgets/base",
            "_view_module_version": "1.2.0",
            "_view_name": "StyleView",
            "description_width": ""
          }
        },
        "af3b59c47ab345108b8618a3d003985b": {
          "model_module": "@jupyter-widgets/controls",
          "model_module_version": "1.5.0",
          "model_name": "ProgressStyleModel",
          "state": {
            "_model_module": "@jupyter-widgets/controls",
            "_model_module_version": "1.5.0",
            "_model_name": "ProgressStyleModel",
            "_view_count": null,
            "_view_module": "@jupyter-widgets/base",
            "_view_module_version": "1.2.0",
            "_view_name": "StyleView",
            "bar_color": null,
            "description_width": ""
          }
        },
        "afc0c41df93044d496de8c658ff77d07": {
          "model_module": "@jupyter-widgets/base",
          "model_module_version": "1.2.0",
          "model_name": "LayoutModel",
          "state": {
            "_model_module": "@jupyter-widgets/base",
            "_model_module_version": "1.2.0",
            "_model_name": "LayoutModel",
            "_view_count": null,
            "_view_module": "@jupyter-widgets/base",
            "_view_module_version": "1.2.0",
            "_view_name": "LayoutView",
            "align_content": null,
            "align_items": null,
            "align_self": null,
            "border": null,
            "bottom": null,
            "display": null,
            "flex": null,
            "flex_flow": null,
            "grid_area": null,
            "grid_auto_columns": null,
            "grid_auto_flow": null,
            "grid_auto_rows": null,
            "grid_column": null,
            "grid_gap": null,
            "grid_row": null,
            "grid_template_areas": null,
            "grid_template_columns": null,
            "grid_template_rows": null,
            "height": null,
            "justify_content": null,
            "justify_items": null,
            "left": null,
            "margin": null,
            "max_height": null,
            "max_width": null,
            "min_height": null,
            "min_width": null,
            "object_fit": null,
            "object_position": null,
            "order": null,
            "overflow": null,
            "overflow_x": null,
            "overflow_y": null,
            "padding": null,
            "right": null,
            "top": null,
            "visibility": null,
            "width": null
          }
        },
        "b1848414f839421cb2d2555567acdf46": {
          "model_module": "@jupyter-widgets/controls",
          "model_module_version": "1.5.0",
          "model_name": "HBoxModel",
          "state": {
            "_dom_classes": [],
            "_model_module": "@jupyter-widgets/controls",
            "_model_module_version": "1.5.0",
            "_model_name": "HBoxModel",
            "_view_count": null,
            "_view_module": "@jupyter-widgets/controls",
            "_view_module_version": "1.5.0",
            "_view_name": "HBoxView",
            "box_style": "",
            "children": [
              "IPY_MODEL_a2e24f0f109a4ceab331f9a9f05d8dce",
              "IPY_MODEL_a2c9112cf6ee439a97fe95a51ded8f15",
              "IPY_MODEL_64ed83d887f544b6b64c1a16a391274d"
            ],
            "layout": "IPY_MODEL_8c9af6bbd0f74886b75c606d9496e311"
          }
        },
        "b18dec078cbf487a958c31479a06b619": {
          "model_module": "@jupyter-widgets/controls",
          "model_module_version": "1.5.0",
          "model_name": "FloatProgressModel",
          "state": {
            "_dom_classes": [],
            "_model_module": "@jupyter-widgets/controls",
            "_model_module_version": "1.5.0",
            "_model_name": "FloatProgressModel",
            "_view_count": null,
            "_view_module": "@jupyter-widgets/controls",
            "_view_module_version": "1.5.0",
            "_view_name": "ProgressView",
            "bar_style": "success",
            "description": "",
            "description_tooltip": null,
            "layout": "IPY_MODEL_526b5f8a18dd4059a72b86b26c0014c2",
            "max": 179,
            "min": 0,
            "orientation": "horizontal",
            "style": "IPY_MODEL_63825c37382241e58f96f69877538190",
            "value": 179
          }
        },
        "b190f73f86ad42d49ee524c775139664": {
          "model_module": "@jupyter-widgets/controls",
          "model_module_version": "1.5.0",
          "model_name": "DescriptionStyleModel",
          "state": {
            "_model_module": "@jupyter-widgets/controls",
            "_model_module_version": "1.5.0",
            "_model_name": "DescriptionStyleModel",
            "_view_count": null,
            "_view_module": "@jupyter-widgets/base",
            "_view_module_version": "1.2.0",
            "_view_name": "StyleView",
            "description_width": ""
          }
        },
        "b3393eb748544e079bebf78006d8f3b7": {
          "model_module": "@jupyter-widgets/controls",
          "model_module_version": "1.5.0",
          "model_name": "ProgressStyleModel",
          "state": {
            "_model_module": "@jupyter-widgets/controls",
            "_model_module_version": "1.5.0",
            "_model_name": "ProgressStyleModel",
            "_view_count": null,
            "_view_module": "@jupyter-widgets/base",
            "_view_module_version": "1.2.0",
            "_view_name": "StyleView",
            "bar_color": null,
            "description_width": ""
          }
        },
        "b459f12926034452956e33329544b2f4": {
          "model_module": "@jupyter-widgets/controls",
          "model_module_version": "1.5.0",
          "model_name": "HBoxModel",
          "state": {
            "_dom_classes": [],
            "_model_module": "@jupyter-widgets/controls",
            "_model_module_version": "1.5.0",
            "_model_name": "HBoxModel",
            "_view_count": null,
            "_view_module": "@jupyter-widgets/controls",
            "_view_module_version": "1.5.0",
            "_view_name": "HBoxView",
            "box_style": "",
            "children": [
              "IPY_MODEL_37e0eb2f106b4d0bb9e30d7303b12f41",
              "IPY_MODEL_3139c307ba5e4a338a17f34811a32f5d",
              "IPY_MODEL_75bc38d7d4ce4fd0ac09225250d62bf4"
            ],
            "layout": "IPY_MODEL_8366da938a7e45a5a3d3cc8b165ce69e"
          }
        },
        "b49b228183c24f239d3ed6d370e70790": {
          "model_module": "@jupyter-widgets/base",
          "model_module_version": "1.2.0",
          "model_name": "LayoutModel",
          "state": {
            "_model_module": "@jupyter-widgets/base",
            "_model_module_version": "1.2.0",
            "_model_name": "LayoutModel",
            "_view_count": null,
            "_view_module": "@jupyter-widgets/base",
            "_view_module_version": "1.2.0",
            "_view_name": "LayoutView",
            "align_content": null,
            "align_items": null,
            "align_self": null,
            "border": null,
            "bottom": null,
            "display": null,
            "flex": null,
            "flex_flow": null,
            "grid_area": null,
            "grid_auto_columns": null,
            "grid_auto_flow": null,
            "grid_auto_rows": null,
            "grid_column": null,
            "grid_gap": null,
            "grid_row": null,
            "grid_template_areas": null,
            "grid_template_columns": null,
            "grid_template_rows": null,
            "height": null,
            "justify_content": null,
            "justify_items": null,
            "left": null,
            "margin": null,
            "max_height": null,
            "max_width": null,
            "min_height": null,
            "min_width": null,
            "object_fit": null,
            "object_position": null,
            "order": null,
            "overflow": null,
            "overflow_x": null,
            "overflow_y": null,
            "padding": null,
            "right": null,
            "top": null,
            "visibility": null,
            "width": null
          }
        },
        "b503f0bf65f5452e8678252d53aa50de": {
          "model_module": "@jupyter-widgets/controls",
          "model_module_version": "1.5.0",
          "model_name": "DescriptionStyleModel",
          "state": {
            "_model_module": "@jupyter-widgets/controls",
            "_model_module_version": "1.5.0",
            "_model_name": "DescriptionStyleModel",
            "_view_count": null,
            "_view_module": "@jupyter-widgets/base",
            "_view_module_version": "1.2.0",
            "_view_name": "StyleView",
            "description_width": ""
          }
        },
        "b561d35c14b240ab8e1d526461a135d9": {
          "model_module": "@jupyter-widgets/controls",
          "model_module_version": "1.5.0",
          "model_name": "DescriptionStyleModel",
          "state": {
            "_model_module": "@jupyter-widgets/controls",
            "_model_module_version": "1.5.0",
            "_model_name": "DescriptionStyleModel",
            "_view_count": null,
            "_view_module": "@jupyter-widgets/base",
            "_view_module_version": "1.2.0",
            "_view_name": "StyleView",
            "description_width": ""
          }
        },
        "b6843d66c1bb4b5681e2461e02676ccd": {
          "model_module": "@jupyter-widgets/controls",
          "model_module_version": "1.5.0",
          "model_name": "DescriptionStyleModel",
          "state": {
            "_model_module": "@jupyter-widgets/controls",
            "_model_module_version": "1.5.0",
            "_model_name": "DescriptionStyleModel",
            "_view_count": null,
            "_view_module": "@jupyter-widgets/base",
            "_view_module_version": "1.2.0",
            "_view_name": "StyleView",
            "description_width": ""
          }
        },
        "b71be879498b471e9b77059ebfb5e3a3": {
          "model_module": "@jupyter-widgets/base",
          "model_module_version": "1.2.0",
          "model_name": "LayoutModel",
          "state": {
            "_model_module": "@jupyter-widgets/base",
            "_model_module_version": "1.2.0",
            "_model_name": "LayoutModel",
            "_view_count": null,
            "_view_module": "@jupyter-widgets/base",
            "_view_module_version": "1.2.0",
            "_view_name": "LayoutView",
            "align_content": null,
            "align_items": null,
            "align_self": null,
            "border": null,
            "bottom": null,
            "display": null,
            "flex": null,
            "flex_flow": null,
            "grid_area": null,
            "grid_auto_columns": null,
            "grid_auto_flow": null,
            "grid_auto_rows": null,
            "grid_column": null,
            "grid_gap": null,
            "grid_row": null,
            "grid_template_areas": null,
            "grid_template_columns": null,
            "grid_template_rows": null,
            "height": null,
            "justify_content": null,
            "justify_items": null,
            "left": null,
            "margin": null,
            "max_height": null,
            "max_width": null,
            "min_height": null,
            "min_width": null,
            "object_fit": null,
            "object_position": null,
            "order": null,
            "overflow": null,
            "overflow_x": null,
            "overflow_y": null,
            "padding": null,
            "right": null,
            "top": null,
            "visibility": null,
            "width": null
          }
        },
        "b77f2cd868454edb97f5f7bdad827c76": {
          "model_module": "@jupyter-widgets/controls",
          "model_module_version": "1.5.0",
          "model_name": "FloatProgressModel",
          "state": {
            "_dom_classes": [],
            "_model_module": "@jupyter-widgets/controls",
            "_model_module_version": "1.5.0",
            "_model_name": "FloatProgressModel",
            "_view_count": null,
            "_view_module": "@jupyter-widgets/controls",
            "_view_module_version": "1.5.0",
            "_view_name": "ProgressView",
            "bar_style": "success",
            "description": "",
            "description_tooltip": null,
            "layout": "IPY_MODEL_13f0ee857a644eb4b16b2a9430669c85",
            "max": 714314041,
            "min": 0,
            "orientation": "horizontal",
            "style": "IPY_MODEL_9fa44a46bda5411d97a163cfa4ab4df5",
            "value": 714314041
          }
        },
        "b7cce5909e114d9f9cba2151d6179c4e": {
          "model_module": "@jupyter-widgets/controls",
          "model_module_version": "1.5.0",
          "model_name": "HTMLModel",
          "state": {
            "_dom_classes": [],
            "_model_module": "@jupyter-widgets/controls",
            "_model_module_version": "1.5.0",
            "_model_name": "HTMLModel",
            "_view_count": null,
            "_view_module": "@jupyter-widgets/controls",
            "_view_module_version": "1.5.0",
            "_view_name": "HTMLView",
            "description": "",
            "description_tooltip": null,
            "layout": "IPY_MODEL_387ee2b314d8471182e03a4054d093dd",
            "placeholder": "​",
            "style": "IPY_MODEL_87a0cd9b84594bf4b88a7eccb8394dac",
            "value": "100%"
          }
        },
        "bb21252d3c394f679afdb4b54b13558d": {
          "model_module": "@jupyter-widgets/controls",
          "model_module_version": "1.5.0",
          "model_name": "HTMLModel",
          "state": {
            "_dom_classes": [],
            "_model_module": "@jupyter-widgets/controls",
            "_model_module_version": "1.5.0",
            "_model_name": "HTMLModel",
            "_view_count": null,
            "_view_module": "@jupyter-widgets/controls",
            "_view_module_version": "1.5.0",
            "_view_name": "HTMLView",
            "description": "",
            "description_tooltip": null,
            "layout": "IPY_MODEL_19e6e77bdb764005995524ce5bbf65a4",
            "placeholder": "​",
            "style": "IPY_MODEL_5f1ab529fdb14ae8bf559c432d469f6f",
            "value": " 625/625 [00:00&lt;00:00, 47.2kB/s]"
          }
        },
        "bba3dc832979430bac13f186f043f11c": {
          "model_module": "@jupyter-widgets/controls",
          "model_module_version": "1.5.0",
          "model_name": "FloatProgressModel",
          "state": {
            "_dom_classes": [],
            "_model_module": "@jupyter-widgets/controls",
            "_model_module_version": "1.5.0",
            "_model_name": "FloatProgressModel",
            "_view_count": null,
            "_view_module": "@jupyter-widgets/controls",
            "_view_module_version": "1.5.0",
            "_view_name": "ProgressView",
            "bar_style": "success",
            "description": "",
            "description_tooltip": null,
            "layout": "IPY_MODEL_1431a07331bb4b07a12e822d833fcbbe",
            "max": 179,
            "min": 0,
            "orientation": "horizontal",
            "style": "IPY_MODEL_751d3f78518e4f98b16a20cb14408cf8",
            "value": 179
          }
        },
        "bc5c76bd8ed04297b3a70496a8cde6c5": {
          "model_module": "@jupyter-widgets/controls",
          "model_module_version": "1.5.0",
          "model_name": "ProgressStyleModel",
          "state": {
            "_model_module": "@jupyter-widgets/controls",
            "_model_module_version": "1.5.0",
            "_model_name": "ProgressStyleModel",
            "_view_count": null,
            "_view_module": "@jupyter-widgets/base",
            "_view_module_version": "1.2.0",
            "_view_name": "StyleView",
            "bar_color": null,
            "description_width": ""
          }
        },
        "bc5ff5f739bb4127b1e7214169e8683e": {
          "model_module": "@jupyter-widgets/controls",
          "model_module_version": "1.5.0",
          "model_name": "HTMLModel",
          "state": {
            "_dom_classes": [],
            "_model_module": "@jupyter-widgets/controls",
            "_model_module_version": "1.5.0",
            "_model_name": "HTMLModel",
            "_view_count": null,
            "_view_module": "@jupyter-widgets/controls",
            "_view_module_version": "1.5.0",
            "_view_name": "HTMLView",
            "description": "",
            "description_tooltip": null,
            "layout": "IPY_MODEL_54b65790c48e4e33b901877073f42cfa",
            "placeholder": "​",
            "style": "IPY_MODEL_d2005f444b974051b23d066da03f9b1a",
            "value": "Downloading: 100%"
          }
        },
        "be4df389510b42f089ab9f37a716bcb8": {
          "model_module": "@jupyter-widgets/base",
          "model_module_version": "1.2.0",
          "model_name": "LayoutModel",
          "state": {
            "_model_module": "@jupyter-widgets/base",
            "_model_module_version": "1.2.0",
            "_model_name": "LayoutModel",
            "_view_count": null,
            "_view_module": "@jupyter-widgets/base",
            "_view_module_version": "1.2.0",
            "_view_name": "LayoutView",
            "align_content": null,
            "align_items": null,
            "align_self": null,
            "border": null,
            "bottom": null,
            "display": null,
            "flex": null,
            "flex_flow": null,
            "grid_area": null,
            "grid_auto_columns": null,
            "grid_auto_flow": null,
            "grid_auto_rows": null,
            "grid_column": null,
            "grid_gap": null,
            "grid_row": null,
            "grid_template_areas": null,
            "grid_template_columns": null,
            "grid_template_rows": null,
            "height": null,
            "justify_content": null,
            "justify_items": null,
            "left": null,
            "margin": null,
            "max_height": null,
            "max_width": null,
            "min_height": null,
            "min_width": null,
            "object_fit": null,
            "object_position": null,
            "order": null,
            "overflow": null,
            "overflow_x": null,
            "overflow_y": null,
            "padding": null,
            "right": null,
            "top": null,
            "visibility": null,
            "width": null
          }
        },
        "be907996eb7445e28599a63c0e91909e": {
          "model_module": "@jupyter-widgets/controls",
          "model_module_version": "1.5.0",
          "model_name": "HTMLModel",
          "state": {
            "_dom_classes": [],
            "_model_module": "@jupyter-widgets/controls",
            "_model_module_version": "1.5.0",
            "_model_name": "HTMLModel",
            "_view_count": null,
            "_view_module": "@jupyter-widgets/controls",
            "_view_module_version": "1.5.0",
            "_view_name": "HTMLView",
            "description": "",
            "description_tooltip": null,
            "layout": "IPY_MODEL_93236b1ad4ee45cfaee3a896e7818220",
            "placeholder": "​",
            "style": "IPY_MODEL_3553d3f58fdc4c86961e98d1806166fd",
            "value": "100%"
          }
        },
        "becca1ddc51744e7abd1e6b5e72c0040": {
          "model_module": "@jupyter-widgets/base",
          "model_module_version": "1.2.0",
          "model_name": "LayoutModel",
          "state": {
            "_model_module": "@jupyter-widgets/base",
            "_model_module_version": "1.2.0",
            "_model_name": "LayoutModel",
            "_view_count": null,
            "_view_module": "@jupyter-widgets/base",
            "_view_module_version": "1.2.0",
            "_view_name": "LayoutView",
            "align_content": null,
            "align_items": null,
            "align_self": null,
            "border": null,
            "bottom": null,
            "display": null,
            "flex": null,
            "flex_flow": null,
            "grid_area": null,
            "grid_auto_columns": null,
            "grid_auto_flow": null,
            "grid_auto_rows": null,
            "grid_column": null,
            "grid_gap": null,
            "grid_row": null,
            "grid_template_areas": null,
            "grid_template_columns": null,
            "grid_template_rows": null,
            "height": null,
            "justify_content": null,
            "justify_items": null,
            "left": null,
            "margin": null,
            "max_height": null,
            "max_width": null,
            "min_height": null,
            "min_width": null,
            "object_fit": null,
            "object_position": null,
            "order": null,
            "overflow": null,
            "overflow_x": null,
            "overflow_y": null,
            "padding": null,
            "right": null,
            "top": null,
            "visibility": null,
            "width": null
          }
        },
        "bf44372f8ad24be583fa5936738dea48": {
          "model_module": "@jupyter-widgets/base",
          "model_module_version": "1.2.0",
          "model_name": "LayoutModel",
          "state": {
            "_model_module": "@jupyter-widgets/base",
            "_model_module_version": "1.2.0",
            "_model_name": "LayoutModel",
            "_view_count": null,
            "_view_module": "@jupyter-widgets/base",
            "_view_module_version": "1.2.0",
            "_view_name": "LayoutView",
            "align_content": null,
            "align_items": null,
            "align_self": null,
            "border": null,
            "bottom": null,
            "display": null,
            "flex": null,
            "flex_flow": null,
            "grid_area": null,
            "grid_auto_columns": null,
            "grid_auto_flow": null,
            "grid_auto_rows": null,
            "grid_column": null,
            "grid_gap": null,
            "grid_row": null,
            "grid_template_areas": null,
            "grid_template_columns": null,
            "grid_template_rows": null,
            "height": null,
            "justify_content": null,
            "justify_items": null,
            "left": null,
            "margin": null,
            "max_height": null,
            "max_width": null,
            "min_height": null,
            "min_width": null,
            "object_fit": null,
            "object_position": null,
            "order": null,
            "overflow": null,
            "overflow_x": null,
            "overflow_y": null,
            "padding": null,
            "right": null,
            "top": null,
            "visibility": null,
            "width": null
          }
        },
        "bf7fb62b43864e6cbe5e34ff71fb2711": {
          "model_module": "@jupyter-widgets/controls",
          "model_module_version": "1.5.0",
          "model_name": "ProgressStyleModel",
          "state": {
            "_model_module": "@jupyter-widgets/controls",
            "_model_module_version": "1.5.0",
            "_model_name": "ProgressStyleModel",
            "_view_count": null,
            "_view_module": "@jupyter-widgets/base",
            "_view_module_version": "1.2.0",
            "_view_name": "StyleView",
            "bar_color": null,
            "description_width": ""
          }
        },
        "c124664859fa40ab93e802e7adc75039": {
          "model_module": "@jupyter-widgets/base",
          "model_module_version": "1.2.0",
          "model_name": "LayoutModel",
          "state": {
            "_model_module": "@jupyter-widgets/base",
            "_model_module_version": "1.2.0",
            "_model_name": "LayoutModel",
            "_view_count": null,
            "_view_module": "@jupyter-widgets/base",
            "_view_module_version": "1.2.0",
            "_view_name": "LayoutView",
            "align_content": null,
            "align_items": null,
            "align_self": null,
            "border": null,
            "bottom": null,
            "display": null,
            "flex": null,
            "flex_flow": null,
            "grid_area": null,
            "grid_auto_columns": null,
            "grid_auto_flow": null,
            "grid_auto_rows": null,
            "grid_column": null,
            "grid_gap": null,
            "grid_row": null,
            "grid_template_areas": null,
            "grid_template_columns": null,
            "grid_template_rows": null,
            "height": null,
            "justify_content": null,
            "justify_items": null,
            "left": null,
            "margin": null,
            "max_height": null,
            "max_width": null,
            "min_height": null,
            "min_width": null,
            "object_fit": null,
            "object_position": null,
            "order": null,
            "overflow": null,
            "overflow_x": null,
            "overflow_y": null,
            "padding": null,
            "right": null,
            "top": null,
            "visibility": null,
            "width": null
          }
        },
        "c2613e706707436eaf83c9a551201421": {
          "model_module": "@jupyter-widgets/base",
          "model_module_version": "1.2.0",
          "model_name": "LayoutModel",
          "state": {
            "_model_module": "@jupyter-widgets/base",
            "_model_module_version": "1.2.0",
            "_model_name": "LayoutModel",
            "_view_count": null,
            "_view_module": "@jupyter-widgets/base",
            "_view_module_version": "1.2.0",
            "_view_name": "LayoutView",
            "align_content": null,
            "align_items": null,
            "align_self": null,
            "border": null,
            "bottom": null,
            "display": null,
            "flex": null,
            "flex_flow": null,
            "grid_area": null,
            "grid_auto_columns": null,
            "grid_auto_flow": null,
            "grid_auto_rows": null,
            "grid_column": null,
            "grid_gap": null,
            "grid_row": null,
            "grid_template_areas": null,
            "grid_template_columns": null,
            "grid_template_rows": null,
            "height": null,
            "justify_content": null,
            "justify_items": null,
            "left": null,
            "margin": null,
            "max_height": null,
            "max_width": null,
            "min_height": null,
            "min_width": null,
            "object_fit": null,
            "object_position": null,
            "order": null,
            "overflow": null,
            "overflow_x": null,
            "overflow_y": null,
            "padding": null,
            "right": null,
            "top": null,
            "visibility": null,
            "width": null
          }
        },
        "c288695e6fc14487a96d0669351ba0ec": {
          "model_module": "@jupyter-widgets/controls",
          "model_module_version": "1.5.0",
          "model_name": "HTMLModel",
          "state": {
            "_dom_classes": [],
            "_model_module": "@jupyter-widgets/controls",
            "_model_module_version": "1.5.0",
            "_model_name": "HTMLModel",
            "_view_count": null,
            "_view_module": "@jupyter-widgets/controls",
            "_view_module_version": "1.5.0",
            "_view_name": "HTMLView",
            "description": "",
            "description_tooltip": null,
            "layout": "IPY_MODEL_18b47556f2b1449fa41336b372e62951",
            "placeholder": "​",
            "style": "IPY_MODEL_03d8fb85187b4b69982051484bc4ac19",
            "value": "100%"
          }
        },
        "c69022cfa20844b4be36255cd54186b1": {
          "model_module": "@jupyter-widgets/controls",
          "model_module_version": "1.5.0",
          "model_name": "HTMLModel",
          "state": {
            "_dom_classes": [],
            "_model_module": "@jupyter-widgets/controls",
            "_model_module_version": "1.5.0",
            "_model_name": "HTMLModel",
            "_view_count": null,
            "_view_module": "@jupyter-widgets/controls",
            "_view_module_version": "1.5.0",
            "_view_name": "HTMLView",
            "description": "",
            "description_tooltip": null,
            "layout": "IPY_MODEL_39656ced733141f8a72a0b21c87f0faa",
            "placeholder": "​",
            "style": "IPY_MODEL_e43031c83809436698acd722961a8a45",
            "value": "100%"
          }
        },
        "c6a5e750f2824b2da972a9fa9b6bda46": {
          "model_module": "@jupyter-widgets/base",
          "model_module_version": "1.2.0",
          "model_name": "LayoutModel",
          "state": {
            "_model_module": "@jupyter-widgets/base",
            "_model_module_version": "1.2.0",
            "_model_name": "LayoutModel",
            "_view_count": null,
            "_view_module": "@jupyter-widgets/base",
            "_view_module_version": "1.2.0",
            "_view_name": "LayoutView",
            "align_content": null,
            "align_items": null,
            "align_self": null,
            "border": null,
            "bottom": null,
            "display": null,
            "flex": null,
            "flex_flow": null,
            "grid_area": null,
            "grid_auto_columns": null,
            "grid_auto_flow": null,
            "grid_auto_rows": null,
            "grid_column": null,
            "grid_gap": null,
            "grid_row": null,
            "grid_template_areas": null,
            "grid_template_columns": null,
            "grid_template_rows": null,
            "height": null,
            "justify_content": null,
            "justify_items": null,
            "left": null,
            "margin": null,
            "max_height": null,
            "max_width": null,
            "min_height": null,
            "min_width": null,
            "object_fit": null,
            "object_position": null,
            "order": null,
            "overflow": null,
            "overflow_x": null,
            "overflow_y": null,
            "padding": null,
            "right": null,
            "top": null,
            "visibility": null,
            "width": null
          }
        },
        "c8ba241ea82a4efe9437721e760b8ca3": {
          "model_module": "@jupyter-widgets/base",
          "model_module_version": "1.2.0",
          "model_name": "LayoutModel",
          "state": {
            "_model_module": "@jupyter-widgets/base",
            "_model_module_version": "1.2.0",
            "_model_name": "LayoutModel",
            "_view_count": null,
            "_view_module": "@jupyter-widgets/base",
            "_view_module_version": "1.2.0",
            "_view_name": "LayoutView",
            "align_content": null,
            "align_items": null,
            "align_self": null,
            "border": null,
            "bottom": null,
            "display": null,
            "flex": null,
            "flex_flow": null,
            "grid_area": null,
            "grid_auto_columns": null,
            "grid_auto_flow": null,
            "grid_auto_rows": null,
            "grid_column": null,
            "grid_gap": null,
            "grid_row": null,
            "grid_template_areas": null,
            "grid_template_columns": null,
            "grid_template_rows": null,
            "height": null,
            "justify_content": null,
            "justify_items": null,
            "left": null,
            "margin": null,
            "max_height": null,
            "max_width": null,
            "min_height": null,
            "min_width": null,
            "object_fit": null,
            "object_position": null,
            "order": null,
            "overflow": null,
            "overflow_x": null,
            "overflow_y": null,
            "padding": null,
            "right": null,
            "top": null,
            "visibility": null,
            "width": null
          }
        },
        "ccc730bc182e4fff8cabaad12e202e7e": {
          "model_module": "@jupyter-widgets/controls",
          "model_module_version": "1.5.0",
          "model_name": "DescriptionStyleModel",
          "state": {
            "_model_module": "@jupyter-widgets/controls",
            "_model_module_version": "1.5.0",
            "_model_name": "DescriptionStyleModel",
            "_view_count": null,
            "_view_module": "@jupyter-widgets/base",
            "_view_module_version": "1.2.0",
            "_view_name": "StyleView",
            "description_width": ""
          }
        },
        "cd28a884389641c79720af43295abb32": {
          "model_module": "@jupyter-widgets/controls",
          "model_module_version": "1.5.0",
          "model_name": "DescriptionStyleModel",
          "state": {
            "_model_module": "@jupyter-widgets/controls",
            "_model_module_version": "1.5.0",
            "_model_name": "DescriptionStyleModel",
            "_view_count": null,
            "_view_module": "@jupyter-widgets/base",
            "_view_module_version": "1.2.0",
            "_view_name": "StyleView",
            "description_width": ""
          }
        },
        "d0550d77d4624b909d2241fe1d4df600": {
          "model_module": "@jupyter-widgets/base",
          "model_module_version": "1.2.0",
          "model_name": "LayoutModel",
          "state": {
            "_model_module": "@jupyter-widgets/base",
            "_model_module_version": "1.2.0",
            "_model_name": "LayoutModel",
            "_view_count": null,
            "_view_module": "@jupyter-widgets/base",
            "_view_module_version": "1.2.0",
            "_view_name": "LayoutView",
            "align_content": null,
            "align_items": null,
            "align_self": null,
            "border": null,
            "bottom": null,
            "display": null,
            "flex": null,
            "flex_flow": null,
            "grid_area": null,
            "grid_auto_columns": null,
            "grid_auto_flow": null,
            "grid_auto_rows": null,
            "grid_column": null,
            "grid_gap": null,
            "grid_row": null,
            "grid_template_areas": null,
            "grid_template_columns": null,
            "grid_template_rows": null,
            "height": null,
            "justify_content": null,
            "justify_items": null,
            "left": null,
            "margin": null,
            "max_height": null,
            "max_width": null,
            "min_height": null,
            "min_width": null,
            "object_fit": null,
            "object_position": null,
            "order": null,
            "overflow": null,
            "overflow_x": null,
            "overflow_y": null,
            "padding": null,
            "right": null,
            "top": null,
            "visibility": null,
            "width": null
          }
        },
        "d1025bcc86834f7b936e11d9504d38c9": {
          "model_module": "@jupyter-widgets/controls",
          "model_module_version": "1.5.0",
          "model_name": "HBoxModel",
          "state": {
            "_dom_classes": [],
            "_model_module": "@jupyter-widgets/controls",
            "_model_module_version": "1.5.0",
            "_model_name": "HBoxModel",
            "_view_count": null,
            "_view_module": "@jupyter-widgets/controls",
            "_view_module_version": "1.5.0",
            "_view_name": "HBoxView",
            "box_style": "",
            "children": [
              "IPY_MODEL_4f6926fcef4b435698466698cae03983",
              "IPY_MODEL_db551a64d4834827bedbb8e17c40e450",
              "IPY_MODEL_5d3c6b5042b44444a42fbdcede81c5d9"
            ],
            "layout": "IPY_MODEL_f388e280095c42b385478738cfd1b4c0"
          }
        },
        "d2005f444b974051b23d066da03f9b1a": {
          "model_module": "@jupyter-widgets/controls",
          "model_module_version": "1.5.0",
          "model_name": "DescriptionStyleModel",
          "state": {
            "_model_module": "@jupyter-widgets/controls",
            "_model_module_version": "1.5.0",
            "_model_name": "DescriptionStyleModel",
            "_view_count": null,
            "_view_module": "@jupyter-widgets/base",
            "_view_module_version": "1.2.0",
            "_view_name": "StyleView",
            "description_width": ""
          }
        },
        "d2b5da6d93cb458286b7ce8c2f65a516": {
          "model_module": "@jupyter-widgets/controls",
          "model_module_version": "1.5.0",
          "model_name": "FloatProgressModel",
          "state": {
            "_dom_classes": [],
            "_model_module": "@jupyter-widgets/controls",
            "_model_module_version": "1.5.0",
            "_model_name": "FloatProgressModel",
            "_view_count": null,
            "_view_module": "@jupyter-widgets/controls",
            "_view_module_version": "1.5.0",
            "_view_name": "ProgressView",
            "bar_style": "success",
            "description": "",
            "description_tooltip": null,
            "layout": "IPY_MODEL_5cdd1a22de384ccb8cc007ca080de7f0",
            "max": 179,
            "min": 0,
            "orientation": "horizontal",
            "style": "IPY_MODEL_bf7fb62b43864e6cbe5e34ff71fb2711",
            "value": 179
          }
        },
        "d2fa0bb2fe4041ea838e657aae4d676f": {
          "model_module": "@jupyter-widgets/controls",
          "model_module_version": "1.5.0",
          "model_name": "FloatProgressModel",
          "state": {
            "_dom_classes": [],
            "_model_module": "@jupyter-widgets/controls",
            "_model_module_version": "1.5.0",
            "_model_name": "FloatProgressModel",
            "_view_count": null,
            "_view_module": "@jupyter-widgets/controls",
            "_view_module_version": "1.5.0",
            "_view_name": "ProgressView",
            "bar_style": "success",
            "description": "",
            "description_tooltip": null,
            "layout": "IPY_MODEL_a1d965d5ad574d66b3aee18dbb414015",
            "max": 451741507,
            "min": 0,
            "orientation": "horizontal",
            "style": "IPY_MODEL_ac1ca1220ee24283a7ef904c94d9d824",
            "value": 451741507
          }
        },
        "d34dbd196a3e477d9de7c715589ff59a": {
          "model_module": "@jupyter-widgets/base",
          "model_module_version": "1.2.0",
          "model_name": "LayoutModel",
          "state": {
            "_model_module": "@jupyter-widgets/base",
            "_model_module_version": "1.2.0",
            "_model_name": "LayoutModel",
            "_view_count": null,
            "_view_module": "@jupyter-widgets/base",
            "_view_module_version": "1.2.0",
            "_view_name": "LayoutView",
            "align_content": null,
            "align_items": null,
            "align_self": null,
            "border": null,
            "bottom": null,
            "display": null,
            "flex": null,
            "flex_flow": null,
            "grid_area": null,
            "grid_auto_columns": null,
            "grid_auto_flow": null,
            "grid_auto_rows": null,
            "grid_column": null,
            "grid_gap": null,
            "grid_row": null,
            "grid_template_areas": null,
            "grid_template_columns": null,
            "grid_template_rows": null,
            "height": null,
            "justify_content": null,
            "justify_items": null,
            "left": null,
            "margin": null,
            "max_height": null,
            "max_width": null,
            "min_height": null,
            "min_width": null,
            "object_fit": null,
            "object_position": null,
            "order": null,
            "overflow": null,
            "overflow_x": null,
            "overflow_y": null,
            "padding": null,
            "right": null,
            "top": null,
            "visibility": null,
            "width": null
          }
        },
        "d3d60d4f5b9042bd8e4e82653b3d0902": {
          "model_module": "@jupyter-widgets/controls",
          "model_module_version": "1.5.0",
          "model_name": "FloatProgressModel",
          "state": {
            "_dom_classes": [],
            "_model_module": "@jupyter-widgets/controls",
            "_model_module_version": "1.5.0",
            "_model_name": "FloatProgressModel",
            "_view_count": null,
            "_view_module": "@jupyter-widgets/controls",
            "_view_module_version": "1.5.0",
            "_view_name": "ProgressView",
            "bar_style": "success",
            "description": "",
            "description_tooltip": null,
            "layout": "IPY_MODEL_300e904ebab246f1a1ba0732d8a52bf0",
            "max": 77,
            "min": 0,
            "orientation": "horizontal",
            "style": "IPY_MODEL_360bccf94ca54d4380c0825d7e90fc78",
            "value": 77
          }
        },
        "d3f79db71ef440739f76a1a0e4effef5": {
          "model_module": "@jupyter-widgets/controls",
          "model_module_version": "1.5.0",
          "model_name": "HTMLModel",
          "state": {
            "_dom_classes": [],
            "_model_module": "@jupyter-widgets/controls",
            "_model_module_version": "1.5.0",
            "_model_name": "HTMLModel",
            "_view_count": null,
            "_view_module": "@jupyter-widgets/controls",
            "_view_module_version": "1.5.0",
            "_view_name": "HTMLView",
            "description": "",
            "description_tooltip": null,
            "layout": "IPY_MODEL_d34dbd196a3e477d9de7c715589ff59a",
            "placeholder": "​",
            "style": "IPY_MODEL_0e2d2029ebad49df81983e5187be1bca",
            "value": " 179/179 [01:08&lt;00:00,  3.28it/s]"
          }
        },
        "d427732673a94fda8546833149660fbb": {
          "model_module": "@jupyter-widgets/controls",
          "model_module_version": "1.5.0",
          "model_name": "DescriptionStyleModel",
          "state": {
            "_model_module": "@jupyter-widgets/controls",
            "_model_module_version": "1.5.0",
            "_model_name": "DescriptionStyleModel",
            "_view_count": null,
            "_view_module": "@jupyter-widgets/base",
            "_view_module_version": "1.2.0",
            "_view_name": "StyleView",
            "description_width": ""
          }
        },
        "d6a96d7d7ca5444ba3029c52c7ea6c2d": {
          "model_module": "@jupyter-widgets/controls",
          "model_module_version": "1.5.0",
          "model_name": "HBoxModel",
          "state": {
            "_dom_classes": [],
            "_model_module": "@jupyter-widgets/controls",
            "_model_module_version": "1.5.0",
            "_model_name": "HBoxModel",
            "_view_count": null,
            "_view_module": "@jupyter-widgets/controls",
            "_view_module_version": "1.5.0",
            "_view_name": "HBoxView",
            "box_style": "",
            "children": [
              "IPY_MODEL_86aad8667ddd4395894f97ddc770fb5f",
              "IPY_MODEL_e4a658db5e5e42c59e2be4565efe210b",
              "IPY_MODEL_a53b2cd4d82243558cfe95b5af01aafc"
            ],
            "layout": "IPY_MODEL_9b2e35e1e126418da70eb6eb1de3039d"
          }
        },
        "d6deededc1bc413ab64cacd758136abe": {
          "model_module": "@jupyter-widgets/controls",
          "model_module_version": "1.5.0",
          "model_name": "DescriptionStyleModel",
          "state": {
            "_model_module": "@jupyter-widgets/controls",
            "_model_module_version": "1.5.0",
            "_model_name": "DescriptionStyleModel",
            "_view_count": null,
            "_view_module": "@jupyter-widgets/base",
            "_view_module_version": "1.2.0",
            "_view_name": "StyleView",
            "description_width": ""
          }
        },
        "d7372f225a2e4f669984e34bcadcc8ca": {
          "model_module": "@jupyter-widgets/controls",
          "model_module_version": "1.5.0",
          "model_name": "HTMLModel",
          "state": {
            "_dom_classes": [],
            "_model_module": "@jupyter-widgets/controls",
            "_model_module_version": "1.5.0",
            "_model_name": "HTMLModel",
            "_view_count": null,
            "_view_module": "@jupyter-widgets/controls",
            "_view_module_version": "1.5.0",
            "_view_name": "HTMLView",
            "description": "",
            "description_tooltip": null,
            "layout": "IPY_MODEL_70ceefcd88f544fa9bc9c4a37292ab95",
            "placeholder": "​",
            "style": "IPY_MODEL_338630463d4647babc158ca9dc358122",
            "value": " 467/467 [00:00&lt;00:00, 21.4kB/s]"
          }
        },
        "d77b8b1b449f4e04af3d65567c5b4db4": {
          "model_module": "@jupyter-widgets/controls",
          "model_module_version": "1.5.0",
          "model_name": "HBoxModel",
          "state": {
            "_dom_classes": [],
            "_model_module": "@jupyter-widgets/controls",
            "_model_module_version": "1.5.0",
            "_model_name": "HBoxModel",
            "_view_count": null,
            "_view_module": "@jupyter-widgets/controls",
            "_view_module_version": "1.5.0",
            "_view_name": "HBoxView",
            "box_style": "",
            "children": [
              "IPY_MODEL_3e75f3a8b6a142ac84a9c16490f55df8",
              "IPY_MODEL_b18dec078cbf487a958c31479a06b619",
              "IPY_MODEL_668ae7842e374b52b881ef7339e2d65c"
            ],
            "layout": "IPY_MODEL_1d1fc98378014ddc91bfb5f913b68b2f"
          }
        },
        "d786e4e6df8e4631be76bcf3bfd6a127": {
          "model_module": "@jupyter-widgets/base",
          "model_module_version": "1.2.0",
          "model_name": "LayoutModel",
          "state": {
            "_model_module": "@jupyter-widgets/base",
            "_model_module_version": "1.2.0",
            "_model_name": "LayoutModel",
            "_view_count": null,
            "_view_module": "@jupyter-widgets/base",
            "_view_module_version": "1.2.0",
            "_view_name": "LayoutView",
            "align_content": null,
            "align_items": null,
            "align_self": null,
            "border": null,
            "bottom": null,
            "display": null,
            "flex": null,
            "flex_flow": null,
            "grid_area": null,
            "grid_auto_columns": null,
            "grid_auto_flow": null,
            "grid_auto_rows": null,
            "grid_column": null,
            "grid_gap": null,
            "grid_row": null,
            "grid_template_areas": null,
            "grid_template_columns": null,
            "grid_template_rows": null,
            "height": null,
            "justify_content": null,
            "justify_items": null,
            "left": null,
            "margin": null,
            "max_height": null,
            "max_width": null,
            "min_height": null,
            "min_width": null,
            "object_fit": null,
            "object_position": null,
            "order": null,
            "overflow": null,
            "overflow_x": null,
            "overflow_y": null,
            "padding": null,
            "right": null,
            "top": null,
            "visibility": null,
            "width": null
          }
        },
        "d8421ce969e046dbbdc679cf293ff7dc": {
          "model_module": "@jupyter-widgets/base",
          "model_module_version": "1.2.0",
          "model_name": "LayoutModel",
          "state": {
            "_model_module": "@jupyter-widgets/base",
            "_model_module_version": "1.2.0",
            "_model_name": "LayoutModel",
            "_view_count": null,
            "_view_module": "@jupyter-widgets/base",
            "_view_module_version": "1.2.0",
            "_view_name": "LayoutView",
            "align_content": null,
            "align_items": null,
            "align_self": null,
            "border": null,
            "bottom": null,
            "display": null,
            "flex": null,
            "flex_flow": null,
            "grid_area": null,
            "grid_auto_columns": null,
            "grid_auto_flow": null,
            "grid_auto_rows": null,
            "grid_column": null,
            "grid_gap": null,
            "grid_row": null,
            "grid_template_areas": null,
            "grid_template_columns": null,
            "grid_template_rows": null,
            "height": null,
            "justify_content": null,
            "justify_items": null,
            "left": null,
            "margin": null,
            "max_height": null,
            "max_width": null,
            "min_height": null,
            "min_width": null,
            "object_fit": null,
            "object_position": null,
            "order": null,
            "overflow": null,
            "overflow_x": null,
            "overflow_y": null,
            "padding": null,
            "right": null,
            "top": null,
            "visibility": null,
            "width": null
          }
        },
        "d9b23ebc30fb492299995e8328a6e722": {
          "model_module": "@jupyter-widgets/controls",
          "model_module_version": "1.5.0",
          "model_name": "FloatProgressModel",
          "state": {
            "_dom_classes": [],
            "_model_module": "@jupyter-widgets/controls",
            "_model_module_version": "1.5.0",
            "_model_name": "FloatProgressModel",
            "_view_count": null,
            "_view_module": "@jupyter-widgets/controls",
            "_view_module_version": "1.5.0",
            "_view_name": "ProgressView",
            "bar_style": "success",
            "description": "",
            "description_tooltip": null,
            "layout": "IPY_MODEL_f63899c700ed430480ddf0029c09afa2",
            "max": 77,
            "min": 0,
            "orientation": "horizontal",
            "style": "IPY_MODEL_69263f0e96aa41d6ab54e0bf7857e117",
            "value": 77
          }
        },
        "da748c4d4bfa4eb19a73423c10ce6c93": {
          "model_module": "@jupyter-widgets/controls",
          "model_module_version": "1.5.0",
          "model_name": "DescriptionStyleModel",
          "state": {
            "_model_module": "@jupyter-widgets/controls",
            "_model_module_version": "1.5.0",
            "_model_name": "DescriptionStyleModel",
            "_view_count": null,
            "_view_module": "@jupyter-widgets/base",
            "_view_module_version": "1.2.0",
            "_view_name": "StyleView",
            "description_width": ""
          }
        },
        "da9a9bf99f8f4548a27fb88b78ffdde4": {
          "model_module": "@jupyter-widgets/base",
          "model_module_version": "1.2.0",
          "model_name": "LayoutModel",
          "state": {
            "_model_module": "@jupyter-widgets/base",
            "_model_module_version": "1.2.0",
            "_model_name": "LayoutModel",
            "_view_count": null,
            "_view_module": "@jupyter-widgets/base",
            "_view_module_version": "1.2.0",
            "_view_name": "LayoutView",
            "align_content": null,
            "align_items": null,
            "align_self": null,
            "border": null,
            "bottom": null,
            "display": null,
            "flex": null,
            "flex_flow": null,
            "grid_area": null,
            "grid_auto_columns": null,
            "grid_auto_flow": null,
            "grid_auto_rows": null,
            "grid_column": null,
            "grid_gap": null,
            "grid_row": null,
            "grid_template_areas": null,
            "grid_template_columns": null,
            "grid_template_rows": null,
            "height": null,
            "justify_content": null,
            "justify_items": null,
            "left": null,
            "margin": null,
            "max_height": null,
            "max_width": null,
            "min_height": null,
            "min_width": null,
            "object_fit": null,
            "object_position": null,
            "order": null,
            "overflow": null,
            "overflow_x": null,
            "overflow_y": null,
            "padding": null,
            "right": null,
            "top": null,
            "visibility": null,
            "width": null
          }
        },
        "daa7e79aace648f09304882e34bd5044": {
          "model_module": "@jupyter-widgets/base",
          "model_module_version": "1.2.0",
          "model_name": "LayoutModel",
          "state": {
            "_model_module": "@jupyter-widgets/base",
            "_model_module_version": "1.2.0",
            "_model_name": "LayoutModel",
            "_view_count": null,
            "_view_module": "@jupyter-widgets/base",
            "_view_module_version": "1.2.0",
            "_view_name": "LayoutView",
            "align_content": null,
            "align_items": null,
            "align_self": null,
            "border": null,
            "bottom": null,
            "display": null,
            "flex": null,
            "flex_flow": null,
            "grid_area": null,
            "grid_auto_columns": null,
            "grid_auto_flow": null,
            "grid_auto_rows": null,
            "grid_column": null,
            "grid_gap": null,
            "grid_row": null,
            "grid_template_areas": null,
            "grid_template_columns": null,
            "grid_template_rows": null,
            "height": null,
            "justify_content": null,
            "justify_items": null,
            "left": null,
            "margin": null,
            "max_height": null,
            "max_width": null,
            "min_height": null,
            "min_width": null,
            "object_fit": null,
            "object_position": null,
            "order": null,
            "overflow": null,
            "overflow_x": null,
            "overflow_y": null,
            "padding": null,
            "right": null,
            "top": null,
            "visibility": null,
            "width": null
          }
        },
        "db524e6d71974beb9b6e371b59b54da3": {
          "model_module": "@jupyter-widgets/base",
          "model_module_version": "1.2.0",
          "model_name": "LayoutModel",
          "state": {
            "_model_module": "@jupyter-widgets/base",
            "_model_module_version": "1.2.0",
            "_model_name": "LayoutModel",
            "_view_count": null,
            "_view_module": "@jupyter-widgets/base",
            "_view_module_version": "1.2.0",
            "_view_name": "LayoutView",
            "align_content": null,
            "align_items": null,
            "align_self": null,
            "border": null,
            "bottom": null,
            "display": null,
            "flex": null,
            "flex_flow": null,
            "grid_area": null,
            "grid_auto_columns": null,
            "grid_auto_flow": null,
            "grid_auto_rows": null,
            "grid_column": null,
            "grid_gap": null,
            "grid_row": null,
            "grid_template_areas": null,
            "grid_template_columns": null,
            "grid_template_rows": null,
            "height": null,
            "justify_content": null,
            "justify_items": null,
            "left": null,
            "margin": null,
            "max_height": null,
            "max_width": null,
            "min_height": null,
            "min_width": null,
            "object_fit": null,
            "object_position": null,
            "order": null,
            "overflow": null,
            "overflow_x": null,
            "overflow_y": null,
            "padding": null,
            "right": null,
            "top": null,
            "visibility": null,
            "width": null
          }
        },
        "db551a64d4834827bedbb8e17c40e450": {
          "model_module": "@jupyter-widgets/controls",
          "model_module_version": "1.5.0",
          "model_name": "FloatProgressModel",
          "state": {
            "_dom_classes": [],
            "_model_module": "@jupyter-widgets/controls",
            "_model_module_version": "1.5.0",
            "_model_name": "FloatProgressModel",
            "_view_count": null,
            "_view_module": "@jupyter-widgets/controls",
            "_view_module_version": "1.5.0",
            "_view_name": "ProgressView",
            "bar_style": "success",
            "description": "",
            "description_tooltip": null,
            "layout": "IPY_MODEL_fcbc527240d34c24934b63fec4b5944d",
            "max": 179,
            "min": 0,
            "orientation": "horizontal",
            "style": "IPY_MODEL_f67fd1c8f6c94190af6c359da1070347",
            "value": 179
          }
        },
        "dbcb3f8a3da74660b5440fc83d943556": {
          "model_module": "@jupyter-widgets/base",
          "model_module_version": "1.2.0",
          "model_name": "LayoutModel",
          "state": {
            "_model_module": "@jupyter-widgets/base",
            "_model_module_version": "1.2.0",
            "_model_name": "LayoutModel",
            "_view_count": null,
            "_view_module": "@jupyter-widgets/base",
            "_view_module_version": "1.2.0",
            "_view_name": "LayoutView",
            "align_content": null,
            "align_items": null,
            "align_self": null,
            "border": null,
            "bottom": null,
            "display": null,
            "flex": null,
            "flex_flow": null,
            "grid_area": null,
            "grid_auto_columns": null,
            "grid_auto_flow": null,
            "grid_auto_rows": null,
            "grid_column": null,
            "grid_gap": null,
            "grid_row": null,
            "grid_template_areas": null,
            "grid_template_columns": null,
            "grid_template_rows": null,
            "height": null,
            "justify_content": null,
            "justify_items": null,
            "left": null,
            "margin": null,
            "max_height": null,
            "max_width": null,
            "min_height": null,
            "min_width": null,
            "object_fit": null,
            "object_position": null,
            "order": null,
            "overflow": null,
            "overflow_x": null,
            "overflow_y": null,
            "padding": null,
            "right": null,
            "top": null,
            "visibility": null,
            "width": null
          }
        },
        "dbf6e0ebfd35440da359ae813543aee6": {
          "model_module": "@jupyter-widgets/controls",
          "model_module_version": "1.5.0",
          "model_name": "HTMLModel",
          "state": {
            "_dom_classes": [],
            "_model_module": "@jupyter-widgets/controls",
            "_model_module_version": "1.5.0",
            "_model_name": "HTMLModel",
            "_view_count": null,
            "_view_module": "@jupyter-widgets/controls",
            "_view_module_version": "1.5.0",
            "_view_name": "HTMLView",
            "description": "",
            "description_tooltip": null,
            "layout": "IPY_MODEL_445ca539f4634d01900b9ec14dd87338",
            "placeholder": "​",
            "style": "IPY_MODEL_14b570547d274aab87a03ce126a9cc87",
            "value": "100%"
          }
        },
        "dcaf8ddfcb944bf499781d954ac2ad5f": {
          "model_module": "@jupyter-widgets/controls",
          "model_module_version": "1.5.0",
          "model_name": "HBoxModel",
          "state": {
            "_dom_classes": [],
            "_model_module": "@jupyter-widgets/controls",
            "_model_module_version": "1.5.0",
            "_model_name": "HBoxModel",
            "_view_count": null,
            "_view_module": "@jupyter-widgets/controls",
            "_view_module_version": "1.5.0",
            "_view_name": "HBoxView",
            "box_style": "",
            "children": [
              "IPY_MODEL_bc5ff5f739bb4127b1e7214169e8683e",
              "IPY_MODEL_a70fc06c765c4724839f44c92a2d204d",
              "IPY_MODEL_bb21252d3c394f679afdb4b54b13558d"
            ],
            "layout": "IPY_MODEL_481b65dc8b1d4753ab3f1c6be79ebec6"
          }
        },
        "de2c1d41fd4741679347888e362ee9c7": {
          "model_module": "@jupyter-widgets/base",
          "model_module_version": "1.2.0",
          "model_name": "LayoutModel",
          "state": {
            "_model_module": "@jupyter-widgets/base",
            "_model_module_version": "1.2.0",
            "_model_name": "LayoutModel",
            "_view_count": null,
            "_view_module": "@jupyter-widgets/base",
            "_view_module_version": "1.2.0",
            "_view_name": "LayoutView",
            "align_content": null,
            "align_items": null,
            "align_self": null,
            "border": null,
            "bottom": null,
            "display": null,
            "flex": null,
            "flex_flow": null,
            "grid_area": null,
            "grid_auto_columns": null,
            "grid_auto_flow": null,
            "grid_auto_rows": null,
            "grid_column": null,
            "grid_gap": null,
            "grid_row": null,
            "grid_template_areas": null,
            "grid_template_columns": null,
            "grid_template_rows": null,
            "height": null,
            "justify_content": null,
            "justify_items": null,
            "left": null,
            "margin": null,
            "max_height": null,
            "max_width": null,
            "min_height": null,
            "min_width": null,
            "object_fit": null,
            "object_position": null,
            "order": null,
            "overflow": null,
            "overflow_x": null,
            "overflow_y": null,
            "padding": null,
            "right": null,
            "top": null,
            "visibility": null,
            "width": null
          }
        },
        "de3b37c95f1b4b3bbcb03751806de0b1": {
          "model_module": "@jupyter-widgets/controls",
          "model_module_version": "1.5.0",
          "model_name": "DescriptionStyleModel",
          "state": {
            "_model_module": "@jupyter-widgets/controls",
            "_model_module_version": "1.5.0",
            "_model_name": "DescriptionStyleModel",
            "_view_count": null,
            "_view_module": "@jupyter-widgets/base",
            "_view_module_version": "1.2.0",
            "_view_name": "StyleView",
            "description_width": ""
          }
        },
        "def027db2206442bb988d5821b3597a3": {
          "model_module": "@jupyter-widgets/controls",
          "model_module_version": "1.5.0",
          "model_name": "ProgressStyleModel",
          "state": {
            "_model_module": "@jupyter-widgets/controls",
            "_model_module_version": "1.5.0",
            "_model_name": "ProgressStyleModel",
            "_view_count": null,
            "_view_module": "@jupyter-widgets/base",
            "_view_module_version": "1.2.0",
            "_view_name": "StyleView",
            "bar_color": null,
            "description_width": ""
          }
        },
        "e21e7b8bebec463e93990f665b39232a": {
          "model_module": "@jupyter-widgets/controls",
          "model_module_version": "1.5.0",
          "model_name": "DescriptionStyleModel",
          "state": {
            "_model_module": "@jupyter-widgets/controls",
            "_model_module_version": "1.5.0",
            "_model_name": "DescriptionStyleModel",
            "_view_count": null,
            "_view_module": "@jupyter-widgets/base",
            "_view_module_version": "1.2.0",
            "_view_name": "StyleView",
            "description_width": ""
          }
        },
        "e24283e754ef47c5ba27f132fa8be4fa": {
          "model_module": "@jupyter-widgets/controls",
          "model_module_version": "1.5.0",
          "model_name": "DescriptionStyleModel",
          "state": {
            "_model_module": "@jupyter-widgets/controls",
            "_model_module_version": "1.5.0",
            "_model_name": "DescriptionStyleModel",
            "_view_count": null,
            "_view_module": "@jupyter-widgets/base",
            "_view_module_version": "1.2.0",
            "_view_name": "StyleView",
            "description_width": ""
          }
        },
        "e2ec205dc0c349b4a472efcf3b1d1f86": {
          "model_module": "@jupyter-widgets/controls",
          "model_module_version": "1.5.0",
          "model_name": "DescriptionStyleModel",
          "state": {
            "_model_module": "@jupyter-widgets/controls",
            "_model_module_version": "1.5.0",
            "_model_name": "DescriptionStyleModel",
            "_view_count": null,
            "_view_module": "@jupyter-widgets/base",
            "_view_module_version": "1.2.0",
            "_view_name": "StyleView",
            "description_width": ""
          }
        },
        "e33b9555aea94e60816e78c329f02411": {
          "model_module": "@jupyter-widgets/base",
          "model_module_version": "1.2.0",
          "model_name": "LayoutModel",
          "state": {
            "_model_module": "@jupyter-widgets/base",
            "_model_module_version": "1.2.0",
            "_model_name": "LayoutModel",
            "_view_count": null,
            "_view_module": "@jupyter-widgets/base",
            "_view_module_version": "1.2.0",
            "_view_name": "LayoutView",
            "align_content": null,
            "align_items": null,
            "align_self": null,
            "border": null,
            "bottom": null,
            "display": null,
            "flex": null,
            "flex_flow": null,
            "grid_area": null,
            "grid_auto_columns": null,
            "grid_auto_flow": null,
            "grid_auto_rows": null,
            "grid_column": null,
            "grid_gap": null,
            "grid_row": null,
            "grid_template_areas": null,
            "grid_template_columns": null,
            "grid_template_rows": null,
            "height": null,
            "justify_content": null,
            "justify_items": null,
            "left": null,
            "margin": null,
            "max_height": null,
            "max_width": null,
            "min_height": null,
            "min_width": null,
            "object_fit": null,
            "object_position": null,
            "order": null,
            "overflow": null,
            "overflow_x": null,
            "overflow_y": null,
            "padding": null,
            "right": null,
            "top": null,
            "visibility": null,
            "width": null
          }
        },
        "e43031c83809436698acd722961a8a45": {
          "model_module": "@jupyter-widgets/controls",
          "model_module_version": "1.5.0",
          "model_name": "DescriptionStyleModel",
          "state": {
            "_model_module": "@jupyter-widgets/controls",
            "_model_module_version": "1.5.0",
            "_model_name": "DescriptionStyleModel",
            "_view_count": null,
            "_view_module": "@jupyter-widgets/base",
            "_view_module_version": "1.2.0",
            "_view_name": "StyleView",
            "description_width": ""
          }
        },
        "e43ca7b60c5e4ed692ed3ac885ff8f05": {
          "model_module": "@jupyter-widgets/controls",
          "model_module_version": "1.5.0",
          "model_name": "HTMLModel",
          "state": {
            "_dom_classes": [],
            "_model_module": "@jupyter-widgets/controls",
            "_model_module_version": "1.5.0",
            "_model_name": "HTMLModel",
            "_view_count": null,
            "_view_module": "@jupyter-widgets/controls",
            "_view_module_version": "1.5.0",
            "_view_name": "HTMLView",
            "description": "",
            "description_tooltip": null,
            "layout": "IPY_MODEL_87f8fa1298ea43999c59ded9157a38a0",
            "placeholder": "​",
            "style": "IPY_MODEL_e2ec205dc0c349b4a472efcf3b1d1f86",
            "value": " 179/179 [01:04&lt;00:00,  3.35it/s]"
          }
        },
        "e49f8e7df4404c3e8199c50fef902dc5": {
          "model_module": "@jupyter-widgets/controls",
          "model_module_version": "1.5.0",
          "model_name": "ProgressStyleModel",
          "state": {
            "_model_module": "@jupyter-widgets/controls",
            "_model_module_version": "1.5.0",
            "_model_name": "ProgressStyleModel",
            "_view_count": null,
            "_view_module": "@jupyter-widgets/base",
            "_view_module_version": "1.2.0",
            "_view_name": "StyleView",
            "bar_color": null,
            "description_width": ""
          }
        },
        "e4a63456dfd645d799d0908cc5a1baab": {
          "model_module": "@jupyter-widgets/base",
          "model_module_version": "1.2.0",
          "model_name": "LayoutModel",
          "state": {
            "_model_module": "@jupyter-widgets/base",
            "_model_module_version": "1.2.0",
            "_model_name": "LayoutModel",
            "_view_count": null,
            "_view_module": "@jupyter-widgets/base",
            "_view_module_version": "1.2.0",
            "_view_name": "LayoutView",
            "align_content": null,
            "align_items": null,
            "align_self": null,
            "border": null,
            "bottom": null,
            "display": null,
            "flex": null,
            "flex_flow": null,
            "grid_area": null,
            "grid_auto_columns": null,
            "grid_auto_flow": null,
            "grid_auto_rows": null,
            "grid_column": null,
            "grid_gap": null,
            "grid_row": null,
            "grid_template_areas": null,
            "grid_template_columns": null,
            "grid_template_rows": null,
            "height": null,
            "justify_content": null,
            "justify_items": null,
            "left": null,
            "margin": null,
            "max_height": null,
            "max_width": null,
            "min_height": null,
            "min_width": null,
            "object_fit": null,
            "object_position": null,
            "order": null,
            "overflow": null,
            "overflow_x": null,
            "overflow_y": null,
            "padding": null,
            "right": null,
            "top": null,
            "visibility": null,
            "width": null
          }
        },
        "e4a658db5e5e42c59e2be4565efe210b": {
          "model_module": "@jupyter-widgets/controls",
          "model_module_version": "1.5.0",
          "model_name": "FloatProgressModel",
          "state": {
            "_dom_classes": [],
            "_model_module": "@jupyter-widgets/controls",
            "_model_module_version": "1.5.0",
            "_model_name": "FloatProgressModel",
            "_view_count": null,
            "_view_module": "@jupyter-widgets/controls",
            "_view_module_version": "1.5.0",
            "_view_name": "ProgressView",
            "bar_style": "success",
            "description": "",
            "description_tooltip": null,
            "layout": "IPY_MODEL_c2613e706707436eaf83c9a551201421",
            "max": 77,
            "min": 0,
            "orientation": "horizontal",
            "style": "IPY_MODEL_65eeca7014fd433899133379d5ec5de3",
            "value": 77
          }
        },
        "e51edf7b68fe443b8e43fb99efabff78": {
          "model_module": "@jupyter-widgets/controls",
          "model_module_version": "1.5.0",
          "model_name": "HTMLModel",
          "state": {
            "_dom_classes": [],
            "_model_module": "@jupyter-widgets/controls",
            "_model_module_version": "1.5.0",
            "_model_name": "HTMLModel",
            "_view_count": null,
            "_view_module": "@jupyter-widgets/controls",
            "_view_module_version": "1.5.0",
            "_view_name": "HTMLView",
            "description": "",
            "description_tooltip": null,
            "layout": "IPY_MODEL_a95bcbc585cf4b29967f115ab4654853",
            "placeholder": "​",
            "style": "IPY_MODEL_ad4860ff269844b0bc5ccdc201d5be8f",
            "value": " 179/179 [01:08&lt;00:00,  3.27it/s]"
          }
        },
        "e84dfb1cdde84c49aafece3a2bd3dc0e": {
          "model_module": "@jupyter-widgets/controls",
          "model_module_version": "1.5.0",
          "model_name": "FloatProgressModel",
          "state": {
            "_dom_classes": [],
            "_model_module": "@jupyter-widgets/controls",
            "_model_module_version": "1.5.0",
            "_model_name": "FloatProgressModel",
            "_view_count": null,
            "_view_module": "@jupyter-widgets/controls",
            "_view_module_version": "1.5.0",
            "_view_name": "ProgressView",
            "bar_style": "success",
            "description": "",
            "description_tooltip": null,
            "layout": "IPY_MODEL_45f62558ddcc4689843dea4284842143",
            "max": 179,
            "min": 0,
            "orientation": "horizontal",
            "style": "IPY_MODEL_31b910847764476ba4a6d2e1489f89ce",
            "value": 179
          }
        },
        "e863e8481626423287cfd726e6455e49": {
          "model_module": "@jupyter-widgets/controls",
          "model_module_version": "1.5.0",
          "model_name": "DescriptionStyleModel",
          "state": {
            "_model_module": "@jupyter-widgets/controls",
            "_model_module_version": "1.5.0",
            "_model_name": "DescriptionStyleModel",
            "_view_count": null,
            "_view_module": "@jupyter-widgets/base",
            "_view_module_version": "1.2.0",
            "_view_name": "StyleView",
            "description_width": ""
          }
        },
        "e8d9cd6b3bfa433e99f4cd94bf33db52": {
          "model_module": "@jupyter-widgets/controls",
          "model_module_version": "1.5.0",
          "model_name": "DescriptionStyleModel",
          "state": {
            "_model_module": "@jupyter-widgets/controls",
            "_model_module_version": "1.5.0",
            "_model_name": "DescriptionStyleModel",
            "_view_count": null,
            "_view_module": "@jupyter-widgets/base",
            "_view_module_version": "1.2.0",
            "_view_name": "StyleView",
            "description_width": ""
          }
        },
        "e9d019f8297c489b8699b16859ec21b1": {
          "model_module": "@jupyter-widgets/controls",
          "model_module_version": "1.5.0",
          "model_name": "DescriptionStyleModel",
          "state": {
            "_model_module": "@jupyter-widgets/controls",
            "_model_module_version": "1.5.0",
            "_model_name": "DescriptionStyleModel",
            "_view_count": null,
            "_view_module": "@jupyter-widgets/base",
            "_view_module_version": "1.2.0",
            "_view_name": "StyleView",
            "description_width": ""
          }
        },
        "ea442b5d21424f69bcba4b32509ebe63": {
          "model_module": "@jupyter-widgets/controls",
          "model_module_version": "1.5.0",
          "model_name": "ProgressStyleModel",
          "state": {
            "_model_module": "@jupyter-widgets/controls",
            "_model_module_version": "1.5.0",
            "_model_name": "ProgressStyleModel",
            "_view_count": null,
            "_view_module": "@jupyter-widgets/base",
            "_view_module_version": "1.2.0",
            "_view_name": "StyleView",
            "bar_color": null,
            "description_width": ""
          }
        },
        "ea88dc62e468492bb3058bb9c8e104c4": {
          "model_module": "@jupyter-widgets/controls",
          "model_module_version": "1.5.0",
          "model_name": "DescriptionStyleModel",
          "state": {
            "_model_module": "@jupyter-widgets/controls",
            "_model_module_version": "1.5.0",
            "_model_name": "DescriptionStyleModel",
            "_view_count": null,
            "_view_module": "@jupyter-widgets/base",
            "_view_module_version": "1.2.0",
            "_view_name": "StyleView",
            "description_width": ""
          }
        },
        "edcfd019d5aa4267affe2aa399f753ee": {
          "model_module": "@jupyter-widgets/controls",
          "model_module_version": "1.5.0",
          "model_name": "HTMLModel",
          "state": {
            "_dom_classes": [],
            "_model_module": "@jupyter-widgets/controls",
            "_model_module_version": "1.5.0",
            "_model_name": "HTMLModel",
            "_view_count": null,
            "_view_module": "@jupyter-widgets/controls",
            "_view_module_version": "1.5.0",
            "_view_name": "HTMLView",
            "description": "",
            "description_tooltip": null,
            "layout": "IPY_MODEL_d0550d77d4624b909d2241fe1d4df600",
            "placeholder": "​",
            "style": "IPY_MODEL_0ef34383a16d4a038c51c87f7519527d",
            "value": " 179/179 [01:08&lt;00:00,  3.30it/s]"
          }
        },
        "ee4f4d99bccf435db591b99f92eaabdd": {
          "model_module": "@jupyter-widgets/controls",
          "model_module_version": "1.5.0",
          "model_name": "HTMLModel",
          "state": {
            "_dom_classes": [],
            "_model_module": "@jupyter-widgets/controls",
            "_model_module_version": "1.5.0",
            "_model_name": "HTMLModel",
            "_view_count": null,
            "_view_module": "@jupyter-widgets/controls",
            "_view_module_version": "1.5.0",
            "_view_name": "HTMLView",
            "description": "",
            "description_tooltip": null,
            "layout": "IPY_MODEL_40df0dff5ba54849b219804413990889",
            "placeholder": "​",
            "style": "IPY_MODEL_cd28a884389641c79720af43295abb32",
            "value": "Downloading: 100%"
          }
        },
        "eed1026602c54560b7f014ba423e02d2": {
          "model_module": "@jupyter-widgets/controls",
          "model_module_version": "1.5.0",
          "model_name": "HTMLModel",
          "state": {
            "_dom_classes": [],
            "_model_module": "@jupyter-widgets/controls",
            "_model_module_version": "1.5.0",
            "_model_name": "HTMLModel",
            "_view_count": null,
            "_view_module": "@jupyter-widgets/controls",
            "_view_module_version": "1.5.0",
            "_view_name": "HTMLView",
            "description": "",
            "description_tooltip": null,
            "layout": "IPY_MODEL_ac3b266065c1407c842b0028cf8b4707",
            "placeholder": "​",
            "style": "IPY_MODEL_6dc4cdc0cb2c49668de60382f77ca1b6",
            "value": " 77/77 [00:09&lt;00:00,  7.80it/s]"
          }
        },
        "ef607b1e71ce461e8c711ef777998145": {
          "model_module": "@jupyter-widgets/controls",
          "model_module_version": "1.5.0",
          "model_name": "HBoxModel",
          "state": {
            "_dom_classes": [],
            "_model_module": "@jupyter-widgets/controls",
            "_model_module_version": "1.5.0",
            "_model_name": "HBoxModel",
            "_view_count": null,
            "_view_module": "@jupyter-widgets/controls",
            "_view_module_version": "1.5.0",
            "_view_name": "HBoxView",
            "box_style": "",
            "children": [
              "IPY_MODEL_3654e8ee5ecf4053bd5c478f19e6b4fb",
              "IPY_MODEL_b77f2cd868454edb97f5f7bdad827c76",
              "IPY_MODEL_92387edcdb33449195ecd0462dbe0548"
            ],
            "layout": "IPY_MODEL_91aebe0a678344da90617b6198d5dc26"
          }
        },
        "f12ec2ae6e15454ba79732e661735cf7": {
          "model_module": "@jupyter-widgets/base",
          "model_module_version": "1.2.0",
          "model_name": "LayoutModel",
          "state": {
            "_model_module": "@jupyter-widgets/base",
            "_model_module_version": "1.2.0",
            "_model_name": "LayoutModel",
            "_view_count": null,
            "_view_module": "@jupyter-widgets/base",
            "_view_module_version": "1.2.0",
            "_view_name": "LayoutView",
            "align_content": null,
            "align_items": null,
            "align_self": null,
            "border": null,
            "bottom": null,
            "display": null,
            "flex": null,
            "flex_flow": null,
            "grid_area": null,
            "grid_auto_columns": null,
            "grid_auto_flow": null,
            "grid_auto_rows": null,
            "grid_column": null,
            "grid_gap": null,
            "grid_row": null,
            "grid_template_areas": null,
            "grid_template_columns": null,
            "grid_template_rows": null,
            "height": null,
            "justify_content": null,
            "justify_items": null,
            "left": null,
            "margin": null,
            "max_height": null,
            "max_width": null,
            "min_height": null,
            "min_width": null,
            "object_fit": null,
            "object_position": null,
            "order": null,
            "overflow": null,
            "overflow_x": null,
            "overflow_y": null,
            "padding": null,
            "right": null,
            "top": null,
            "visibility": null,
            "width": null
          }
        },
        "f16934ec9dd943629632eab5e98a2fb7": {
          "model_module": "@jupyter-widgets/base",
          "model_module_version": "1.2.0",
          "model_name": "LayoutModel",
          "state": {
            "_model_module": "@jupyter-widgets/base",
            "_model_module_version": "1.2.0",
            "_model_name": "LayoutModel",
            "_view_count": null,
            "_view_module": "@jupyter-widgets/base",
            "_view_module_version": "1.2.0",
            "_view_name": "LayoutView",
            "align_content": null,
            "align_items": null,
            "align_self": null,
            "border": null,
            "bottom": null,
            "display": null,
            "flex": null,
            "flex_flow": null,
            "grid_area": null,
            "grid_auto_columns": null,
            "grid_auto_flow": null,
            "grid_auto_rows": null,
            "grid_column": null,
            "grid_gap": null,
            "grid_row": null,
            "grid_template_areas": null,
            "grid_template_columns": null,
            "grid_template_rows": null,
            "height": null,
            "justify_content": null,
            "justify_items": null,
            "left": null,
            "margin": null,
            "max_height": null,
            "max_width": null,
            "min_height": null,
            "min_width": null,
            "object_fit": null,
            "object_position": null,
            "order": null,
            "overflow": null,
            "overflow_x": null,
            "overflow_y": null,
            "padding": null,
            "right": null,
            "top": null,
            "visibility": null,
            "width": null
          }
        },
        "f170323ae12c4c70968abb16a870adc7": {
          "model_module": "@jupyter-widgets/controls",
          "model_module_version": "1.5.0",
          "model_name": "DescriptionStyleModel",
          "state": {
            "_model_module": "@jupyter-widgets/controls",
            "_model_module_version": "1.5.0",
            "_model_name": "DescriptionStyleModel",
            "_view_count": null,
            "_view_module": "@jupyter-widgets/base",
            "_view_module_version": "1.2.0",
            "_view_name": "StyleView",
            "description_width": ""
          }
        },
        "f23e3a9aeb9e42408ff62ab98d1f55b3": {
          "model_module": "@jupyter-widgets/controls",
          "model_module_version": "1.5.0",
          "model_name": "DescriptionStyleModel",
          "state": {
            "_model_module": "@jupyter-widgets/controls",
            "_model_module_version": "1.5.0",
            "_model_name": "DescriptionStyleModel",
            "_view_count": null,
            "_view_module": "@jupyter-widgets/base",
            "_view_module_version": "1.2.0",
            "_view_name": "StyleView",
            "description_width": ""
          }
        },
        "f2665855a74b4430bf176500533cbf63": {
          "model_module": "@jupyter-widgets/controls",
          "model_module_version": "1.5.0",
          "model_name": "DescriptionStyleModel",
          "state": {
            "_model_module": "@jupyter-widgets/controls",
            "_model_module_version": "1.5.0",
            "_model_name": "DescriptionStyleModel",
            "_view_count": null,
            "_view_module": "@jupyter-widgets/base",
            "_view_module_version": "1.2.0",
            "_view_name": "StyleView",
            "description_width": ""
          }
        },
        "f388e280095c42b385478738cfd1b4c0": {
          "model_module": "@jupyter-widgets/base",
          "model_module_version": "1.2.0",
          "model_name": "LayoutModel",
          "state": {
            "_model_module": "@jupyter-widgets/base",
            "_model_module_version": "1.2.0",
            "_model_name": "LayoutModel",
            "_view_count": null,
            "_view_module": "@jupyter-widgets/base",
            "_view_module_version": "1.2.0",
            "_view_name": "LayoutView",
            "align_content": null,
            "align_items": null,
            "align_self": null,
            "border": null,
            "bottom": null,
            "display": null,
            "flex": null,
            "flex_flow": null,
            "grid_area": null,
            "grid_auto_columns": null,
            "grid_auto_flow": null,
            "grid_auto_rows": null,
            "grid_column": null,
            "grid_gap": null,
            "grid_row": null,
            "grid_template_areas": null,
            "grid_template_columns": null,
            "grid_template_rows": null,
            "height": null,
            "justify_content": null,
            "justify_items": null,
            "left": null,
            "margin": null,
            "max_height": null,
            "max_width": null,
            "min_height": null,
            "min_width": null,
            "object_fit": null,
            "object_position": null,
            "order": null,
            "overflow": null,
            "overflow_x": null,
            "overflow_y": null,
            "padding": null,
            "right": null,
            "top": null,
            "visibility": null,
            "width": null
          }
        },
        "f4cddc8b0551437a860b40be14f87adf": {
          "model_module": "@jupyter-widgets/controls",
          "model_module_version": "1.5.0",
          "model_name": "DescriptionStyleModel",
          "state": {
            "_model_module": "@jupyter-widgets/controls",
            "_model_module_version": "1.5.0",
            "_model_name": "DescriptionStyleModel",
            "_view_count": null,
            "_view_module": "@jupyter-widgets/base",
            "_view_module_version": "1.2.0",
            "_view_name": "StyleView",
            "description_width": ""
          }
        },
        "f52fab14e2464cc6beb7e3a34cde94d7": {
          "model_module": "@jupyter-widgets/controls",
          "model_module_version": "1.5.0",
          "model_name": "HTMLModel",
          "state": {
            "_dom_classes": [],
            "_model_module": "@jupyter-widgets/controls",
            "_model_module_version": "1.5.0",
            "_model_name": "HTMLModel",
            "_view_count": null,
            "_view_module": "@jupyter-widgets/controls",
            "_view_module_version": "1.5.0",
            "_view_name": "HTMLView",
            "description": "",
            "description_tooltip": null,
            "layout": "IPY_MODEL_8e5d98e7aa0246cc89954ba01f92316c",
            "placeholder": "​",
            "style": "IPY_MODEL_3c3b42e4cfb746f1b38303bb06d9ef9a",
            "value": "100%"
          }
        },
        "f5940474d8ba40ed933b6527a3e76b18": {
          "model_module": "@jupyter-widgets/controls",
          "model_module_version": "1.5.0",
          "model_name": "DescriptionStyleModel",
          "state": {
            "_model_module": "@jupyter-widgets/controls",
            "_model_module_version": "1.5.0",
            "_model_name": "DescriptionStyleModel",
            "_view_count": null,
            "_view_module": "@jupyter-widgets/base",
            "_view_module_version": "1.2.0",
            "_view_name": "StyleView",
            "description_width": ""
          }
        },
        "f63899c700ed430480ddf0029c09afa2": {
          "model_module": "@jupyter-widgets/base",
          "model_module_version": "1.2.0",
          "model_name": "LayoutModel",
          "state": {
            "_model_module": "@jupyter-widgets/base",
            "_model_module_version": "1.2.0",
            "_model_name": "LayoutModel",
            "_view_count": null,
            "_view_module": "@jupyter-widgets/base",
            "_view_module_version": "1.2.0",
            "_view_name": "LayoutView",
            "align_content": null,
            "align_items": null,
            "align_self": null,
            "border": null,
            "bottom": null,
            "display": null,
            "flex": null,
            "flex_flow": null,
            "grid_area": null,
            "grid_auto_columns": null,
            "grid_auto_flow": null,
            "grid_auto_rows": null,
            "grid_column": null,
            "grid_gap": null,
            "grid_row": null,
            "grid_template_areas": null,
            "grid_template_columns": null,
            "grid_template_rows": null,
            "height": null,
            "justify_content": null,
            "justify_items": null,
            "left": null,
            "margin": null,
            "max_height": null,
            "max_width": null,
            "min_height": null,
            "min_width": null,
            "object_fit": null,
            "object_position": null,
            "order": null,
            "overflow": null,
            "overflow_x": null,
            "overflow_y": null,
            "padding": null,
            "right": null,
            "top": null,
            "visibility": null,
            "width": null
          }
        },
        "f67fd1c8f6c94190af6c359da1070347": {
          "model_module": "@jupyter-widgets/controls",
          "model_module_version": "1.5.0",
          "model_name": "ProgressStyleModel",
          "state": {
            "_model_module": "@jupyter-widgets/controls",
            "_model_module_version": "1.5.0",
            "_model_name": "ProgressStyleModel",
            "_view_count": null,
            "_view_module": "@jupyter-widgets/base",
            "_view_module_version": "1.2.0",
            "_view_name": "StyleView",
            "bar_color": null,
            "description_width": ""
          }
        },
        "f8a512be918f441da317bf3a0ed5360d": {
          "model_module": "@jupyter-widgets/controls",
          "model_module_version": "1.5.0",
          "model_name": "DescriptionStyleModel",
          "state": {
            "_model_module": "@jupyter-widgets/controls",
            "_model_module_version": "1.5.0",
            "_model_name": "DescriptionStyleModel",
            "_view_count": null,
            "_view_module": "@jupyter-widgets/base",
            "_view_module_version": "1.2.0",
            "_view_name": "StyleView",
            "description_width": ""
          }
        },
        "fcbc527240d34c24934b63fec4b5944d": {
          "model_module": "@jupyter-widgets/base",
          "model_module_version": "1.2.0",
          "model_name": "LayoutModel",
          "state": {
            "_model_module": "@jupyter-widgets/base",
            "_model_module_version": "1.2.0",
            "_model_name": "LayoutModel",
            "_view_count": null,
            "_view_module": "@jupyter-widgets/base",
            "_view_module_version": "1.2.0",
            "_view_name": "LayoutView",
            "align_content": null,
            "align_items": null,
            "align_self": null,
            "border": null,
            "bottom": null,
            "display": null,
            "flex": null,
            "flex_flow": null,
            "grid_area": null,
            "grid_auto_columns": null,
            "grid_auto_flow": null,
            "grid_auto_rows": null,
            "grid_column": null,
            "grid_gap": null,
            "grid_row": null,
            "grid_template_areas": null,
            "grid_template_columns": null,
            "grid_template_rows": null,
            "height": null,
            "justify_content": null,
            "justify_items": null,
            "left": null,
            "margin": null,
            "max_height": null,
            "max_width": null,
            "min_height": null,
            "min_width": null,
            "object_fit": null,
            "object_position": null,
            "order": null,
            "overflow": null,
            "overflow_x": null,
            "overflow_y": null,
            "padding": null,
            "right": null,
            "top": null,
            "visibility": null,
            "width": null
          }
        },
        "fda78f8b5ac84b0b8eccc6375bec0d35": {
          "model_module": "@jupyter-widgets/controls",
          "model_module_version": "1.5.0",
          "model_name": "DescriptionStyleModel",
          "state": {
            "_model_module": "@jupyter-widgets/controls",
            "_model_module_version": "1.5.0",
            "_model_name": "DescriptionStyleModel",
            "_view_count": null,
            "_view_module": "@jupyter-widgets/base",
            "_view_module_version": "1.2.0",
            "_view_name": "StyleView",
            "description_width": ""
          }
        },
        "fe4890fcacdb49e2807b7e95195a741e": {
          "model_module": "@jupyter-widgets/controls",
          "model_module_version": "1.5.0",
          "model_name": "HTMLModel",
          "state": {
            "_dom_classes": [],
            "_model_module": "@jupyter-widgets/controls",
            "_model_module_version": "1.5.0",
            "_model_name": "HTMLModel",
            "_view_count": null,
            "_view_module": "@jupyter-widgets/controls",
            "_view_module_version": "1.5.0",
            "_view_name": "HTMLView",
            "description": "",
            "description_tooltip": null,
            "layout": "IPY_MODEL_e4a63456dfd645d799d0908cc5a1baab",
            "placeholder": "​",
            "style": "IPY_MODEL_ad05971ead2e44e7863c7db2571a83c2",
            "value": "100%"
          }
        }
      }
    }
  },
  "nbformat": 4,
  "nbformat_minor": 0
}
