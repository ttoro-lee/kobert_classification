{
  "cells": [
    {
      "cell_type": "markdown",
      "metadata": {
        "id": "FlRWJB2w6Ip6"
      },
      "source": [
        "## 1. 개발 환경 설정\n",
        "\n",
        "- 1:1 문의 데이터의 경우 온라인에서 많이 사용하는 문장이 포함됨\n",
        "- KcELECTRA DATASET\n",
        "\n",
        "\n",
        "> **NOTE**\n",
        "공개된 한국어 Transformer 계열 모델들은 대부분 한국어 위키, 뉴스 기사, 책 등 잘 정제된 데이터를 기반으로 학습한 모델입니다. 한편, 실제로 NSMC와 같은 User-Generated Noisy text domain 데이터셋은 정제되지 않았고 구어체 특징에 신조어가 많으며, 오탈자 등 공식적인 글쓰기에서 나타나지 않는 표현들이 빈번하게 등장합니다.\n",
        "KcELECTRA는 위와 같은 특성의 데이터셋에 적용하기 위해, 온라인 뉴스에서 댓글과 대댓글을 수집해, 토크나이저와 ELECTRA모델을 처음부터 학습한 Pretrained ELECTRA 모델입니다.\n",
        "기존 KcBERT 대비 데이터셋 증가 및 vocab 확장을 통해 상당한 수준으로 성능이 향상되었습니다.\n",
        "\n",
        "- 따라서 kobert에 비해 정확도가 약 82% -> 83%로 증가하는 것을 확인할 수 있었음\n",
        "- 또한 clean() 함수를 통한 preprocessing을 통해 NLP Model이 내용을 더 잘 이해할 수 있도록 처리함"
      ]
    },
    {
      "cell_type": "markdown",
      "metadata": {
        "id": "607PVS06_D8A"
      },
      "source": [
        "### 1-1. 라이브러리 설치"
      ]
    },
    {
      "cell_type": "code",
      "execution_count": null,
      "metadata": {
        "colab": {
          "base_uri": "https://localhost:8080/"
        },
        "id": "lyCFUUOl_D8A",
        "outputId": "b6b8dc15-c933-47c9-bf8f-eb58ca1b8ac3"
      },
      "outputs": [
        {
          "name": "stdout",
          "output_type": "stream",
          "text": [
            "Requirement already satisfied: konlpy in /usr/local/lib/python3.10/dist-packages (0.6.0)\n",
            "Requirement already satisfied: pandas in /usr/local/lib/python3.10/dist-packages (2.0.3)\n",
            "Requirement already satisfied: seaborn in /usr/local/lib/python3.10/dist-packages (0.13.1)\n",
            "Requirement already satisfied: gensim in /usr/local/lib/python3.10/dist-packages (4.3.2)\n",
            "Requirement already satisfied: wordcloud in /usr/local/lib/python3.10/dist-packages (1.9.3)\n",
            "Requirement already satisfied: python-mecab-ko in /usr/local/lib/python3.10/dist-packages (1.3.5)\n",
            "Requirement already satisfied: wget in /usr/local/lib/python3.10/dist-packages (3.2)\n",
            "Requirement already satisfied: JPype1>=0.7.0 in /usr/local/lib/python3.10/dist-packages (from konlpy) (1.5.0)\n",
            "Requirement already satisfied: lxml>=4.1.0 in /usr/local/lib/python3.10/dist-packages (from konlpy) (4.9.4)\n",
            "Requirement already satisfied: numpy>=1.6 in /usr/local/lib/python3.10/dist-packages (from konlpy) (1.23.1)\n",
            "Requirement already satisfied: python-dateutil>=2.8.2 in /usr/local/lib/python3.10/dist-packages (from pandas) (2.8.2)\n",
            "Requirement already satisfied: pytz>=2020.1 in /usr/local/lib/python3.10/dist-packages (from pandas) (2023.4)\n",
            "Requirement already satisfied: tzdata>=2022.1 in /usr/local/lib/python3.10/dist-packages (from pandas) (2024.1)\n",
            "Requirement already satisfied: matplotlib!=3.6.1,>=3.4 in /usr/local/lib/python3.10/dist-packages (from seaborn) (3.7.1)\n",
            "Requirement already satisfied: scipy>=1.7.0 in /usr/local/lib/python3.10/dist-packages (from gensim) (1.11.4)\n",
            "Requirement already satisfied: smart-open>=1.8.1 in /usr/local/lib/python3.10/dist-packages (from gensim) (6.4.0)\n",
            "Requirement already satisfied: pillow in /usr/local/lib/python3.10/dist-packages (from wordcloud) (9.4.0)\n",
            "Requirement already satisfied: python-mecab-ko-dic in /usr/local/lib/python3.10/dist-packages (from python-mecab-ko) (2.1.1.post2)\n",
            "Requirement already satisfied: packaging in /usr/local/lib/python3.10/dist-packages (from JPype1>=0.7.0->konlpy) (24.0)\n",
            "Requirement already satisfied: contourpy>=1.0.1 in /usr/local/lib/python3.10/dist-packages (from matplotlib!=3.6.1,>=3.4->seaborn) (1.2.1)\n",
            "Requirement already satisfied: cycler>=0.10 in /usr/local/lib/python3.10/dist-packages (from matplotlib!=3.6.1,>=3.4->seaborn) (0.12.1)\n",
            "Requirement already satisfied: fonttools>=4.22.0 in /usr/local/lib/python3.10/dist-packages (from matplotlib!=3.6.1,>=3.4->seaborn) (4.51.0)\n",
            "Requirement already satisfied: kiwisolver>=1.0.1 in /usr/local/lib/python3.10/dist-packages (from matplotlib!=3.6.1,>=3.4->seaborn) (1.4.5)\n",
            "Requirement already satisfied: pyparsing>=2.3.1 in /usr/local/lib/python3.10/dist-packages (from matplotlib!=3.6.1,>=3.4->seaborn) (3.1.2)\n",
            "Requirement already satisfied: six>=1.5 in /usr/local/lib/python3.10/dist-packages (from python-dateutil>=2.8.2->pandas) (1.16.0)\n"
          ]
        }
      ],
      "source": [
        "!pip install konlpy pandas seaborn gensim wordcloud python-mecab-ko wget"
      ]
    },
    {
      "cell_type": "markdown",
      "metadata": {
        "id": "NT9Gg7Rl_D8A"
      },
      "source": [
        "### 1-2. 라이브러리 import"
      ]
    },
    {
      "cell_type": "code",
      "execution_count": null,
      "metadata": {
        "id": "JqrjuqNv_D8B"
      },
      "outputs": [],
      "source": [
        "from mecab import MeCab\n",
        "import numpy as np\n",
        "import matplotlib.pyplot as plt\n",
        "import seaborn as sns\n",
        "import wget,os\n",
        "from IPython.display import display\n",
        "import matplotlib.pyplot as plt\n",
        "import pandas as pd\n",
        "import matplotlib.font_manager as fm\n",
        "import matplotlib.pyplot as plt\n",
        "import tensorflow as tf\n",
        "import nltk\n",
        "import wget,os"
      ]
    },
    {
      "cell_type": "markdown",
      "metadata": {
        "id": "8HudBBAT_D8B"
      },
      "source": [
        "### 1-3. 한글 글꼴 설정(Windows)"
      ]
    },
    {
      "cell_type": "code",
      "execution_count": null,
      "metadata": {
        "id": "mM9kfexp_D8B"
      },
      "outputs": [],
      "source": [
        "# os.environ['JAVA_HOME'] = \"C:\\Program Files\\Java\\jdk-19\""
      ]
    },
    {
      "cell_type": "markdown",
      "metadata": {
        "id": "yUD4_N7S_D8B"
      },
      "source": [
        "### 1-3. 한글 글꼴 설정(Colab)"
      ]
    },
    {
      "cell_type": "code",
      "execution_count": null,
      "metadata": {
        "colab": {
          "base_uri": "https://localhost:8080/"
        },
        "id": "hy5HTXBV_D8B",
        "outputId": "de859d62-6835-4fbb-ab83-f731f6fce4ee"
      },
      "outputs": [
        {
          "name": "stdout",
          "output_type": "stream",
          "text": [
            "Reading package lists... Done\n",
            "Building dependency tree... Done\n",
            "Reading state information... Done\n",
            "fonts-nanum is already the newest version (20200506-1).\n",
            "0 upgraded, 0 newly installed, 0 to remove and 45 not upgraded.\n",
            "/usr/share/fonts: caching, new cache contents: 0 fonts, 1 dirs\n",
            "/usr/share/fonts/truetype: caching, new cache contents: 0 fonts, 3 dirs\n",
            "/usr/share/fonts/truetype/humor-sans: caching, new cache contents: 1 fonts, 0 dirs\n",
            "/usr/share/fonts/truetype/liberation: caching, new cache contents: 16 fonts, 0 dirs\n",
            "/usr/share/fonts/truetype/nanum: caching, new cache contents: 12 fonts, 0 dirs\n",
            "/usr/local/share/fonts: caching, new cache contents: 0 fonts, 0 dirs\n",
            "/root/.local/share/fonts: skipping, no such directory\n",
            "/root/.fonts: skipping, no such directory\n",
            "/usr/share/fonts/truetype: skipping, looped directory detected\n",
            "/usr/share/fonts/truetype/humor-sans: skipping, looped directory detected\n",
            "/usr/share/fonts/truetype/liberation: skipping, looped directory detected\n",
            "/usr/share/fonts/truetype/nanum: skipping, looped directory detected\n",
            "/var/cache/fontconfig: cleaning cache directory\n",
            "/root/.cache/fontconfig: not cleaning non-existent cache directory\n",
            "/root/.fontconfig: not cleaning non-existent cache directory\n",
            "fc-cache: succeeded\n"
          ]
        }
      ],
      "source": [
        "!sudo apt-get install -y fonts-nanum\n",
        "!sudo fc-cache -fv\n",
        "!rm ~/.cache/matplotlib -rf"
      ]
    },
    {
      "cell_type": "code",
      "execution_count": null,
      "metadata": {
        "colab": {
          "base_uri": "https://localhost:8080/"
        },
        "id": "gxa3d29t_D8C",
        "outputId": "8181d2ab-ab65-4699-d358-7054e2c7e291"
      },
      "outputs": [
        {
          "name": "stdout",
          "output_type": "stream",
          "text": [
            "NanumGothic\n"
          ]
        }
      ],
      "source": [
        "FONT_PATH = '/usr/share/fonts/truetype/nanum/NanumGothic.ttf'\n",
        "font_name = fm.FontProperties(fname=FONT_PATH, size=10).get_name()\n",
        "print(font_name)\n",
        "plt.rcParams['font.family']=font_name\n",
        "assert plt.rcParams['font.family'] == [font_name], \"한글 폰트가 설정되지 않았습니다.\""
      ]
    },
    {
      "cell_type": "markdown",
      "metadata": {
        "id": "NfI3C7ef_D8C"
      },
      "source": [
        "### 1-4. 구글드라이브 연결(Colab)"
      ]
    },
    {
      "cell_type": "code",
      "execution_count": 6,
      "metadata": {
        "colab": {
          "base_uri": "https://localhost:8080/"
        },
        "id": "1cDXTG5d_D8C",
        "outputId": "5518f632-b943-4cb6-8374-76311fda12c7"
      },
      "outputs": [
        {
          "name": "stdout",
          "output_type": "stream",
          "text": [
            "Drive already mounted at /content/drive; to attempt to forcibly remount, call drive.mount(\"/content/drive\", force_remount=True).\n"
          ]
        }
      ],
      "source": [
        "from google.colab import drive\n",
        "drive.mount('/content/drive')"
      ]
    },
    {
      "cell_type": "markdown",
      "metadata": {
        "id": "VpwI7G4t_D8D"
      },
      "source": [
        "## 5. Using pre-trained model(Optional)\n",
        "* 한국어 pre-trained model로 fine tuning 및 성능 분석\n",
        "> * [BERT-tutorial](https://www.tensorflow.org/text/guide/bert_preprocessing_guide)\n",
        "> * [HuggingFace-Korean](https://huggingface.co/models?language=korean)"
      ]
    },
    {
      "cell_type": "markdown",
      "metadata": {
        "id": "Z8-tuu1tlbqJ"
      },
      "source": [
        "## 여기서부터 실행 KcELECTRA 구현\n",
        "### MultiClassification\n",
        "\n",
        "* 참고 blog : https://velog.io/@seolini43/KOBERT로-다중-분류-모델-만들기-파이썬Colab"
      ]
    },
    {
      "cell_type": "code",
      "execution_count": 7,
      "metadata": {
        "colab": {
          "base_uri": "https://localhost:8080/"
        },
        "id": "11JreV__5Ywc",
        "outputId": "9eeb7531-40c5-4c04-e288-583da66ffdd3"
      },
      "outputs": [
        {
          "name": "stderr",
          "output_type": "stream",
          "text": [
            "/usr/local/lib/python3.10/dist-packages/huggingface_hub/utils/_token.py:88: UserWarning: \n",
            "The secret `HF_TOKEN` does not exist in your Colab secrets.\n",
            "To authenticate with the Hugging Face Hub, create a token in your settings tab (https://huggingface.co/settings/tokens), set it as secret in your Google Colab and restart your session.\n",
            "You will be able to reuse this secret in all of your notebooks.\n",
            "Please note that authentication is recommended but still optional to access public models or datasets.\n",
            "  warnings.warn(\n"
          ]
        }
      ],
      "source": [
        "from transformers import AutoTokenizer, AutoModel\n",
        "\n",
        "# # 문장을 tokenize할 tokenizer와 model을 다운로드\n",
        "tokenizer = AutoTokenizer.from_pretrained(\"beomi/KcELECTRA-base-v2022\")\n",
        "# model = AutoModel.from_pretrained(\"beomi/KcELECTRA-base-v2022\")"
      ]
    },
    {
      "cell_type": "code",
      "execution_count": 8,
      "metadata": {
        "colab": {
          "base_uri": "https://localhost:8080/"
        },
        "id": "bJdsawLJ5t2I",
        "outputId": "77c61ef7-8c67-4b1b-fb47-1f20aa59bdb6"
      },
      "outputs": [
        {
          "name": "stdout",
          "output_type": "stream",
          "text": [
            "Requirement already satisfied: gluonnlp in /usr/local/lib/python3.10/dist-packages (0.10.0)\n",
            "Requirement already satisfied: numpy>=1.16.0 in /usr/local/lib/python3.10/dist-packages (from gluonnlp) (1.23.1)\n",
            "Requirement already satisfied: cython in /usr/local/lib/python3.10/dist-packages (from gluonnlp) (3.0.10)\n",
            "Requirement already satisfied: packaging in /usr/local/lib/python3.10/dist-packages (from gluonnlp) (24.0)\n"
          ]
        }
      ],
      "source": [
        "!pip install gluonnlp"
      ]
    },
    {
      "cell_type": "code",
      "execution_count": 9,
      "metadata": {
        "colab": {
          "base_uri": "https://localhost:8080/"
        },
        "id": "NeJ5LYrS6oJR",
        "outputId": "e3c7e9e3-0434-48a8-bd8c-69488973e54a"
      },
      "outputs": [
        {
          "name": "stdout",
          "output_type": "stream",
          "text": [
            "Requirement already satisfied: mxnet-mkl==1.6.0 in /usr/local/lib/python3.10/dist-packages (1.6.0)\n",
            "Requirement already satisfied: numpy==1.23.1 in /usr/local/lib/python3.10/dist-packages (1.23.1)\n",
            "Requirement already satisfied: requests<3,>=2.20.0 in /usr/local/lib/python3.10/dist-packages (from mxnet-mkl==1.6.0) (2.31.0)\n",
            "Requirement already satisfied: graphviz<0.9.0,>=0.8.1 in /usr/local/lib/python3.10/dist-packages (from mxnet-mkl==1.6.0) (0.8.4)\n",
            "Requirement already satisfied: charset-normalizer<4,>=2 in /usr/local/lib/python3.10/dist-packages (from requests<3,>=2.20.0->mxnet-mkl==1.6.0) (3.3.2)\n",
            "Requirement already satisfied: idna<4,>=2.5 in /usr/local/lib/python3.10/dist-packages (from requests<3,>=2.20.0->mxnet-mkl==1.6.0) (3.6)\n",
            "Requirement already satisfied: urllib3<3,>=1.21.1 in /usr/local/lib/python3.10/dist-packages (from requests<3,>=2.20.0->mxnet-mkl==1.6.0) (2.0.7)\n",
            "Requirement already satisfied: certifi>=2017.4.17 in /usr/local/lib/python3.10/dist-packages (from requests<3,>=2.20.0->mxnet-mkl==1.6.0) (2024.2.2)\n"
          ]
        }
      ],
      "source": [
        "!pip3 install mxnet-mkl==1.6.0 numpy==1.23.1"
      ]
    },
    {
      "cell_type": "code",
      "execution_count": 10,
      "metadata": {
        "colab": {
          "base_uri": "https://localhost:8080/"
        },
        "id": "S7Mm2d7I9im2",
        "outputId": "2b89df87-4715-4bac-bbf0-bdc144a98437"
      },
      "outputs": [
        {
          "name": "stdout",
          "output_type": "stream",
          "text": [
            "Requirement already satisfied: soynlp in /usr/local/lib/python3.10/dist-packages (0.0.493)\n",
            "Requirement already satisfied: emoji in /usr/local/lib/python3.10/dist-packages (2.11.0)\n",
            "Requirement already satisfied: numpy>=1.12.1 in /usr/local/lib/python3.10/dist-packages (from soynlp) (1.23.1)\n",
            "Requirement already satisfied: psutil>=5.0.1 in /usr/local/lib/python3.10/dist-packages (from soynlp) (5.9.5)\n",
            "Requirement already satisfied: scipy>=1.1.0 in /usr/local/lib/python3.10/dist-packages (from soynlp) (1.11.4)\n",
            "Requirement already satisfied: scikit-learn>=0.20.0 in /usr/local/lib/python3.10/dist-packages (from soynlp) (1.2.2)\n",
            "Requirement already satisfied: joblib>=1.1.1 in /usr/local/lib/python3.10/dist-packages (from scikit-learn>=0.20.0->soynlp) (1.4.0)\n",
            "Requirement already satisfied: threadpoolctl>=2.0.0 in /usr/local/lib/python3.10/dist-packages (from scikit-learn>=0.20.0->soynlp) (3.4.0)\n"
          ]
        }
      ],
      "source": [
        "!pip install soynlp emoji"
      ]
    },
    {
      "cell_type": "code",
      "execution_count": 11,
      "metadata": {
        "id": "_AZQYHhreF92"
      },
      "outputs": [],
      "source": [
        "import torch\n",
        "from torch import nn\n",
        "import torch.nn.functional as F\n",
        "import torch.optim as optim\n",
        "from torch.utils.data import Dataset, DataLoader\n",
        "import gluonnlp as nlp\n",
        "import numpy as np\n",
        "from tqdm import tqdm, tqdm_notebook"
      ]
    },
    {
      "cell_type": "code",
      "execution_count": 12,
      "metadata": {
        "id": "5VdIt1rVeHfo"
      },
      "outputs": [],
      "source": [
        "#transformers\n",
        "from transformers import AdamW\n",
        "from transformers.optimization import get_cosine_schedule_with_warmup"
      ]
    },
    {
      "cell_type": "code",
      "execution_count": 13,
      "metadata": {
        "id": "6Du_li0JeMH0"
      },
      "outputs": [],
      "source": [
        "#GPU 사용\n",
        "device = torch.device(\"cuda:0\")"
      ]
    },
    {
      "cell_type": "code",
      "execution_count": 14,
      "metadata": {
        "colab": {
          "base_uri": "https://localhost:8080/",
          "height": 206
        },
        "id": "SUh8Y70leRrW",
        "outputId": "bb6a9c12-3bc4-4734-c46a-82d373297b7b"
      },
      "outputs": [
        {
          "data": {
            "application/vnd.google.colaboratory.intrinsic+json": {
              "summary": "{\n  \"name\": \"df_test\",\n  \"rows\": 3706,\n  \"fields\": [\n    {\n      \"column\": \"text\",\n      \"properties\": {\n        \"dtype\": \"string\",\n        \"num_unique_values\": 3706,\n        \"samples\": [\n          \"8\\ubc88 \\uba85\\ub839\\ubd80\\ud130 \\ub2e4\\uc2dc \\uc2e4\\ud589\\ud558\\ub77c \\ud558\\uc168\\ub294\\ub370 root\\uc5d0\\uc11c \\ub098\\uc640\\uc57c \\ud558\\ub294 \\uac83 \\uac19\\uc544\\uc11c \\uc2dc\\ub3c4\\ud574\\ubcf4\\ub2e4\\uac00 \\uadf8\\ub0e5 \\uc0c8\\ud130\\ubbf8\\ub110 \\ub9cc\\ub4e4\\uc5b4\\uc11c \\ud588\\ub354\\ub2c8 \\uc774\\ub807\\uac8c \\ub429\\ub2c8\\ub2e4...\\n\\uadf8 \\uc678\\uc5d0\\ub3c4 worker\\ub791 master \\ub791 join\\ud560 \\ub54c \\ucc98\\uc74c \\ud55c \\ubc88\\uc740 \\ub418\\ub354\\ub2c8 \\uadf8 \\ub2e4\\uc74c\\ubd80\\ud130\\ub294 \\uc5d0\\ub7ec\\uac00 \\ub739\\ub2c8\\ub2e4..!\",\n          \"\\uba3c\\uc800, \\uae38\\uc774\\uac00 N\\uc778 \\uc6d0\\ubcf8 \\ubb38\\uc790\\uc5f4\\uc5d0 \\ub300\\ud574, 1 \\u2264 k \\u2264 N\\uc778 \\uc815\\uc218 k\\ub97c \\uace0\\ub985\\ub2c8\\ub2e4. \\uadf8 \\ub4a4, \\ud574\\ub2f9 \\ubb38\\uc790\\uc5f4\\uc5d0\\uc11c k\\uac1c\\uc758 \\uc5f0\\uc18d\\ub418\\ub294 \\ubb38\\uc790\\ub4e4\\uc744 \\uace8\\ub77c \\ubcf5\\uc0ac\\ud558\\uc5ec \\uac01 \\ubb38\\uc790 \\uc704\\uce58 \\ubc14\\ub85c \\ub4a4\\uc5d0 \\ubd99\\uc5ec\\ub123\\uc2b5\\ub2c8\\ub2e4.\\n\\n\\ucc98\\uc74c\\uc5d0\\ub294 \\uc6d0\\ubcf8 \\ubb38\\uc790\\uc5f4\\uc5d0\\uc11c \\uba87 \\uac1c\\uc758 \\ubb38\\uc790\\ub97c \\uc120\\ud0dd\\ud574\\uc11c \\uac01 \\ubb38\\uc790 \\ub4a4\\uc5d0 \\ubd99\\uc785\\ub2c8\\ub2e4. \\uadf8\\ub7f0\\ub370 \\uadf8 \\ub2e4\\uc74c\\uc740 \\uc5b4\\ub5bb\\uac8c \\ubd99\\uc5ec\\uc57c \\ud558\\ub294 \\uac83\\uc778\\uc9c0 \\ubb38\\uc81c\\ub97c \\ubd10\\ub3c4 \\uc798 \\ubaa8\\ub974\\uaca0\\uc2b5\\ub2c8\\ub2e4. \\uc911\\uac04\\uc5d0 \\ub9cc\\ub4e4\\uc5b4\\uc9c4 \\ubb38\\uc790\\uc5f4\\uc5d0\\uc11c \\uc5f0\\uc18d\\ub41c \\ubb38\\uc790\\ub4e4\\uc744 \\uace8\\ub77c\\uc11c \\uc911\\uac04\\uc5d0 \\ub9cc\\ub4e4\\uc5b4\\uc9c4 \\ubb38\\uc790\\uc5f4 \\ub4a4\\uc5d0 \\ubcf5\\uc0ac\\ud558\\ub294 \\uac74\\uc9c0,  \\uc6d0\\ubcf8 \\ubb38\\uc790\\uc5f4\\uc5d0\\uc11c \\uc5f0\\uc18d\\ub41c \\ubb38\\uc790\\ub4e4\\uc744 \\uace8\\ub77c\\uc11c \\uc911\\uac04\\uc5d0 \\ub9cc\\ub4e4\\uc5b4\\uc9c4 \\ubb38\\uc790\\uc5f4 \\ub4a4\\uc5d0 \\ubcf5\\uc0ac\\ud558\\ub294 \\uac74\\uc9c0 \\ud5f7\\uac08\\ub9bd\\ub2c8\\ub2e4. \\ub458 \\uc911 \\uc5b4\\ub5a4 \\ubc29\\uc2dd\\uc744 \\uc801\\uc6a9\\ud574\\ub3c4 \\uc608\\uc81c1\\uc774\\ub098 \\uc608\\uc81c2 \\uc911 \\ud558\\ub098\\uac00 \\ub9de\\uc9c0 \\uc54a\\uc2b5\\ub2c8\\ub2e4.\\n\\uc81c\\uac00 \\uc798\\ubabb \\uc774\\ud574\\ud55c \\ubd80\\ubd84\\uc744 \\uc54c\\ub824\\uc8fc\\uc138\\uc694. \\uc774 \\ubb38\\uc81c \\ud480\\uace0 \\uc2f6\\uc2b5\\ub2c8\\ub2e4.\\n\\nNOS\\n(\\uc6d0\\ubcf8 \\ubb38\\uc790\\uc5f4\\uc5d0\\uc11c N, O , S \\uc120\\ud0dd)\\n-&gt; NNOOSS\\n(\\uc6d0\\ubcf8 \\ubb38\\uc790\\uc5f4\\uc5d0\\uc11c O \\uc120\\ud0dd - O\\ub97c \\ud55c \\ubc88\\ub9cc \\ubcf5\\uc0ac?)\\n-&gt; NNOOOSS\\n\\nor\\n\\nNOS\\n(\\uc6d0\\ubcf8 \\ubb38\\uc790\\uc5f4\\uc5d0\\uc11c N, O , S \\uc120\\ud0dd)\\n-&gt; NNOOSS\\n(\\uc911\\uac04 \\ubb38\\uc790\\uc5f4\\uc5d0\\uc11c O \\uc120\\ud0dd\\ud574\\uc11c \\ubcf5\\uc0ac\\ud558\\ub2c8 O 2\\uac1c\\uac00 \\ub4a4\\uc5d0 \\ub367\\ubd99\\ub294\\ub2e4?)\\n-&gt; NNOOOOSS\\n\\uc6d0\\ud558\\ub294 \\ubb38\\uc790\\uc5f4\\uc778 NNOOOSS\\ubcf4\\ub2e4 \\uae38\\uc5b4\\uc9d0\\n\\n\\nPPS\\n(\\uc6d0\\ubcf8 \\ubb38\\uc790\\uc5f4\\uc5d0\\uc11c P, P , S \\uc120\\ud0dd)\\n-&gt; PPPPSS\\n(\\uc6d0\\ubcf8 \\ubb38\\uc790\\uc5f4\\uc5d0\\uc11c P , S \\uc120\\ud0dd)\\n-&gt; PPPPPSSS\\n(\\uc6d0\\ubcf8 \\ubb38\\uc790\\uc5f4\\uc5d0\\uc11c S \\uc120\\ud0dd)\\n-&gt; PPPPPSSSS\\n(\\uc6d0\\ubcf8 \\ubb38\\uc790\\uc5f4\\uc5d0\\uc11c S \\uc120\\ud0dd)\\n-&gt; PPPPPSSSSS\\n\\ucd1d 4\\ubc88\",\n          \"\\ubcc0\\uc218\\ub97c \\uc0c8\\ub86d\\uac8c \\ucd94\\uac00\\ud558\\uac70\\ub098 \\uae30\\uc874\\uc758 \\ub098\\uc774\\uc131\\ubcc4 \\ubcc0\\uc218\\ub97c \\uc0ac\\uc6a9\\ud574\\ub3c4 \\ub418\\ub098\\uc694? \\n\\ub610\\ud55c shitfing\\ud55c \\ubcc0\\uc218\\uac00 y\\uac00 \\uc544\\ub2c8\\ub77c x\\uc5d0 \\ub4e4\\uc5b4\\uac00\\ub294\\uac8c \\ub9de\\ub098\\uc694?\"\n        ],\n        \"semantic_type\": \"\",\n        \"description\": \"\"\n      }\n    },\n    {\n      \"column\": \"label\",\n      \"properties\": {\n        \"dtype\": \"category\",\n        \"num_unique_values\": 6,\n        \"samples\": [\n          \"\\ucf54\\ub4dc2\",\n          \"\\uc6f9\",\n          \"\\uc6d0\\uaca9\"\n        ],\n        \"semantic_type\": \"\",\n        \"description\": \"\"\n      }\n    }\n  ]\n}",
              "type": "dataframe",
              "variable_name": "df_test"
            },
            "text/html": [
              "\n",
              "  <div id=\"df-79b6964d-9d54-4b44-9982-3c5919f9bb90\" class=\"colab-df-container\">\n",
              "    <div>\n",
              "<style scoped>\n",
              "    .dataframe tbody tr th:only-of-type {\n",
              "        vertical-align: middle;\n",
              "    }\n",
              "\n",
              "    .dataframe tbody tr th {\n",
              "        vertical-align: top;\n",
              "    }\n",
              "\n",
              "    .dataframe thead th {\n",
              "        text-align: right;\n",
              "    }\n",
              "</style>\n",
              "<table border=\"1\" class=\"dataframe\">\n",
              "  <thead>\n",
              "    <tr style=\"text-align: right;\">\n",
              "      <th></th>\n",
              "      <th>text</th>\n",
              "      <th>label</th>\n",
              "    </tr>\n",
              "  </thead>\n",
              "  <tbody>\n",
              "    <tr>\n",
              "      <th>0</th>\n",
              "      <td>self.convs1 = nn.ModuleList([nn.Conv2d(1, Co, ...</td>\n",
              "      <td>코드2</td>\n",
              "    </tr>\n",
              "    <tr>\n",
              "      <th>1</th>\n",
              "      <td>현재 이미지를 여러개 업로드 하기 위해 자바스크립트로 동적으로 폼 여러개 생성하는데...</td>\n",
              "      <td>웹</td>\n",
              "    </tr>\n",
              "    <tr>\n",
              "      <th>2</th>\n",
              "      <td>glob.glob(PATH) 를 사용할 때 질문입니다.\\n\\nPATH에 [ ] 가 ...</td>\n",
              "      <td>코드2</td>\n",
              "    </tr>\n",
              "    <tr>\n",
              "      <th>3</th>\n",
              "      <td>tmpp = tmp.groupby(by = 'Addr1', as_index=Fals...</td>\n",
              "      <td>코드2</td>\n",
              "    </tr>\n",
              "    <tr>\n",
              "      <th>4</th>\n",
              "      <td>filename = TEST_IMAGE + str(round(frame_sec)) ...</td>\n",
              "      <td>코드2</td>\n",
              "    </tr>\n",
              "  </tbody>\n",
              "</table>\n",
              "</div>\n",
              "    <div class=\"colab-df-buttons\">\n",
              "\n",
              "  <div class=\"colab-df-container\">\n",
              "    <button class=\"colab-df-convert\" onclick=\"convertToInteractive('df-79b6964d-9d54-4b44-9982-3c5919f9bb90')\"\n",
              "            title=\"Convert this dataframe to an interactive table.\"\n",
              "            style=\"display:none;\">\n",
              "\n",
              "  <svg xmlns=\"http://www.w3.org/2000/svg\" height=\"24px\" viewBox=\"0 -960 960 960\">\n",
              "    <path d=\"M120-120v-720h720v720H120Zm60-500h600v-160H180v160Zm220 220h160v-160H400v160Zm0 220h160v-160H400v160ZM180-400h160v-160H180v160Zm440 0h160v-160H620v160ZM180-180h160v-160H180v160Zm440 0h160v-160H620v160Z\"/>\n",
              "  </svg>\n",
              "    </button>\n",
              "\n",
              "  <style>\n",
              "    .colab-df-container {\n",
              "      display:flex;\n",
              "      gap: 12px;\n",
              "    }\n",
              "\n",
              "    .colab-df-convert {\n",
              "      background-color: #E8F0FE;\n",
              "      border: none;\n",
              "      border-radius: 50%;\n",
              "      cursor: pointer;\n",
              "      display: none;\n",
              "      fill: #1967D2;\n",
              "      height: 32px;\n",
              "      padding: 0 0 0 0;\n",
              "      width: 32px;\n",
              "    }\n",
              "\n",
              "    .colab-df-convert:hover {\n",
              "      background-color: #E2EBFA;\n",
              "      box-shadow: 0px 1px 2px rgba(60, 64, 67, 0.3), 0px 1px 3px 1px rgba(60, 64, 67, 0.15);\n",
              "      fill: #174EA6;\n",
              "    }\n",
              "\n",
              "    .colab-df-buttons div {\n",
              "      margin-bottom: 4px;\n",
              "    }\n",
              "\n",
              "    [theme=dark] .colab-df-convert {\n",
              "      background-color: #3B4455;\n",
              "      fill: #D2E3FC;\n",
              "    }\n",
              "\n",
              "    [theme=dark] .colab-df-convert:hover {\n",
              "      background-color: #434B5C;\n",
              "      box-shadow: 0px 1px 3px 1px rgba(0, 0, 0, 0.15);\n",
              "      filter: drop-shadow(0px 1px 2px rgba(0, 0, 0, 0.3));\n",
              "      fill: #FFFFFF;\n",
              "    }\n",
              "  </style>\n",
              "\n",
              "    <script>\n",
              "      const buttonEl =\n",
              "        document.querySelector('#df-79b6964d-9d54-4b44-9982-3c5919f9bb90 button.colab-df-convert');\n",
              "      buttonEl.style.display =\n",
              "        google.colab.kernel.accessAllowed ? 'block' : 'none';\n",
              "\n",
              "      async function convertToInteractive(key) {\n",
              "        const element = document.querySelector('#df-79b6964d-9d54-4b44-9982-3c5919f9bb90');\n",
              "        const dataTable =\n",
              "          await google.colab.kernel.invokeFunction('convertToInteractive',\n",
              "                                                    [key], {});\n",
              "        if (!dataTable) return;\n",
              "\n",
              "        const docLinkHtml = 'Like what you see? Visit the ' +\n",
              "          '<a target=\"_blank\" href=https://colab.research.google.com/notebooks/data_table.ipynb>data table notebook</a>'\n",
              "          + ' to learn more about interactive tables.';\n",
              "        element.innerHTML = '';\n",
              "        dataTable['output_type'] = 'display_data';\n",
              "        await google.colab.output.renderOutput(dataTable, element);\n",
              "        const docLink = document.createElement('div');\n",
              "        docLink.innerHTML = docLinkHtml;\n",
              "        element.appendChild(docLink);\n",
              "      }\n",
              "    </script>\n",
              "  </div>\n",
              "\n",
              "\n",
              "<div id=\"df-a95c2568-c582-467b-9528-0568be0e2b9f\">\n",
              "  <button class=\"colab-df-quickchart\" onclick=\"quickchart('df-a95c2568-c582-467b-9528-0568be0e2b9f')\"\n",
              "            title=\"Suggest charts\"\n",
              "            style=\"display:none;\">\n",
              "\n",
              "<svg xmlns=\"http://www.w3.org/2000/svg\" height=\"24px\"viewBox=\"0 0 24 24\"\n",
              "     width=\"24px\">\n",
              "    <g>\n",
              "        <path d=\"M19 3H5c-1.1 0-2 .9-2 2v14c0 1.1.9 2 2 2h14c1.1 0 2-.9 2-2V5c0-1.1-.9-2-2-2zM9 17H7v-7h2v7zm4 0h-2V7h2v10zm4 0h-2v-4h2v4z\"/>\n",
              "    </g>\n",
              "</svg>\n",
              "  </button>\n",
              "\n",
              "<style>\n",
              "  .colab-df-quickchart {\n",
              "      --bg-color: #E8F0FE;\n",
              "      --fill-color: #1967D2;\n",
              "      --hover-bg-color: #E2EBFA;\n",
              "      --hover-fill-color: #174EA6;\n",
              "      --disabled-fill-color: #AAA;\n",
              "      --disabled-bg-color: #DDD;\n",
              "  }\n",
              "\n",
              "  [theme=dark] .colab-df-quickchart {\n",
              "      --bg-color: #3B4455;\n",
              "      --fill-color: #D2E3FC;\n",
              "      --hover-bg-color: #434B5C;\n",
              "      --hover-fill-color: #FFFFFF;\n",
              "      --disabled-bg-color: #3B4455;\n",
              "      --disabled-fill-color: #666;\n",
              "  }\n",
              "\n",
              "  .colab-df-quickchart {\n",
              "    background-color: var(--bg-color);\n",
              "    border: none;\n",
              "    border-radius: 50%;\n",
              "    cursor: pointer;\n",
              "    display: none;\n",
              "    fill: var(--fill-color);\n",
              "    height: 32px;\n",
              "    padding: 0;\n",
              "    width: 32px;\n",
              "  }\n",
              "\n",
              "  .colab-df-quickchart:hover {\n",
              "    background-color: var(--hover-bg-color);\n",
              "    box-shadow: 0 1px 2px rgba(60, 64, 67, 0.3), 0 1px 3px 1px rgba(60, 64, 67, 0.15);\n",
              "    fill: var(--button-hover-fill-color);\n",
              "  }\n",
              "\n",
              "  .colab-df-quickchart-complete:disabled,\n",
              "  .colab-df-quickchart-complete:disabled:hover {\n",
              "    background-color: var(--disabled-bg-color);\n",
              "    fill: var(--disabled-fill-color);\n",
              "    box-shadow: none;\n",
              "  }\n",
              "\n",
              "  .colab-df-spinner {\n",
              "    border: 2px solid var(--fill-color);\n",
              "    border-color: transparent;\n",
              "    border-bottom-color: var(--fill-color);\n",
              "    animation:\n",
              "      spin 1s steps(1) infinite;\n",
              "  }\n",
              "\n",
              "  @keyframes spin {\n",
              "    0% {\n",
              "      border-color: transparent;\n",
              "      border-bottom-color: var(--fill-color);\n",
              "      border-left-color: var(--fill-color);\n",
              "    }\n",
              "    20% {\n",
              "      border-color: transparent;\n",
              "      border-left-color: var(--fill-color);\n",
              "      border-top-color: var(--fill-color);\n",
              "    }\n",
              "    30% {\n",
              "      border-color: transparent;\n",
              "      border-left-color: var(--fill-color);\n",
              "      border-top-color: var(--fill-color);\n",
              "      border-right-color: var(--fill-color);\n",
              "    }\n",
              "    40% {\n",
              "      border-color: transparent;\n",
              "      border-right-color: var(--fill-color);\n",
              "      border-top-color: var(--fill-color);\n",
              "    }\n",
              "    60% {\n",
              "      border-color: transparent;\n",
              "      border-right-color: var(--fill-color);\n",
              "    }\n",
              "    80% {\n",
              "      border-color: transparent;\n",
              "      border-right-color: var(--fill-color);\n",
              "      border-bottom-color: var(--fill-color);\n",
              "    }\n",
              "    90% {\n",
              "      border-color: transparent;\n",
              "      border-bottom-color: var(--fill-color);\n",
              "    }\n",
              "  }\n",
              "</style>\n",
              "\n",
              "  <script>\n",
              "    async function quickchart(key) {\n",
              "      const quickchartButtonEl =\n",
              "        document.querySelector('#' + key + ' button');\n",
              "      quickchartButtonEl.disabled = true;  // To prevent multiple clicks.\n",
              "      quickchartButtonEl.classList.add('colab-df-spinner');\n",
              "      try {\n",
              "        const charts = await google.colab.kernel.invokeFunction(\n",
              "            'suggestCharts', [key], {});\n",
              "      } catch (error) {\n",
              "        console.error('Error during call to suggestCharts:', error);\n",
              "      }\n",
              "      quickchartButtonEl.classList.remove('colab-df-spinner');\n",
              "      quickchartButtonEl.classList.add('colab-df-quickchart-complete');\n",
              "    }\n",
              "    (() => {\n",
              "      let quickchartButtonEl =\n",
              "        document.querySelector('#df-a95c2568-c582-467b-9528-0568be0e2b9f button');\n",
              "      quickchartButtonEl.style.display =\n",
              "        google.colab.kernel.accessAllowed ? 'block' : 'none';\n",
              "    })();\n",
              "  </script>\n",
              "</div>\n",
              "\n",
              "    </div>\n",
              "  </div>\n"
            ],
            "text/plain": [
              "                                                text label\n",
              "0  self.convs1 = nn.ModuleList([nn.Conv2d(1, Co, ...   코드2\n",
              "1  현재 이미지를 여러개 업로드 하기 위해 자바스크립트로 동적으로 폼 여러개 생성하는데...     웹\n",
              "2  glob.glob(PATH) 를 사용할 때 질문입니다.\\n\\nPATH에 [ ] 가 ...   코드2\n",
              "3  tmpp = tmp.groupby(by = 'Addr1', as_index=Fals...   코드2\n",
              "4  filename = TEST_IMAGE + str(round(frame_sec)) ...   코드2"
            ]
          },
          "execution_count": 14,
          "metadata": {},
          "output_type": "execute_result"
        }
      ],
      "source": [
        "import pandas as pd\n",
        "\n",
        "df_test=pd.read_csv(\"/content/drive/MyDrive/aivle_school_mini_project_4/2023.04.03_미니프로젝트4차_실습자료/train.csv\")\n",
        "df_test.head()"
      ]
    },
    {
      "cell_type": "code",
      "execution_count": 15,
      "metadata": {
        "colab": {
          "base_uri": "https://localhost:8080/"
        },
        "id": "j2nPiHGESNQq",
        "outputId": "a990369f-9071-464b-a80d-2f7f7a764315"
      },
      "outputs": [
        {
          "data": {
            "text/plain": [
              "6012"
            ]
          },
          "execution_count": 15,
          "metadata": {},
          "output_type": "execute_result"
        }
      ],
      "source": [
        "max([len(x) for x in df_test['text'].values])"
      ]
    },
    {
      "cell_type": "code",
      "execution_count": 16,
      "metadata": {
        "id": "wiKZmlBAektQ"
      },
      "outputs": [],
      "source": [
        "label_dict = {\n",
        "    '코드1': 0,\n",
        "    '코드2': 1,\n",
        "    '웹': 2,\n",
        "    '이론': 3,\n",
        "    '시스템 운영': 4,\n",
        "    '원격': 5\n",
        "}\n",
        "\n",
        "df_test['label'] = df_test['label'].map(label_dict)"
      ]
    },
    {
      "cell_type": "code",
      "execution_count": 17,
      "metadata": {
        "id": "POizP2JhG-Vz"
      },
      "outputs": [],
      "source": [
        "import re\n",
        "import emoji\n",
        "from soynlp.normalizer import repeat_normalize\n",
        "\n",
        "pattern = re.compile(f'[^ .,?!/@$%~％·∼()\\x00-\\x7Fㄱ-ㅣ가-힣]+')\n",
        "url_pattern = re.compile(\n",
        "    r'https?:\\/\\/(www\\.)?[-a-zA-Z0-9@:%._\\+~#=]{1,256}\\.[a-zA-Z0-9()]{1,6}\\b([-a-zA-Z0-9()@:%_\\+.~#?&//=]*)')\n",
        "\n",
        "def clean(x):\n",
        "    x = pattern.sub(' ', x)\n",
        "    x = emoji.replace_emoji(x, replace='') #emoji 삭제\n",
        "    x = url_pattern.sub('', x)\n",
        "    x = x.strip()\n",
        "    x = repeat_normalize(x, num_repeats=2)\n",
        "    return x\n"
      ]
    },
    {
      "cell_type": "code",
      "execution_count": 18,
      "metadata": {
        "id": "FjnSdaweGqeB"
      },
      "outputs": [],
      "source": [
        "x_train = [clean(x) for x in df_test['text'].values]\n",
        "\n",
        "df_test['remove_special_sent'] = x_train"
      ]
    },
    {
      "cell_type": "code",
      "execution_count": 19,
      "metadata": {
        "colab": {
          "base_uri": "https://localhost:8080/",
          "height": 223
        },
        "id": "nj1xisZKHMIb",
        "outputId": "a16bf0b1-4537-4177-b9b3-bce752143186"
      },
      "outputs": [
        {
          "data": {
            "application/vnd.google.colaboratory.intrinsic+json": {
              "summary": "{\n  \"name\": \"df_test\",\n  \"rows\": 3706,\n  \"fields\": [\n    {\n      \"column\": \"text\",\n      \"properties\": {\n        \"dtype\": \"string\",\n        \"num_unique_values\": 3706,\n        \"samples\": [\n          \"8\\ubc88 \\uba85\\ub839\\ubd80\\ud130 \\ub2e4\\uc2dc \\uc2e4\\ud589\\ud558\\ub77c \\ud558\\uc168\\ub294\\ub370 root\\uc5d0\\uc11c \\ub098\\uc640\\uc57c \\ud558\\ub294 \\uac83 \\uac19\\uc544\\uc11c \\uc2dc\\ub3c4\\ud574\\ubcf4\\ub2e4\\uac00 \\uadf8\\ub0e5 \\uc0c8\\ud130\\ubbf8\\ub110 \\ub9cc\\ub4e4\\uc5b4\\uc11c \\ud588\\ub354\\ub2c8 \\uc774\\ub807\\uac8c \\ub429\\ub2c8\\ub2e4...\\n\\uadf8 \\uc678\\uc5d0\\ub3c4 worker\\ub791 master \\ub791 join\\ud560 \\ub54c \\ucc98\\uc74c \\ud55c \\ubc88\\uc740 \\ub418\\ub354\\ub2c8 \\uadf8 \\ub2e4\\uc74c\\ubd80\\ud130\\ub294 \\uc5d0\\ub7ec\\uac00 \\ub739\\ub2c8\\ub2e4..!\",\n          \"\\uba3c\\uc800, \\uae38\\uc774\\uac00 N\\uc778 \\uc6d0\\ubcf8 \\ubb38\\uc790\\uc5f4\\uc5d0 \\ub300\\ud574, 1 \\u2264 k \\u2264 N\\uc778 \\uc815\\uc218 k\\ub97c \\uace0\\ub985\\ub2c8\\ub2e4. \\uadf8 \\ub4a4, \\ud574\\ub2f9 \\ubb38\\uc790\\uc5f4\\uc5d0\\uc11c k\\uac1c\\uc758 \\uc5f0\\uc18d\\ub418\\ub294 \\ubb38\\uc790\\ub4e4\\uc744 \\uace8\\ub77c \\ubcf5\\uc0ac\\ud558\\uc5ec \\uac01 \\ubb38\\uc790 \\uc704\\uce58 \\ubc14\\ub85c \\ub4a4\\uc5d0 \\ubd99\\uc5ec\\ub123\\uc2b5\\ub2c8\\ub2e4.\\n\\n\\ucc98\\uc74c\\uc5d0\\ub294 \\uc6d0\\ubcf8 \\ubb38\\uc790\\uc5f4\\uc5d0\\uc11c \\uba87 \\uac1c\\uc758 \\ubb38\\uc790\\ub97c \\uc120\\ud0dd\\ud574\\uc11c \\uac01 \\ubb38\\uc790 \\ub4a4\\uc5d0 \\ubd99\\uc785\\ub2c8\\ub2e4. \\uadf8\\ub7f0\\ub370 \\uadf8 \\ub2e4\\uc74c\\uc740 \\uc5b4\\ub5bb\\uac8c \\ubd99\\uc5ec\\uc57c \\ud558\\ub294 \\uac83\\uc778\\uc9c0 \\ubb38\\uc81c\\ub97c \\ubd10\\ub3c4 \\uc798 \\ubaa8\\ub974\\uaca0\\uc2b5\\ub2c8\\ub2e4. \\uc911\\uac04\\uc5d0 \\ub9cc\\ub4e4\\uc5b4\\uc9c4 \\ubb38\\uc790\\uc5f4\\uc5d0\\uc11c \\uc5f0\\uc18d\\ub41c \\ubb38\\uc790\\ub4e4\\uc744 \\uace8\\ub77c\\uc11c \\uc911\\uac04\\uc5d0 \\ub9cc\\ub4e4\\uc5b4\\uc9c4 \\ubb38\\uc790\\uc5f4 \\ub4a4\\uc5d0 \\ubcf5\\uc0ac\\ud558\\ub294 \\uac74\\uc9c0,  \\uc6d0\\ubcf8 \\ubb38\\uc790\\uc5f4\\uc5d0\\uc11c \\uc5f0\\uc18d\\ub41c \\ubb38\\uc790\\ub4e4\\uc744 \\uace8\\ub77c\\uc11c \\uc911\\uac04\\uc5d0 \\ub9cc\\ub4e4\\uc5b4\\uc9c4 \\ubb38\\uc790\\uc5f4 \\ub4a4\\uc5d0 \\ubcf5\\uc0ac\\ud558\\ub294 \\uac74\\uc9c0 \\ud5f7\\uac08\\ub9bd\\ub2c8\\ub2e4. \\ub458 \\uc911 \\uc5b4\\ub5a4 \\ubc29\\uc2dd\\uc744 \\uc801\\uc6a9\\ud574\\ub3c4 \\uc608\\uc81c1\\uc774\\ub098 \\uc608\\uc81c2 \\uc911 \\ud558\\ub098\\uac00 \\ub9de\\uc9c0 \\uc54a\\uc2b5\\ub2c8\\ub2e4.\\n\\uc81c\\uac00 \\uc798\\ubabb \\uc774\\ud574\\ud55c \\ubd80\\ubd84\\uc744 \\uc54c\\ub824\\uc8fc\\uc138\\uc694. \\uc774 \\ubb38\\uc81c \\ud480\\uace0 \\uc2f6\\uc2b5\\ub2c8\\ub2e4.\\n\\nNOS\\n(\\uc6d0\\ubcf8 \\ubb38\\uc790\\uc5f4\\uc5d0\\uc11c N, O , S \\uc120\\ud0dd)\\n-&gt; NNOOSS\\n(\\uc6d0\\ubcf8 \\ubb38\\uc790\\uc5f4\\uc5d0\\uc11c O \\uc120\\ud0dd - O\\ub97c \\ud55c \\ubc88\\ub9cc \\ubcf5\\uc0ac?)\\n-&gt; NNOOOSS\\n\\nor\\n\\nNOS\\n(\\uc6d0\\ubcf8 \\ubb38\\uc790\\uc5f4\\uc5d0\\uc11c N, O , S \\uc120\\ud0dd)\\n-&gt; NNOOSS\\n(\\uc911\\uac04 \\ubb38\\uc790\\uc5f4\\uc5d0\\uc11c O \\uc120\\ud0dd\\ud574\\uc11c \\ubcf5\\uc0ac\\ud558\\ub2c8 O 2\\uac1c\\uac00 \\ub4a4\\uc5d0 \\ub367\\ubd99\\ub294\\ub2e4?)\\n-&gt; NNOOOOSS\\n\\uc6d0\\ud558\\ub294 \\ubb38\\uc790\\uc5f4\\uc778 NNOOOSS\\ubcf4\\ub2e4 \\uae38\\uc5b4\\uc9d0\\n\\n\\nPPS\\n(\\uc6d0\\ubcf8 \\ubb38\\uc790\\uc5f4\\uc5d0\\uc11c P, P , S \\uc120\\ud0dd)\\n-&gt; PPPPSS\\n(\\uc6d0\\ubcf8 \\ubb38\\uc790\\uc5f4\\uc5d0\\uc11c P , S \\uc120\\ud0dd)\\n-&gt; PPPPPSSS\\n(\\uc6d0\\ubcf8 \\ubb38\\uc790\\uc5f4\\uc5d0\\uc11c S \\uc120\\ud0dd)\\n-&gt; PPPPPSSSS\\n(\\uc6d0\\ubcf8 \\ubb38\\uc790\\uc5f4\\uc5d0\\uc11c S \\uc120\\ud0dd)\\n-&gt; PPPPPSSSSS\\n\\ucd1d 4\\ubc88\",\n          \"\\ubcc0\\uc218\\ub97c \\uc0c8\\ub86d\\uac8c \\ucd94\\uac00\\ud558\\uac70\\ub098 \\uae30\\uc874\\uc758 \\ub098\\uc774\\uc131\\ubcc4 \\ubcc0\\uc218\\ub97c \\uc0ac\\uc6a9\\ud574\\ub3c4 \\ub418\\ub098\\uc694? \\n\\ub610\\ud55c shitfing\\ud55c \\ubcc0\\uc218\\uac00 y\\uac00 \\uc544\\ub2c8\\ub77c x\\uc5d0 \\ub4e4\\uc5b4\\uac00\\ub294\\uac8c \\ub9de\\ub098\\uc694?\"\n        ],\n        \"semantic_type\": \"\",\n        \"description\": \"\"\n      }\n    },\n    {\n      \"column\": \"label\",\n      \"properties\": {\n        \"dtype\": \"number\",\n        \"std\": 1,\n        \"min\": 0,\n        \"max\": 5,\n        \"num_unique_values\": 6,\n        \"samples\": [\n          1,\n          2,\n          5\n        ],\n        \"semantic_type\": \"\",\n        \"description\": \"\"\n      }\n    },\n    {\n      \"column\": \"remove_special_sent\",\n      \"properties\": {\n        \"dtype\": \"string\",\n        \"num_unique_values\": 3706,\n        \"samples\": [\n          \"8\\ubc88 \\uba85\\ub839\\ubd80\\ud130 \\ub2e4\\uc2dc \\uc2e4\\ud589\\ud558\\ub77c \\ud558\\uc168\\ub294\\ub370 root\\uc5d0\\uc11c \\ub098\\uc640\\uc57c \\ud558\\ub294 \\uac83 \\uac19\\uc544\\uc11c \\uc2dc\\ub3c4\\ud574\\ubcf4\\ub2e4\\uac00 \\uadf8\\ub0e5 \\uc0c8\\ud130\\ubbf8\\ub110 \\ub9cc\\ub4e4\\uc5b4\\uc11c \\ud588\\ub354\\ub2c8 \\uc774\\ub807\\uac8c \\ub429\\ub2c8\\ub2e4... \\uadf8 \\uc678\\uc5d0\\ub3c4 worker\\ub791 master \\ub791 join\\ud560 \\ub54c \\ucc98\\uc74c \\ud55c \\ubc88\\uc740 \\ub418\\ub354\\ub2c8 \\uadf8 \\ub2e4\\uc74c\\ubd80\\ud130\\ub294 \\uc5d0\\ub7ec\\uac00 \\ub739\\ub2c8\\ub2e4..!\",\n          \"\\uba3c\\uc800, \\uae38\\uc774\\uac00 N\\uc778 \\uc6d0\\ubcf8 \\ubb38\\uc790\\uc5f4\\uc5d0 \\ub300\\ud574, 1 k N\\uc778 \\uc815\\uc218 k\\ub97c \\uace0\\ub985\\ub2c8\\ub2e4. \\uadf8 \\ub4a4, \\ud574\\ub2f9 \\ubb38\\uc790\\uc5f4\\uc5d0\\uc11c k\\uac1c\\uc758 \\uc5f0\\uc18d\\ub418\\ub294 \\ubb38\\uc790\\ub4e4\\uc744 \\uace8\\ub77c \\ubcf5\\uc0ac\\ud558\\uc5ec \\uac01 \\ubb38\\uc790 \\uc704\\uce58 \\ubc14\\ub85c \\ub4a4\\uc5d0 \\ubd99\\uc5ec\\ub123\\uc2b5\\ub2c8\\ub2e4. \\ucc98\\uc74c\\uc5d0\\ub294 \\uc6d0\\ubcf8 \\ubb38\\uc790\\uc5f4\\uc5d0\\uc11c \\uba87 \\uac1c\\uc758 \\ubb38\\uc790\\ub97c \\uc120\\ud0dd\\ud574\\uc11c \\uac01 \\ubb38\\uc790 \\ub4a4\\uc5d0 \\ubd99\\uc785\\ub2c8\\ub2e4. \\uadf8\\ub7f0\\ub370 \\uadf8 \\ub2e4\\uc74c\\uc740 \\uc5b4\\ub5bb\\uac8c \\ubd99\\uc5ec\\uc57c \\ud558\\ub294 \\uac83\\uc778\\uc9c0 \\ubb38\\uc81c\\ub97c \\ubd10\\ub3c4 \\uc798 \\ubaa8\\ub974\\uaca0\\uc2b5\\ub2c8\\ub2e4. \\uc911\\uac04\\uc5d0 \\ub9cc\\ub4e4\\uc5b4\\uc9c4 \\ubb38\\uc790\\uc5f4\\uc5d0\\uc11c \\uc5f0\\uc18d\\ub41c \\ubb38\\uc790\\ub4e4\\uc744 \\uace8\\ub77c\\uc11c \\uc911\\uac04\\uc5d0 \\ub9cc\\ub4e4\\uc5b4\\uc9c4 \\ubb38\\uc790\\uc5f4 \\ub4a4\\uc5d0 \\ubcf5\\uc0ac\\ud558\\ub294 \\uac74\\uc9c0, \\uc6d0\\ubcf8 \\ubb38\\uc790\\uc5f4\\uc5d0\\uc11c \\uc5f0\\uc18d\\ub41c \\ubb38\\uc790\\ub4e4\\uc744 \\uace8\\ub77c\\uc11c \\uc911\\uac04\\uc5d0 \\ub9cc\\ub4e4\\uc5b4\\uc9c4 \\ubb38\\uc790\\uc5f4 \\ub4a4\\uc5d0 \\ubcf5\\uc0ac\\ud558\\ub294 \\uac74\\uc9c0 \\ud5f7\\uac08\\ub9bd\\ub2c8\\ub2e4. \\ub458 \\uc911 \\uc5b4\\ub5a4 \\ubc29\\uc2dd\\uc744 \\uc801\\uc6a9\\ud574\\ub3c4 \\uc608\\uc81c1\\uc774\\ub098 \\uc608\\uc81c2 \\uc911 \\ud558\\ub098\\uac00 \\ub9de\\uc9c0 \\uc54a\\uc2b5\\ub2c8\\ub2e4. \\uc81c\\uac00 \\uc798\\ubabb \\uc774\\ud574\\ud55c \\ubd80\\ubd84\\uc744 \\uc54c\\ub824\\uc8fc\\uc138\\uc694. \\uc774 \\ubb38\\uc81c \\ud480\\uace0 \\uc2f6\\uc2b5\\ub2c8\\ub2e4. NOS (\\uc6d0\\ubcf8 \\ubb38\\uc790\\uc5f4\\uc5d0\\uc11c N, O , S \\uc120\\ud0dd) -&gt; NNOOSS (\\uc6d0\\ubcf8 \\ubb38\\uc790\\uc5f4\\uc5d0\\uc11c O \\uc120\\ud0dd - O\\ub97c \\ud55c \\ubc88\\ub9cc \\ubcf5\\uc0ac?) -&gt; NNOOOSS or NOS (\\uc6d0\\ubcf8 \\ubb38\\uc790\\uc5f4\\uc5d0\\uc11c N, O , S \\uc120\\ud0dd) -&gt; NNOOSS (\\uc911\\uac04 \\ubb38\\uc790\\uc5f4\\uc5d0\\uc11c O \\uc120\\ud0dd\\ud574\\uc11c \\ubcf5\\uc0ac\\ud558\\ub2c8 O 2\\uac1c\\uac00 \\ub4a4\\uc5d0 \\ub367\\ubd99\\ub294\\ub2e4?) -&gt; NNOOSS \\uc6d0\\ud558\\ub294 \\ubb38\\uc790\\uc5f4\\uc778 NNOOOSS\\ubcf4\\ub2e4 \\uae38\\uc5b4\\uc9d0 PPS (\\uc6d0\\ubcf8 \\ubb38\\uc790\\uc5f4\\uc5d0\\uc11c P, P , S \\uc120\\ud0dd) -&gt; PPSS (\\uc6d0\\ubcf8 \\ubb38\\uc790\\uc5f4\\uc5d0\\uc11c P , S \\uc120\\ud0dd) -&gt; PPSSS (\\uc6d0\\ubcf8 \\ubb38\\uc790\\uc5f4\\uc5d0\\uc11c S \\uc120\\ud0dd) -&gt; PPSS (\\uc6d0\\ubcf8 \\ubb38\\uc790\\uc5f4\\uc5d0\\uc11c S \\uc120\\ud0dd) -&gt; PPSS \\ucd1d 4\\ubc88\",\n          \"\\ubcc0\\uc218\\ub97c \\uc0c8\\ub86d\\uac8c \\ucd94\\uac00\\ud558\\uac70\\ub098 \\uae30\\uc874\\uc758 \\ub098\\uc774\\uc131\\ubcc4 \\ubcc0\\uc218\\ub97c \\uc0ac\\uc6a9\\ud574\\ub3c4 \\ub418\\ub098\\uc694? \\ub610\\ud55c shitfing\\ud55c \\ubcc0\\uc218\\uac00 y\\uac00 \\uc544\\ub2c8\\ub77c x\\uc5d0 \\ub4e4\\uc5b4\\uac00\\ub294\\uac8c \\ub9de\\ub098\\uc694?\"\n        ],\n        \"semantic_type\": \"\",\n        \"description\": \"\"\n      }\n    }\n  ]\n}",
              "type": "dataframe",
              "variable_name": "df_test"
            },
            "text/html": [
              "\n",
              "  <div id=\"df-6276c5b2-55a9-48f7-9a95-e32c3af4f796\" class=\"colab-df-container\">\n",
              "    <div>\n",
              "<style scoped>\n",
              "    .dataframe tbody tr th:only-of-type {\n",
              "        vertical-align: middle;\n",
              "    }\n",
              "\n",
              "    .dataframe tbody tr th {\n",
              "        vertical-align: top;\n",
              "    }\n",
              "\n",
              "    .dataframe thead th {\n",
              "        text-align: right;\n",
              "    }\n",
              "</style>\n",
              "<table border=\"1\" class=\"dataframe\">\n",
              "  <thead>\n",
              "    <tr style=\"text-align: right;\">\n",
              "      <th></th>\n",
              "      <th>text</th>\n",
              "      <th>label</th>\n",
              "      <th>remove_special_sent</th>\n",
              "    </tr>\n",
              "  </thead>\n",
              "  <tbody>\n",
              "    <tr>\n",
              "      <th>0</th>\n",
              "      <td>self.convs1 = nn.ModuleList([nn.Conv2d(1, Co, ...</td>\n",
              "      <td>1</td>\n",
              "      <td>self.convs1 = nn.ModuleList([nn.Conv2d(1, Co, ...</td>\n",
              "    </tr>\n",
              "    <tr>\n",
              "      <th>1</th>\n",
              "      <td>현재 이미지를 여러개 업로드 하기 위해 자바스크립트로 동적으로 폼 여러개 생성하는데...</td>\n",
              "      <td>2</td>\n",
              "      <td>현재 이미지를 여러개 업로드 하기 위해 자바스크립트로 동적으로 폼 여러개 생성하는데...</td>\n",
              "    </tr>\n",
              "    <tr>\n",
              "      <th>2</th>\n",
              "      <td>glob.glob(PATH) 를 사용할 때 질문입니다.\\n\\nPATH에 [ ] 가 ...</td>\n",
              "      <td>1</td>\n",
              "      <td>glob.glob(PATH) 를 사용할 때 질문입니다. PATH에 [ ] 가 포함되...</td>\n",
              "    </tr>\n",
              "    <tr>\n",
              "      <th>3</th>\n",
              "      <td>tmpp = tmp.groupby(by = 'Addr1', as_index=Fals...</td>\n",
              "      <td>1</td>\n",
              "      <td>tmpp = tmp.groupby(by = 'Addr1', as_index=Fals...</td>\n",
              "    </tr>\n",
              "    <tr>\n",
              "      <th>4</th>\n",
              "      <td>filename = TEST_IMAGE + str(round(frame_sec)) ...</td>\n",
              "      <td>1</td>\n",
              "      <td>filename = TEST_IMAGE + str(round(frame_sec)) ...</td>\n",
              "    </tr>\n",
              "  </tbody>\n",
              "</table>\n",
              "</div>\n",
              "    <div class=\"colab-df-buttons\">\n",
              "\n",
              "  <div class=\"colab-df-container\">\n",
              "    <button class=\"colab-df-convert\" onclick=\"convertToInteractive('df-6276c5b2-55a9-48f7-9a95-e32c3af4f796')\"\n",
              "            title=\"Convert this dataframe to an interactive table.\"\n",
              "            style=\"display:none;\">\n",
              "\n",
              "  <svg xmlns=\"http://www.w3.org/2000/svg\" height=\"24px\" viewBox=\"0 -960 960 960\">\n",
              "    <path d=\"M120-120v-720h720v720H120Zm60-500h600v-160H180v160Zm220 220h160v-160H400v160Zm0 220h160v-160H400v160ZM180-400h160v-160H180v160Zm440 0h160v-160H620v160ZM180-180h160v-160H180v160Zm440 0h160v-160H620v160Z\"/>\n",
              "  </svg>\n",
              "    </button>\n",
              "\n",
              "  <style>\n",
              "    .colab-df-container {\n",
              "      display:flex;\n",
              "      gap: 12px;\n",
              "    }\n",
              "\n",
              "    .colab-df-convert {\n",
              "      background-color: #E8F0FE;\n",
              "      border: none;\n",
              "      border-radius: 50%;\n",
              "      cursor: pointer;\n",
              "      display: none;\n",
              "      fill: #1967D2;\n",
              "      height: 32px;\n",
              "      padding: 0 0 0 0;\n",
              "      width: 32px;\n",
              "    }\n",
              "\n",
              "    .colab-df-convert:hover {\n",
              "      background-color: #E2EBFA;\n",
              "      box-shadow: 0px 1px 2px rgba(60, 64, 67, 0.3), 0px 1px 3px 1px rgba(60, 64, 67, 0.15);\n",
              "      fill: #174EA6;\n",
              "    }\n",
              "\n",
              "    .colab-df-buttons div {\n",
              "      margin-bottom: 4px;\n",
              "    }\n",
              "\n",
              "    [theme=dark] .colab-df-convert {\n",
              "      background-color: #3B4455;\n",
              "      fill: #D2E3FC;\n",
              "    }\n",
              "\n",
              "    [theme=dark] .colab-df-convert:hover {\n",
              "      background-color: #434B5C;\n",
              "      box-shadow: 0px 1px 3px 1px rgba(0, 0, 0, 0.15);\n",
              "      filter: drop-shadow(0px 1px 2px rgba(0, 0, 0, 0.3));\n",
              "      fill: #FFFFFF;\n",
              "    }\n",
              "  </style>\n",
              "\n",
              "    <script>\n",
              "      const buttonEl =\n",
              "        document.querySelector('#df-6276c5b2-55a9-48f7-9a95-e32c3af4f796 button.colab-df-convert');\n",
              "      buttonEl.style.display =\n",
              "        google.colab.kernel.accessAllowed ? 'block' : 'none';\n",
              "\n",
              "      async function convertToInteractive(key) {\n",
              "        const element = document.querySelector('#df-6276c5b2-55a9-48f7-9a95-e32c3af4f796');\n",
              "        const dataTable =\n",
              "          await google.colab.kernel.invokeFunction('convertToInteractive',\n",
              "                                                    [key], {});\n",
              "        if (!dataTable) return;\n",
              "\n",
              "        const docLinkHtml = 'Like what you see? Visit the ' +\n",
              "          '<a target=\"_blank\" href=https://colab.research.google.com/notebooks/data_table.ipynb>data table notebook</a>'\n",
              "          + ' to learn more about interactive tables.';\n",
              "        element.innerHTML = '';\n",
              "        dataTable['output_type'] = 'display_data';\n",
              "        await google.colab.output.renderOutput(dataTable, element);\n",
              "        const docLink = document.createElement('div');\n",
              "        docLink.innerHTML = docLinkHtml;\n",
              "        element.appendChild(docLink);\n",
              "      }\n",
              "    </script>\n",
              "  </div>\n",
              "\n",
              "\n",
              "<div id=\"df-69de00eb-b916-4aaf-a5c5-be83811cf4a5\">\n",
              "  <button class=\"colab-df-quickchart\" onclick=\"quickchart('df-69de00eb-b916-4aaf-a5c5-be83811cf4a5')\"\n",
              "            title=\"Suggest charts\"\n",
              "            style=\"display:none;\">\n",
              "\n",
              "<svg xmlns=\"http://www.w3.org/2000/svg\" height=\"24px\"viewBox=\"0 0 24 24\"\n",
              "     width=\"24px\">\n",
              "    <g>\n",
              "        <path d=\"M19 3H5c-1.1 0-2 .9-2 2v14c0 1.1.9 2 2 2h14c1.1 0 2-.9 2-2V5c0-1.1-.9-2-2-2zM9 17H7v-7h2v7zm4 0h-2V7h2v10zm4 0h-2v-4h2v4z\"/>\n",
              "    </g>\n",
              "</svg>\n",
              "  </button>\n",
              "\n",
              "<style>\n",
              "  .colab-df-quickchart {\n",
              "      --bg-color: #E8F0FE;\n",
              "      --fill-color: #1967D2;\n",
              "      --hover-bg-color: #E2EBFA;\n",
              "      --hover-fill-color: #174EA6;\n",
              "      --disabled-fill-color: #AAA;\n",
              "      --disabled-bg-color: #DDD;\n",
              "  }\n",
              "\n",
              "  [theme=dark] .colab-df-quickchart {\n",
              "      --bg-color: #3B4455;\n",
              "      --fill-color: #D2E3FC;\n",
              "      --hover-bg-color: #434B5C;\n",
              "      --hover-fill-color: #FFFFFF;\n",
              "      --disabled-bg-color: #3B4455;\n",
              "      --disabled-fill-color: #666;\n",
              "  }\n",
              "\n",
              "  .colab-df-quickchart {\n",
              "    background-color: var(--bg-color);\n",
              "    border: none;\n",
              "    border-radius: 50%;\n",
              "    cursor: pointer;\n",
              "    display: none;\n",
              "    fill: var(--fill-color);\n",
              "    height: 32px;\n",
              "    padding: 0;\n",
              "    width: 32px;\n",
              "  }\n",
              "\n",
              "  .colab-df-quickchart:hover {\n",
              "    background-color: var(--hover-bg-color);\n",
              "    box-shadow: 0 1px 2px rgba(60, 64, 67, 0.3), 0 1px 3px 1px rgba(60, 64, 67, 0.15);\n",
              "    fill: var(--button-hover-fill-color);\n",
              "  }\n",
              "\n",
              "  .colab-df-quickchart-complete:disabled,\n",
              "  .colab-df-quickchart-complete:disabled:hover {\n",
              "    background-color: var(--disabled-bg-color);\n",
              "    fill: var(--disabled-fill-color);\n",
              "    box-shadow: none;\n",
              "  }\n",
              "\n",
              "  .colab-df-spinner {\n",
              "    border: 2px solid var(--fill-color);\n",
              "    border-color: transparent;\n",
              "    border-bottom-color: var(--fill-color);\n",
              "    animation:\n",
              "      spin 1s steps(1) infinite;\n",
              "  }\n",
              "\n",
              "  @keyframes spin {\n",
              "    0% {\n",
              "      border-color: transparent;\n",
              "      border-bottom-color: var(--fill-color);\n",
              "      border-left-color: var(--fill-color);\n",
              "    }\n",
              "    20% {\n",
              "      border-color: transparent;\n",
              "      border-left-color: var(--fill-color);\n",
              "      border-top-color: var(--fill-color);\n",
              "    }\n",
              "    30% {\n",
              "      border-color: transparent;\n",
              "      border-left-color: var(--fill-color);\n",
              "      border-top-color: var(--fill-color);\n",
              "      border-right-color: var(--fill-color);\n",
              "    }\n",
              "    40% {\n",
              "      border-color: transparent;\n",
              "      border-right-color: var(--fill-color);\n",
              "      border-top-color: var(--fill-color);\n",
              "    }\n",
              "    60% {\n",
              "      border-color: transparent;\n",
              "      border-right-color: var(--fill-color);\n",
              "    }\n",
              "    80% {\n",
              "      border-color: transparent;\n",
              "      border-right-color: var(--fill-color);\n",
              "      border-bottom-color: var(--fill-color);\n",
              "    }\n",
              "    90% {\n",
              "      border-color: transparent;\n",
              "      border-bottom-color: var(--fill-color);\n",
              "    }\n",
              "  }\n",
              "</style>\n",
              "\n",
              "  <script>\n",
              "    async function quickchart(key) {\n",
              "      const quickchartButtonEl =\n",
              "        document.querySelector('#' + key + ' button');\n",
              "      quickchartButtonEl.disabled = true;  // To prevent multiple clicks.\n",
              "      quickchartButtonEl.classList.add('colab-df-spinner');\n",
              "      try {\n",
              "        const charts = await google.colab.kernel.invokeFunction(\n",
              "            'suggestCharts', [key], {});\n",
              "      } catch (error) {\n",
              "        console.error('Error during call to suggestCharts:', error);\n",
              "      }\n",
              "      quickchartButtonEl.classList.remove('colab-df-spinner');\n",
              "      quickchartButtonEl.classList.add('colab-df-quickchart-complete');\n",
              "    }\n",
              "    (() => {\n",
              "      let quickchartButtonEl =\n",
              "        document.querySelector('#df-69de00eb-b916-4aaf-a5c5-be83811cf4a5 button');\n",
              "      quickchartButtonEl.style.display =\n",
              "        google.colab.kernel.accessAllowed ? 'block' : 'none';\n",
              "    })();\n",
              "  </script>\n",
              "</div>\n",
              "\n",
              "    </div>\n",
              "  </div>\n"
            ],
            "text/plain": [
              "                                                text  label  \\\n",
              "0  self.convs1 = nn.ModuleList([nn.Conv2d(1, Co, ...      1   \n",
              "1  현재 이미지를 여러개 업로드 하기 위해 자바스크립트로 동적으로 폼 여러개 생성하는데...      2   \n",
              "2  glob.glob(PATH) 를 사용할 때 질문입니다.\\n\\nPATH에 [ ] 가 ...      1   \n",
              "3  tmpp = tmp.groupby(by = 'Addr1', as_index=Fals...      1   \n",
              "4  filename = TEST_IMAGE + str(round(frame_sec)) ...      1   \n",
              "\n",
              "                                 remove_special_sent  \n",
              "0  self.convs1 = nn.ModuleList([nn.Conv2d(1, Co, ...  \n",
              "1  현재 이미지를 여러개 업로드 하기 위해 자바스크립트로 동적으로 폼 여러개 생성하는데...  \n",
              "2  glob.glob(PATH) 를 사용할 때 질문입니다. PATH에 [ ] 가 포함되...  \n",
              "3  tmpp = tmp.groupby(by = 'Addr1', as_index=Fals...  \n",
              "4  filename = TEST_IMAGE + str(round(frame_sec)) ...  "
            ]
          },
          "execution_count": 19,
          "metadata": {},
          "output_type": "execute_result"
        }
      ],
      "source": [
        "df_test.head()"
      ]
    },
    {
      "cell_type": "code",
      "execution_count": 20,
      "metadata": {
        "colab": {
          "base_uri": "https://localhost:8080/"
        },
        "id": "uKqlvFlje743",
        "outputId": "4d37784a-dd18-4c2e-f3b1-2fba1741008c"
      },
      "outputs": [
        {
          "name": "stdout",
          "output_type": "stream",
          "text": [
            "remove_special_sent    new로 새로운 객체를 만들고 그 새로 만들어진 객체에 값을 넣기위해 Person함...\n",
            "label                                                                  2\n",
            "Name: 2287, dtype: object\n",
            "remove_special_sent    1. # D: embed_dim D = 100 이때 embed_dim이 무엇인지 방...\n",
            "label                                                                  1\n",
            "Name: 2732, dtype: object\n"
          ]
        }
      ],
      "source": [
        "#train & test 데이터로 나누기\n",
        "from sklearn.model_selection import train_test_split\n",
        "\n",
        "\n",
        "data = df_test[['remove_special_sent', 'label']]\n",
        "dataset_train, dataset_valid = train_test_split(data, test_size=0.2, random_state=0)\n",
        "\n",
        "# 내용 확인\n",
        "print(dataset_train.iloc[0])\n",
        "print(dataset_train.iloc[-1])"
      ]
    },
    {
      "cell_type": "code",
      "execution_count": 21,
      "metadata": {
        "colab": {
          "base_uri": "https://localhost:8080/"
        },
        "id": "VP6jPAXTfBQ9",
        "outputId": "0a266419-8fc8-4d1b-8226-7f62b277738a"
      },
      "outputs": [
        {
          "name": "stdout",
          "output_type": "stream",
          "text": [
            "2964\n",
            "742\n"
          ]
        }
      ],
      "source": [
        "print(len(dataset_train))\n",
        "print(len(dataset_valid))"
      ]
    },
    {
      "cell_type": "code",
      "execution_count": 22,
      "metadata": {
        "id": "FtQAIS0DfE_M"
      },
      "outputs": [],
      "source": [
        "# Setting parameters\n",
        "max_len = 150\n",
        "batch_size = 32\n",
        "warmup_ratio = 0.1\n",
        "num_epochs = 10\n",
        "max_grad_norm = 1\n",
        "log_interval = 200\n",
        "learning_rate = 5e-6"
      ]
    },
    {
      "cell_type": "code",
      "execution_count": 23,
      "metadata": {
        "colab": {
          "base_uri": "https://localhost:8080/"
        },
        "id": "g2qKIMfufCcG",
        "outputId": "a2a1011a-6f74-4c59-d37e-0890f9a01c8f"
      },
      "outputs": [
        {
          "name": "stdout",
          "output_type": "stream",
          "text": [
            "['[CLS]', 'new', '##로', '새로운', '객체', '##를', '만들고', '그', '새로', '만들어진', '객체', '##에', '값을', '넣', '##기위해', 'Per', '##son', '##함', '##수에', '##서', 'this', '##를', '이용한', '##게', '맞나요', '?', '그럼', 'Per', '##son', '##이라는', '함수', '##는', '값을', '넣', '##기위한', '보조', '##역할', '##이라고', '생각해도', '될까요', '?', '[SEP]', '[PAD]', '[PAD]', '[PAD]', '[PAD]', '[PAD]', '[PAD]', '[PAD]', '[PAD]', '[PAD]', '[PAD]', '[PAD]', '[PAD]', '[PAD]', '[PAD]', '[PAD]', '[PAD]', '[PAD]', '[PAD]', '[PAD]', '[PAD]', '[PAD]', '[PAD]', '[PAD]', '[PAD]', '[PAD]', '[PAD]', '[PAD]', '[PAD]', '[PAD]', '[PAD]', '[PAD]', '[PAD]', '[PAD]', '[PAD]', '[PAD]', '[PAD]', '[PAD]', '[PAD]', '[PAD]', '[PAD]', '[PAD]', '[PAD]', '[PAD]', '[PAD]', '[PAD]', '[PAD]', '[PAD]', '[PAD]', '[PAD]', '[PAD]', '[PAD]', '[PAD]', '[PAD]', '[PAD]', '[PAD]', '[PAD]', '[PAD]', '[PAD]', '[PAD]', '[PAD]', '[PAD]', '[PAD]', '[PAD]', '[PAD]', '[PAD]', '[PAD]', '[PAD]', '[PAD]', '[PAD]', '[PAD]', '[PAD]', '[PAD]', '[PAD]', '[PAD]', '[PAD]', '[PAD]', '[PAD]', '[PAD]', '[PAD]', '[PAD]', '[PAD]', '[PAD]', '[PAD]', '[PAD]', '[PAD]', '[PAD]', '[PAD]', '[PAD]', '[PAD]', '[PAD]', '[PAD]', '[PAD]', '[PAD]', '[PAD]', '[PAD]', '[PAD]', '[PAD]', '[PAD]', '[PAD]', '[PAD]', '[PAD]', '[PAD]', '[PAD]', '[PAD]', '[PAD]', '[PAD]', '[PAD]', '[PAD]']\n",
            "[2, 46974, 4101, 10576, 43911, 4041, 9345, 1022, 13605, 21470, 43911, 4056, 34589, 1241, 13197, 46592, 39413, 4313, 14098, 4113, 51600, 4041, 18511, 4157, 18879, 33, 8119, 46592, 39413, 8393, 38677, 4027, 34589, 1241, 25320, 25438, 21636, 8092, 17768, 24512, 33, 3, 0, 0, 0, 0, 0, 0, 0, 0, 0, 0, 0, 0, 0, 0, 0, 0, 0, 0, 0, 0, 0, 0, 0, 0, 0, 0, 0, 0, 0, 0, 0, 0, 0, 0, 0, 0, 0, 0, 0, 0, 0, 0, 0, 0, 0, 0, 0, 0, 0, 0, 0, 0, 0, 0, 0, 0, 0, 0, 0, 0, 0, 0, 0, 0, 0, 0, 0, 0, 0, 0, 0, 0, 0, 0, 0, 0, 0, 0, 0, 0, 0, 0, 0, 0, 0, 0, 0, 0, 0, 0, 0, 0, 0, 0, 0, 0, 0, 0, 0, 0, 0, 0, 0, 0, 0, 0, 0, 0]\n",
            "[1, 1, 1, 1, 1, 1, 1, 1, 1, 1, 1, 1, 1, 1, 1, 1, 1, 1, 1, 1, 1, 1, 1, 1, 1, 1, 1, 1, 1, 1, 1, 1, 1, 1, 1, 1, 1, 1, 1, 1, 1, 1, 0, 0, 0, 0, 0, 0, 0, 0, 0, 0, 0, 0, 0, 0, 0, 0, 0, 0, 0, 0, 0, 0, 0, 0, 0, 0, 0, 0, 0, 0, 0, 0, 0, 0, 0, 0, 0, 0, 0, 0, 0, 0, 0, 0, 0, 0, 0, 0, 0, 0, 0, 0, 0, 0, 0, 0, 0, 0, 0, 0, 0, 0, 0, 0, 0, 0, 0, 0, 0, 0, 0, 0, 0, 0, 0, 0, 0, 0, 0, 0, 0, 0, 0, 0, 0, 0, 0, 0, 0, 0, 0, 0, 0, 0, 0, 0, 0, 0, 0, 0, 0, 0, 0, 0, 0, 0, 0, 0]\n",
            "\n",
            "디코딩 : [CLS] new로 새로운 객체를 만들고 그 새로 만들어진 객체에 값을 넣기위해 Person함수에서 this를 이용한게 맞나요? 그럼 Person이라는 함수는 값을 넣기위한 보조역할이라고 생각해도 될까요? [SEP] [PAD] [PAD] [PAD] [PAD] [PAD] [PAD] [PAD] [PAD] [PAD] [PAD] [PAD] [PAD] [PAD] [PAD] [PAD] [PAD] [PAD] [PAD] [PAD] [PAD] [PAD] [PAD] [PAD] [PAD] [PAD] [PAD] [PAD] [PAD] [PAD] [PAD] [PAD] [PAD] [PAD] [PAD] [PAD] [PAD] [PAD] [PAD] [PAD] [PAD] [PAD] [PAD] [PAD] [PAD] [PAD] [PAD] [PAD] [PAD] [PAD] [PAD] [PAD] [PAD] [PAD] [PAD] [PAD] [PAD] [PAD] [PAD] [PAD] [PAD] [PAD] [PAD] [PAD] [PAD] [PAD] [PAD] [PAD] [PAD] [PAD] [PAD] [PAD] [PAD] [PAD] [PAD] [PAD] [PAD] [PAD] [PAD] [PAD] [PAD] [PAD] [PAD] [PAD] [PAD] [PAD] [PAD] [PAD] [PAD] [PAD] [PAD] [PAD] [PAD] [PAD] [PAD] [PAD] [PAD] [PAD] [PAD] [PAD] [PAD] [PAD] [PAD] [PAD] [PAD] [PAD] [PAD] [PAD] [PAD]\n"
          ]
        }
      ],
      "source": [
        "# train_data tokenize\n",
        "\n",
        "encoded_train = tokenizer(\n",
        "    dataset_train['remove_special_sent'].tolist(),\n",
        "    return_tensors='pt',\n",
        "    max_length=max_len,\n",
        "    padding=True,\n",
        "    truncation=True,\n",
        "    add_special_tokens=True\n",
        ")\n",
        "\n",
        "# 확인\n",
        "print( encoded_train[0].tokens )\n",
        "print( encoded_train[0].ids )\n",
        "print( encoded_train[0].attention_mask )\n",
        "print()\n",
        "print('디코딩 :',tokenizer.decode(encoded_train[0].ids))"
      ]
    },
    {
      "cell_type": "code",
      "execution_count": 24,
      "metadata": {
        "colab": {
          "base_uri": "https://localhost:8080/"
        },
        "id": "6RihNu-QAO5M",
        "outputId": "5897eff3-645d-4d2f-83ba-1f7e3c4896b8"
      },
      "outputs": [
        {
          "name": "stdout",
          "output_type": "stream",
          "text": [
            "디코딩 : [CLS] 실습 피드백 요청합니다. 손해 부분의 경우, 자사 서비스를 사용했을 때 발생하는 손해에 대해 작성하는 것인가요? [SEP] [PAD] [PAD] [PAD] [PAD] [PAD] [PAD] [PAD] [PAD] [PAD] [PAD] [PAD] [PAD] [PAD] [PAD] [PAD] [PAD] [PAD] [PAD] [PAD] [PAD] [PAD] [PAD] [PAD] [PAD] [PAD] [PAD] [PAD] [PAD] [PAD] [PAD] [PAD] [PAD] [PAD] [PAD] [PAD] [PAD] [PAD] [PAD] [PAD] [PAD] [PAD] [PAD] [PAD] [PAD] [PAD] [PAD] [PAD] [PAD] [PAD] [PAD] [PAD] [PAD] [PAD] [PAD] [PAD] [PAD] [PAD] [PAD] [PAD] [PAD] [PAD] [PAD] [PAD] [PAD] [PAD] [PAD] [PAD] [PAD] [PAD] [PAD] [PAD] [PAD] [PAD] [PAD] [PAD] [PAD] [PAD] [PAD] [PAD] [PAD] [PAD] [PAD] [PAD] [PAD] [PAD] [PAD] [PAD] [PAD] [PAD] [PAD] [PAD] [PAD] [PAD] [PAD] [PAD] [PAD] [PAD] [PAD] [PAD] [PAD] [PAD] [PAD] [PAD] [PAD] [PAD] [PAD] [PAD] [PAD] [PAD] [PAD] [PAD] [PAD] [PAD] [PAD] [PAD] [PAD] [PAD] [PAD] [PAD] [PAD] [PAD] [PAD] [PAD]\n",
            "디코딩 : [CLS] salesdata ['Age'] = pd. to _ datetime ( salesdata ['OrderYear'-'BirthYear'] ). dt. year 이렇게 주문일자 - 출생년도 구문 실행시켰으나 오류가 뜹니다. 어떤 방식으로 해야 AGE 연령 도출이 가능할까요? [SEP] [PAD] [PAD] [PAD] [PAD] [PAD] [PAD] [PAD] [PAD] [PAD] [PAD] [PAD] [PAD] [PAD] [PAD] [PAD] [PAD] [PAD] [PAD] [PAD] [PAD] [PAD] [PAD] [PAD] [PAD] [PAD] [PAD] [PAD] [PAD] [PAD] [PAD] [PAD] [PAD] [PAD] [PAD] [PAD] [PAD] [PAD] [PAD] [PAD] [PAD] [PAD] [PAD] [PAD] [PAD] [PAD] [PAD] [PAD] [PAD] [PAD] [PAD] [PAD] [PAD] [PAD] [PAD] [PAD] [PAD] [PAD] [PAD] [PAD] [PAD] [PAD] [PAD] [PAD] [PAD] [PAD] [PAD] [PAD] [PAD] [PAD] [PAD] [PAD]\n"
          ]
        }
      ],
      "source": [
        "# valid data tokenized\n",
        "\n",
        "encoded_valid = tokenizer(\n",
        "    dataset_valid['remove_special_sent'].tolist(),\n",
        "    return_tensors='pt',\n",
        "    max_length=max_len,\n",
        "    padding=True,\n",
        "    truncation=True,\n",
        "    add_special_tokens=True\n",
        ")\n",
        "\n",
        "print('디코딩 :',tokenizer.decode(encoded_valid[0].ids))\n",
        "print('디코딩 :',tokenizer.decode(encoded_valid[-1].ids))"
      ]
    },
    {
      "cell_type": "code",
      "execution_count": 25,
      "metadata": {
        "id": "LPza2_G485Mv"
      },
      "outputs": [],
      "source": [
        "# args = {\n",
        "#     'random_seed': 42, # Random Seed\n",
        "#     'pretrained_model': 'beomi/KcELECTRA-base',  # Transformers PLM name\n",
        "#     'pretrained_tokenizer': '',  # Optional, Transformers Tokenizer Name. Overrides `pretrained_model`\n",
        "#     'batch_size': 32,\n",
        "#     'lr': 5e-6,  # Starting Learning Rate\n",
        "#     'epochs': 1,  # Max Epochs\n",
        "#     'max_length': 150,  # Max Length input size\n",
        "#     'train_data_path': \"nsmc/ratings_train.txt\",  # Train Dataset file\n",
        "#     'val_data_path': \"nsmc/ratings_test.txt\",  # Validation Dataset file\n",
        "#     'test_mode': False,  # Test Mode enables `fast_dev_run`\n",
        "#     'optimizer': 'AdamW',  # AdamW vs AdamP\n",
        "#     'lr_scheduler': 'exp',  # ExponentialLR vs CosineAnnealingWarmRestarts\n",
        "#     'fp16': True,  # Enable train on FP16(if GPU)\n",
        "#     'tpu_cores': 0,  # Enable TPU with 1 core or 8 cores\n",
        "#     'cpu_workers': os.cpu_count(),\n",
        "# }"
      ]
    },
    {
      "cell_type": "code",
      "execution_count": 26,
      "metadata": {
        "id": "L9L75RfbfInE"
      },
      "outputs": [],
      "source": [
        "from torch.utils.data import Dataset, DataLoader\n",
        "\n",
        "# 데이터셋 클래스\n",
        "class ReviewDataset(Dataset):\n",
        "  def __init__(self, encodings, labels):\n",
        "    self.encodings = encodings\n",
        "    self.labels = labels\n",
        "\n",
        "  def __getitem__(self, idx):\n",
        "    item = { key: torch.tensor(val[idx]) for key, val in self.encodings.items() }\n",
        "    item['labels'] = torch.tensor(self.labels[idx])\n",
        "    return item\n",
        "\n",
        "  def __len__(self):\n",
        "    return len(self.labels)\n",
        "\n",
        "\n",
        "# 데이터셋 생성\n",
        "train_dataset = ReviewDataset(encoded_train, dataset_train['label'].values)\n",
        "valid_dataset = ReviewDataset(encoded_valid, dataset_valid['label'].values)"
      ]
    },
    {
      "cell_type": "code",
      "execution_count": 27,
      "metadata": {
        "colab": {
          "base_uri": "https://localhost:8080/"
        },
        "id": "4RJBBICxfN58",
        "outputId": "8a9ac864-85b8-4bf0-d713-43643a6d6a89"
      },
      "outputs": [
        {
          "name": "stderr",
          "output_type": "stream",
          "text": [
            "Some weights of ElectraForSequenceClassification were not initialized from the model checkpoint at beomi/KcELECTRA-base-v2022 and are newly initialized: ['classifier.dense.bias', 'classifier.dense.weight', 'classifier.out_proj.bias', 'classifier.out_proj.weight']\n",
            "You should probably TRAIN this model on a down-stream task to be able to use it for predictions and inference.\n"
          ]
        },
        {
          "data": {
            "text/plain": [
              "ElectraForSequenceClassification(\n",
              "  (electra): ElectraModel(\n",
              "    (embeddings): ElectraEmbeddings(\n",
              "      (word_embeddings): Embedding(54343, 768, padding_idx=0)\n",
              "      (position_embeddings): Embedding(512, 768)\n",
              "      (token_type_embeddings): Embedding(2, 768)\n",
              "      (LayerNorm): LayerNorm((768,), eps=1e-12, elementwise_affine=True)\n",
              "      (dropout): Dropout(p=0.1, inplace=False)\n",
              "    )\n",
              "    (encoder): ElectraEncoder(\n",
              "      (layer): ModuleList(\n",
              "        (0-11): 12 x ElectraLayer(\n",
              "          (attention): ElectraAttention(\n",
              "            (self): ElectraSelfAttention(\n",
              "              (query): Linear(in_features=768, out_features=768, bias=True)\n",
              "              (key): Linear(in_features=768, out_features=768, bias=True)\n",
              "              (value): Linear(in_features=768, out_features=768, bias=True)\n",
              "              (dropout): Dropout(p=0.1, inplace=False)\n",
              "            )\n",
              "            (output): ElectraSelfOutput(\n",
              "              (dense): Linear(in_features=768, out_features=768, bias=True)\n",
              "              (LayerNorm): LayerNorm((768,), eps=1e-12, elementwise_affine=True)\n",
              "              (dropout): Dropout(p=0.1, inplace=False)\n",
              "            )\n",
              "          )\n",
              "          (intermediate): ElectraIntermediate(\n",
              "            (dense): Linear(in_features=768, out_features=3072, bias=True)\n",
              "            (intermediate_act_fn): GELUActivation()\n",
              "          )\n",
              "          (output): ElectraOutput(\n",
              "            (dense): Linear(in_features=3072, out_features=768, bias=True)\n",
              "            (LayerNorm): LayerNorm((768,), eps=1e-12, elementwise_affine=True)\n",
              "            (dropout): Dropout(p=0.1, inplace=False)\n",
              "          )\n",
              "        )\n",
              "      )\n",
              "    )\n",
              "  )\n",
              "  (classifier): ElectraClassificationHead(\n",
              "    (dense): Linear(in_features=768, out_features=768, bias=True)\n",
              "    (activation): GELUActivation()\n",
              "    (dropout): Dropout(p=0.1, inplace=False)\n",
              "    (out_proj): Linear(in_features=768, out_features=6, bias=True)\n",
              "  )\n",
              ")"
            ]
          },
          "execution_count": 27,
          "metadata": {},
          "output_type": "execute_result"
        }
      ],
      "source": [
        "import torch\n",
        "from transformers import AutoTokenizer, AutoModelForSequenceClassification, TrainingArguments, Trainer\n",
        "from sklearn.metrics import precision_recall_fscore_support, accuracy_score\n",
        "\n",
        "model = AutoModelForSequenceClassification.from_pretrained('beomi/KcELECTRA-base-v2022', num_labels=6)\n",
        "model.to(device)"
      ]
    },
    {
      "cell_type": "code",
      "execution_count": 28,
      "metadata": {
        "colab": {
          "base_uri": "https://localhost:8080/"
        },
        "id": "JgR47P8gEUx1",
        "outputId": "8aa514a7-36ae-4a20-e599-ad9cb3cff3f8"
      },
      "outputs": [
        {
          "name": "stdout",
          "output_type": "stream",
          "text": [
            "Requirement already satisfied: accelerate in /usr/local/lib/python3.10/dist-packages (0.29.2)\n",
            "Requirement already satisfied: numpy>=1.17 in /usr/local/lib/python3.10/dist-packages (from accelerate) (1.23.1)\n",
            "Requirement already satisfied: packaging>=20.0 in /usr/local/lib/python3.10/dist-packages (from accelerate) (24.0)\n",
            "Requirement already satisfied: psutil in /usr/local/lib/python3.10/dist-packages (from accelerate) (5.9.5)\n",
            "Requirement already satisfied: pyyaml in /usr/local/lib/python3.10/dist-packages (from accelerate) (6.0.1)\n",
            "Requirement already satisfied: torch>=1.10.0 in /usr/local/lib/python3.10/dist-packages (from accelerate) (2.2.1+cu121)\n",
            "Requirement already satisfied: huggingface-hub in /usr/local/lib/python3.10/dist-packages (from accelerate) (0.20.3)\n",
            "Requirement already satisfied: safetensors>=0.3.1 in /usr/local/lib/python3.10/dist-packages (from accelerate) (0.4.2)\n",
            "Requirement already satisfied: filelock in /usr/local/lib/python3.10/dist-packages (from torch>=1.10.0->accelerate) (3.13.4)\n",
            "Requirement already satisfied: typing-extensions>=4.8.0 in /usr/local/lib/python3.10/dist-packages (from torch>=1.10.0->accelerate) (4.11.0)\n",
            "Requirement already satisfied: sympy in /usr/local/lib/python3.10/dist-packages (from torch>=1.10.0->accelerate) (1.12)\n",
            "Requirement already satisfied: networkx in /usr/local/lib/python3.10/dist-packages (from torch>=1.10.0->accelerate) (3.3)\n",
            "Requirement already satisfied: jinja2 in /usr/local/lib/python3.10/dist-packages (from torch>=1.10.0->accelerate) (3.1.3)\n",
            "Requirement already satisfied: fsspec in /usr/local/lib/python3.10/dist-packages (from torch>=1.10.0->accelerate) (2023.6.0)\n",
            "Requirement already satisfied: nvidia-cuda-nvrtc-cu12==12.1.105 in /usr/local/lib/python3.10/dist-packages (from torch>=1.10.0->accelerate) (12.1.105)\n",
            "Requirement already satisfied: nvidia-cuda-runtime-cu12==12.1.105 in /usr/local/lib/python3.10/dist-packages (from torch>=1.10.0->accelerate) (12.1.105)\n",
            "Requirement already satisfied: nvidia-cuda-cupti-cu12==12.1.105 in /usr/local/lib/python3.10/dist-packages (from torch>=1.10.0->accelerate) (12.1.105)\n",
            "Requirement already satisfied: nvidia-cudnn-cu12==8.9.2.26 in /usr/local/lib/python3.10/dist-packages (from torch>=1.10.0->accelerate) (8.9.2.26)\n",
            "Requirement already satisfied: nvidia-cublas-cu12==12.1.3.1 in /usr/local/lib/python3.10/dist-packages (from torch>=1.10.0->accelerate) (12.1.3.1)\n",
            "Requirement already satisfied: nvidia-cufft-cu12==11.0.2.54 in /usr/local/lib/python3.10/dist-packages (from torch>=1.10.0->accelerate) (11.0.2.54)\n",
            "Requirement already satisfied: nvidia-curand-cu12==10.3.2.106 in /usr/local/lib/python3.10/dist-packages (from torch>=1.10.0->accelerate) (10.3.2.106)\n",
            "Requirement already satisfied: nvidia-cusolver-cu12==11.4.5.107 in /usr/local/lib/python3.10/dist-packages (from torch>=1.10.0->accelerate) (11.4.5.107)\n",
            "Requirement already satisfied: nvidia-cusparse-cu12==12.1.0.106 in /usr/local/lib/python3.10/dist-packages (from torch>=1.10.0->accelerate) (12.1.0.106)\n",
            "Requirement already satisfied: nvidia-nccl-cu12==2.19.3 in /usr/local/lib/python3.10/dist-packages (from torch>=1.10.0->accelerate) (2.19.3)\n",
            "Requirement already satisfied: nvidia-nvtx-cu12==12.1.105 in /usr/local/lib/python3.10/dist-packages (from torch>=1.10.0->accelerate) (12.1.105)\n",
            "Requirement already satisfied: triton==2.2.0 in /usr/local/lib/python3.10/dist-packages (from torch>=1.10.0->accelerate) (2.2.0)\n",
            "Requirement already satisfied: nvidia-nvjitlink-cu12 in /usr/local/lib/python3.10/dist-packages (from nvidia-cusolver-cu12==11.4.5.107->torch>=1.10.0->accelerate) (12.4.127)\n",
            "Requirement already satisfied: requests in /usr/local/lib/python3.10/dist-packages (from huggingface-hub->accelerate) (2.31.0)\n",
            "Requirement already satisfied: tqdm>=4.42.1 in /usr/local/lib/python3.10/dist-packages (from huggingface-hub->accelerate) (4.66.2)\n",
            "Requirement already satisfied: MarkupSafe>=2.0 in /usr/local/lib/python3.10/dist-packages (from jinja2->torch>=1.10.0->accelerate) (2.1.5)\n",
            "Requirement already satisfied: charset-normalizer<4,>=2 in /usr/local/lib/python3.10/dist-packages (from requests->huggingface-hub->accelerate) (3.3.2)\n",
            "Requirement already satisfied: idna<4,>=2.5 in /usr/local/lib/python3.10/dist-packages (from requests->huggingface-hub->accelerate) (3.6)\n",
            "Requirement already satisfied: urllib3<3,>=1.21.1 in /usr/local/lib/python3.10/dist-packages (from requests->huggingface-hub->accelerate) (2.0.7)\n",
            "Requirement already satisfied: certifi>=2017.4.17 in /usr/local/lib/python3.10/dist-packages (from requests->huggingface-hub->accelerate) (2024.2.2)\n",
            "Requirement already satisfied: mpmath>=0.19 in /usr/local/lib/python3.10/dist-packages (from sympy->torch>=1.10.0->accelerate) (1.3.0)\n"
          ]
        }
      ],
      "source": [
        "!pip install accelerate -U"
      ]
    },
    {
      "cell_type": "code",
      "execution_count": 29,
      "metadata": {
        "id": "MQ4bxP1jfhFB"
      },
      "outputs": [],
      "source": [
        "training_args = TrainingArguments(\n",
        "    output_dir='./temp/electra',\n",
        "    overwrite_output_dir='True',\n",
        "\n",
        "    num_train_epochs=num_epochs,\n",
        "    per_device_train_batch_size=batch_size,\n",
        "    per_device_eval_batch_size=batch_size,\n",
        "\n",
        "    logging_dir='./temp/logs',\n",
        "    logging_steps=log_interval,\n",
        "    evaluation_strategy=\"steps\",\n",
        "    eval_steps=log_interval,\n",
        "\n",
        "    # https://discuss.huggingface.co/t/save-only-best-model-in-trainer/8442/8\n",
        "    save_total_limit=2,\n",
        "    save_strategy='no',\n",
        "    load_best_model_at_end=False,\n",
        ")\n",
        "\n",
        "#정확도 측정을 위한 함수 정의\n",
        "def compute_metrics(pred):\n",
        "    labels = pred.label_ids\n",
        "    preds = pred.predictions.argmax(-1)\n",
        "    # average: 'micro', 'macro', 'weighted' or 'samples'\n",
        "    # 참고 https://aimb.tistory.com/152\n",
        "    precision, recall, f1, _ = precision_recall_fscore_support(labels, preds, average='weighted')\n",
        "    acc = accuracy_score(labels, preds)\n",
        "    return {\n",
        "        'acc': acc,\n",
        "        'f1': f1,\n",
        "        'precision': precision,\n",
        "        'recall': recall\n",
        "    }"
      ]
    },
    {
      "cell_type": "code",
      "execution_count": 30,
      "metadata": {
        "colab": {
          "base_uri": "https://localhost:8080/",
          "height": 503
        },
        "id": "n3gnUNJQfjEo",
        "outputId": "78e7fa22-6648-4281-eb19-64cc084a7fba"
      },
      "outputs": [
        {
          "name": "stderr",
          "output_type": "stream",
          "text": [
            "/usr/local/lib/python3.10/dist-packages/accelerate/accelerator.py:436: FutureWarning: Passing the following arguments to `Accelerator` is deprecated and will be removed in version 1.0 of Accelerate: dict_keys(['dispatch_batches', 'split_batches', 'even_batches', 'use_seedable_sampler']). Please pass an `accelerate.DataLoaderConfiguration` instead: \n",
            "dataloader_config = DataLoaderConfiguration(dispatch_batches=None, split_batches=False, even_batches=True, use_seedable_sampler=True)\n",
            "  warnings.warn(\n",
            "<ipython-input-26-9f6c135ef231>:10: UserWarning: To copy construct from a tensor, it is recommended to use sourceTensor.clone().detach() or sourceTensor.clone().detach().requires_grad_(True), rather than torch.tensor(sourceTensor).\n",
            "  item = { key: torch.tensor(val[idx]) for key, val in self.encodings.items() }\n"
          ]
        },
        {
          "data": {
            "text/html": [
              "\n",
              "    <div>\n",
              "      \n",
              "      <progress value='930' max='930' style='width:300px; height:20px; vertical-align: middle;'></progress>\n",
              "      [930/930 12:35, Epoch 10/10]\n",
              "    </div>\n",
              "    <table border=\"1\" class=\"dataframe\">\n",
              "  <thead>\n",
              " <tr style=\"text-align: left;\">\n",
              "      <th>Step</th>\n",
              "      <th>Training Loss</th>\n",
              "      <th>Validation Loss</th>\n",
              "      <th>Acc</th>\n",
              "      <th>F1</th>\n",
              "      <th>Precision</th>\n",
              "      <th>Recall</th>\n",
              "    </tr>\n",
              "  </thead>\n",
              "  <tbody>\n",
              "    <tr>\n",
              "      <td>200</td>\n",
              "      <td>0.886300</td>\n",
              "      <td>0.584843</td>\n",
              "      <td>0.811321</td>\n",
              "      <td>0.811308</td>\n",
              "      <td>0.813260</td>\n",
              "      <td>0.811321</td>\n",
              "    </tr>\n",
              "    <tr>\n",
              "      <td>400</td>\n",
              "      <td>0.222300</td>\n",
              "      <td>0.769648</td>\n",
              "      <td>0.808625</td>\n",
              "      <td>0.808662</td>\n",
              "      <td>0.811488</td>\n",
              "      <td>0.808625</td>\n",
              "    </tr>\n",
              "    <tr>\n",
              "      <td>600</td>\n",
              "      <td>0.079900</td>\n",
              "      <td>0.949312</td>\n",
              "      <td>0.820755</td>\n",
              "      <td>0.821350</td>\n",
              "      <td>0.830265</td>\n",
              "      <td>0.820755</td>\n",
              "    </tr>\n",
              "    <tr>\n",
              "      <td>800</td>\n",
              "      <td>0.032800</td>\n",
              "      <td>0.929327</td>\n",
              "      <td>0.824798</td>\n",
              "      <td>0.824478</td>\n",
              "      <td>0.827675</td>\n",
              "      <td>0.824798</td>\n",
              "    </tr>\n",
              "  </tbody>\n",
              "</table><p>"
            ],
            "text/plain": [
              "<IPython.core.display.HTML object>"
            ]
          },
          "metadata": {},
          "output_type": "display_data"
        },
        {
          "name": "stderr",
          "output_type": "stream",
          "text": [
            "<ipython-input-26-9f6c135ef231>:10: UserWarning: To copy construct from a tensor, it is recommended to use sourceTensor.clone().detach() or sourceTensor.clone().detach().requires_grad_(True), rather than torch.tensor(sourceTensor).\n",
            "  item = { key: torch.tensor(val[idx]) for key, val in self.encodings.items() }\n",
            "<ipython-input-26-9f6c135ef231>:10: UserWarning: To copy construct from a tensor, it is recommended to use sourceTensor.clone().detach() or sourceTensor.clone().detach().requires_grad_(True), rather than torch.tensor(sourceTensor).\n",
            "  item = { key: torch.tensor(val[idx]) for key, val in self.encodings.items() }\n",
            "<ipython-input-26-9f6c135ef231>:10: UserWarning: To copy construct from a tensor, it is recommended to use sourceTensor.clone().detach() or sourceTensor.clone().detach().requires_grad_(True), rather than torch.tensor(sourceTensor).\n",
            "  item = { key: torch.tensor(val[idx]) for key, val in self.encodings.items() }\n",
            "<ipython-input-26-9f6c135ef231>:10: UserWarning: To copy construct from a tensor, it is recommended to use sourceTensor.clone().detach() or sourceTensor.clone().detach().requires_grad_(True), rather than torch.tensor(sourceTensor).\n",
            "  item = { key: torch.tensor(val[idx]) for key, val in self.encodings.items() }\n"
          ]
        },
        {
          "data": {
            "text/plain": [
              "TrainOutput(global_step=930, training_loss=0.26482459986081686, metrics={'train_runtime': 760.1005, 'train_samples_per_second': 38.995, 'train_steps_per_second': 1.224, 'total_flos': 2284831571256000.0, 'train_loss': 0.26482459986081686, 'epoch': 10.0})"
            ]
          },
          "execution_count": 30,
          "metadata": {},
          "output_type": "execute_result"
        }
      ],
      "source": [
        "trainer = Trainer(\n",
        "    model=model,\n",
        "    args=training_args,\n",
        "    train_dataset=train_dataset,\n",
        "    eval_dataset=valid_dataset,\n",
        "    compute_metrics=compute_metrics\n",
        ")\n",
        "\n",
        "trainer.train()"
      ]
    },
    {
      "cell_type": "code",
      "execution_count": 31,
      "metadata": {
        "colab": {
          "base_uri": "https://localhost:8080/",
          "height": 264
        },
        "id": "omzWuJnlWmYo",
        "outputId": "44db7648-4d3d-491a-a7ea-336a596b63ca"
      },
      "outputs": [
        {
          "name": "stderr",
          "output_type": "stream",
          "text": [
            "<ipython-input-26-9f6c135ef231>:10: UserWarning: To copy construct from a tensor, it is recommended to use sourceTensor.clone().detach() or sourceTensor.clone().detach().requires_grad_(True), rather than torch.tensor(sourceTensor).\n",
            "  item = { key: torch.tensor(val[idx]) for key, val in self.encodings.items() }\n"
          ]
        },
        {
          "data": {
            "text/html": [
              "\n",
              "    <div>\n",
              "      \n",
              "      <progress value='24' max='24' style='width:300px; height:20px; vertical-align: middle;'></progress>\n",
              "      [24/24 00:06]\n",
              "    </div>\n",
              "    "
            ],
            "text/plain": [
              "<IPython.core.display.HTML object>"
            ]
          },
          "metadata": {},
          "output_type": "display_data"
        },
        {
          "data": {
            "text/plain": [
              "{'eval_loss': 0.9351044297218323,\n",
              " 'eval_acc': 0.8301886792452831,\n",
              " 'eval_f1': 0.8290823676814335,\n",
              " 'eval_precision': 0.8308362983472249,\n",
              " 'eval_recall': 0.8301886792452831,\n",
              " 'eval_runtime': 6.4919,\n",
              " 'eval_samples_per_second': 114.297,\n",
              " 'eval_steps_per_second': 3.697,\n",
              " 'epoch': 10.0}"
            ]
          },
          "execution_count": 31,
          "metadata": {},
          "output_type": "execute_result"
        }
      ],
      "source": [
        "trainer.evaluate(valid_dataset)"
      ]
    },
    {
      "cell_type": "code",
      "execution_count": 32,
      "metadata": {
        "colab": {
          "base_uri": "https://localhost:8080/",
          "height": 206
        },
        "id": "kTczrJRKRdaw",
        "outputId": "f4eb7826-59c1-47df-a11f-51b81841cb7f"
      },
      "outputs": [
        {
          "data": {
            "application/vnd.google.colaboratory.intrinsic+json": {
              "summary": "{\n  \"name\": \"test_data\",\n  \"rows\": 929,\n  \"fields\": [\n    {\n      \"column\": \"id\",\n      \"properties\": {\n        \"dtype\": \"number\",\n        \"std\": 268,\n        \"min\": 0,\n        \"max\": 928,\n        \"num_unique_values\": 929,\n        \"samples\": [\n          756,\n          669,\n          30\n        ],\n        \"semantic_type\": \"\",\n        \"description\": \"\"\n      }\n    },\n    {\n      \"column\": \"text\",\n      \"properties\": {\n        \"dtype\": \"string\",\n        \"num_unique_values\": 929,\n        \"samples\": [\n          \"\\uc21c\\uc11c\\ub300\\ub85c \\ub2e4\\ud588\\ub294\\ub370 putty\\ub85c \\uc811\\uc18d\\uc774 \\uc548\\ub429\\ub2c8\\ub2e4\",\n          \"\\ubaa8\\ub378\\ub9c1\\uc744 \\ud574\\ubd24\\ub294\\ub370 r2 score\\uac00 0.2\\uac00 \\ub098\\uc628\\uac70\\uba74 \\uc804\\ucc98\\ub9ac\\uac00 \\uc798\\ubabb\\ub418\\uc5c8\\uc744 \\ud655\\ub960\\uc774 \\ub192\\uaca0\\uc8e0 ?? \",\n          \"\\uc544\\ub798 \\uc0ac\\uc9c4\\uacfc \\uac19\\uc774 \\ub9ac\\uc2a4\\ud2b8 \\ubc0f \\ubb38\\uc790\\uc5f4 \\uad00\\ub828 \\uba54\\uc18c\\ub4dc\\uc5d0\\uc11c\\n\\ubb38\\uc790\\uc5f4 \\uba54\\uc18c\\ub4dc\\ub294 \\uac12\\uc744 \\uc9c1\\uc811 \\ubcc0\\uacbd\\ud558\\uc9c0 \\uc54a\\uace0 \\uac12\\uc744 \\ub118\\uaca8\\ub9cc \\uc8fc\\uc5b4\\uc11c \\ucd9c\\ub825\\uc774 \\uc548\\ub418\\uace0\\n\\ub9ac\\uc2a4\\ud2b8 \\uba54\\uc18c\\ub4dc\\ub294 \\uac12\\uc744 \\uc9c1\\uc811 \\ubcc0\\uacbd\\ud558\\uace0 \\uc544\\ubb34\\uac83\\ub3c4 \\ucd9c\\ub825\\ud558\\uc9c0 \\uc54a\\ub294\\ub2e4\\uace0 \\ub418\\uc5b4 \\n\\ub458\\ub2e4 print()\\ud568\\uc218\\ub97c \\uc0ac\\uc6a9\\ud558\\uc9c0 \\ubabb\\ud55c\\ub2e4\\uace0 \\ubc30\\uc6e0\\ub294\\ub370\\uc694\\n\\uc0ac\\uc9c4\\uc5d0\\uc11c\\ub294 s.upper()\\ub97c \\ud588\\uc744\\ub54c \\ud558\\ub2e8\\uc5d0 \\uacb0\\uacfc\\uac12\\uc774 \\ub3c4\\ucd9c\\ub418\\uace0\\nsorted(a)\\ud588\\uc744\\ub54c\\ub3c4 \\ud558\\ub2e8\\uc5d0 \\uacb0\\uacfc\\uac12\\uc774 \\ub3c4\\ucd9c\\ub418\\ub294\\ub370 \\uc774\\uac83\\uc740 \\ubb34\\uc5c7\\uc774 \\uc798\\ubabb\\ub41c\\uac74\\uac00\\uc694??\"\n        ],\n        \"semantic_type\": \"\",\n        \"description\": \"\"\n      }\n    }\n  ]\n}",
              "type": "dataframe",
              "variable_name": "test_data"
            },
            "text/html": [
              "\n",
              "  <div id=\"df-523d90fd-8a07-4a30-8f71-55a6bea790f2\" class=\"colab-df-container\">\n",
              "    <div>\n",
              "<style scoped>\n",
              "    .dataframe tbody tr th:only-of-type {\n",
              "        vertical-align: middle;\n",
              "    }\n",
              "\n",
              "    .dataframe tbody tr th {\n",
              "        vertical-align: top;\n",
              "    }\n",
              "\n",
              "    .dataframe thead th {\n",
              "        text-align: right;\n",
              "    }\n",
              "</style>\n",
              "<table border=\"1\" class=\"dataframe\">\n",
              "  <thead>\n",
              "    <tr style=\"text-align: right;\">\n",
              "      <th></th>\n",
              "      <th>id</th>\n",
              "      <th>text</th>\n",
              "    </tr>\n",
              "  </thead>\n",
              "  <tbody>\n",
              "    <tr>\n",
              "      <th>0</th>\n",
              "      <td>0</td>\n",
              "      <td>팀즈는 노트북으로 접속하고 강의는 데스크톱 이용하려고 하는데 문제는 없을까요?  이...</td>\n",
              "    </tr>\n",
              "    <tr>\n",
              "      <th>1</th>\n",
              "      <td>1</td>\n",
              "      <td>셀프테스트에서 받은 점수가 해당 교육을 이수하고, 취업 연계등을 하는데 있어서 영향...</td>\n",
              "    </tr>\n",
              "    <tr>\n",
              "      <th>2</th>\n",
              "      <td>2</td>\n",
              "      <td>a= int(input('정수 A의 값을 입력하시오.:'))\\nb= int(inpu...</td>\n",
              "    </tr>\n",
              "    <tr>\n",
              "      <th>3</th>\n",
              "      <td>3</td>\n",
              "      <td>def max4(a,b,c,d):\\n    maximum = a\\n    if b&amp;...</td>\n",
              "    </tr>\n",
              "    <tr>\n",
              "      <th>4</th>\n",
              "      <td>4</td>\n",
              "      <td>i**=2 가  i **=2 와 왜 같은지가 이해가 잘 안됩니다!!</td>\n",
              "    </tr>\n",
              "  </tbody>\n",
              "</table>\n",
              "</div>\n",
              "    <div class=\"colab-df-buttons\">\n",
              "\n",
              "  <div class=\"colab-df-container\">\n",
              "    <button class=\"colab-df-convert\" onclick=\"convertToInteractive('df-523d90fd-8a07-4a30-8f71-55a6bea790f2')\"\n",
              "            title=\"Convert this dataframe to an interactive table.\"\n",
              "            style=\"display:none;\">\n",
              "\n",
              "  <svg xmlns=\"http://www.w3.org/2000/svg\" height=\"24px\" viewBox=\"0 -960 960 960\">\n",
              "    <path d=\"M120-120v-720h720v720H120Zm60-500h600v-160H180v160Zm220 220h160v-160H400v160Zm0 220h160v-160H400v160ZM180-400h160v-160H180v160Zm440 0h160v-160H620v160ZM180-180h160v-160H180v160Zm440 0h160v-160H620v160Z\"/>\n",
              "  </svg>\n",
              "    </button>\n",
              "\n",
              "  <style>\n",
              "    .colab-df-container {\n",
              "      display:flex;\n",
              "      gap: 12px;\n",
              "    }\n",
              "\n",
              "    .colab-df-convert {\n",
              "      background-color: #E8F0FE;\n",
              "      border: none;\n",
              "      border-radius: 50%;\n",
              "      cursor: pointer;\n",
              "      display: none;\n",
              "      fill: #1967D2;\n",
              "      height: 32px;\n",
              "      padding: 0 0 0 0;\n",
              "      width: 32px;\n",
              "    }\n",
              "\n",
              "    .colab-df-convert:hover {\n",
              "      background-color: #E2EBFA;\n",
              "      box-shadow: 0px 1px 2px rgba(60, 64, 67, 0.3), 0px 1px 3px 1px rgba(60, 64, 67, 0.15);\n",
              "      fill: #174EA6;\n",
              "    }\n",
              "\n",
              "    .colab-df-buttons div {\n",
              "      margin-bottom: 4px;\n",
              "    }\n",
              "\n",
              "    [theme=dark] .colab-df-convert {\n",
              "      background-color: #3B4455;\n",
              "      fill: #D2E3FC;\n",
              "    }\n",
              "\n",
              "    [theme=dark] .colab-df-convert:hover {\n",
              "      background-color: #434B5C;\n",
              "      box-shadow: 0px 1px 3px 1px rgba(0, 0, 0, 0.15);\n",
              "      filter: drop-shadow(0px 1px 2px rgba(0, 0, 0, 0.3));\n",
              "      fill: #FFFFFF;\n",
              "    }\n",
              "  </style>\n",
              "\n",
              "    <script>\n",
              "      const buttonEl =\n",
              "        document.querySelector('#df-523d90fd-8a07-4a30-8f71-55a6bea790f2 button.colab-df-convert');\n",
              "      buttonEl.style.display =\n",
              "        google.colab.kernel.accessAllowed ? 'block' : 'none';\n",
              "\n",
              "      async function convertToInteractive(key) {\n",
              "        const element = document.querySelector('#df-523d90fd-8a07-4a30-8f71-55a6bea790f2');\n",
              "        const dataTable =\n",
              "          await google.colab.kernel.invokeFunction('convertToInteractive',\n",
              "                                                    [key], {});\n",
              "        if (!dataTable) return;\n",
              "\n",
              "        const docLinkHtml = 'Like what you see? Visit the ' +\n",
              "          '<a target=\"_blank\" href=https://colab.research.google.com/notebooks/data_table.ipynb>data table notebook</a>'\n",
              "          + ' to learn more about interactive tables.';\n",
              "        element.innerHTML = '';\n",
              "        dataTable['output_type'] = 'display_data';\n",
              "        await google.colab.output.renderOutput(dataTable, element);\n",
              "        const docLink = document.createElement('div');\n",
              "        docLink.innerHTML = docLinkHtml;\n",
              "        element.appendChild(docLink);\n",
              "      }\n",
              "    </script>\n",
              "  </div>\n",
              "\n",
              "\n",
              "<div id=\"df-c76a0774-9f95-4ed1-a4b0-8a90193a3a5f\">\n",
              "  <button class=\"colab-df-quickchart\" onclick=\"quickchart('df-c76a0774-9f95-4ed1-a4b0-8a90193a3a5f')\"\n",
              "            title=\"Suggest charts\"\n",
              "            style=\"display:none;\">\n",
              "\n",
              "<svg xmlns=\"http://www.w3.org/2000/svg\" height=\"24px\"viewBox=\"0 0 24 24\"\n",
              "     width=\"24px\">\n",
              "    <g>\n",
              "        <path d=\"M19 3H5c-1.1 0-2 .9-2 2v14c0 1.1.9 2 2 2h14c1.1 0 2-.9 2-2V5c0-1.1-.9-2-2-2zM9 17H7v-7h2v7zm4 0h-2V7h2v10zm4 0h-2v-4h2v4z\"/>\n",
              "    </g>\n",
              "</svg>\n",
              "  </button>\n",
              "\n",
              "<style>\n",
              "  .colab-df-quickchart {\n",
              "      --bg-color: #E8F0FE;\n",
              "      --fill-color: #1967D2;\n",
              "      --hover-bg-color: #E2EBFA;\n",
              "      --hover-fill-color: #174EA6;\n",
              "      --disabled-fill-color: #AAA;\n",
              "      --disabled-bg-color: #DDD;\n",
              "  }\n",
              "\n",
              "  [theme=dark] .colab-df-quickchart {\n",
              "      --bg-color: #3B4455;\n",
              "      --fill-color: #D2E3FC;\n",
              "      --hover-bg-color: #434B5C;\n",
              "      --hover-fill-color: #FFFFFF;\n",
              "      --disabled-bg-color: #3B4455;\n",
              "      --disabled-fill-color: #666;\n",
              "  }\n",
              "\n",
              "  .colab-df-quickchart {\n",
              "    background-color: var(--bg-color);\n",
              "    border: none;\n",
              "    border-radius: 50%;\n",
              "    cursor: pointer;\n",
              "    display: none;\n",
              "    fill: var(--fill-color);\n",
              "    height: 32px;\n",
              "    padding: 0;\n",
              "    width: 32px;\n",
              "  }\n",
              "\n",
              "  .colab-df-quickchart:hover {\n",
              "    background-color: var(--hover-bg-color);\n",
              "    box-shadow: 0 1px 2px rgba(60, 64, 67, 0.3), 0 1px 3px 1px rgba(60, 64, 67, 0.15);\n",
              "    fill: var(--button-hover-fill-color);\n",
              "  }\n",
              "\n",
              "  .colab-df-quickchart-complete:disabled,\n",
              "  .colab-df-quickchart-complete:disabled:hover {\n",
              "    background-color: var(--disabled-bg-color);\n",
              "    fill: var(--disabled-fill-color);\n",
              "    box-shadow: none;\n",
              "  }\n",
              "\n",
              "  .colab-df-spinner {\n",
              "    border: 2px solid var(--fill-color);\n",
              "    border-color: transparent;\n",
              "    border-bottom-color: var(--fill-color);\n",
              "    animation:\n",
              "      spin 1s steps(1) infinite;\n",
              "  }\n",
              "\n",
              "  @keyframes spin {\n",
              "    0% {\n",
              "      border-color: transparent;\n",
              "      border-bottom-color: var(--fill-color);\n",
              "      border-left-color: var(--fill-color);\n",
              "    }\n",
              "    20% {\n",
              "      border-color: transparent;\n",
              "      border-left-color: var(--fill-color);\n",
              "      border-top-color: var(--fill-color);\n",
              "    }\n",
              "    30% {\n",
              "      border-color: transparent;\n",
              "      border-left-color: var(--fill-color);\n",
              "      border-top-color: var(--fill-color);\n",
              "      border-right-color: var(--fill-color);\n",
              "    }\n",
              "    40% {\n",
              "      border-color: transparent;\n",
              "      border-right-color: var(--fill-color);\n",
              "      border-top-color: var(--fill-color);\n",
              "    }\n",
              "    60% {\n",
              "      border-color: transparent;\n",
              "      border-right-color: var(--fill-color);\n",
              "    }\n",
              "    80% {\n",
              "      border-color: transparent;\n",
              "      border-right-color: var(--fill-color);\n",
              "      border-bottom-color: var(--fill-color);\n",
              "    }\n",
              "    90% {\n",
              "      border-color: transparent;\n",
              "      border-bottom-color: var(--fill-color);\n",
              "    }\n",
              "  }\n",
              "</style>\n",
              "\n",
              "  <script>\n",
              "    async function quickchart(key) {\n",
              "      const quickchartButtonEl =\n",
              "        document.querySelector('#' + key + ' button');\n",
              "      quickchartButtonEl.disabled = true;  // To prevent multiple clicks.\n",
              "      quickchartButtonEl.classList.add('colab-df-spinner');\n",
              "      try {\n",
              "        const charts = await google.colab.kernel.invokeFunction(\n",
              "            'suggestCharts', [key], {});\n",
              "      } catch (error) {\n",
              "        console.error('Error during call to suggestCharts:', error);\n",
              "      }\n",
              "      quickchartButtonEl.classList.remove('colab-df-spinner');\n",
              "      quickchartButtonEl.classList.add('colab-df-quickchart-complete');\n",
              "    }\n",
              "    (() => {\n",
              "      let quickchartButtonEl =\n",
              "        document.querySelector('#df-c76a0774-9f95-4ed1-a4b0-8a90193a3a5f button');\n",
              "      quickchartButtonEl.style.display =\n",
              "        google.colab.kernel.accessAllowed ? 'block' : 'none';\n",
              "    })();\n",
              "  </script>\n",
              "</div>\n",
              "\n",
              "    </div>\n",
              "  </div>\n"
            ],
            "text/plain": [
              "   id                                               text\n",
              "0   0  팀즈는 노트북으로 접속하고 강의는 데스크톱 이용하려고 하는데 문제는 없을까요?  이...\n",
              "1   1  셀프테스트에서 받은 점수가 해당 교육을 이수하고, 취업 연계등을 하는데 있어서 영향...\n",
              "2   2  a= int(input('정수 A의 값을 입력하시오.:'))\\nb= int(inpu...\n",
              "3   3  def max4(a,b,c,d):\\n    maximum = a\\n    if b&...\n",
              "4   4              i**=2 가  i **=2 와 왜 같은지가 이해가 잘 안됩니다!!"
            ]
          },
          "execution_count": 32,
          "metadata": {},
          "output_type": "execute_result"
        }
      ],
      "source": [
        "test_data=pd.read_csv(\"/content/drive/MyDrive/aivle_school_mini_project_4/2023.04.03_미니프로젝트4차_실습자료/test.csv\")\n",
        "test_data.head()"
      ]
    },
    {
      "cell_type": "code",
      "execution_count": 34,
      "metadata": {
        "id": "q2jZCbrGMPC6"
      },
      "outputs": [],
      "source": [
        "test = [clean(x) for x in test_data['text'].values]\n",
        "\n",
        "test_data['remove_special_sent'] = test"
      ]
    },
    {
      "cell_type": "code",
      "execution_count": 35,
      "metadata": {
        "colab": {
          "base_uri": "https://localhost:8080/",
          "height": 240
        },
        "id": "8prvmiw4MZnW",
        "outputId": "abd73530-5bb1-4332-8878-7b2f84d33a40"
      },
      "outputs": [
        {
          "data": {
            "application/vnd.google.colaboratory.intrinsic+json": {
              "summary": "{\n  \"name\": \"test_data\",\n  \"rows\": 929,\n  \"fields\": [\n    {\n      \"column\": \"id\",\n      \"properties\": {\n        \"dtype\": \"number\",\n        \"std\": 268,\n        \"min\": 0,\n        \"max\": 928,\n        \"num_unique_values\": 929,\n        \"samples\": [\n          756,\n          669,\n          30\n        ],\n        \"semantic_type\": \"\",\n        \"description\": \"\"\n      }\n    },\n    {\n      \"column\": \"text\",\n      \"properties\": {\n        \"dtype\": \"string\",\n        \"num_unique_values\": 929,\n        \"samples\": [\n          \"\\uc21c\\uc11c\\ub300\\ub85c \\ub2e4\\ud588\\ub294\\ub370 putty\\ub85c \\uc811\\uc18d\\uc774 \\uc548\\ub429\\ub2c8\\ub2e4\",\n          \"\\ubaa8\\ub378\\ub9c1\\uc744 \\ud574\\ubd24\\ub294\\ub370 r2 score\\uac00 0.2\\uac00 \\ub098\\uc628\\uac70\\uba74 \\uc804\\ucc98\\ub9ac\\uac00 \\uc798\\ubabb\\ub418\\uc5c8\\uc744 \\ud655\\ub960\\uc774 \\ub192\\uaca0\\uc8e0 ?? \",\n          \"\\uc544\\ub798 \\uc0ac\\uc9c4\\uacfc \\uac19\\uc774 \\ub9ac\\uc2a4\\ud2b8 \\ubc0f \\ubb38\\uc790\\uc5f4 \\uad00\\ub828 \\uba54\\uc18c\\ub4dc\\uc5d0\\uc11c\\n\\ubb38\\uc790\\uc5f4 \\uba54\\uc18c\\ub4dc\\ub294 \\uac12\\uc744 \\uc9c1\\uc811 \\ubcc0\\uacbd\\ud558\\uc9c0 \\uc54a\\uace0 \\uac12\\uc744 \\ub118\\uaca8\\ub9cc \\uc8fc\\uc5b4\\uc11c \\ucd9c\\ub825\\uc774 \\uc548\\ub418\\uace0\\n\\ub9ac\\uc2a4\\ud2b8 \\uba54\\uc18c\\ub4dc\\ub294 \\uac12\\uc744 \\uc9c1\\uc811 \\ubcc0\\uacbd\\ud558\\uace0 \\uc544\\ubb34\\uac83\\ub3c4 \\ucd9c\\ub825\\ud558\\uc9c0 \\uc54a\\ub294\\ub2e4\\uace0 \\ub418\\uc5b4 \\n\\ub458\\ub2e4 print()\\ud568\\uc218\\ub97c \\uc0ac\\uc6a9\\ud558\\uc9c0 \\ubabb\\ud55c\\ub2e4\\uace0 \\ubc30\\uc6e0\\ub294\\ub370\\uc694\\n\\uc0ac\\uc9c4\\uc5d0\\uc11c\\ub294 s.upper()\\ub97c \\ud588\\uc744\\ub54c \\ud558\\ub2e8\\uc5d0 \\uacb0\\uacfc\\uac12\\uc774 \\ub3c4\\ucd9c\\ub418\\uace0\\nsorted(a)\\ud588\\uc744\\ub54c\\ub3c4 \\ud558\\ub2e8\\uc5d0 \\uacb0\\uacfc\\uac12\\uc774 \\ub3c4\\ucd9c\\ub418\\ub294\\ub370 \\uc774\\uac83\\uc740 \\ubb34\\uc5c7\\uc774 \\uc798\\ubabb\\ub41c\\uac74\\uac00\\uc694??\"\n        ],\n        \"semantic_type\": \"\",\n        \"description\": \"\"\n      }\n    },\n    {\n      \"column\": \"remove_special_sent\",\n      \"properties\": {\n        \"dtype\": \"string\",\n        \"num_unique_values\": 929,\n        \"samples\": [\n          \"\\uc21c\\uc11c\\ub300\\ub85c \\ub2e4\\ud588\\ub294\\ub370 putty\\ub85c \\uc811\\uc18d\\uc774 \\uc548\\ub429\\ub2c8\\ub2e4\",\n          \"\\ubaa8\\ub378\\ub9c1\\uc744 \\ud574\\ubd24\\ub294\\ub370 r2 score\\uac00 0.2\\uac00 \\ub098\\uc628\\uac70\\uba74 \\uc804\\ucc98\\ub9ac\\uac00 \\uc798\\ubabb\\ub418\\uc5c8\\uc744 \\ud655\\ub960\\uc774 \\ub192\\uaca0\\uc8e0 ??\",\n          \"\\uc544\\ub798 \\uc0ac\\uc9c4\\uacfc \\uac19\\uc774 \\ub9ac\\uc2a4\\ud2b8 \\ubc0f \\ubb38\\uc790\\uc5f4 \\uad00\\ub828 \\uba54\\uc18c\\ub4dc\\uc5d0\\uc11c \\ubb38\\uc790\\uc5f4 \\uba54\\uc18c\\ub4dc\\ub294 \\uac12\\uc744 \\uc9c1\\uc811 \\ubcc0\\uacbd\\ud558\\uc9c0 \\uc54a\\uace0 \\uac12\\uc744 \\ub118\\uaca8\\ub9cc \\uc8fc\\uc5b4\\uc11c \\ucd9c\\ub825\\uc774 \\uc548\\ub418\\uace0 \\ub9ac\\uc2a4\\ud2b8 \\uba54\\uc18c\\ub4dc\\ub294 \\uac12\\uc744 \\uc9c1\\uc811 \\ubcc0\\uacbd\\ud558\\uace0 \\uc544\\ubb34\\uac83\\ub3c4 \\ucd9c\\ub825\\ud558\\uc9c0 \\uc54a\\ub294\\ub2e4\\uace0 \\ub418\\uc5b4 \\ub458\\ub2e4 print()\\ud568\\uc218\\ub97c \\uc0ac\\uc6a9\\ud558\\uc9c0 \\ubabb\\ud55c\\ub2e4\\uace0 \\ubc30\\uc6e0\\ub294\\ub370\\uc694 \\uc0ac\\uc9c4\\uc5d0\\uc11c\\ub294 s.upper()\\ub97c \\ud588\\uc744\\ub54c \\ud558\\ub2e8\\uc5d0 \\uacb0\\uacfc\\uac12\\uc774 \\ub3c4\\ucd9c\\ub418\\uace0 sorted(a)\\ud588\\uc744\\ub54c\\ub3c4 \\ud558\\ub2e8\\uc5d0 \\uacb0\\uacfc\\uac12\\uc774 \\ub3c4\\ucd9c\\ub418\\ub294\\ub370 \\uc774\\uac83\\uc740 \\ubb34\\uc5c7\\uc774 \\uc798\\ubabb\\ub41c\\uac74\\uac00\\uc694??\"\n        ],\n        \"semantic_type\": \"\",\n        \"description\": \"\"\n      }\n    }\n  ]\n}",
              "type": "dataframe",
              "variable_name": "test_data"
            },
            "text/html": [
              "\n",
              "  <div id=\"df-827a7f55-fa9c-47cf-b0dd-93f0fd8f9cf0\" class=\"colab-df-container\">\n",
              "    <div>\n",
              "<style scoped>\n",
              "    .dataframe tbody tr th:only-of-type {\n",
              "        vertical-align: middle;\n",
              "    }\n",
              "\n",
              "    .dataframe tbody tr th {\n",
              "        vertical-align: top;\n",
              "    }\n",
              "\n",
              "    .dataframe thead th {\n",
              "        text-align: right;\n",
              "    }\n",
              "</style>\n",
              "<table border=\"1\" class=\"dataframe\">\n",
              "  <thead>\n",
              "    <tr style=\"text-align: right;\">\n",
              "      <th></th>\n",
              "      <th>id</th>\n",
              "      <th>text</th>\n",
              "      <th>remove_special_sent</th>\n",
              "    </tr>\n",
              "  </thead>\n",
              "  <tbody>\n",
              "    <tr>\n",
              "      <th>0</th>\n",
              "      <td>0</td>\n",
              "      <td>팀즈는 노트북으로 접속하고 강의는 데스크톱 이용하려고 하는데 문제는 없을까요?  이...</td>\n",
              "      <td>팀즈는 노트북으로 접속하고 강의는 데스크톱 이용하려고 하는데 문제는 없을까요? 이 ...</td>\n",
              "    </tr>\n",
              "    <tr>\n",
              "      <th>1</th>\n",
              "      <td>1</td>\n",
              "      <td>셀프테스트에서 받은 점수가 해당 교육을 이수하고, 취업 연계등을 하는데 있어서 영향...</td>\n",
              "      <td>셀프테스트에서 받은 점수가 해당 교육을 이수하고, 취업 연계등을 하는데 있어서 영향...</td>\n",
              "    </tr>\n",
              "    <tr>\n",
              "      <th>2</th>\n",
              "      <td>2</td>\n",
              "      <td>a= int(input('정수 A의 값을 입력하시오.:'))\\nb= int(inpu...</td>\n",
              "      <td>a= int(input('정수 A의 값을 입력하시오.:')) b= int(input...</td>\n",
              "    </tr>\n",
              "    <tr>\n",
              "      <th>3</th>\n",
              "      <td>3</td>\n",
              "      <td>def max4(a,b,c,d):\\n    maximum = a\\n    if b&amp;...</td>\n",
              "      <td>def max4(a,b,c,d): maximum = a if b&amp;gt;maximum...</td>\n",
              "    </tr>\n",
              "    <tr>\n",
              "      <th>4</th>\n",
              "      <td>4</td>\n",
              "      <td>i**=2 가  i **=2 와 왜 같은지가 이해가 잘 안됩니다!!</td>\n",
              "      <td>i**=2 가 i **=2 와 왜 같은지가 이해가 잘 안됩니다!!</td>\n",
              "    </tr>\n",
              "  </tbody>\n",
              "</table>\n",
              "</div>\n",
              "    <div class=\"colab-df-buttons\">\n",
              "\n",
              "  <div class=\"colab-df-container\">\n",
              "    <button class=\"colab-df-convert\" onclick=\"convertToInteractive('df-827a7f55-fa9c-47cf-b0dd-93f0fd8f9cf0')\"\n",
              "            title=\"Convert this dataframe to an interactive table.\"\n",
              "            style=\"display:none;\">\n",
              "\n",
              "  <svg xmlns=\"http://www.w3.org/2000/svg\" height=\"24px\" viewBox=\"0 -960 960 960\">\n",
              "    <path d=\"M120-120v-720h720v720H120Zm60-500h600v-160H180v160Zm220 220h160v-160H400v160Zm0 220h160v-160H400v160ZM180-400h160v-160H180v160Zm440 0h160v-160H620v160ZM180-180h160v-160H180v160Zm440 0h160v-160H620v160Z\"/>\n",
              "  </svg>\n",
              "    </button>\n",
              "\n",
              "  <style>\n",
              "    .colab-df-container {\n",
              "      display:flex;\n",
              "      gap: 12px;\n",
              "    }\n",
              "\n",
              "    .colab-df-convert {\n",
              "      background-color: #E8F0FE;\n",
              "      border: none;\n",
              "      border-radius: 50%;\n",
              "      cursor: pointer;\n",
              "      display: none;\n",
              "      fill: #1967D2;\n",
              "      height: 32px;\n",
              "      padding: 0 0 0 0;\n",
              "      width: 32px;\n",
              "    }\n",
              "\n",
              "    .colab-df-convert:hover {\n",
              "      background-color: #E2EBFA;\n",
              "      box-shadow: 0px 1px 2px rgba(60, 64, 67, 0.3), 0px 1px 3px 1px rgba(60, 64, 67, 0.15);\n",
              "      fill: #174EA6;\n",
              "    }\n",
              "\n",
              "    .colab-df-buttons div {\n",
              "      margin-bottom: 4px;\n",
              "    }\n",
              "\n",
              "    [theme=dark] .colab-df-convert {\n",
              "      background-color: #3B4455;\n",
              "      fill: #D2E3FC;\n",
              "    }\n",
              "\n",
              "    [theme=dark] .colab-df-convert:hover {\n",
              "      background-color: #434B5C;\n",
              "      box-shadow: 0px 1px 3px 1px rgba(0, 0, 0, 0.15);\n",
              "      filter: drop-shadow(0px 1px 2px rgba(0, 0, 0, 0.3));\n",
              "      fill: #FFFFFF;\n",
              "    }\n",
              "  </style>\n",
              "\n",
              "    <script>\n",
              "      const buttonEl =\n",
              "        document.querySelector('#df-827a7f55-fa9c-47cf-b0dd-93f0fd8f9cf0 button.colab-df-convert');\n",
              "      buttonEl.style.display =\n",
              "        google.colab.kernel.accessAllowed ? 'block' : 'none';\n",
              "\n",
              "      async function convertToInteractive(key) {\n",
              "        const element = document.querySelector('#df-827a7f55-fa9c-47cf-b0dd-93f0fd8f9cf0');\n",
              "        const dataTable =\n",
              "          await google.colab.kernel.invokeFunction('convertToInteractive',\n",
              "                                                    [key], {});\n",
              "        if (!dataTable) return;\n",
              "\n",
              "        const docLinkHtml = 'Like what you see? Visit the ' +\n",
              "          '<a target=\"_blank\" href=https://colab.research.google.com/notebooks/data_table.ipynb>data table notebook</a>'\n",
              "          + ' to learn more about interactive tables.';\n",
              "        element.innerHTML = '';\n",
              "        dataTable['output_type'] = 'display_data';\n",
              "        await google.colab.output.renderOutput(dataTable, element);\n",
              "        const docLink = document.createElement('div');\n",
              "        docLink.innerHTML = docLinkHtml;\n",
              "        element.appendChild(docLink);\n",
              "      }\n",
              "    </script>\n",
              "  </div>\n",
              "\n",
              "\n",
              "<div id=\"df-b9022a17-53f0-4e62-98fb-44ffd2c20933\">\n",
              "  <button class=\"colab-df-quickchart\" onclick=\"quickchart('df-b9022a17-53f0-4e62-98fb-44ffd2c20933')\"\n",
              "            title=\"Suggest charts\"\n",
              "            style=\"display:none;\">\n",
              "\n",
              "<svg xmlns=\"http://www.w3.org/2000/svg\" height=\"24px\"viewBox=\"0 0 24 24\"\n",
              "     width=\"24px\">\n",
              "    <g>\n",
              "        <path d=\"M19 3H5c-1.1 0-2 .9-2 2v14c0 1.1.9 2 2 2h14c1.1 0 2-.9 2-2V5c0-1.1-.9-2-2-2zM9 17H7v-7h2v7zm4 0h-2V7h2v10zm4 0h-2v-4h2v4z\"/>\n",
              "    </g>\n",
              "</svg>\n",
              "  </button>\n",
              "\n",
              "<style>\n",
              "  .colab-df-quickchart {\n",
              "      --bg-color: #E8F0FE;\n",
              "      --fill-color: #1967D2;\n",
              "      --hover-bg-color: #E2EBFA;\n",
              "      --hover-fill-color: #174EA6;\n",
              "      --disabled-fill-color: #AAA;\n",
              "      --disabled-bg-color: #DDD;\n",
              "  }\n",
              "\n",
              "  [theme=dark] .colab-df-quickchart {\n",
              "      --bg-color: #3B4455;\n",
              "      --fill-color: #D2E3FC;\n",
              "      --hover-bg-color: #434B5C;\n",
              "      --hover-fill-color: #FFFFFF;\n",
              "      --disabled-bg-color: #3B4455;\n",
              "      --disabled-fill-color: #666;\n",
              "  }\n",
              "\n",
              "  .colab-df-quickchart {\n",
              "    background-color: var(--bg-color);\n",
              "    border: none;\n",
              "    border-radius: 50%;\n",
              "    cursor: pointer;\n",
              "    display: none;\n",
              "    fill: var(--fill-color);\n",
              "    height: 32px;\n",
              "    padding: 0;\n",
              "    width: 32px;\n",
              "  }\n",
              "\n",
              "  .colab-df-quickchart:hover {\n",
              "    background-color: var(--hover-bg-color);\n",
              "    box-shadow: 0 1px 2px rgba(60, 64, 67, 0.3), 0 1px 3px 1px rgba(60, 64, 67, 0.15);\n",
              "    fill: var(--button-hover-fill-color);\n",
              "  }\n",
              "\n",
              "  .colab-df-quickchart-complete:disabled,\n",
              "  .colab-df-quickchart-complete:disabled:hover {\n",
              "    background-color: var(--disabled-bg-color);\n",
              "    fill: var(--disabled-fill-color);\n",
              "    box-shadow: none;\n",
              "  }\n",
              "\n",
              "  .colab-df-spinner {\n",
              "    border: 2px solid var(--fill-color);\n",
              "    border-color: transparent;\n",
              "    border-bottom-color: var(--fill-color);\n",
              "    animation:\n",
              "      spin 1s steps(1) infinite;\n",
              "  }\n",
              "\n",
              "  @keyframes spin {\n",
              "    0% {\n",
              "      border-color: transparent;\n",
              "      border-bottom-color: var(--fill-color);\n",
              "      border-left-color: var(--fill-color);\n",
              "    }\n",
              "    20% {\n",
              "      border-color: transparent;\n",
              "      border-left-color: var(--fill-color);\n",
              "      border-top-color: var(--fill-color);\n",
              "    }\n",
              "    30% {\n",
              "      border-color: transparent;\n",
              "      border-left-color: var(--fill-color);\n",
              "      border-top-color: var(--fill-color);\n",
              "      border-right-color: var(--fill-color);\n",
              "    }\n",
              "    40% {\n",
              "      border-color: transparent;\n",
              "      border-right-color: var(--fill-color);\n",
              "      border-top-color: var(--fill-color);\n",
              "    }\n",
              "    60% {\n",
              "      border-color: transparent;\n",
              "      border-right-color: var(--fill-color);\n",
              "    }\n",
              "    80% {\n",
              "      border-color: transparent;\n",
              "      border-right-color: var(--fill-color);\n",
              "      border-bottom-color: var(--fill-color);\n",
              "    }\n",
              "    90% {\n",
              "      border-color: transparent;\n",
              "      border-bottom-color: var(--fill-color);\n",
              "    }\n",
              "  }\n",
              "</style>\n",
              "\n",
              "  <script>\n",
              "    async function quickchart(key) {\n",
              "      const quickchartButtonEl =\n",
              "        document.querySelector('#' + key + ' button');\n",
              "      quickchartButtonEl.disabled = true;  // To prevent multiple clicks.\n",
              "      quickchartButtonEl.classList.add('colab-df-spinner');\n",
              "      try {\n",
              "        const charts = await google.colab.kernel.invokeFunction(\n",
              "            'suggestCharts', [key], {});\n",
              "      } catch (error) {\n",
              "        console.error('Error during call to suggestCharts:', error);\n",
              "      }\n",
              "      quickchartButtonEl.classList.remove('colab-df-spinner');\n",
              "      quickchartButtonEl.classList.add('colab-df-quickchart-complete');\n",
              "    }\n",
              "    (() => {\n",
              "      let quickchartButtonEl =\n",
              "        document.querySelector('#df-b9022a17-53f0-4e62-98fb-44ffd2c20933 button');\n",
              "      quickchartButtonEl.style.display =\n",
              "        google.colab.kernel.accessAllowed ? 'block' : 'none';\n",
              "    })();\n",
              "  </script>\n",
              "</div>\n",
              "\n",
              "    </div>\n",
              "  </div>\n"
            ],
            "text/plain": [
              "   id                                               text  \\\n",
              "0   0  팀즈는 노트북으로 접속하고 강의는 데스크톱 이용하려고 하는데 문제는 없을까요?  이...   \n",
              "1   1  셀프테스트에서 받은 점수가 해당 교육을 이수하고, 취업 연계등을 하는데 있어서 영향...   \n",
              "2   2  a= int(input('정수 A의 값을 입력하시오.:'))\\nb= int(inpu...   \n",
              "3   3  def max4(a,b,c,d):\\n    maximum = a\\n    if b&...   \n",
              "4   4              i**=2 가  i **=2 와 왜 같은지가 이해가 잘 안됩니다!!   \n",
              "\n",
              "                                 remove_special_sent  \n",
              "0  팀즈는 노트북으로 접속하고 강의는 데스크톱 이용하려고 하는데 문제는 없을까요? 이 ...  \n",
              "1  셀프테스트에서 받은 점수가 해당 교육을 이수하고, 취업 연계등을 하는데 있어서 영향...  \n",
              "2  a= int(input('정수 A의 값을 입력하시오.:')) b= int(input...  \n",
              "3  def max4(a,b,c,d): maximum = a if b&gt;maximum...  \n",
              "4               i**=2 가 i **=2 와 왜 같은지가 이해가 잘 안됩니다!!  "
            ]
          },
          "execution_count": 35,
          "metadata": {},
          "output_type": "execute_result"
        }
      ],
      "source": [
        "test_data.head()"
      ]
    },
    {
      "cell_type": "code",
      "execution_count": 36,
      "metadata": {
        "colab": {
          "base_uri": "https://localhost:8080/"
        },
        "id": "o3grljsNJHnm",
        "outputId": "17ac7c1b-f9a8-4117-d407-66e6dbd078b3"
      },
      "outputs": [
        {
          "name": "stdout",
          "output_type": "stream",
          "text": [
            "디코딩 : [CLS] 팀즈는 노트북으로 접속하고 강의는 데스크톱 이용하려고 하는데 문제는 없을까요? 이 경우에는 다운받아야 되는 파일이 있을까요? 노트북 트래픽이 많아지면 소리부분 끊기거나 전체화면을 왔다갔다 하니까 놓치는 부분이 있어서 질문드립니다. [SEP] [PAD] [PAD] [PAD] [PAD] [PAD] [PAD] [PAD] [PAD] [PAD] [PAD] [PAD] [PAD] [PAD] [PAD] [PAD] [PAD] [PAD] [PAD] [PAD] [PAD] [PAD] [PAD] [PAD] [PAD] [PAD] [PAD] [PAD] [PAD] [PAD] [PAD] [PAD] [PAD] [PAD] [PAD] [PAD] [PAD] [PAD] [PAD] [PAD] [PAD] [PAD] [PAD] [PAD] [PAD] [PAD] [PAD] [PAD] [PAD] [PAD] [PAD] [PAD] [PAD] [PAD] [PAD] [PAD] [PAD] [PAD] [PAD] [PAD] [PAD] [PAD] [PAD] [PAD] [PAD] [PAD] [PAD] [PAD] [PAD] [PAD] [PAD] [PAD] [PAD] [PAD] [PAD] [PAD] [PAD] [PAD] [PAD] [PAD] [PAD] [PAD] [PAD] [PAD] [PAD] [PAD] [PAD] [PAD] [PAD] [PAD] [PAD] [PAD] [PAD] [PAD] [PAD] [PAD] [PAD] [PAD] [PAD] [PAD]\n",
            "디코딩 : [CLS] 안녕하세요 현재 aidu에서 테스트를 진행중입니다, 버전문제로 파이썬 3. 6에서 3. 7로 업그레이드를 하고싶은데 \" ERROR : Could not find a version that satisfies the requirement python = = 3. 7 ( from versions : none ) ERROR : No matching distribution found for python = = 3. 7 \" 해당 에러로 업그레이드를 진행할 수 없습니다. aidu 환경에서 파이썬 버전 업그레이드 방법을 알려주시면 감사하겠습니다. [SEP] [PAD] [PAD] [PAD] [PAD] [PAD] [PAD] [PAD] [PAD] [PAD] [PAD] [PAD] [PAD] [PAD] [PAD] [PAD] [PAD] [PAD] [PAD] [PAD] [PAD] [PAD] [PAD] [PAD] [PAD] [PAD] [PAD]\n"
          ]
        }
      ],
      "source": [
        "#토큰화\n",
        "encoded_test = tokenizer(\n",
        "    test_data['remove_special_sent'].tolist(),\n",
        "    return_tensors='pt',\n",
        "    max_length=max_len,\n",
        "    padding=True,\n",
        "    truncation=True,\n",
        "    add_special_tokens=True\n",
        ")\n",
        "\n",
        "print('디코딩 :',tokenizer.decode(encoded_test[0].ids))\n",
        "print('디코딩 :',tokenizer.decode(encoded_test[-1].ids))"
      ]
    },
    {
      "cell_type": "code",
      "execution_count": 38,
      "metadata": {
        "id": "deHX63nWMjiK"
      },
      "outputs": [],
      "source": [
        "# 데이터셋 생성\n",
        "# tokenizer, label(0)\n",
        "\n",
        "zero_labels = np.zeros(len(test_data), dtype=int)\n",
        "test_dataset = ReviewDataset(encoded_test, zero_labels)"
      ]
    },
    {
      "cell_type": "code",
      "execution_count": 39,
      "metadata": {
        "colab": {
          "base_uri": "https://localhost:8080/",
          "height": 131
        },
        "id": "I4STb38dfnbn",
        "outputId": "1fe69134-c7c2-4bdd-cf48-86201a0adda4"
      },
      "outputs": [
        {
          "name": "stderr",
          "output_type": "stream",
          "text": [
            "<ipython-input-26-9f6c135ef231>:10: UserWarning: To copy construct from a tensor, it is recommended to use sourceTensor.clone().detach() or sourceTensor.clone().detach().requires_grad_(True), rather than torch.tensor(sourceTensor).\n",
            "  item = { key: torch.tensor(val[idx]) for key, val in self.encodings.items() }\n"
          ]
        },
        {
          "data": {
            "text/html": [],
            "text/plain": [
              "<IPython.core.display.HTML object>"
            ]
          },
          "metadata": {},
          "output_type": "display_data"
        },
        {
          "name": "stderr",
          "output_type": "stream",
          "text": [
            "/usr/local/lib/python3.10/dist-packages/sklearn/metrics/_classification.py:1344: UndefinedMetricWarning: Recall and F-score are ill-defined and being set to 0.0 in labels with no true samples. Use `zero_division` parameter to control this behavior.\n",
            "  _warn_prf(average, modifier, msg_start, len(result))\n"
          ]
        },
        {
          "name": "stdout",
          "output_type": "stream",
          "text": [
            "(929, 6) (929,)\n"
          ]
        }
      ],
      "source": [
        "# https://huggingface.co/course/en/chapter3/3?fw=pt#evaluation\n",
        "\n",
        "# 예측하기\n",
        "predictions = trainer.predict(test_dataset)\n",
        "print(predictions.predictions.shape, predictions.label_ids.shape)"
      ]
    },
    {
      "cell_type": "code",
      "execution_count": 43,
      "metadata": {
        "id": "TjC_l453OKIk"
      },
      "outputs": [],
      "source": [
        "reverse_dict = {\n",
        "    0:'코드1',\n",
        "    1:'코드2',\n",
        "    2:'웹',\n",
        "    3:'이론',\n",
        "    4:'시스템 운영',\n",
        "    5:'원격'\n",
        "}"
      ]
    },
    {
      "cell_type": "code",
      "execution_count": null,
      "metadata": {
        "colab": {
          "base_uri": "https://localhost:8080/"
        },
        "id": "CoWD3Z_LhVhZ",
        "outputId": "17c81824-5ff3-469c-ecf8-4d631499bde2"
      },
      "outputs": [],
      "source": [
        "test_data['pred_target'] = np.array([ np.argmax(p) for p in predictions.predictions ], dtype='int8')\n",
        "\n",
        "for text, label in zip(test_data['text'], test_data['pred_target']):\n",
        "\n",
        "  print(f'input : {text}')\n",
        "  print('----'*50)\n",
        "  print(f'>> 해당 문의는 {reverse_dict[label]} 입니다.')\n",
        "  print()"
      ]
    },
    {
      "cell_type": "code",
      "execution_count": null,
      "metadata": {
        "id": "Ao0CX5IB-8-f"
      },
      "outputs": [],
      "source": []
    }
  ],
  "metadata": {
    "accelerator": "GPU",
    "colab": {
      "gpuType": "T4",
      "provenance": []
    },
    "kernelspec": {
      "display_name": "Python 3",
      "name": "python3"
    },
    "language_info": {
      "codemirror_mode": {
        "name": "ipython",
        "version": 3
      },
      "file_extension": ".py",
      "mimetype": "text/x-python",
      "name": "python",
      "nbconvert_exporter": "python",
      "pygments_lexer": "ipython3",
      "version": "3.8.8"
    }
  },
  "nbformat": 4,
  "nbformat_minor": 0
}
